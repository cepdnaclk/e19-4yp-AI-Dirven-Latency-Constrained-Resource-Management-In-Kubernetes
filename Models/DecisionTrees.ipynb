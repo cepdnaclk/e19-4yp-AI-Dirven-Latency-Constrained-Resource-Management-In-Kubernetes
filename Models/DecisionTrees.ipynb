{
  "nbformat": 4,
  "nbformat_minor": 0,
  "metadata": {
    "colab": {
      "provenance": []
    },
    "kernelspec": {
      "name": "python3",
      "display_name": "Python 3"
    },
    "language_info": {
      "name": "python"
    }
  },
  "cells": [
    {
      "cell_type": "code",
      "source": [
        "!pip install optuna"
      ],
      "metadata": {
        "colab": {
          "base_uri": "https://localhost:8080/"
        },
        "id": "u3NoR7CG9seS",
        "outputId": "4b8e2266-2df5-48a3-e552-d361dd4ef64f"
      },
      "execution_count": 2,
      "outputs": [
        {
          "output_type": "stream",
          "name": "stdout",
          "text": [
            "Collecting optuna\n",
            "  Downloading optuna-4.3.0-py3-none-any.whl.metadata (17 kB)\n",
            "Collecting alembic>=1.5.0 (from optuna)\n",
            "  Downloading alembic-1.15.2-py3-none-any.whl.metadata (7.3 kB)\n",
            "Collecting colorlog (from optuna)\n",
            "  Downloading colorlog-6.9.0-py3-none-any.whl.metadata (10 kB)\n",
            "Requirement already satisfied: numpy in /usr/local/lib/python3.11/dist-packages (from optuna) (2.0.2)\n",
            "Requirement already satisfied: packaging>=20.0 in /usr/local/lib/python3.11/dist-packages (from optuna) (24.2)\n",
            "Requirement already satisfied: sqlalchemy>=1.4.2 in /usr/local/lib/python3.11/dist-packages (from optuna) (2.0.40)\n",
            "Requirement already satisfied: tqdm in /usr/local/lib/python3.11/dist-packages (from optuna) (4.67.1)\n",
            "Requirement already satisfied: PyYAML in /usr/local/lib/python3.11/dist-packages (from optuna) (6.0.2)\n",
            "Requirement already satisfied: Mako in /usr/lib/python3/dist-packages (from alembic>=1.5.0->optuna) (1.1.3)\n",
            "Requirement already satisfied: typing-extensions>=4.12 in /usr/local/lib/python3.11/dist-packages (from alembic>=1.5.0->optuna) (4.13.2)\n",
            "Requirement already satisfied: greenlet>=1 in /usr/local/lib/python3.11/dist-packages (from sqlalchemy>=1.4.2->optuna) (3.2.1)\n",
            "Downloading optuna-4.3.0-py3-none-any.whl (386 kB)\n",
            "\u001b[2K   \u001b[90m━━━━━━━━━━━━━━━━━━━━━━━━━━━━━━━━━━━━━━━━\u001b[0m \u001b[32m386.6/386.6 kB\u001b[0m \u001b[31m8.9 MB/s\u001b[0m eta \u001b[36m0:00:00\u001b[0m\n",
            "\u001b[?25hDownloading alembic-1.15.2-py3-none-any.whl (231 kB)\n",
            "\u001b[2K   \u001b[90m━━━━━━━━━━━━━━━━━━━━━━━━━━━━━━━━━━━━━━━━\u001b[0m \u001b[32m231.9/231.9 kB\u001b[0m \u001b[31m21.2 MB/s\u001b[0m eta \u001b[36m0:00:00\u001b[0m\n",
            "\u001b[?25hDownloading colorlog-6.9.0-py3-none-any.whl (11 kB)\n",
            "Installing collected packages: colorlog, alembic, optuna\n",
            "Successfully installed alembic-1.15.2 colorlog-6.9.0 optuna-4.3.0\n"
          ]
        }
      ]
    },
    {
      "cell_type": "markdown",
      "source": [
        "# Service 1"
      ],
      "metadata": {
        "id": "6XL478os9dDo"
      }
    },
    {
      "cell_type": "code",
      "execution_count": 3,
      "metadata": {
        "colab": {
          "base_uri": "https://localhost:8080/"
        },
        "id": "6YfcksVc9Y4Y",
        "outputId": "a2dbd52c-47be-4e7f-fa7a-12fe9ccd959a"
      },
      "outputs": [
        {
          "output_type": "stream",
          "name": "stderr",
          "text": [
            "[I 2025-05-05 10:21:28,607] A new study created in memory with name: no-name-40170bad-b1ac-4ccc-ba78-0788cb14f51f\n",
            "[I 2025-05-05 10:21:28,736] Trial 0 finished with value: 0.0009023148384740895 and parameters: {'max_depth': 15, 'min_samples_split': 11, 'min_samples_leaf': 9}. Best is trial 0 with value: 0.0009023148384740895.\n",
            "[I 2025-05-05 10:21:28,861] Trial 1 finished with value: 0.0010650507208829602 and parameters: {'max_depth': 9, 'min_samples_split': 19, 'min_samples_leaf': 9}. Best is trial 0 with value: 0.0009023148384740895.\n",
            "[I 2025-05-05 10:21:28,923] Trial 2 finished with value: 0.01958763949131417 and parameters: {'max_depth': 4, 'min_samples_split': 2, 'min_samples_leaf': 1}. Best is trial 0 with value: 0.0009023148384740895.\n",
            "[I 2025-05-05 10:21:29,065] Trial 3 finished with value: 0.0007920992714602487 and parameters: {'max_depth': 26, 'min_samples_split': 15, 'min_samples_leaf': 2}. Best is trial 3 with value: 0.0007920992714602487.\n",
            "[I 2025-05-05 10:21:29,399] Trial 4 finished with value: 0.0007583282468717751 and parameters: {'max_depth': 24, 'min_samples_split': 14, 'min_samples_leaf': 2}. Best is trial 4 with value: 0.0007583282468717751.\n",
            "[I 2025-05-05 10:21:29,537] Trial 5 finished with value: 0.0025053680321403303 and parameters: {'max_depth': 7, 'min_samples_split': 16, 'min_samples_leaf': 9}. Best is trial 4 with value: 0.0007583282468717751.\n",
            "[I 2025-05-05 10:21:29,948] Trial 6 finished with value: 0.0008260162106109433 and parameters: {'max_depth': 13, 'min_samples_split': 9, 'min_samples_leaf': 8}. Best is trial 4 with value: 0.0007583282468717751.\n",
            "[I 2025-05-05 10:21:30,112] Trial 7 finished with value: 0.03958233610122022 and parameters: {'max_depth': 3, 'min_samples_split': 8, 'min_samples_leaf': 1}. Best is trial 4 with value: 0.0007583282468717751.\n",
            "[I 2025-05-05 10:21:30,719] Trial 8 finished with value: 0.00038642301898404914 and parameters: {'max_depth': 19, 'min_samples_split': 6, 'min_samples_leaf': 2}. Best is trial 8 with value: 0.00038642301898404914.\n",
            "[I 2025-05-05 10:21:31,038] Trial 9 finished with value: 0.004982770185947848 and parameters: {'max_depth': 6, 'min_samples_split': 7, 'min_samples_leaf': 2}. Best is trial 8 with value: 0.00038642301898404914.\n",
            "[I 2025-05-05 10:21:31,350] Trial 10 finished with value: 0.000555793228282837 and parameters: {'max_depth': 21, 'min_samples_split': 2, 'min_samples_leaf': 5}. Best is trial 8 with value: 0.00038642301898404914.\n",
            "[I 2025-05-05 10:21:31,752] Trial 11 finished with value: 0.0005556301686687449 and parameters: {'max_depth': 21, 'min_samples_split': 2, 'min_samples_leaf': 5}. Best is trial 8 with value: 0.00038642301898404914.\n",
            "[I 2025-05-05 10:21:32,020] Trial 12 finished with value: 0.0005509002968775089 and parameters: {'max_depth': 30, 'min_samples_split': 5, 'min_samples_leaf': 5}. Best is trial 8 with value: 0.00038642301898404914.\n",
            "[I 2025-05-05 10:21:32,383] Trial 13 finished with value: 0.0004659609371279602 and parameters: {'max_depth': 30, 'min_samples_split': 5, 'min_samples_leaf': 4}. Best is trial 8 with value: 0.00038642301898404914.\n",
            "[I 2025-05-05 10:21:32,577] Trial 14 finished with value: 0.00046818950575153975 and parameters: {'max_depth': 30, 'min_samples_split': 5, 'min_samples_leaf': 4}. Best is trial 8 with value: 0.00038642301898404914.\n",
            "[I 2025-05-05 10:21:32,736] Trial 15 finished with value: 0.0007467993008792243 and parameters: {'max_depth': 17, 'min_samples_split': 5, 'min_samples_leaf': 7}. Best is trial 8 with value: 0.00038642301898404914.\n",
            "[I 2025-05-05 10:21:32,873] Trial 16 finished with value: 0.0006029689811905977 and parameters: {'max_depth': 26, 'min_samples_split': 11, 'min_samples_leaf': 3}. Best is trial 8 with value: 0.00038642301898404914.\n",
            "[I 2025-05-05 10:21:33,011] Trial 17 finished with value: 0.0004226152508312906 and parameters: {'max_depth': 19, 'min_samples_split': 7, 'min_samples_leaf': 3}. Best is trial 8 with value: 0.00038642301898404914.\n",
            "[I 2025-05-05 10:21:33,168] Trial 18 finished with value: 0.000504281616632262 and parameters: {'max_depth': 19, 'min_samples_split': 9, 'min_samples_leaf': 3}. Best is trial 8 with value: 0.00038642301898404914.\n",
            "[I 2025-05-05 10:21:33,304] Trial 19 finished with value: 0.0006466882145639422 and parameters: {'max_depth': 12, 'min_samples_split': 12, 'min_samples_leaf': 6}. Best is trial 8 with value: 0.00038642301898404914.\n",
            "[I 2025-05-05 10:21:33,472] Trial 20 finished with value: 0.00037899575454440105 and parameters: {'max_depth': 17, 'min_samples_split': 6, 'min_samples_leaf': 3}. Best is trial 20 with value: 0.00037899575454440105.\n",
            "[I 2025-05-05 10:21:33,646] Trial 21 finished with value: 0.0004222378692349399 and parameters: {'max_depth': 17, 'min_samples_split': 7, 'min_samples_leaf': 3}. Best is trial 20 with value: 0.00037899575454440105.\n",
            "[I 2025-05-05 10:21:33,878] Trial 22 finished with value: 0.00046489625449745004 and parameters: {'max_depth': 15, 'min_samples_split': 4, 'min_samples_leaf': 4}. Best is trial 20 with value: 0.00037899575454440105.\n",
            "[I 2025-05-05 10:21:34,149] Trial 23 finished with value: 0.0004681671673631569 and parameters: {'max_depth': 12, 'min_samples_split': 8, 'min_samples_leaf': 1}. Best is trial 20 with value: 0.00037899575454440105.\n",
            "[I 2025-05-05 10:21:34,410] Trial 24 finished with value: 0.0004207451652096369 and parameters: {'max_depth': 18, 'min_samples_split': 7, 'min_samples_leaf': 3}. Best is trial 20 with value: 0.00037899575454440105.\n",
            "[I 2025-05-05 10:21:34,626] Trial 25 finished with value: 0.00028660951224917445 and parameters: {'max_depth': 21, 'min_samples_split': 4, 'min_samples_leaf': 2}. Best is trial 25 with value: 0.00028660951224917445.\n",
            "[I 2025-05-05 10:21:34,865] Trial 26 finished with value: 0.0002947846353456196 and parameters: {'max_depth': 23, 'min_samples_split': 4, 'min_samples_leaf': 2}. Best is trial 25 with value: 0.00028660951224917445.\n",
            "[I 2025-05-05 10:21:35,025] Trial 27 finished with value: 0.00026722486388997446 and parameters: {'max_depth': 23, 'min_samples_split': 3, 'min_samples_leaf': 1}. Best is trial 27 with value: 0.00026722486388997446.\n",
            "[I 2025-05-05 10:21:35,209] Trial 28 finished with value: 0.00026418405802780716 and parameters: {'max_depth': 23, 'min_samples_split': 3, 'min_samples_leaf': 1}. Best is trial 28 with value: 0.00026418405802780716.\n",
            "[I 2025-05-05 10:21:35,302] Trial 29 finished with value: 0.0002642958466247393 and parameters: {'max_depth': 27, 'min_samples_split': 3, 'min_samples_leaf': 1}. Best is trial 28 with value: 0.00026418405802780716.\n"
          ]
        },
        {
          "output_type": "stream",
          "name": "stdout",
          "text": [
            "Best Hyperparameters: {'max_depth': 23, 'min_samples_split': 3, 'min_samples_leaf': 1}\n",
            "MAE CPU Usage Prediction: 0.0001\n",
            "MAE Memory Usage Prediction: 0.0001\n"
          ]
        }
      ],
      "source": [
        "import pandas as pd\n",
        "import numpy as np\n",
        "from sklearn.model_selection import train_test_split\n",
        "from sklearn.preprocessing import MinMaxScaler\n",
        "from sklearn.tree import DecisionTreeRegressor\n",
        "from sklearn.metrics import mean_absolute_error\n",
        "import optuna\n",
        "\n",
        "# Load and preprocess data\n",
        "df = pd.read_csv(\"Service1.csv\")\n",
        "\n",
        "features = ['latency_ms', 'memory_allocated', 'cpu_allocated', 'cpu_usage_pct', 'memory_usage_pct']\n",
        "targets = ['cpu_usage_pct', 'memory_usage_pct']\n",
        "\n",
        "# Normalize features\n",
        "scaler = MinMaxScaler()\n",
        "df[features] = scaler.fit_transform(df[features])\n",
        "\n",
        "X = df[features].values\n",
        "y = df[['cpu_usage_pct', 'memory_usage_pct']].values\n",
        "\n",
        "# Split dataset\n",
        "X_train, X_test, y_train, y_test = train_test_split(X, y, test_size=0.2, random_state=42)\n",
        "\n",
        "# Define Optuna objective\n",
        "def objective(trial):\n",
        "    max_depth = trial.suggest_int(\"max_depth\", 3, 30)\n",
        "    min_samples_split = trial.suggest_int(\"min_samples_split\", 2, 20)\n",
        "    min_samples_leaf = trial.suggest_int(\"min_samples_leaf\", 1, 10)\n",
        "\n",
        "    model_cpu = DecisionTreeRegressor(max_depth=max_depth,\n",
        "                                      min_samples_split=min_samples_split,\n",
        "                                      min_samples_leaf=min_samples_leaf)\n",
        "    model_mem = DecisionTreeRegressor(max_depth=max_depth,\n",
        "                                      min_samples_split=min_samples_split,\n",
        "                                      min_samples_leaf=min_samples_leaf)\n",
        "\n",
        "    model_cpu.fit(X_train, y_train[:, 0])\n",
        "    model_mem.fit(X_train, y_train[:, 1])\n",
        "\n",
        "    pred_cpu = model_cpu.predict(X_test)\n",
        "    pred_mem = model_mem.predict(X_test)\n",
        "\n",
        "    mae_cpu = mean_absolute_error(y_test[:, 0], pred_cpu)\n",
        "    mae_mem = mean_absolute_error(y_test[:, 1], pred_mem)\n",
        "\n",
        "    return mae_cpu + mae_mem\n",
        "\n",
        "# Run Optuna study\n",
        "study = optuna.create_study(direction=\"minimize\")\n",
        "study.optimize(objective, n_trials=30)\n",
        "\n",
        "# Train final model with best hyperparameters\n",
        "best_params = study.best_params\n",
        "final_model_cpu = DecisionTreeRegressor(**best_params)\n",
        "final_model_mem = DecisionTreeRegressor(**best_params)\n",
        "\n",
        "final_model_cpu.fit(X_train, y_train[:, 0])\n",
        "final_model_mem.fit(X_train, y_train[:, 1])\n",
        "\n",
        "# Predict\n",
        "cpu_pred = final_model_cpu.predict(X_test)\n",
        "mem_pred = final_model_mem.predict(X_test)\n",
        "\n",
        "# Accuracy\n",
        "mae_cpu_final = mean_absolute_error(y_test[:, 0], cpu_pred)\n",
        "mae_mem_final = mean_absolute_error(y_test[:, 1], mem_pred)\n",
        "\n",
        "print(\"Best Hyperparameters:\", best_params)\n",
        "print(f\"MAE CPU Usage Prediction: {mae_cpu_final:.4f}\")\n",
        "print(f\"MAE Memory Usage Prediction: {mae_mem_final:.4f}\")\n"
      ]
    }
  ]
}