{
  "nbformat": 4,
  "nbformat_minor": 0,
  "metadata": {
    "colab": {
      "provenance": [],
      "authorship_tag": "ABX9TyOUOM2kCpqTdW7KZpepX0zi",
      "include_colab_link": true
    },
    "kernelspec": {
      "name": "python3",
      "display_name": "Python 3"
    },
    "language_info": {
      "name": "python"
    }
  },
  "cells": [
    {
      "cell_type": "markdown",
      "metadata": {
        "id": "view-in-github",
        "colab_type": "text"
      },
      "source": [
        "<a href=\"https://colab.research.google.com/github/e19166/e19-4yp-Dynamic-Multi-Dimensional-Resource-Orchestration-in-Kubernetes/blob/main/Models/SDG/Resource_SDG.ipynb\" target=\"_parent\"><img src=\"https://colab.research.google.com/assets/colab-badge.svg\" alt=\"Open In Colab\"/></a>"
      ]
    },
    {
      "cell_type": "markdown",
      "source": [
        "# Service 1"
      ],
      "metadata": {
        "id": "2hKMv0xWVxtZ"
      }
    },
    {
      "cell_type": "code",
      "source": [
        "pip install pandas scikit-learn optuna"
      ],
      "metadata": {
        "colab": {
          "base_uri": "https://localhost:8080/"
        },
        "id": "345nXvLYQx2f",
        "outputId": "8e8c8854-0149-4100-8057-ae3a8750350c"
      },
      "execution_count": 1,
      "outputs": [
        {
          "output_type": "stream",
          "name": "stdout",
          "text": [
            "Requirement already satisfied: pandas in /usr/local/lib/python3.11/dist-packages (2.2.2)\n",
            "Requirement already satisfied: scikit-learn in /usr/local/lib/python3.11/dist-packages (1.6.1)\n",
            "Collecting optuna\n",
            "  Downloading optuna-4.4.0-py3-none-any.whl.metadata (17 kB)\n",
            "Requirement already satisfied: numpy>=1.23.2 in /usr/local/lib/python3.11/dist-packages (from pandas) (2.0.2)\n",
            "Requirement already satisfied: python-dateutil>=2.8.2 in /usr/local/lib/python3.11/dist-packages (from pandas) (2.9.0.post0)\n",
            "Requirement already satisfied: pytz>=2020.1 in /usr/local/lib/python3.11/dist-packages (from pandas) (2025.2)\n",
            "Requirement already satisfied: tzdata>=2022.7 in /usr/local/lib/python3.11/dist-packages (from pandas) (2025.2)\n",
            "Requirement already satisfied: scipy>=1.6.0 in /usr/local/lib/python3.11/dist-packages (from scikit-learn) (1.15.3)\n",
            "Requirement already satisfied: joblib>=1.2.0 in /usr/local/lib/python3.11/dist-packages (from scikit-learn) (1.5.1)\n",
            "Requirement already satisfied: threadpoolctl>=3.1.0 in /usr/local/lib/python3.11/dist-packages (from scikit-learn) (3.6.0)\n",
            "Collecting alembic>=1.5.0 (from optuna)\n",
            "  Downloading alembic-1.16.2-py3-none-any.whl.metadata (7.3 kB)\n",
            "Collecting colorlog (from optuna)\n",
            "  Downloading colorlog-6.9.0-py3-none-any.whl.metadata (10 kB)\n",
            "Requirement already satisfied: packaging>=20.0 in /usr/local/lib/python3.11/dist-packages (from optuna) (24.2)\n",
            "Requirement already satisfied: sqlalchemy>=1.4.2 in /usr/local/lib/python3.11/dist-packages (from optuna) (2.0.41)\n",
            "Requirement already satisfied: tqdm in /usr/local/lib/python3.11/dist-packages (from optuna) (4.67.1)\n",
            "Requirement already satisfied: PyYAML in /usr/local/lib/python3.11/dist-packages (from optuna) (6.0.2)\n",
            "Requirement already satisfied: Mako in /usr/lib/python3/dist-packages (from alembic>=1.5.0->optuna) (1.1.3)\n",
            "Requirement already satisfied: typing-extensions>=4.12 in /usr/local/lib/python3.11/dist-packages (from alembic>=1.5.0->optuna) (4.14.0)\n",
            "Requirement already satisfied: six>=1.5 in /usr/local/lib/python3.11/dist-packages (from python-dateutil>=2.8.2->pandas) (1.17.0)\n",
            "Requirement already satisfied: greenlet>=1 in /usr/local/lib/python3.11/dist-packages (from sqlalchemy>=1.4.2->optuna) (3.2.3)\n",
            "Downloading optuna-4.4.0-py3-none-any.whl (395 kB)\n",
            "\u001b[2K   \u001b[90m━━━━━━━━━━━━━━━━━━━━━━━━━━━━━━━━━━━━━━━━\u001b[0m \u001b[32m395.9/395.9 kB\u001b[0m \u001b[31m21.8 MB/s\u001b[0m eta \u001b[36m0:00:00\u001b[0m\n",
            "\u001b[?25hDownloading alembic-1.16.2-py3-none-any.whl (242 kB)\n",
            "\u001b[2K   \u001b[90m━━━━━━━━━━━━━━━━━━━━━━━━━━━━━━━━━━━━━━━━\u001b[0m \u001b[32m242.7/242.7 kB\u001b[0m \u001b[31m13.9 MB/s\u001b[0m eta \u001b[36m0:00:00\u001b[0m\n",
            "\u001b[?25hDownloading colorlog-6.9.0-py3-none-any.whl (11 kB)\n",
            "Installing collected packages: colorlog, alembic, optuna\n",
            "Successfully installed alembic-1.16.2 colorlog-6.9.0 optuna-4.4.0\n"
          ]
        }
      ]
    },
    {
      "cell_type": "code",
      "source": [
        "import pandas as pd\n",
        "import numpy as np\n",
        "from sklearn.linear_model import SGDRegressor\n",
        "from sklearn.model_selection import train_test_split\n",
        "from sklearn.preprocessing import StandardScaler\n",
        "from sklearn.pipeline import Pipeline\n",
        "from sklearn.metrics import mean_absolute_error, r2_score\n",
        "import optuna"
      ],
      "metadata": {
        "id": "4Axk_W-EQgUF"
      },
      "execution_count": 3,
      "outputs": []
    },
    {
      "cell_type": "code",
      "execution_count": 8,
      "metadata": {
        "id": "OlkFuENTQKmt"
      },
      "outputs": [],
      "source": [
        "# Load and preprocess the dataset\n",
        "df = pd.read_csv(\"/content/service-1-deployment_dataset.csv\")"
      ]
    },
    {
      "cell_type": "code",
      "source": [
        "# --- Feature Engineering ---\n",
        "\n",
        "# Convert Timestamp to datetime\n",
        "df['Timestamp'] = pd.to_datetime(df['Timestamp'], format='mixed')\n",
        "\n",
        "# Sort by time\n",
        "df = df.sort_values('Timestamp')\n",
        "\n",
        "# Time features\n",
        "df['hour'] = df['Timestamp'].dt.hour\n",
        "df['dayofweek'] = df['Timestamp'].dt.dayofweek\n",
        "\n",
        "# Usage percentages\n",
        "df['cpu_usage_pct'] = df['CPU Usage'] / df['CPU Limit']\n",
        "df['memory_usage_pct'] = df['Memory Usage'] / df['Memory Limit']\n",
        "df['request_rate_rps'] = df['Request Rate']\n",
        "\n",
        "# Rolling trends (example over 5 past rows, you can adjust window)\n",
        "df['cpu_usage_mean_5'] = df['cpu_usage_pct'].rolling(window=5).mean().fillna(method='bfill')\n",
        "df['memory_usage_mean_5'] = df['memory_usage_pct'].rolling(window=5).mean().fillna(method='bfill')\n",
        "df['cpu_usage_std_5'] = df['cpu_usage_pct'].rolling(window=5).std().fillna(method='bfill')\n",
        "df['memory_usage_std_5'] = df['memory_usage_pct'].rolling(window=5).std().fillna(method='bfill')\n",
        "\n",
        "# Targets: CPU Needed and Memory Needed = CPU Usage & Memory Usage of next timestamp\n",
        "df['cpu_needed_t+1'] = df['CPU Usage'].shift(-1)\n",
        "df['memory_needed_t+1'] = df['Memory Usage'].shift(-1)\n",
        "\n",
        "# Drop NaN due to rolling/shift\n",
        "df = df.dropna()"
      ],
      "metadata": {
        "colab": {
          "base_uri": "https://localhost:8080/"
        },
        "id": "4dog7iBoRdBW",
        "outputId": "a498c0dc-f8d6-4221-8cb7-1f393592b176"
      },
      "execution_count": 9,
      "outputs": [
        {
          "output_type": "stream",
          "name": "stderr",
          "text": [
            "/tmp/ipython-input-9-4281671913.py:19: FutureWarning: Series.fillna with 'method' is deprecated and will raise in a future version. Use obj.ffill() or obj.bfill() instead.\n",
            "  df['cpu_usage_mean_5'] = df['cpu_usage_pct'].rolling(window=5).mean().fillna(method='bfill')\n",
            "/tmp/ipython-input-9-4281671913.py:20: FutureWarning: Series.fillna with 'method' is deprecated and will raise in a future version. Use obj.ffill() or obj.bfill() instead.\n",
            "  df['memory_usage_mean_5'] = df['memory_usage_pct'].rolling(window=5).mean().fillna(method='bfill')\n",
            "/tmp/ipython-input-9-4281671913.py:21: FutureWarning: Series.fillna with 'method' is deprecated and will raise in a future version. Use obj.ffill() or obj.bfill() instead.\n",
            "  df['cpu_usage_std_5'] = df['cpu_usage_pct'].rolling(window=5).std().fillna(method='bfill')\n",
            "/tmp/ipython-input-9-4281671913.py:22: FutureWarning: Series.fillna with 'method' is deprecated and will raise in a future version. Use obj.ffill() or obj.bfill() instead.\n",
            "  df['memory_usage_std_5'] = df['memory_usage_pct'].rolling(window=5).std().fillna(method='bfill')\n"
          ]
        }
      ]
    },
    {
      "cell_type": "code",
      "source": [
        "# --- Features & Target ---\n",
        "features = [\n",
        "    'cpu_usage_pct', 'memory_usage_pct', 'request_rate_rps',\n",
        "    'CPU Request', 'Memory Request',\n",
        "    'CPU Limit', 'Memory Limit',\n",
        "    'cpu_usage_mean_5', 'memory_usage_mean_5',\n",
        "    'cpu_usage_std_5', 'memory_usage_std_5',\n",
        "    'hour', 'dayofweek'\n",
        "]\n",
        "\n",
        "X = df[features]\n",
        "y_cpu = df['cpu_needed_t+1']\n",
        "y_mem = df['memory_needed_t+1']\n",
        "\n",
        "# Split\n",
        "X_train, X_test, y_cpu_train, y_cpu_test = train_test_split(X, y_cpu, test_size=0.2, random_state=42)\n",
        "_, _, y_mem_train, y_mem_test = train_test_split(X, y_mem, test_size=0.2, random_state=42)\n"
      ],
      "metadata": {
        "id": "F2qNiWWBS008"
      },
      "execution_count": 10,
      "outputs": []
    },
    {
      "cell_type": "code",
      "source": [
        "# --- Optuna for SGDRegressor ---\n",
        "def objective(trial):\n",
        "    alpha = trial.suggest_loguniform('alpha', 1e-6, 1e-1)\n",
        "    eta0 = trial.suggest_loguniform('eta0', 1e-5, 1e-1)\n",
        "    max_iter = trial.suggest_int('max_iter', 500, 2000)\n",
        "\n",
        "    pipe = Pipeline([\n",
        "        (\"scaler\", StandardScaler()),\n",
        "        (\"sgd\", SGDRegressor(\n",
        "            loss='squared_error',\n",
        "            penalty='l2',\n",
        "            alpha=alpha,\n",
        "            eta0=eta0,\n",
        "            learning_rate='constant',\n",
        "            max_iter=max_iter,\n",
        "            random_state=42\n",
        "        ))\n",
        "    ])\n",
        "\n",
        "    pipe.fit(X_train, y_cpu_train)\n",
        "    preds = pipe.predict(X_test)\n",
        "    mae = mean_absolute_error(y_cpu_test, preds)\n",
        "    return mae\n",
        "\n",
        "study = optuna.create_study(direction='minimize')\n",
        "study.optimize(objective, n_trials=30)"
      ],
      "metadata": {
        "colab": {
          "base_uri": "https://localhost:8080/"
        },
        "id": "ItrbFlssTBxS",
        "outputId": "ce63c6bc-7ee3-40f1-fd97-fbf07465c9f5"
      },
      "execution_count": 11,
      "outputs": [
        {
          "output_type": "stream",
          "name": "stderr",
          "text": [
            "[I 2025-06-29 15:26:37,462] A new study created in memory with name: no-name-f659cbc8-4d2e-4718-ab39-a32f863c0bc9\n",
            "/tmp/ipython-input-11-1510809814.py:3: FutureWarning: suggest_loguniform has been deprecated in v3.0.0. This feature will be removed in v6.0.0. See https://github.com/optuna/optuna/releases/tag/v3.0.0. Use suggest_float(..., log=True) instead.\n",
            "  alpha = trial.suggest_loguniform('alpha', 1e-6, 1e-1)\n",
            "/tmp/ipython-input-11-1510809814.py:4: FutureWarning: suggest_loguniform has been deprecated in v3.0.0. This feature will be removed in v6.0.0. See https://github.com/optuna/optuna/releases/tag/v3.0.0. Use suggest_float(..., log=True) instead.\n",
            "  eta0 = trial.suggest_loguniform('eta0', 1e-5, 1e-1)\n",
            "[I 2025-06-29 15:26:37,511] Trial 0 finished with value: 8.88849941350912e-05 and parameters: {'alpha': 2.2076094166154712e-05, 'eta0': 0.00020376077107646937, 'max_iter': 1532}. Best is trial 0 with value: 8.88849941350912e-05.\n",
            "/tmp/ipython-input-11-1510809814.py:3: FutureWarning: suggest_loguniform has been deprecated in v3.0.0. This feature will be removed in v6.0.0. See https://github.com/optuna/optuna/releases/tag/v3.0.0. Use suggest_float(..., log=True) instead.\n",
            "  alpha = trial.suggest_loguniform('alpha', 1e-6, 1e-1)\n",
            "/tmp/ipython-input-11-1510809814.py:4: FutureWarning: suggest_loguniform has been deprecated in v3.0.0. This feature will be removed in v6.0.0. See https://github.com/optuna/optuna/releases/tag/v3.0.0. Use suggest_float(..., log=True) instead.\n",
            "  eta0 = trial.suggest_loguniform('eta0', 1e-5, 1e-1)\n",
            "[I 2025-06-29 15:26:37,540] Trial 1 finished with value: 0.00017148015016506355 and parameters: {'alpha': 0.01761074557254192, 'eta0': 0.00012372081498229531, 'max_iter': 1330}. Best is trial 0 with value: 8.88849941350912e-05.\n",
            "/tmp/ipython-input-11-1510809814.py:3: FutureWarning: suggest_loguniform has been deprecated in v3.0.0. This feature will be removed in v6.0.0. See https://github.com/optuna/optuna/releases/tag/v3.0.0. Use suggest_float(..., log=True) instead.\n",
            "  alpha = trial.suggest_loguniform('alpha', 1e-6, 1e-1)\n",
            "/tmp/ipython-input-11-1510809814.py:4: FutureWarning: suggest_loguniform has been deprecated in v3.0.0. This feature will be removed in v6.0.0. See https://github.com/optuna/optuna/releases/tag/v3.0.0. Use suggest_float(..., log=True) instead.\n",
            "  eta0 = trial.suggest_loguniform('eta0', 1e-5, 1e-1)\n",
            "[I 2025-06-29 15:26:37,578] Trial 2 finished with value: 6.863042011124645e-05 and parameters: {'alpha': 0.0042222141933198655, 'eta0': 0.0018018679295652626, 'max_iter': 544}. Best is trial 2 with value: 6.863042011124645e-05.\n",
            "/tmp/ipython-input-11-1510809814.py:3: FutureWarning: suggest_loguniform has been deprecated in v3.0.0. This feature will be removed in v6.0.0. See https://github.com/optuna/optuna/releases/tag/v3.0.0. Use suggest_float(..., log=True) instead.\n",
            "  alpha = trial.suggest_loguniform('alpha', 1e-6, 1e-1)\n",
            "/tmp/ipython-input-11-1510809814.py:4: FutureWarning: suggest_loguniform has been deprecated in v3.0.0. This feature will be removed in v6.0.0. See https://github.com/optuna/optuna/releases/tag/v3.0.0. Use suggest_float(..., log=True) instead.\n",
            "  eta0 = trial.suggest_loguniform('eta0', 1e-5, 1e-1)\n",
            "[I 2025-06-29 15:26:37,607] Trial 3 finished with value: 103979904541.41136 and parameters: {'alpha': 0.009914604379058922, 'eta0': 0.03107040263193174, 'max_iter': 718}. Best is trial 2 with value: 6.863042011124645e-05.\n",
            "/tmp/ipython-input-11-1510809814.py:3: FutureWarning: suggest_loguniform has been deprecated in v3.0.0. This feature will be removed in v6.0.0. See https://github.com/optuna/optuna/releases/tag/v3.0.0. Use suggest_float(..., log=True) instead.\n",
            "  alpha = trial.suggest_loguniform('alpha', 1e-6, 1e-1)\n",
            "/tmp/ipython-input-11-1510809814.py:4: FutureWarning: suggest_loguniform has been deprecated in v3.0.0. This feature will be removed in v6.0.0. See https://github.com/optuna/optuna/releases/tag/v3.0.0. Use suggest_float(..., log=True) instead.\n",
            "  eta0 = trial.suggest_loguniform('eta0', 1e-5, 1e-1)\n",
            "[I 2025-06-29 15:26:37,638] Trial 4 finished with value: 136803140956.96043 and parameters: {'alpha': 0.03801988059973086, 'eta0': 0.04591694604460769, 'max_iter': 634}. Best is trial 2 with value: 6.863042011124645e-05.\n",
            "/tmp/ipython-input-11-1510809814.py:3: FutureWarning: suggest_loguniform has been deprecated in v3.0.0. This feature will be removed in v6.0.0. See https://github.com/optuna/optuna/releases/tag/v3.0.0. Use suggest_float(..., log=True) instead.\n",
            "  alpha = trial.suggest_loguniform('alpha', 1e-6, 1e-1)\n",
            "/tmp/ipython-input-11-1510809814.py:4: FutureWarning: suggest_loguniform has been deprecated in v3.0.0. This feature will be removed in v6.0.0. See https://github.com/optuna/optuna/releases/tag/v3.0.0. Use suggest_float(..., log=True) instead.\n",
            "  eta0 = trial.suggest_loguniform('eta0', 1e-5, 1e-1)\n",
            "[I 2025-06-29 15:26:37,678] Trial 5 finished with value: 233790354064.08084 and parameters: {'alpha': 0.006102516400746164, 'eta0': 0.09576675580894284, 'max_iter': 530}. Best is trial 2 with value: 6.863042011124645e-05.\n",
            "/tmp/ipython-input-11-1510809814.py:3: FutureWarning: suggest_loguniform has been deprecated in v3.0.0. This feature will be removed in v6.0.0. See https://github.com/optuna/optuna/releases/tag/v3.0.0. Use suggest_float(..., log=True) instead.\n",
            "  alpha = trial.suggest_loguniform('alpha', 1e-6, 1e-1)\n",
            "/tmp/ipython-input-11-1510809814.py:4: FutureWarning: suggest_loguniform has been deprecated in v3.0.0. This feature will be removed in v6.0.0. See https://github.com/optuna/optuna/releases/tag/v3.0.0. Use suggest_float(..., log=True) instead.\n",
            "  eta0 = trial.suggest_loguniform('eta0', 1e-5, 1e-1)\n",
            "[I 2025-06-29 15:26:37,712] Trial 6 finished with value: 6.738901751086063e-05 and parameters: {'alpha': 0.0006840578163408338, 'eta0': 0.0021971880820113193, 'max_iter': 1102}. Best is trial 6 with value: 6.738901751086063e-05.\n",
            "/tmp/ipython-input-11-1510809814.py:3: FutureWarning: suggest_loguniform has been deprecated in v3.0.0. This feature will be removed in v6.0.0. See https://github.com/optuna/optuna/releases/tag/v3.0.0. Use suggest_float(..., log=True) instead.\n",
            "  alpha = trial.suggest_loguniform('alpha', 1e-6, 1e-1)\n",
            "/tmp/ipython-input-11-1510809814.py:4: FutureWarning: suggest_loguniform has been deprecated in v3.0.0. This feature will be removed in v6.0.0. See https://github.com/optuna/optuna/releases/tag/v3.0.0. Use suggest_float(..., log=True) instead.\n",
            "  eta0 = trial.suggest_loguniform('eta0', 1e-5, 1e-1)\n",
            "[I 2025-06-29 15:26:37,746] Trial 7 finished with value: 6.716966752966439e-05 and parameters: {'alpha': 0.0033180503720960236, 'eta0': 0.0006773064167228601, 'max_iter': 1153}. Best is trial 7 with value: 6.716966752966439e-05.\n",
            "/tmp/ipython-input-11-1510809814.py:3: FutureWarning: suggest_loguniform has been deprecated in v3.0.0. This feature will be removed in v6.0.0. See https://github.com/optuna/optuna/releases/tag/v3.0.0. Use suggest_float(..., log=True) instead.\n",
            "  alpha = trial.suggest_loguniform('alpha', 1e-6, 1e-1)\n",
            "/tmp/ipython-input-11-1510809814.py:4: FutureWarning: suggest_loguniform has been deprecated in v3.0.0. This feature will be removed in v6.0.0. See https://github.com/optuna/optuna/releases/tag/v3.0.0. Use suggest_float(..., log=True) instead.\n",
            "  eta0 = trial.suggest_loguniform('eta0', 1e-5, 1e-1)\n",
            "[I 2025-06-29 15:26:37,781] Trial 8 finished with value: 31008291809.946304 and parameters: {'alpha': 0.030078873796243917, 'eta0': 0.012412929339805498, 'max_iter': 1849}. Best is trial 7 with value: 6.716966752966439e-05.\n",
            "/tmp/ipython-input-11-1510809814.py:3: FutureWarning: suggest_loguniform has been deprecated in v3.0.0. This feature will be removed in v6.0.0. See https://github.com/optuna/optuna/releases/tag/v3.0.0. Use suggest_float(..., log=True) instead.\n",
            "  alpha = trial.suggest_loguniform('alpha', 1e-6, 1e-1)\n",
            "/tmp/ipython-input-11-1510809814.py:4: FutureWarning: suggest_loguniform has been deprecated in v3.0.0. This feature will be removed in v6.0.0. See https://github.com/optuna/optuna/releases/tag/v3.0.0. Use suggest_float(..., log=True) instead.\n",
            "  eta0 = trial.suggest_loguniform('eta0', 1e-5, 1e-1)\n",
            "[I 2025-06-29 15:26:37,808] Trial 9 finished with value: 0.004619908665646368 and parameters: {'alpha': 7.970708837702427e-06, 'eta0': 2.518004621107188e-05, 'max_iter': 1993}. Best is trial 7 with value: 6.716966752966439e-05.\n",
            "/tmp/ipython-input-11-1510809814.py:3: FutureWarning: suggest_loguniform has been deprecated in v3.0.0. This feature will be removed in v6.0.0. See https://github.com/optuna/optuna/releases/tag/v3.0.0. Use suggest_float(..., log=True) instead.\n",
            "  alpha = trial.suggest_loguniform('alpha', 1e-6, 1e-1)\n",
            "/tmp/ipython-input-11-1510809814.py:4: FutureWarning: suggest_loguniform has been deprecated in v3.0.0. This feature will be removed in v6.0.0. See https://github.com/optuna/optuna/releases/tag/v3.0.0. Use suggest_float(..., log=True) instead.\n",
            "  eta0 = trial.suggest_loguniform('eta0', 1e-5, 1e-1)\n",
            "[I 2025-06-29 15:26:37,916] Trial 10 finished with value: 0.008447586539847812 and parameters: {'alpha': 9.356883794923051e-05, 'eta0': 1.034200811317893e-05, 'max_iter': 1019}. Best is trial 7 with value: 6.716966752966439e-05.\n",
            "/tmp/ipython-input-11-1510809814.py:3: FutureWarning: suggest_loguniform has been deprecated in v3.0.0. This feature will be removed in v6.0.0. See https://github.com/optuna/optuna/releases/tag/v3.0.0. Use suggest_float(..., log=True) instead.\n",
            "  alpha = trial.suggest_loguniform('alpha', 1e-6, 1e-1)\n",
            "/tmp/ipython-input-11-1510809814.py:4: FutureWarning: suggest_loguniform has been deprecated in v3.0.0. This feature will be removed in v6.0.0. See https://github.com/optuna/optuna/releases/tag/v3.0.0. Use suggest_float(..., log=True) instead.\n",
            "  eta0 = trial.suggest_loguniform('eta0', 1e-5, 1e-1)\n",
            "[I 2025-06-29 15:26:37,978] Trial 11 finished with value: 6.806007079036155e-05 and parameters: {'alpha': 0.0007398965953563134, 'eta0': 0.001538546147272258, 'max_iter': 987}. Best is trial 7 with value: 6.716966752966439e-05.\n",
            "/tmp/ipython-input-11-1510809814.py:3: FutureWarning: suggest_loguniform has been deprecated in v3.0.0. This feature will be removed in v6.0.0. See https://github.com/optuna/optuna/releases/tag/v3.0.0. Use suggest_float(..., log=True) instead.\n",
            "  alpha = trial.suggest_loguniform('alpha', 1e-6, 1e-1)\n",
            "/tmp/ipython-input-11-1510809814.py:4: FutureWarning: suggest_loguniform has been deprecated in v3.0.0. This feature will be removed in v6.0.0. See https://github.com/optuna/optuna/releases/tag/v3.0.0. Use suggest_float(..., log=True) instead.\n",
            "  eta0 = trial.suggest_loguniform('eta0', 1e-5, 1e-1)\n",
            "[I 2025-06-29 15:26:38,013] Trial 12 finished with value: 6.517610871720688e-05 and parameters: {'alpha': 0.0004825069531850445, 'eta0': 0.005577074786219012, 'max_iter': 1118}. Best is trial 12 with value: 6.517610871720688e-05.\n",
            "/tmp/ipython-input-11-1510809814.py:3: FutureWarning: suggest_loguniform has been deprecated in v3.0.0. This feature will be removed in v6.0.0. See https://github.com/optuna/optuna/releases/tag/v3.0.0. Use suggest_float(..., log=True) instead.\n",
            "  alpha = trial.suggest_loguniform('alpha', 1e-6, 1e-1)\n",
            "/tmp/ipython-input-11-1510809814.py:4: FutureWarning: suggest_loguniform has been deprecated in v3.0.0. This feature will be removed in v6.0.0. See https://github.com/optuna/optuna/releases/tag/v3.0.0. Use suggest_float(..., log=True) instead.\n",
            "  eta0 = trial.suggest_loguniform('eta0', 1e-5, 1e-1)\n",
            "[I 2025-06-29 15:26:38,047] Trial 13 finished with value: 6.742076583696752e-05 and parameters: {'alpha': 0.0001384982358578532, 'eta0': 0.007730214360761795, 'max_iter': 1372}. Best is trial 12 with value: 6.517610871720688e-05.\n",
            "/tmp/ipython-input-11-1510809814.py:3: FutureWarning: suggest_loguniform has been deprecated in v3.0.0. This feature will be removed in v6.0.0. See https://github.com/optuna/optuna/releases/tag/v3.0.0. Use suggest_float(..., log=True) instead.\n",
            "  alpha = trial.suggest_loguniform('alpha', 1e-6, 1e-1)\n",
            "/tmp/ipython-input-11-1510809814.py:4: FutureWarning: suggest_loguniform has been deprecated in v3.0.0. This feature will be removed in v6.0.0. See https://github.com/optuna/optuna/releases/tag/v3.0.0. Use suggest_float(..., log=True) instead.\n",
            "  eta0 = trial.suggest_loguniform('eta0', 1e-5, 1e-1)\n",
            "[I 2025-06-29 15:26:38,078] Trial 14 finished with value: 7.786509108969369e-05 and parameters: {'alpha': 1.429680437361619e-06, 'eta0': 0.00024650974935145725, 'max_iter': 859}. Best is trial 12 with value: 6.517610871720688e-05.\n",
            "/tmp/ipython-input-11-1510809814.py:3: FutureWarning: suggest_loguniform has been deprecated in v3.0.0. This feature will be removed in v6.0.0. See https://github.com/optuna/optuna/releases/tag/v3.0.0. Use suggest_float(..., log=True) instead.\n",
            "  alpha = trial.suggest_loguniform('alpha', 1e-6, 1e-1)\n",
            "/tmp/ipython-input-11-1510809814.py:4: FutureWarning: suggest_loguniform has been deprecated in v3.0.0. This feature will be removed in v6.0.0. See https://github.com/optuna/optuna/releases/tag/v3.0.0. Use suggest_float(..., log=True) instead.\n",
            "  eta0 = trial.suggest_loguniform('eta0', 1e-5, 1e-1)\n",
            "[I 2025-06-29 15:26:38,108] Trial 15 finished with value: 6.690946870204997e-05 and parameters: {'alpha': 0.001389647727134046, 'eta0': 0.00048409214839084723, 'max_iter': 1526}. Best is trial 12 with value: 6.517610871720688e-05.\n",
            "/tmp/ipython-input-11-1510809814.py:3: FutureWarning: suggest_loguniform has been deprecated in v3.0.0. This feature will be removed in v6.0.0. See https://github.com/optuna/optuna/releases/tag/v3.0.0. Use suggest_float(..., log=True) instead.\n",
            "  alpha = trial.suggest_loguniform('alpha', 1e-6, 1e-1)\n",
            "/tmp/ipython-input-11-1510809814.py:4: FutureWarning: suggest_loguniform has been deprecated in v3.0.0. This feature will be removed in v6.0.0. See https://github.com/optuna/optuna/releases/tag/v3.0.0. Use suggest_float(..., log=True) instead.\n",
            "  eta0 = trial.suggest_loguniform('eta0', 1e-5, 1e-1)\n",
            "[I 2025-06-29 15:26:38,147] Trial 16 finished with value: 6.63446289334508e-05 and parameters: {'alpha': 0.0010071482258995484, 'eta0': 0.0036965530494225433, 'max_iter': 1645}. Best is trial 12 with value: 6.517610871720688e-05.\n",
            "/tmp/ipython-input-11-1510809814.py:3: FutureWarning: suggest_loguniform has been deprecated in v3.0.0. This feature will be removed in v6.0.0. See https://github.com/optuna/optuna/releases/tag/v3.0.0. Use suggest_float(..., log=True) instead.\n",
            "  alpha = trial.suggest_loguniform('alpha', 1e-6, 1e-1)\n",
            "/tmp/ipython-input-11-1510809814.py:4: FutureWarning: suggest_loguniform has been deprecated in v3.0.0. This feature will be removed in v6.0.0. See https://github.com/optuna/optuna/releases/tag/v3.0.0. Use suggest_float(..., log=True) instead.\n",
            "  eta0 = trial.suggest_loguniform('eta0', 1e-5, 1e-1)\n",
            "[I 2025-06-29 15:26:38,187] Trial 17 finished with value: 6.541226894376585e-05 and parameters: {'alpha': 0.0001280916374361066, 'eta0': 0.004872240063928074, 'max_iter': 1692}. Best is trial 12 with value: 6.517610871720688e-05.\n",
            "/tmp/ipython-input-11-1510809814.py:3: FutureWarning: suggest_loguniform has been deprecated in v3.0.0. This feature will be removed in v6.0.0. See https://github.com/optuna/optuna/releases/tag/v3.0.0. Use suggest_float(..., log=True) instead.\n",
            "  alpha = trial.suggest_loguniform('alpha', 1e-6, 1e-1)\n",
            "/tmp/ipython-input-11-1510809814.py:4: FutureWarning: suggest_loguniform has been deprecated in v3.0.0. This feature will be removed in v6.0.0. See https://github.com/optuna/optuna/releases/tag/v3.0.0. Use suggest_float(..., log=True) instead.\n",
            "  eta0 = trial.suggest_loguniform('eta0', 1e-5, 1e-1)\n",
            "[I 2025-06-29 15:26:38,225] Trial 18 finished with value: 6.968819682179695e-05 and parameters: {'alpha': 6.040711881199012e-05, 'eta0': 0.00887196800755122, 'max_iter': 1658}. Best is trial 12 with value: 6.517610871720688e-05.\n",
            "/tmp/ipython-input-11-1510809814.py:3: FutureWarning: suggest_loguniform has been deprecated in v3.0.0. This feature will be removed in v6.0.0. See https://github.com/optuna/optuna/releases/tag/v3.0.0. Use suggest_float(..., log=True) instead.\n",
            "  alpha = trial.suggest_loguniform('alpha', 1e-6, 1e-1)\n",
            "/tmp/ipython-input-11-1510809814.py:4: FutureWarning: suggest_loguniform has been deprecated in v3.0.0. This feature will be removed in v6.0.0. See https://github.com/optuna/optuna/releases/tag/v3.0.0. Use suggest_float(..., log=True) instead.\n",
            "  eta0 = trial.suggest_loguniform('eta0', 1e-5, 1e-1)\n",
            "[I 2025-06-29 15:26:38,261] Trial 19 finished with value: 45855656571.4254 and parameters: {'alpha': 0.0002932604727934272, 'eta0': 0.013639604866156159, 'max_iter': 1781}. Best is trial 12 with value: 6.517610871720688e-05.\n",
            "/tmp/ipython-input-11-1510809814.py:3: FutureWarning: suggest_loguniform has been deprecated in v3.0.0. This feature will be removed in v6.0.0. See https://github.com/optuna/optuna/releases/tag/v3.0.0. Use suggest_float(..., log=True) instead.\n",
            "  alpha = trial.suggest_loguniform('alpha', 1e-6, 1e-1)\n",
            "/tmp/ipython-input-11-1510809814.py:4: FutureWarning: suggest_loguniform has been deprecated in v3.0.0. This feature will be removed in v6.0.0. See https://github.com/optuna/optuna/releases/tag/v3.0.0. Use suggest_float(..., log=True) instead.\n",
            "  eta0 = trial.suggest_loguniform('eta0', 1e-5, 1e-1)\n",
            "[I 2025-06-29 15:26:38,295] Trial 20 finished with value: 6.61678226324532e-05 and parameters: {'alpha': 1.6077580468632317e-05, 'eta0': 0.003866946598646193, 'max_iter': 1274}. Best is trial 12 with value: 6.517610871720688e-05.\n",
            "/tmp/ipython-input-11-1510809814.py:3: FutureWarning: suggest_loguniform has been deprecated in v3.0.0. This feature will be removed in v6.0.0. See https://github.com/optuna/optuna/releases/tag/v3.0.0. Use suggest_float(..., log=True) instead.\n",
            "  alpha = trial.suggest_loguniform('alpha', 1e-6, 1e-1)\n",
            "/tmp/ipython-input-11-1510809814.py:4: FutureWarning: suggest_loguniform has been deprecated in v3.0.0. This feature will be removed in v6.0.0. See https://github.com/optuna/optuna/releases/tag/v3.0.0. Use suggest_float(..., log=True) instead.\n",
            "  eta0 = trial.suggest_loguniform('eta0', 1e-5, 1e-1)\n",
            "[I 2025-06-29 15:26:38,330] Trial 21 finished with value: 6.633295236413425e-05 and parameters: {'alpha': 9.361484765864251e-06, 'eta0': 0.0035881659745095303, 'max_iter': 1327}. Best is trial 12 with value: 6.517610871720688e-05.\n",
            "/tmp/ipython-input-11-1510809814.py:3: FutureWarning: suggest_loguniform has been deprecated in v3.0.0. This feature will be removed in v6.0.0. See https://github.com/optuna/optuna/releases/tag/v3.0.0. Use suggest_float(..., log=True) instead.\n",
            "  alpha = trial.suggest_loguniform('alpha', 1e-6, 1e-1)\n",
            "/tmp/ipython-input-11-1510809814.py:4: FutureWarning: suggest_loguniform has been deprecated in v3.0.0. This feature will be removed in v6.0.0. See https://github.com/optuna/optuna/releases/tag/v3.0.0. Use suggest_float(..., log=True) instead.\n",
            "  eta0 = trial.suggest_loguniform('eta0', 1e-5, 1e-1)\n",
            "[I 2025-06-29 15:26:38,367] Trial 22 finished with value: 6.531450974059548e-05 and parameters: {'alpha': 3.0914996235890104e-05, 'eta0': 0.00502716057256363, 'max_iter': 1205}. Best is trial 12 with value: 6.517610871720688e-05.\n",
            "/tmp/ipython-input-11-1510809814.py:3: FutureWarning: suggest_loguniform has been deprecated in v3.0.0. This feature will be removed in v6.0.0. See https://github.com/optuna/optuna/releases/tag/v3.0.0. Use suggest_float(..., log=True) instead.\n",
            "  alpha = trial.suggest_loguniform('alpha', 1e-6, 1e-1)\n",
            "/tmp/ipython-input-11-1510809814.py:4: FutureWarning: suggest_loguniform has been deprecated in v3.0.0. This feature will be removed in v6.0.0. See https://github.com/optuna/optuna/releases/tag/v3.0.0. Use suggest_float(..., log=True) instead.\n",
            "  eta0 = trial.suggest_loguniform('eta0', 1e-5, 1e-1)\n",
            "[I 2025-06-29 15:26:38,415] Trial 23 finished with value: 103049730425.10646 and parameters: {'alpha': 4.555109214346875e-05, 'eta0': 0.026158815623266714, 'max_iter': 1478}. Best is trial 12 with value: 6.517610871720688e-05.\n",
            "/tmp/ipython-input-11-1510809814.py:3: FutureWarning: suggest_loguniform has been deprecated in v3.0.0. This feature will be removed in v6.0.0. See https://github.com/optuna/optuna/releases/tag/v3.0.0. Use suggest_float(..., log=True) instead.\n",
            "  alpha = trial.suggest_loguniform('alpha', 1e-6, 1e-1)\n",
            "/tmp/ipython-input-11-1510809814.py:4: FutureWarning: suggest_loguniform has been deprecated in v3.0.0. This feature will be removed in v6.0.0. See https://github.com/optuna/optuna/releases/tag/v3.0.0. Use suggest_float(..., log=True) instead.\n",
            "  eta0 = trial.suggest_loguniform('eta0', 1e-5, 1e-1)\n",
            "[I 2025-06-29 15:26:38,449] Trial 24 finished with value: 6.53469255831055e-05 and parameters: {'alpha': 0.0002769928316827995, 'eta0': 0.006058674594581068, 'max_iter': 1170}. Best is trial 12 with value: 6.517610871720688e-05.\n",
            "/tmp/ipython-input-11-1510809814.py:3: FutureWarning: suggest_loguniform has been deprecated in v3.0.0. This feature will be removed in v6.0.0. See https://github.com/optuna/optuna/releases/tag/v3.0.0. Use suggest_float(..., log=True) instead.\n",
            "  alpha = trial.suggest_loguniform('alpha', 1e-6, 1e-1)\n",
            "/tmp/ipython-input-11-1510809814.py:4: FutureWarning: suggest_loguniform has been deprecated in v3.0.0. This feature will be removed in v6.0.0. See https://github.com/optuna/optuna/releases/tag/v3.0.0. Use suggest_float(..., log=True) instead.\n",
            "  eta0 = trial.suggest_loguniform('eta0', 1e-5, 1e-1)\n",
            "[I 2025-06-29 15:26:38,486] Trial 25 finished with value: 78741480235.74284 and parameters: {'alpha': 0.0002728894022273513, 'eta0': 0.017192873239865125, 'max_iter': 909}. Best is trial 12 with value: 6.517610871720688e-05.\n",
            "/tmp/ipython-input-11-1510809814.py:3: FutureWarning: suggest_loguniform has been deprecated in v3.0.0. This feature will be removed in v6.0.0. See https://github.com/optuna/optuna/releases/tag/v3.0.0. Use suggest_float(..., log=True) instead.\n",
            "  alpha = trial.suggest_loguniform('alpha', 1e-6, 1e-1)\n",
            "/tmp/ipython-input-11-1510809814.py:4: FutureWarning: suggest_loguniform has been deprecated in v3.0.0. This feature will be removed in v6.0.0. See https://github.com/optuna/optuna/releases/tag/v3.0.0. Use suggest_float(..., log=True) instead.\n",
            "  eta0 = trial.suggest_loguniform('eta0', 1e-5, 1e-1)\n",
            "[I 2025-06-29 15:26:38,527] Trial 26 finished with value: 6.714122543259256e-05 and parameters: {'alpha': 1.1200883976472727e-06, 'eta0': 0.0009973201204789728, 'max_iter': 1159}. Best is trial 12 with value: 6.517610871720688e-05.\n",
            "/tmp/ipython-input-11-1510809814.py:3: FutureWarning: suggest_loguniform has been deprecated in v3.0.0. This feature will be removed in v6.0.0. See https://github.com/optuna/optuna/releases/tag/v3.0.0. Use suggest_float(..., log=True) instead.\n",
            "  alpha = trial.suggest_loguniform('alpha', 1e-6, 1e-1)\n",
            "/tmp/ipython-input-11-1510809814.py:4: FutureWarning: suggest_loguniform has been deprecated in v3.0.0. This feature will be removed in v6.0.0. See https://github.com/optuna/optuna/releases/tag/v3.0.0. Use suggest_float(..., log=True) instead.\n",
            "  eta0 = trial.suggest_loguniform('eta0', 1e-5, 1e-1)\n",
            "[I 2025-06-29 15:26:38,566] Trial 27 finished with value: 6.684475690827919e-05 and parameters: {'alpha': 3.2371586381983645e-05, 'eta0': 0.007399307177560156, 'max_iter': 793}. Best is trial 12 with value: 6.517610871720688e-05.\n",
            "/tmp/ipython-input-11-1510809814.py:3: FutureWarning: suggest_loguniform has been deprecated in v3.0.0. This feature will be removed in v6.0.0. See https://github.com/optuna/optuna/releases/tag/v3.0.0. Use suggest_float(..., log=True) instead.\n",
            "  alpha = trial.suggest_loguniform('alpha', 1e-6, 1e-1)\n",
            "/tmp/ipython-input-11-1510809814.py:4: FutureWarning: suggest_loguniform has been deprecated in v3.0.0. This feature will be removed in v6.0.0. See https://github.com/optuna/optuna/releases/tag/v3.0.0. Use suggest_float(..., log=True) instead.\n",
            "  eta0 = trial.suggest_loguniform('eta0', 1e-5, 1e-1)\n",
            "[I 2025-06-29 15:26:38,605] Trial 28 finished with value: 260274201688.7329 and parameters: {'alpha': 3.6540428639449553e-06, 'eta0': 0.08353973868896333, 'max_iter': 1210}. Best is trial 12 with value: 6.517610871720688e-05.\n",
            "/tmp/ipython-input-11-1510809814.py:3: FutureWarning: suggest_loguniform has been deprecated in v3.0.0. This feature will be removed in v6.0.0. See https://github.com/optuna/optuna/releases/tag/v3.0.0. Use suggest_float(..., log=True) instead.\n",
            "  alpha = trial.suggest_loguniform('alpha', 1e-6, 1e-1)\n",
            "/tmp/ipython-input-11-1510809814.py:4: FutureWarning: suggest_loguniform has been deprecated in v3.0.0. This feature will be removed in v6.0.0. See https://github.com/optuna/optuna/releases/tag/v3.0.0. Use suggest_float(..., log=True) instead.\n",
            "  eta0 = trial.suggest_loguniform('eta0', 1e-5, 1e-1)\n",
            "[I 2025-06-29 15:26:38,641] Trial 29 finished with value: 6.873244953067513e-05 and parameters: {'alpha': 0.0003583486816364758, 'eta0': 0.0003435571203875736, 'max_iter': 1045}. Best is trial 12 with value: 6.517610871720688e-05.\n"
          ]
        }
      ]
    },
    {
      "cell_type": "code",
      "source": [
        "# --- Best Model ---\n",
        "best_params = study.best_params\n",
        "print(\"Best Hyperparameters:\", best_params)\n",
        "\n",
        "final_pipe = Pipeline([\n",
        "    (\"scaler\", StandardScaler()),\n",
        "    (\"sgd\", SGDRegressor(\n",
        "        loss='squared_error',\n",
        "        penalty='l2',\n",
        "        alpha=best_params['alpha'],\n",
        "        eta0=best_params['eta0'],\n",
        "        learning_rate='constant',\n",
        "        max_iter=best_params['max_iter'],\n",
        "        random_state=42\n",
        "    ))\n",
        "])\n",
        "\n",
        "final_pipe.fit(X_train, y_cpu_train)\n",
        "preds = final_pipe.predict(X_test)"
      ],
      "metadata": {
        "colab": {
          "base_uri": "https://localhost:8080/"
        },
        "id": "o1pm6Do2TOBa",
        "outputId": "0fe25f3a-5da8-4984-accd-3a651140db91"
      },
      "execution_count": 12,
      "outputs": [
        {
          "output_type": "stream",
          "name": "stdout",
          "text": [
            "Best Hyperparameters: {'alpha': 0.0004825069531850445, 'eta0': 0.005577074786219012, 'max_iter': 1118}\n"
          ]
        }
      ]
    },
    {
      "cell_type": "code",
      "source": [
        "# Accuracy\n",
        "mae = mean_absolute_error(y_cpu_test, preds)\n",
        "r2 = r2_score(y_cpu_test, preds)\n",
        "\n",
        "print(f\"MAE (CPU Prediction): {mae:.4f}\")\n",
        "print(f\"R² Score (CPU Prediction): {r2:.4f}\")"
      ],
      "metadata": {
        "colab": {
          "base_uri": "https://localhost:8080/"
        },
        "id": "flUBkd78TZqr",
        "outputId": "ce90b8db-b755-41e3-cc3c-c5cba382d059"
      },
      "execution_count": 13,
      "outputs": [
        {
          "output_type": "stream",
          "name": "stdout",
          "text": [
            "MAE (CPU Prediction): 0.0001\n",
            "R² Score (CPU Prediction): 0.9971\n"
          ]
        }
      ]
    },
    {
      "cell_type": "code",
      "source": [
        "# Fit on training data\n",
        "final_pipe.fit(X_train, y_mem_train)\n",
        "\n",
        "# Predict on test set\n",
        "mem_preds = final_pipe.predict(X_test)\n",
        "\n",
        "# Accuracy metrics\n",
        "mae_mem = mean_absolute_error(y_mem_test, mem_preds)\n",
        "r2_mem = r2_score(y_mem_test, mem_preds)\n",
        "\n",
        "print(f\"MAE (Memory Prediction): {mae_mem:.4f}\")\n",
        "print(f\"R² Score (Memory Prediction): {r2_mem:.4f}\")"
      ],
      "metadata": {
        "colab": {
          "base_uri": "https://localhost:8080/"
        },
        "id": "IKfRJv9zUOKJ",
        "outputId": "106ec79b-6d44-4077-e5a8-670889eff1af"
      },
      "execution_count": 16,
      "outputs": [
        {
          "output_type": "stream",
          "name": "stdout",
          "text": [
            "MAE (Memory Prediction): 1785783.5771\n",
            "R² Score (Memory Prediction): 0.9682\n"
          ]
        }
      ]
    },
    {
      "cell_type": "markdown",
      "source": [
        "# Service 2"
      ],
      "metadata": {
        "id": "Hc4dBwmCWAqC"
      }
    },
    {
      "cell_type": "code",
      "source": [
        "# Load and preprocess the dataset\n",
        "df = pd.read_csv(\"/content/service-2-deployment_dataset.csv\")"
      ],
      "metadata": {
        "id": "yK0Zw1beYmwJ"
      },
      "execution_count": 17,
      "outputs": []
    },
    {
      "cell_type": "code",
      "source": [
        "# --- Feature Engineering ---\n",
        "\n",
        "# Convert Timestamp to datetime\n",
        "df['Timestamp'] = pd.to_datetime(df['Timestamp'], format='mixed')\n",
        "\n",
        "# Sort by time\n",
        "df = df.sort_values('Timestamp')\n",
        "\n",
        "# Time features\n",
        "df['hour'] = df['Timestamp'].dt.hour\n",
        "df['dayofweek'] = df['Timestamp'].dt.dayofweek\n",
        "\n",
        "# Usage percentages\n",
        "df['cpu_usage_pct'] = df['CPU Usage'] / df['CPU Limit']\n",
        "df['memory_usage_pct'] = df['Memory Usage'] / df['Memory Limit']\n",
        "df['request_rate_rps'] = df['Request Rate']\n",
        "\n",
        "# Rolling trends (example over 5 past rows, you can adjust window)\n",
        "df['cpu_usage_mean_5'] = df['cpu_usage_pct'].rolling(window=5).mean().fillna(method='bfill')\n",
        "df['memory_usage_mean_5'] = df['memory_usage_pct'].rolling(window=5).mean().fillna(method='bfill')\n",
        "df['cpu_usage_std_5'] = df['cpu_usage_pct'].rolling(window=5).std().fillna(method='bfill')\n",
        "df['memory_usage_std_5'] = df['memory_usage_pct'].rolling(window=5).std().fillna(method='bfill')\n",
        "\n",
        "# Targets: CPU Needed and Memory Needed = CPU Usage & Memory Usage of next timestamp\n",
        "df['cpu_needed_t+1'] = df['CPU Usage'].shift(-1)\n",
        "df['memory_needed_t+1'] = df['Memory Usage'].shift(-1)\n",
        "\n",
        "# Drop NaN due to rolling/shift\n",
        "df = df.dropna()"
      ],
      "metadata": {
        "id": "AeTORL9jY8LZ"
      },
      "execution_count": 19,
      "outputs": []
    },
    {
      "cell_type": "code",
      "source": [
        "# --- Features & Target ---\n",
        "features = [\n",
        "    'cpu_usage_pct', 'memory_usage_pct', 'request_rate_rps',\n",
        "    'CPU Request', 'Memory Request',\n",
        "    'CPU Limit', 'Memory Limit',\n",
        "    'cpu_usage_mean_5', 'memory_usage_mean_5',\n",
        "    'cpu_usage_std_5', 'memory_usage_std_5',\n",
        "    'hour', 'dayofweek'\n",
        "]\n",
        "\n",
        "X = df[features]\n",
        "y_cpu = df['cpu_needed_t+1']\n",
        "y_mem = df['memory_needed_t+1']\n",
        "\n",
        "# Split\n",
        "X_train, X_test, y_cpu_train, y_cpu_test = train_test_split(X, y_cpu, test_size=0.2, random_state=42)\n",
        "_, _, y_mem_train, y_mem_test = train_test_split(X, y_mem, test_size=0.2, random_state=42)\n"
      ],
      "metadata": {
        "id": "Cv8hqGM0ZZhs"
      },
      "execution_count": 20,
      "outputs": []
    },
    {
      "cell_type": "code",
      "source": [
        "# --- Optuna for SGDRegressor ---\n",
        "def objective(trial):\n",
        "    alpha = trial.suggest_loguniform('alpha', 1e-6, 1e-1)\n",
        "    eta0 = trial.suggest_loguniform('eta0', 1e-5, 1e-1)\n",
        "    max_iter = trial.suggest_int('max_iter', 500, 2000)\n",
        "\n",
        "    pipe = Pipeline([\n",
        "        (\"scaler\", StandardScaler()),\n",
        "        (\"sgd\", SGDRegressor(\n",
        "            loss='squared_error',\n",
        "            penalty='l2',\n",
        "            alpha=alpha,\n",
        "            eta0=eta0,\n",
        "            learning_rate='constant',\n",
        "            max_iter=max_iter,\n",
        "            random_state=42\n",
        "        ))\n",
        "    ])\n",
        "\n",
        "    pipe.fit(X_train, y_cpu_train)\n",
        "    preds = pipe.predict(X_test)\n",
        "    mae = mean_absolute_error(y_cpu_test, preds)\n",
        "    return mae\n",
        "\n",
        "study = optuna.create_study(direction='minimize')\n",
        "study.optimize(objective, n_trials=30)"
      ],
      "metadata": {
        "colab": {
          "base_uri": "https://localhost:8080/"
        },
        "id": "utrhD1gFZozk",
        "outputId": "51c4c0f1-b0a9-44cf-83d5-9d178f3b7991"
      },
      "execution_count": 21,
      "outputs": [
        {
          "output_type": "stream",
          "name": "stderr",
          "text": [
            "[I 2025-06-29 15:55:30,739] A new study created in memory with name: no-name-e0c6b283-a7ab-4779-b6b5-2009adbd1ae6\n",
            "[I 2025-06-29 15:55:30,757] Trial 0 finished with value: 71435198697.07838 and parameters: {'alpha': 0.0033833100651102324, 'eta0': 0.013551228651186707, 'max_iter': 1737}. Best is trial 0 with value: 71435198697.07838.\n",
            "[I 2025-06-29 15:55:30,771] Trial 1 finished with value: 0.34489869343154655 and parameters: {'alpha': 8.534234262881975e-05, 'eta0': 0.0023545054644681825, 'max_iter': 1919}. Best is trial 1 with value: 0.34489869343154655.\n",
            "[I 2025-06-29 15:55:30,786] Trial 2 finished with value: 7.498747429545045e-05 and parameters: {'alpha': 0.03355060684856847, 'eta0': 0.00015879181637700572, 'max_iter': 1771}. Best is trial 2 with value: 7.498747429545045e-05.\n",
            "[I 2025-06-29 15:55:30,801] Trial 3 finished with value: 0.005659597011662616 and parameters: {'alpha': 0.004078043820242971, 'eta0': 1.4527408295650175e-05, 'max_iter': 1112}. Best is trial 2 with value: 7.498747429545045e-05.\n",
            "[I 2025-06-29 15:55:30,816] Trial 4 finished with value: 0.00022101321787787437 and parameters: {'alpha': 0.09826622407541041, 'eta0': 0.00012188702719509024, 'max_iter': 1625}. Best is trial 2 with value: 7.498747429545045e-05.\n",
            "[I 2025-06-29 15:55:30,832] Trial 5 finished with value: 0.0003018992494323845 and parameters: {'alpha': 5.092003386518162e-05, 'eta0': 0.000108840074144411, 'max_iter': 594}. Best is trial 2 with value: 7.498747429545045e-05.\n",
            "[I 2025-06-29 15:55:30,852] Trial 6 finished with value: 66584225097.3549 and parameters: {'alpha': 6.190361599862579e-05, 'eta0': 0.010673401657095913, 'max_iter': 1259}. Best is trial 2 with value: 7.498747429545045e-05.\n",
            "[I 2025-06-29 15:55:30,868] Trial 7 finished with value: 303013254941.9339 and parameters: {'alpha': 0.00025111243522805266, 'eta0': 0.09039570351112437, 'max_iter': 850}. Best is trial 2 with value: 7.498747429545045e-05.\n",
            "[I 2025-06-29 15:55:30,884] Trial 8 finished with value: 0.0003338212859708186 and parameters: {'alpha': 0.0001508829662760521, 'eta0': 0.00010560374117807513, 'max_iter': 735}. Best is trial 2 with value: 7.498747429545045e-05.\n",
            "[I 2025-06-29 15:55:30,902] Trial 9 finished with value: 93243383023.04037 and parameters: {'alpha': 0.0012722905496312731, 'eta0': 0.044371081886789725, 'max_iter': 1361}. Best is trial 2 with value: 7.498747429545045e-05.\n",
            "[I 2025-06-29 15:55:30,931] Trial 10 finished with value: 0.00027540429813980514 and parameters: {'alpha': 1.201679654340291e-06, 'eta0': 0.001084163840139319, 'max_iter': 1967}. Best is trial 2 with value: 7.498747429545045e-05.\n",
            "[I 2025-06-29 15:55:30,962] Trial 11 finished with value: 8.802012876501552e-05 and parameters: {'alpha': 0.09135109896010905, 'eta0': 0.0001616995918415889, 'max_iter': 1593}. Best is trial 2 with value: 7.498747429545045e-05.\n",
            "[I 2025-06-29 15:55:30,991] Trial 12 finished with value: 0.004334729232606339 and parameters: {'alpha': 0.07996620470763158, 'eta0': 2.3104744319483958e-05, 'max_iter': 1552}. Best is trial 2 with value: 7.498747429545045e-05.\n",
            "[I 2025-06-29 15:55:31,024] Trial 13 finished with value: 2.1298443522103973e-05 and parameters: {'alpha': 0.01856895574622512, 'eta0': 0.00038962671850728905, 'max_iter': 1459}. Best is trial 13 with value: 2.1298443522103973e-05.\n",
            "[I 2025-06-29 15:55:31,056] Trial 14 finished with value: 2.002450356811104e-05 and parameters: {'alpha': 0.013536267555815946, 'eta0': 0.0004276493183749835, 'max_iter': 1024}. Best is trial 14 with value: 2.002450356811104e-05.\n",
            "[I 2025-06-29 15:55:31,086] Trial 15 finished with value: 1.9254481418735005e-05 and parameters: {'alpha': 0.011243153994565375, 'eta0': 0.0005535570477359667, 'max_iter': 1009}. Best is trial 15 with value: 1.9254481418735005e-05.\n",
            "[I 2025-06-29 15:55:31,116] Trial 16 finished with value: 0.3455490164837123 and parameters: {'alpha': 0.009576745704198036, 'eta0': 0.0029313557996656758, 'max_iter': 1028}. Best is trial 15 with value: 1.9254481418735005e-05.\n",
            "[I 2025-06-29 15:55:31,147] Trial 17 finished with value: 1.8406615357675077e-05 and parameters: {'alpha': 0.0006901449911859703, 'eta0': 0.0006156651439987768, 'max_iter': 979}. Best is trial 17 with value: 1.8406615357675077e-05.\n",
            "[I 2025-06-29 15:55:31,177] Trial 18 finished with value: 1.3816383730843387 and parameters: {'alpha': 0.0005977116405672977, 'eta0': 0.0036795266640706255, 'max_iter': 842}. Best is trial 17 with value: 1.8406615357675077e-05.\n",
            "[I 2025-06-29 15:55:31,208] Trial 19 finished with value: 1.9631132330863615e-05 and parameters: {'alpha': 1.4823581654332533e-05, 'eta0': 0.0009017730653868291, 'max_iter': 543}. Best is trial 17 with value: 1.8406615357675077e-05.\n",
            "[I 2025-06-29 15:55:31,240] Trial 20 finished with value: 0.0036651340654979105 and parameters: {'alpha': 0.0012783637206863706, 'eta0': 2.8493297620654145e-05, 'max_iter': 1178}. Best is trial 17 with value: 1.8406615357675077e-05.\n",
            "[I 2025-06-29 15:55:31,273] Trial 21 finished with value: 1.8810577728360863e-05 and parameters: {'alpha': 3.6922506049450937e-06, 'eta0': 0.0006623515477629349, 'max_iter': 627}. Best is trial 17 with value: 1.8406615357675077e-05.\n",
            "[I 2025-06-29 15:55:31,306] Trial 22 finished with value: 1.89132225508544e-05 and parameters: {'alpha': 1.0945003696772063e-06, 'eta0': 0.00041068940236247526, 'max_iter': 884}. Best is trial 17 with value: 1.8406615357675077e-05.\n",
            "[I 2025-06-29 15:55:31,340] Trial 23 finished with value: 0.00882569143289235 and parameters: {'alpha': 2.922864549473755e-06, 'eta0': 0.001445284048115789, 'max_iter': 709}. Best is trial 17 with value: 1.8406615357675077e-05.\n",
            "[I 2025-06-29 15:55:31,373] Trial 24 finished with value: 1.9545022280302945e-05 and parameters: {'alpha': 8.775859094823029e-06, 'eta0': 0.0002942619277144997, 'max_iter': 867}. Best is trial 17 with value: 1.8406615357675077e-05.\n",
            "[I 2025-06-29 15:55:31,404] Trial 25 finished with value: 0.0016337663610394458 and parameters: {'alpha': 1.2407993072305066e-06, 'eta0': 5.449147371086119e-05, 'max_iter': 672}. Best is trial 17 with value: 1.8406615357675077e-05.\n",
            "[I 2025-06-29 15:55:31,434] Trial 26 finished with value: 67476216522.7894 and parameters: {'alpha': 6.965272196903236e-06, 'eta0': 0.011357770989088306, 'max_iter': 920}. Best is trial 17 with value: 1.8406615357675077e-05.\n",
            "[I 2025-06-29 15:55:31,475] Trial 27 finished with value: 617564.8277737872 and parameters: {'alpha': 2.2643300894054196e-05, 'eta0': 0.004461762180607311, 'max_iter': 500}. Best is trial 17 with value: 1.8406615357675077e-05.\n",
            "[I 2025-06-29 15:55:31,522] Trial 28 finished with value: 2.053729537999262e-05 and parameters: {'alpha': 3.3564583788612224e-06, 'eta0': 0.0007417619706156847, 'max_iter': 774}. Best is trial 17 with value: 1.8406615357675077e-05.\n",
            "[I 2025-06-29 15:55:31,589] Trial 29 finished with value: 0.015353499242948158 and parameters: {'alpha': 3.192471985637656e-06, 'eta0': 0.0015299210388705685, 'max_iter': 634}. Best is trial 17 with value: 1.8406615357675077e-05.\n"
          ]
        }
      ]
    },
    {
      "cell_type": "code",
      "source": [
        "# --- Best Model ---\n",
        "best_params = study.best_params\n",
        "print(\"Best Hyperparameters:\", best_params)\n",
        "\n",
        "final_pipe = Pipeline([\n",
        "    (\"scaler\", StandardScaler()),\n",
        "    (\"sgd\", SGDRegressor(\n",
        "        loss='squared_error',\n",
        "        penalty='l2',\n",
        "        alpha=best_params['alpha'],\n",
        "        eta0=best_params['eta0'],\n",
        "        learning_rate='constant',\n",
        "        max_iter=best_params['max_iter'],\n",
        "        random_state=42\n",
        "    ))\n",
        "])\n",
        "\n",
        "final_pipe.fit(X_train, y_cpu_train)\n",
        "preds = final_pipe.predict(X_test)"
      ],
      "metadata": {
        "colab": {
          "base_uri": "https://localhost:8080/"
        },
        "id": "v2KIcQEvZ3Rj",
        "outputId": "5d2ce3a7-38a4-4f6e-ec4e-a48feac22109"
      },
      "execution_count": 22,
      "outputs": [
        {
          "output_type": "stream",
          "name": "stdout",
          "text": [
            "Best Hyperparameters: {'alpha': 0.0006901449911859703, 'eta0': 0.0006156651439987768, 'max_iter': 979}\n"
          ]
        }
      ]
    }
  ]
}