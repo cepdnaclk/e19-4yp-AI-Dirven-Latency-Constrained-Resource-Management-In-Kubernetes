{
  "nbformat": 4,
  "nbformat_minor": 0,
  "metadata": {
    "colab": {
      "provenance": []
    },
    "kernelspec": {
      "name": "python3",
      "display_name": "Python 3"
    },
    "language_info": {
      "name": "python"
    }
  },
  "cells": [
    {
      "cell_type": "code",
      "source": [
        "!pip install optuna"
      ],
      "metadata": {
        "colab": {
          "base_uri": "https://localhost:8080/"
        },
        "id": "Zxi9_URN-7un",
        "outputId": "5ec528b9-76fd-476d-8a8f-ede147d55856"
      },
      "execution_count": 2,
      "outputs": [
        {
          "output_type": "stream",
          "name": "stdout",
          "text": [
            "Collecting optuna\n",
            "  Downloading optuna-4.3.0-py3-none-any.whl.metadata (17 kB)\n",
            "Collecting alembic>=1.5.0 (from optuna)\n",
            "  Downloading alembic-1.15.2-py3-none-any.whl.metadata (7.3 kB)\n",
            "Collecting colorlog (from optuna)\n",
            "  Downloading colorlog-6.9.0-py3-none-any.whl.metadata (10 kB)\n",
            "Requirement already satisfied: numpy in /usr/local/lib/python3.11/dist-packages (from optuna) (2.0.2)\n",
            "Requirement already satisfied: packaging>=20.0 in /usr/local/lib/python3.11/dist-packages (from optuna) (24.2)\n",
            "Requirement already satisfied: sqlalchemy>=1.4.2 in /usr/local/lib/python3.11/dist-packages (from optuna) (2.0.40)\n",
            "Requirement already satisfied: tqdm in /usr/local/lib/python3.11/dist-packages (from optuna) (4.67.1)\n",
            "Requirement already satisfied: PyYAML in /usr/local/lib/python3.11/dist-packages (from optuna) (6.0.2)\n",
            "Requirement already satisfied: Mako in /usr/lib/python3/dist-packages (from alembic>=1.5.0->optuna) (1.1.3)\n",
            "Requirement already satisfied: typing-extensions>=4.12 in /usr/local/lib/python3.11/dist-packages (from alembic>=1.5.0->optuna) (4.13.2)\n",
            "Requirement already satisfied: greenlet>=1 in /usr/local/lib/python3.11/dist-packages (from sqlalchemy>=1.4.2->optuna) (3.2.1)\n",
            "Downloading optuna-4.3.0-py3-none-any.whl (386 kB)\n",
            "\u001b[2K   \u001b[90m━━━━━━━━━━━━━━━━━━━━━━━━━━━━━━━━━━━━━━━━\u001b[0m \u001b[32m386.6/386.6 kB\u001b[0m \u001b[31m11.6 MB/s\u001b[0m eta \u001b[36m0:00:00\u001b[0m\n",
            "\u001b[?25hDownloading alembic-1.15.2-py3-none-any.whl (231 kB)\n",
            "\u001b[2K   \u001b[90m━━━━━━━━━━━━━━━━━━━━━━━━━━━━━━━━━━━━━━━━\u001b[0m \u001b[32m231.9/231.9 kB\u001b[0m \u001b[31m23.9 MB/s\u001b[0m eta \u001b[36m0:00:00\u001b[0m\n",
            "\u001b[?25hDownloading colorlog-6.9.0-py3-none-any.whl (11 kB)\n",
            "Installing collected packages: colorlog, alembic, optuna\n",
            "Successfully installed alembic-1.15.2 colorlog-6.9.0 optuna-4.3.0\n"
          ]
        }
      ]
    },
    {
      "cell_type": "markdown",
      "source": [
        "# Service 1"
      ],
      "metadata": {
        "id": "OStao0t5-zRP"
      }
    },
    {
      "cell_type": "code",
      "execution_count": 4,
      "metadata": {
        "colab": {
          "base_uri": "https://localhost:8080/"
        },
        "id": "Tq6OS3QK-lA5",
        "outputId": "012458f3-0f1e-4f6d-b18d-9e8060d1abf7"
      },
      "outputs": [
        {
          "output_type": "stream",
          "name": "stderr",
          "text": [
            "[I 2025-05-05 08:21:03,576] A new study created in memory with name: no-name-6fa11aa9-25d1-4ece-8c99-ee24812f9432\n",
            "[I 2025-05-05 08:21:03,620] Trial 0 finished with value: 0.09990017461469881 and parameters: {'C': 0.16472847366485, 'epsilon': 0.3963709583595634, 'gamma': 'auto'}. Best is trial 0 with value: 0.09990017461469881.\n",
            "[I 2025-05-05 08:21:03,642] Trial 1 finished with value: 0.7153657963371024 and parameters: {'C': 0.9423491122702939, 'epsilon': 0.9887151460943112, 'gamma': 'auto'}. Best is trial 0 with value: 0.09990017461469881.\n",
            "[I 2025-05-05 08:21:03,804] Trial 2 finished with value: 0.0002857749470634865 and parameters: {'C': 1.5551943510006643, 'epsilon': 0.029562307741944592, 'gamma': 'auto'}. Best is trial 2 with value: 0.0002857749470634865.\n",
            "[I 2025-05-05 08:21:04,386] Trial 3 finished with value: 2.2738308317972388e-05 and parameters: {'C': 2.8605720618531576, 'epsilon': 0.007861723220101535, 'gamma': 'auto'}. Best is trial 3 with value: 2.2738308317972388e-05.\n",
            "[I 2025-05-05 08:21:04,420] Trial 4 finished with value: 0.14352196200012626 and parameters: {'C': 1.015829395484701, 'epsilon': 0.4653693982621651, 'gamma': 'auto'}. Best is trial 3 with value: 2.2738308317972388e-05.\n",
            "[I 2025-05-05 08:21:09,059] Trial 5 finished with value: 9.048543421999563e-07 and parameters: {'C': 11.551421405936624, 'epsilon': 0.0011945906806742636, 'gamma': 'scale'}. Best is trial 5 with value: 9.048543421999563e-07.\n",
            "[I 2025-05-05 08:21:12,741] Trial 6 finished with value: 3.4818100350162395e-05 and parameters: {'C': 0.15825302839785407, 'epsilon': 0.0010471588082939785, 'gamma': 'scale'}. Best is trial 5 with value: 9.048543421999563e-07.\n",
            "[I 2025-05-05 08:21:13,592] Trial 7 finished with value: 2.3666187275299465e-05 and parameters: {'C': 22.738931523989738, 'epsilon': 0.008328704153957325, 'gamma': 'auto'}. Best is trial 5 with value: 9.048543421999563e-07.\n",
            "[I 2025-05-05 08:21:14,710] Trial 8 finished with value: 2.0699022104702088e-05 and parameters: {'C': 57.63643328024713, 'epsilon': 0.007749795949788751, 'gamma': 'auto'}. Best is trial 5 with value: 9.048543421999563e-07.\n",
            "[I 2025-05-05 08:21:17,420] Trial 9 finished with value: 5.720382362490142e-06 and parameters: {'C': 0.7716044180008648, 'epsilon': 0.0019256097509973552, 'gamma': 'auto'}. Best is trial 5 with value: 9.048543421999563e-07.\n",
            "[I 2025-05-05 08:21:17,490] Trial 10 finished with value: 0.0021009322097662593 and parameters: {'C': 7.6610445800338205, 'epsilon': 0.08942858999506487, 'gamma': 'scale'}. Best is trial 5 with value: 9.048543421999563e-07.\n",
            "[I 2025-05-05 08:21:21,933] Trial 11 finished with value: 8.090936986023552e-07 and parameters: {'C': 8.490676408967321, 'epsilon': 0.001040778172107464, 'gamma': 'scale'}. Best is trial 11 with value: 8.090936986023552e-07.\n",
            "[I 2025-05-05 08:21:23,516] Trial 12 finished with value: 4.100530227387931e-06 and parameters: {'C': 9.387945280496673, 'epsilon': 0.003192484807509833, 'gamma': 'scale'}. Best is trial 11 with value: 8.090936986023552e-07.\n",
            "[I 2025-05-05 08:21:27,952] Trial 13 finished with value: 9.070613314465711e-07 and parameters: {'C': 11.17030538471294, 'epsilon': 0.0012649950310563852, 'gamma': 'scale'}. Best is trial 11 with value: 8.090936986023552e-07.\n",
            "[I 2025-05-05 08:21:29,635] Trial 14 finished with value: 5.4786289858660335e-06 and parameters: {'C': 84.02753778267726, 'epsilon': 0.0036459642833644047, 'gamma': 'scale'}. Best is trial 11 with value: 8.090936986023552e-07.\n",
            "[I 2025-05-05 08:21:29,821] Trial 15 finished with value: 0.00022062975538593297 and parameters: {'C': 27.660909281041558, 'epsilon': 0.02558199236620451, 'gamma': 'scale'}. Best is trial 11 with value: 8.090936986023552e-07.\n",
            "[I 2025-05-05 08:21:31,252] Trial 16 finished with value: 5.2060382396156914e-06 and parameters: {'C': 3.8098486522461386, 'epsilon': 0.0034988513807949024, 'gamma': 'scale'}. Best is trial 11 with value: 8.090936986023552e-07.\n",
            "[I 2025-05-05 08:21:31,317] Trial 17 finished with value: 0.002529731440686093 and parameters: {'C': 26.257536063665253, 'epsilon': 0.0958485073602295, 'gamma': 'scale'}. Best is trial 11 with value: 8.090936986023552e-07.\n",
            "[I 2025-05-05 08:21:31,678] Trial 18 finished with value: 5.901493413763935e-05 and parameters: {'C': 4.529370746773592, 'epsilon': 0.013472694524002472, 'gamma': 'scale'}. Best is trial 11 with value: 8.090936986023552e-07.\n",
            "[I 2025-05-05 08:21:34,134] Trial 19 finished with value: 2.2718880411433272e-06 and parameters: {'C': 17.082919565576447, 'epsilon': 0.0021561156912661738, 'gamma': 'scale'}. Best is trial 11 with value: 8.090936986023552e-07.\n",
            "[I 2025-05-05 08:21:34,215] Trial 20 finished with value: 0.0014067234596485223 and parameters: {'C': 0.3858897752461379, 'epsilon': 0.07332772901194128, 'gamma': 'scale'}. Best is trial 11 with value: 8.090936986023552e-07.\n",
            "[I 2025-05-05 08:21:38,510] Trial 21 finished with value: 7.705550039169405e-07 and parameters: {'C': 9.571330214290574, 'epsilon': 0.0010280812385215494, 'gamma': 'scale'}. Best is trial 21 with value: 7.705550039169405e-07.\n",
            "[I 2025-05-05 08:21:43,803] Trial 22 finished with value: 7.446433942578428e-07 and parameters: {'C': 6.315216798350573, 'epsilon': 0.001008167435712752, 'gamma': 'scale'}. Best is trial 22 with value: 7.446433942578428e-07.\n",
            "[I 2025-05-05 08:21:46,186] Trial 23 finished with value: 2.4193050357331803e-06 and parameters: {'C': 5.447493761402881, 'epsilon': 0.002197947166423658, 'gamma': 'scale'}. Best is trial 22 with value: 7.446433942578428e-07.\n",
            "[I 2025-05-05 08:21:47,029] Trial 24 finished with value: 1.301337334570932e-05 and parameters: {'C': 1.9214827316144527, 'epsilon': 0.005526321223556147, 'gamma': 'scale'}. Best is trial 22 with value: 7.446433942578428e-07.\n",
            "[I 2025-05-05 08:21:51,999] Trial 25 finished with value: 5.381564141760348e-07 and parameters: {'C': 43.89085922084776, 'epsilon': 0.001040573805193996, 'gamma': 'scale'}. Best is trial 25 with value: 5.381564141760348e-07.\n",
            "[I 2025-05-05 08:21:55,457] Trial 26 finished with value: 2.084184198585312e-06 and parameters: {'C': 32.86428171017606, 'epsilon': 0.0020245507791848503, 'gamma': 'scale'}. Best is trial 25 with value: 5.381564141760348e-07.\n",
            "[I 2025-05-05 08:21:55,985] Trial 27 finished with value: 8.315123480888435e-05 and parameters: {'C': 50.06080009063733, 'epsilon': 0.016352377610840158, 'gamma': 'scale'}. Best is trial 25 with value: 5.381564141760348e-07.\n",
            "[I 2025-05-05 08:21:57,036] Trial 28 finished with value: 1.0216370548384877e-05 and parameters: {'C': 15.241670574981109, 'epsilon': 0.005173043282516738, 'gamma': 'scale'}. Best is trial 25 with value: 5.381564141760348e-07.\n",
            "[I 2025-05-05 08:21:57,132] Trial 29 finished with value: 0.000727029683486281 and parameters: {'C': 49.38413114548916, 'epsilon': 0.05057276600805175, 'gamma': 'scale'}. Best is trial 25 with value: 5.381564141760348e-07.\n"
          ]
        },
        {
          "output_type": "stream",
          "name": "stdout",
          "text": [
            "Best Parameters: {'C': 43.89085922084776, 'epsilon': 0.001040573805193996, 'gamma': 'scale'}\n",
            "\n",
            "Test MSE: 0.0004\n",
            "Test RMSE: 0.0195\n",
            "\n",
            "Sample Input: {'latency_ms': 300, 'cpu_usage_pct': 0.25, 'memory_usage_pct': 500, 'memory_allocated': 40, 'cpu_allocated': 75}\n",
            "Predicted CPU, Memory Usage: CPU=63.786, Memory=29.43\n"
          ]
        }
      ],
      "source": [
        "import pandas as pd\n",
        "import numpy as np\n",
        "from sklearn.svm import SVR\n",
        "from sklearn.preprocessing import StandardScaler\n",
        "from sklearn.model_selection import train_test_split\n",
        "from sklearn.multioutput import MultiOutputRegressor\n",
        "from sklearn.metrics import mean_squared_error\n",
        "import optuna\n",
        "from optuna.samplers import TPESampler\n",
        "\n",
        "# Load dataset\n",
        "df = pd.read_csv(\"Service1.csv\")\n",
        "\n",
        "# Input and output\n",
        "X = df[['latency_ms', 'cpu_usage_pct', 'memory_usage_pct', 'memory_allocated', 'cpu_allocated']]\n",
        "y = df[['cpu_usage_pct', 'memory_usage_pct']]\n",
        "\n",
        "# Split: 70% train, 15% val, 15% test\n",
        "X_train_full, X_temp, y_train_full, y_temp = train_test_split(X, y, test_size=0.3, random_state=42)\n",
        "X_val, X_test, y_val, y_test = train_test_split(X_temp, y_temp, test_size=0.5, random_state=42)\n",
        "\n",
        "# Scale features\n",
        "x_scaler = StandardScaler()\n",
        "y_scaler = StandardScaler()\n",
        "\n",
        "X_train_scaled = x_scaler.fit_transform(X_train_full)\n",
        "X_val_scaled = x_scaler.transform(X_val)\n",
        "X_test_scaled = x_scaler.transform(X_test)\n",
        "\n",
        "y_train_scaled = y_scaler.fit_transform(y_train_full)\n",
        "y_val_scaled = y_scaler.transform(y_val)\n",
        "\n",
        "# Objective for Optuna\n",
        "def objective(trial):\n",
        "    C = trial.suggest_float('C', 0.1, 100.0, log=True)\n",
        "    epsilon = trial.suggest_float('epsilon', 0.001, 1.0, log=True)\n",
        "    gamma = trial.suggest_categorical('gamma', ['scale', 'auto'])\n",
        "\n",
        "    svr_model = MultiOutputRegressor(SVR(C=C, epsilon=epsilon, gamma=gamma))\n",
        "    svr_model.fit(X_train_scaled, y_train_scaled)\n",
        "    preds_scaled = svr_model.predict(X_val_scaled)\n",
        "    mse = mean_squared_error(y_val_scaled, preds_scaled)\n",
        "    return mse\n",
        "\n",
        "# Run optimization\n",
        "study = optuna.create_study(direction=\"minimize\", sampler=TPESampler())\n",
        "study.optimize(objective, n_trials=30)\n",
        "\n",
        "# Best model training\n",
        "best_params = study.best_params\n",
        "print(\"Best Parameters:\", best_params)\n",
        "\n",
        "final_svr = MultiOutputRegressor(SVR(**best_params))\n",
        "final_svr.fit(np.vstack([X_train_scaled, X_val_scaled]), np.vstack([y_train_scaled, y_val_scaled]))\n",
        "\n",
        "# Test set evaluation\n",
        "y_test_scaled = y_scaler.transform(y_test)\n",
        "preds_scaled = final_svr.predict(X_test_scaled)\n",
        "preds = y_scaler.inverse_transform(preds_scaled)\n",
        "\n",
        "mse = mean_squared_error(y_test, preds)\n",
        "rmse = np.sqrt(mse)\n",
        "print(f\"\\nTest MSE: {mse:.4f}\")\n",
        "print(f\"Test RMSE: {rmse:.4f}\")\n",
        "\n",
        "# Sample prediction\n",
        "sample = pd.DataFrame([[300, 0.25, 500, 40, 75]], columns=['latency_ms', 'cpu_usage_pct', 'memory_usage_pct', 'memory_allocated', 'cpu_allocated'])\n",
        "sample_scaled = x_scaler.transform(sample)\n",
        "predicted_scaled = final_svr.predict(sample_scaled)\n",
        "predicted = y_scaler.inverse_transform(predicted_scaled)\n",
        "\n",
        "print(f\"\\nSample Input: {sample.to_dict(orient='records')[0]}\")\n",
        "print(f\"Predicted CPU, Memory Usage: CPU={predicted[0][0]:.3f}, Memory={predicted[0][1]:.2f}\")\n"
      ]
    },
    {
      "cell_type": "markdown",
      "source": [
        "# Service 2"
      ],
      "metadata": {
        "id": "uw1st0xZink2"
      }
    },
    {
      "cell_type": "code",
      "source": [
        "import pandas as pd\n",
        "import numpy as np\n",
        "from sklearn.svm import SVR\n",
        "from sklearn.preprocessing import StandardScaler\n",
        "from sklearn.model_selection import train_test_split\n",
        "from sklearn.multioutput import MultiOutputRegressor\n",
        "from sklearn.metrics import mean_squared_error\n",
        "import optuna\n",
        "from optuna.samplers import TPESampler\n",
        "\n",
        "# Load dataset\n",
        "df = pd.read_csv(\"Service2.csv\")\n",
        "\n",
        "# Input and output\n",
        "X = df[['latency_ms', 'cpu_usage_pct', 'memory_usage_pct', 'memory_allocated', 'cpu_allocated']]\n",
        "y = df[['cpu_usage_pct', 'memory_usage_pct']]\n",
        "\n",
        "# Split: 70% train, 15% val, 15% test\n",
        "X_train_full, X_temp, y_train_full, y_temp = train_test_split(X, y, test_size=0.3, random_state=42)\n",
        "X_val, X_test, y_val, y_test = train_test_split(X_temp, y_temp, test_size=0.5, random_state=42)\n",
        "\n",
        "# Scale features\n",
        "x_scaler = StandardScaler()\n",
        "y_scaler = StandardScaler()\n",
        "\n",
        "X_train_scaled = x_scaler.fit_transform(X_train_full)\n",
        "X_val_scaled = x_scaler.transform(X_val)\n",
        "X_test_scaled = x_scaler.transform(X_test)\n",
        "\n",
        "y_train_scaled = y_scaler.fit_transform(y_train_full)\n",
        "y_val_scaled = y_scaler.transform(y_val)\n",
        "\n",
        "# Objective for Optuna\n",
        "def objective(trial):\n",
        "    C = trial.suggest_float('C', 0.1, 100.0, log=True)\n",
        "    epsilon = trial.suggest_float('epsilon', 0.001, 1.0, log=True)\n",
        "    gamma = trial.suggest_categorical('gamma', ['scale', 'auto'])\n",
        "\n",
        "    svr_model = MultiOutputRegressor(SVR(C=C, epsilon=epsilon, gamma=gamma))\n",
        "    svr_model.fit(X_train_scaled, y_train_scaled)\n",
        "    preds_scaled = svr_model.predict(X_val_scaled)\n",
        "    mse = mean_squared_error(y_val_scaled, preds_scaled)\n",
        "    return mse\n",
        "\n",
        "# Run optimization\n",
        "study = optuna.create_study(direction=\"minimize\", sampler=TPESampler())\n",
        "study.optimize(objective, n_trials=30)\n",
        "\n",
        "# Best model training\n",
        "best_params = study.best_params\n",
        "print(\"Best Parameters:\", best_params)\n",
        "\n",
        "final_svr = MultiOutputRegressor(SVR(**best_params))\n",
        "final_svr.fit(np.vstack([X_train_scaled, X_val_scaled]), np.vstack([y_train_scaled, y_val_scaled]))\n",
        "\n",
        "# Test set evaluation\n",
        "y_test_scaled = y_scaler.transform(y_test)\n",
        "preds_scaled = final_svr.predict(X_test_scaled)\n",
        "preds = y_scaler.inverse_transform(preds_scaled)\n",
        "\n",
        "mse = mean_squared_error(y_test, preds)\n",
        "rmse = np.sqrt(mse)\n",
        "print(f\"\\nTest MSE: {mse:.4f}\")\n",
        "print(f\"Test RMSE: {rmse:.4f}\")\n",
        "\n",
        "# Sample prediction\n",
        "sample = pd.DataFrame([[300, 0.25, 500, 40, 75]], columns=['latency_ms', 'cpu_usage_pct', 'memory_usage_pct', 'memory_allocated', 'cpu_allocated'])\n",
        "sample_scaled = x_scaler.transform(sample)\n",
        "predicted_scaled = final_svr.predict(sample_scaled)\n",
        "predicted = y_scaler.inverse_transform(predicted_scaled)\n",
        "\n",
        "print(f\"\\nSample Input: {sample.to_dict(orient='records')[0]}\")\n",
        "print(f\"Predicted CPU, Memory Usage: CPU={predicted[0][0]:.3f}, Memory={predicted[0][1]:.2f}\")\n"
      ],
      "metadata": {
        "colab": {
          "base_uri": "https://localhost:8080/"
        },
        "id": "yG1fIPEQipyx",
        "outputId": "8059059c-7840-4e44-eff9-e031aef2ac60"
      },
      "execution_count": 5,
      "outputs": [
        {
          "output_type": "stream",
          "name": "stderr",
          "text": [
            "[I 2025-05-05 08:23:21,134] A new study created in memory with name: no-name-1258cd65-d33d-4a0b-870a-5c23921f93ad\n",
            "[I 2025-05-05 08:23:23,275] Trial 0 finished with value: 5.538862979324415e-06 and parameters: {'C': 0.349671391422002, 'epsilon': 0.0021487980211985502, 'gamma': 'auto'}. Best is trial 0 with value: 5.538862979324415e-06.\n",
            "[I 2025-05-05 08:23:24,173] Trial 1 finished with value: 1.2524821332833983e-05 and parameters: {'C': 0.6168715492102821, 'epsilon': 0.005581518409362696, 'gamma': 'auto'}. Best is trial 0 with value: 5.538862979324415e-06.\n",
            "[I 2025-05-05 08:23:24,246] Trial 2 finished with value: 0.0007188775571164345 and parameters: {'C': 63.90834263133836, 'epsilon': 0.05543265310194885, 'gamma': 'scale'}. Best is trial 0 with value: 5.538862979324415e-06.\n",
            "[I 2025-05-05 08:23:24,271] Trial 3 finished with value: 0.10155186015794056 and parameters: {'C': 1.2617646449171522, 'epsilon': 0.3997272770721158, 'gamma': 'scale'}. Best is trial 0 with value: 5.538862979324415e-06.\n",
            "[I 2025-05-05 08:23:24,430] Trial 4 finished with value: 0.0002388372368083036 and parameters: {'C': 12.866828676097915, 'epsilon': 0.027281994373592463, 'gamma': 'auto'}. Best is trial 0 with value: 5.538862979324415e-06.\n",
            "[I 2025-05-05 08:23:24,890] Trial 5 finished with value: 3.114896930120478e-05 and parameters: {'C': 12.472303267692778, 'epsilon': 0.010099845538845307, 'gamma': 'scale'}. Best is trial 0 with value: 5.538862979324415e-06.\n",
            "[I 2025-05-05 08:23:24,913] Trial 6 finished with value: 0.29081342651848174 and parameters: {'C': 10.242470973949127, 'epsilon': 0.6465116971837735, 'gamma': 'auto'}. Best is trial 0 with value: 5.538862979324415e-06.\n",
            "[I 2025-05-05 08:23:26,910] Trial 7 finished with value: 2.706316681023048e-05 and parameters: {'C': 0.11274539768714385, 'epsilon': 0.003204789410172486, 'gamma': 'auto'}. Best is trial 0 with value: 5.538862979324415e-06.\n",
            "[I 2025-05-05 08:23:27,006] Trial 8 finished with value: 0.008989641074149545 and parameters: {'C': 0.29861710022662846, 'epsilon': 0.1466907655920005, 'gamma': 'scale'}. Best is trial 0 with value: 5.538862979324415e-06.\n",
            "[I 2025-05-05 08:23:27,549] Trial 9 finished with value: 9.07946024170798e-05 and parameters: {'C': 1.0202524229409407, 'epsilon': 0.016569772713639935, 'gamma': 'scale'}. Best is trial 0 with value: 5.538862979324415e-06.\n",
            "[I 2025-05-05 08:23:32,226] Trial 10 finished with value: 1.2179172056055699e-05 and parameters: {'C': 0.18110741382623302, 'epsilon': 0.0010146770697296718, 'gamma': 'auto'}. Best is trial 0 with value: 5.538862979324415e-06.\n",
            "[I 2025-05-05 08:23:36,048] Trial 11 finished with value: 8.522021003542912e-06 and parameters: {'C': 0.2206667518306451, 'epsilon': 0.0010209640810320963, 'gamma': 'auto'}. Best is trial 0 with value: 5.538862979324415e-06.\n",
            "[I 2025-05-05 08:23:39,164] Trial 12 finished with value: 1.2160437870862716e-06 and parameters: {'C': 3.0240332833621975, 'epsilon': 0.001522218856213878, 'gamma': 'auto'}. Best is trial 12 with value: 1.2160437870862716e-06.\n",
            "[I 2025-05-05 08:23:42,333] Trial 13 finished with value: 2.0461134689615737e-06 and parameters: {'C': 3.031575749130538, 'epsilon': 0.002319017645436732, 'gamma': 'auto'}. Best is trial 12 with value: 1.2160437870862716e-06.\n",
            "[I 2025-05-05 08:23:43,222] Trial 14 finished with value: 1.0496584162265021e-05 and parameters: {'C': 4.06446899111056, 'epsilon': 0.0055827404455843395, 'gamma': 'auto'}. Best is trial 12 with value: 1.2160437870862716e-06.\n",
            "[I 2025-05-05 08:23:45,393] Trial 15 finished with value: 2.145656384620497e-06 and parameters: {'C': 2.495217624338921, 'epsilon': 0.0021751655838129695, 'gamma': 'auto'}. Best is trial 12 with value: 1.2160437870862716e-06.\n",
            "[I 2025-05-05 08:23:45,457] Trial 16 finished with value: 0.0020290345642336896 and parameters: {'C': 5.1392958829886695, 'epsilon': 0.08700165213470576, 'gamma': 'auto'}. Best is trial 12 with value: 1.2160437870862716e-06.\n",
            "[I 2025-05-05 08:23:46,037] Trial 17 finished with value: 2.3204895239142885e-05 and parameters: {'C': 68.61842338057019, 'epsilon': 0.008661411943428548, 'gamma': 'auto'}. Best is trial 12 with value: 1.2160437870862716e-06.\n",
            "[I 2025-05-05 08:23:47,923] Trial 18 finished with value: 3.2425596960938474e-06 and parameters: {'C': 29.466051202107426, 'epsilon': 0.002973089225562963, 'gamma': 'auto'}. Best is trial 12 with value: 1.2160437870862716e-06.\n",
            "[I 2025-05-05 08:23:48,125] Trial 19 finished with value: 0.00014530174478504586 and parameters: {'C': 2.0877625747186164, 'epsilon': 0.02108651222091975, 'gamma': 'auto'}. Best is trial 12 with value: 1.2160437870862716e-06.\n",
            "[I 2025-05-05 08:23:50,746] Trial 20 finished with value: 1.1162062437168079e-06 and parameters: {'C': 6.695130899041403, 'epsilon': 0.0017774319917068877, 'gamma': 'auto'}. Best is trial 20 with value: 1.1162062437168079e-06.\n",
            "[I 2025-05-05 08:23:54,683] Trial 21 finished with value: 9.24284195050063e-07 and parameters: {'C': 6.817025921185859, 'epsilon': 0.0015165961969546254, 'gamma': 'auto'}. Best is trial 21 with value: 9.24284195050063e-07.\n",
            "[I 2025-05-05 08:23:58,502] Trial 22 finished with value: 7.064134759330669e-07 and parameters: {'C': 6.862081288940765, 'epsilon': 0.0012428357272889436, 'gamma': 'auto'}. Best is trial 22 with value: 7.064134759330669e-07.\n",
            "[I 2025-05-05 08:23:59,515] Trial 23 finished with value: 9.13198739525364e-06 and parameters: {'C': 7.457329093678047, 'epsilon': 0.005334193557974629, 'gamma': 'auto'}. Best is trial 22 with value: 7.064134759330669e-07.\n",
            "[I 2025-05-05 08:24:02,938] Trial 24 finished with value: 7.213524892549261e-07 and parameters: {'C': 24.210853878792946, 'epsilon': 0.001496195986004545, 'gamma': 'auto'}. Best is trial 22 with value: 7.064134759330669e-07.\n",
            "[I 2025-05-05 08:24:04,241] Trial 25 finished with value: 5.548777444387718e-06 and parameters: {'C': 27.413456641868635, 'epsilon': 0.004056300556327402, 'gamma': 'auto'}. Best is trial 22 with value: 7.064134759330669e-07.\n",
            "[I 2025-05-05 08:24:04,838] Trial 26 finished with value: 2.8668534391171922e-05 and parameters: {'C': 22.614743759208146, 'epsilon': 0.009577657875257752, 'gamma': 'scale'}. Best is trial 22 with value: 7.064134759330669e-07.\n",
            "[I 2025-05-05 08:24:10,671] Trial 27 finished with value: 3.57817765084164e-07 and parameters: {'C': 41.82060837827947, 'epsilon': 0.0010164043253329798, 'gamma': 'auto'}. Best is trial 27 with value: 3.57817765084164e-07.\n",
            "[I 2025-05-05 08:24:15,463] Trial 28 finished with value: 3.6952833441715377e-07 and parameters: {'C': 99.6720340234833, 'epsilon': 0.0011023524846429358, 'gamma': 'auto'}. Best is trial 27 with value: 3.57817765084164e-07.\n",
            "[I 2025-05-05 08:24:21,540] Trial 29 finished with value: 3.766236356943615e-07 and parameters: {'C': 81.54877801535574, 'epsilon': 0.0010207328471882905, 'gamma': 'auto'}. Best is trial 27 with value: 3.57817765084164e-07.\n"
          ]
        },
        {
          "output_type": "stream",
          "name": "stdout",
          "text": [
            "Best Parameters: {'C': 41.82060837827947, 'epsilon': 0.0010164043253329798, 'gamma': 'auto'}\n",
            "\n",
            "Test MSE: 0.0004\n",
            "Test RMSE: 0.0206\n",
            "\n",
            "Sample Input: {'latency_ms': 300, 'cpu_usage_pct': 0.25, 'memory_usage_pct': 500, 'memory_allocated': 40, 'cpu_allocated': 75}\n",
            "Predicted CPU, Memory Usage: CPU=64.748, Memory=29.61\n"
          ]
        }
      ]
    }
  ]
}