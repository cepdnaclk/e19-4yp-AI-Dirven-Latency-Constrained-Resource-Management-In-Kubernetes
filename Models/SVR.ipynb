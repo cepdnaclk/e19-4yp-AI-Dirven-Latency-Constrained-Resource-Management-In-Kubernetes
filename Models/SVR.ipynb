{
  "nbformat": 4,
  "nbformat_minor": 0,
  "metadata": {
    "colab": {
      "provenance": []
    },
    "kernelspec": {
      "name": "python3",
      "display_name": "Python 3"
    },
    "language_info": {
      "name": "python"
    }
  },
  "cells": [
    {
      "cell_type": "code",
      "source": [
        "!pip install optuna"
      ],
      "metadata": {
        "colab": {
          "base_uri": "https://localhost:8080/"
        },
        "id": "Zxi9_URN-7un",
        "outputId": "c33d780b-491d-4659-a1cb-2099a9a24aca"
      },
      "execution_count": 1,
      "outputs": [
        {
          "output_type": "stream",
          "name": "stdout",
          "text": [
            "Collecting optuna\n",
            "  Downloading optuna-4.3.0-py3-none-any.whl.metadata (17 kB)\n",
            "Collecting alembic>=1.5.0 (from optuna)\n",
            "  Downloading alembic-1.15.2-py3-none-any.whl.metadata (7.3 kB)\n",
            "Collecting colorlog (from optuna)\n",
            "  Downloading colorlog-6.9.0-py3-none-any.whl.metadata (10 kB)\n",
            "Requirement already satisfied: numpy in /usr/local/lib/python3.11/dist-packages (from optuna) (2.0.2)\n",
            "Requirement already satisfied: packaging>=20.0 in /usr/local/lib/python3.11/dist-packages (from optuna) (24.2)\n",
            "Requirement already satisfied: sqlalchemy>=1.4.2 in /usr/local/lib/python3.11/dist-packages (from optuna) (2.0.40)\n",
            "Requirement already satisfied: tqdm in /usr/local/lib/python3.11/dist-packages (from optuna) (4.67.1)\n",
            "Requirement already satisfied: PyYAML in /usr/local/lib/python3.11/dist-packages (from optuna) (6.0.2)\n",
            "Requirement already satisfied: Mako in /usr/lib/python3/dist-packages (from alembic>=1.5.0->optuna) (1.1.3)\n",
            "Requirement already satisfied: typing-extensions>=4.12 in /usr/local/lib/python3.11/dist-packages (from alembic>=1.5.0->optuna) (4.13.2)\n",
            "Requirement already satisfied: greenlet>=1 in /usr/local/lib/python3.11/dist-packages (from sqlalchemy>=1.4.2->optuna) (3.2.1)\n",
            "Downloading optuna-4.3.0-py3-none-any.whl (386 kB)\n",
            "\u001b[2K   \u001b[90m━━━━━━━━━━━━━━━━━━━━━━━━━━━━━━━━━━━━━━━━\u001b[0m \u001b[32m386.6/386.6 kB\u001b[0m \u001b[31m8.6 MB/s\u001b[0m eta \u001b[36m0:00:00\u001b[0m\n",
            "\u001b[?25hDownloading alembic-1.15.2-py3-none-any.whl (231 kB)\n",
            "\u001b[2K   \u001b[90m━━━━━━━━━━━━━━━━━━━━━━━━━━━━━━━━━━━━━━━━\u001b[0m \u001b[32m231.9/231.9 kB\u001b[0m \u001b[31m13.2 MB/s\u001b[0m eta \u001b[36m0:00:00\u001b[0m\n",
            "\u001b[?25hDownloading colorlog-6.9.0-py3-none-any.whl (11 kB)\n",
            "Installing collected packages: colorlog, alembic, optuna\n",
            "Successfully installed alembic-1.15.2 colorlog-6.9.0 optuna-4.3.0\n"
          ]
        }
      ]
    },
    {
      "cell_type": "markdown",
      "source": [
        "# Service 1"
      ],
      "metadata": {
        "id": "OStao0t5-zRP"
      }
    },
    {
      "cell_type": "code",
      "execution_count": 3,
      "metadata": {
        "colab": {
          "base_uri": "https://localhost:8080/"
        },
        "id": "Tq6OS3QK-lA5",
        "outputId": "fcd7432d-1419-4ff5-d06a-a84fe65e30c9"
      },
      "outputs": [
        {
          "output_type": "stream",
          "name": "stderr",
          "text": [
            "[I 2025-05-06 02:31:14,266] A new study created in memory with name: no-name-cb112c3c-5833-43bb-a11b-fdc145191c90\n",
            "[I 2025-05-06 02:31:14,500] Trial 0 finished with value: 0.0002029186391792377 and parameters: {'C': 0.5108763282765465, 'epsilon': 0.023353867569914557, 'gamma': 'auto'}. Best is trial 0 with value: 0.0002029186391792377.\n",
            "[I 2025-05-06 02:31:14,565] Trial 1 finished with value: 0.0014311850719127461 and parameters: {'C': 5.661161849590573, 'epsilon': 0.0766579530696944, 'gamma': 'auto'}. Best is trial 0 with value: 0.0002029186391792377.\n",
            "[I 2025-05-06 02:31:14,810] Trial 2 finished with value: 0.00011395844676320813 and parameters: {'C': 35.220707224831195, 'epsilon': 0.018794008738479095, 'gamma': 'scale'}. Best is trial 2 with value: 0.00011395844676320813.\n",
            "[I 2025-05-06 02:31:15,042] Trial 3 finished with value: 0.00019351977357871832 and parameters: {'C': 0.40526885973456567, 'epsilon': 0.022587501975572112, 'gamma': 'scale'}. Best is trial 2 with value: 0.00011395844676320813.\n",
            "[I 2025-05-06 02:31:15,066] Trial 4 finished with value: 0.09022485911384327 and parameters: {'C': 0.6667308960070676, 'epsilon': 0.3748873626974003, 'gamma': 'auto'}. Best is trial 2 with value: 0.00011395844676320813.\n",
            "[I 2025-05-06 02:31:15,104] Trial 5 finished with value: 0.016819872780912366 and parameters: {'C': 0.40660979130800584, 'epsilon': 0.19427994117096617, 'gamma': 'auto'}. Best is trial 2 with value: 0.00011395844676320813.\n",
            "[I 2025-05-06 02:31:18,304] Trial 6 finished with value: 1.4005219945671994e-06 and parameters: {'C': 67.94174985639906, 'epsilon': 0.0016171951584695791, 'gamma': 'auto'}. Best is trial 6 with value: 1.4005219945671994e-06.\n",
            "[I 2025-05-06 02:31:18,328] Trial 7 finished with value: 0.4618486573853676 and parameters: {'C': 0.8566688912085498, 'epsilon': 0.8005978110752962, 'gamma': 'auto'}. Best is trial 6 with value: 1.4005219945671994e-06.\n",
            "[I 2025-05-06 02:31:18,353] Trial 8 finished with value: 0.37570471597103716 and parameters: {'C': 1.0298647511059555, 'epsilon': 0.7265048437285023, 'gamma': 'scale'}. Best is trial 6 with value: 1.4005219945671994e-06.\n",
            "[I 2025-05-06 02:31:21,072] Trial 9 finished with value: 2.001924269785591e-06 and parameters: {'C': 5.09945231103292, 'epsilon': 0.001851868575019876, 'gamma': 'scale'}. Best is trial 6 with value: 1.4005219945671994e-06.\n",
            "[I 2025-05-06 02:31:24,956] Trial 10 finished with value: 1.7525063370901228e-06 and parameters: {'C': 64.6868862563578, 'epsilon': 0.0019027793045704195, 'gamma': 'auto'}. Best is trial 6 with value: 1.4005219945671994e-06.\n",
            "[I 2025-05-06 02:31:30,117] Trial 11 finished with value: 6.65448144497559e-07 and parameters: {'C': 80.80861870065583, 'epsilon': 0.001136813238406301, 'gamma': 'auto'}. Best is trial 11 with value: 6.65448144497559e-07.\n",
            "[I 2025-05-06 02:31:31,301] Trial 12 finished with value: 1.0997644979593473e-05 and parameters: {'C': 20.650661217733205, 'epsilon': 0.005306482226229422, 'gamma': 'auto'}. Best is trial 11 with value: 6.65448144497559e-07.\n",
            "[I 2025-05-06 02:31:32,268] Trial 13 finished with value: 1.3459427333823375e-05 and parameters: {'C': 12.884278021798584, 'epsilon': 0.00594543572114283, 'gamma': 'auto'}. Best is trial 11 with value: 6.65448144497559e-07.\n",
            "[I 2025-05-06 02:31:38,830] Trial 14 finished with value: 6.843165812859529e-07 and parameters: {'C': 97.93511906026373, 'epsilon': 0.0011772507335140459, 'gamma': 'auto'}. Best is trial 11 with value: 6.65448144497559e-07.\n",
            "[I 2025-05-06 02:31:39,760] Trial 15 finished with value: 1.4263875874427815e-05 and parameters: {'C': 83.0336614191329, 'epsilon': 0.006184224428252463, 'gamma': 'auto'}. Best is trial 11 with value: 6.65448144497559e-07.\n",
            "[I 2025-05-06 02:31:44,035] Trial 16 finished with value: 7.744733188128449e-07 and parameters: {'C': 15.254823733722406, 'epsilon': 0.001161939994931824, 'gamma': 'auto'}. Best is trial 11 with value: 6.65448144497559e-07.\n",
            "[I 2025-05-06 02:31:45,475] Trial 17 finished with value: 6.021964803636806e-06 and parameters: {'C': 2.5073065690012113, 'epsilon': 0.0036176996587721625, 'gamma': 'auto'}. Best is trial 11 with value: 6.65448144497559e-07.\n",
            "[I 2025-05-06 02:31:45,931] Trial 18 finished with value: 3.715979852993169e-05 and parameters: {'C': 31.382625353143556, 'epsilon': 0.010837789002501656, 'gamma': 'scale'}. Best is trial 11 with value: 6.65448144497559e-07.\n",
            "[I 2025-05-06 02:31:46,049] Trial 19 finished with value: 0.001023486698308545 and parameters: {'C': 0.21358441261276653, 'epsilon': 0.06075121390241747, 'gamma': 'auto'}. Best is trial 11 with value: 6.65448144497559e-07.\n",
            "[I 2025-05-06 02:31:51,549] Trial 20 finished with value: 6.844650574136699e-07 and parameters: {'C': 8.411932087114062, 'epsilon': 0.0010342814426297906, 'gamma': 'auto'}. Best is trial 11 with value: 6.65448144497559e-07.\n",
            "[I 2025-05-06 02:31:56,062] Trial 21 finished with value: 5.720990615837091e-07 and parameters: {'C': 94.98769196969427, 'epsilon': 0.0010845917123136078, 'gamma': 'auto'}. Best is trial 21 with value: 5.720990615837091e-07.\n",
            "[I 2025-05-06 02:31:58,063] Trial 22 finished with value: 3.6873409909801883e-06 and parameters: {'C': 40.76098823434995, 'epsilon': 0.002967705475238622, 'gamma': 'auto'}. Best is trial 21 with value: 5.720990615837091e-07.\n",
            "[I 2025-05-06 02:31:59,739] Trial 23 finished with value: 4.42044112480043e-06 and parameters: {'C': 93.09687290672991, 'epsilon': 0.003387868292461923, 'gamma': 'auto'}. Best is trial 21 with value: 5.720990615837091e-07.\n",
            "[I 2025-05-06 02:32:00,348] Trial 24 finished with value: 2.763253095696418e-05 and parameters: {'C': 44.702970732084566, 'epsilon': 0.009262235851913846, 'gamma': 'auto'}. Best is trial 21 with value: 5.720990615837091e-07.\n",
            "[I 2025-05-06 02:32:03,161] Trial 25 finished with value: 2.8946291718259387e-06 and parameters: {'C': 22.744483912376985, 'epsilon': 0.0024972907750850253, 'gamma': 'auto'}. Best is trial 21 with value: 5.720990615837091e-07.\n",
            "[I 2025-05-06 02:32:08,475] Trial 26 finished with value: 6.568909967700621e-07 and parameters: {'C': 95.11435397227233, 'epsilon': 0.001047165999090766, 'gamma': 'scale'}. Best is trial 21 with value: 5.720990615837091e-07.\n",
            "[I 2025-05-06 02:32:09,174] Trial 27 finished with value: 0.00010781104331262024 and parameters: {'C': 0.10139493035175978, 'epsilon': 0.01054625982469856, 'gamma': 'scale'}. Best is trial 21 with value: 5.720990615837091e-07.\n",
            "[I 2025-05-06 02:32:12,315] Trial 28 finished with value: 1.6983150542729768e-06 and parameters: {'C': 51.37243447752046, 'epsilon': 0.00180620233663451, 'gamma': 'scale'}. Best is trial 21 with value: 5.720990615837091e-07.\n",
            "[I 2025-05-06 02:32:13,662] Trial 29 finished with value: 7.100892584184063e-06 and parameters: {'C': 1.5063494668260236, 'epsilon': 0.0037034266550530206, 'gamma': 'scale'}. Best is trial 21 with value: 5.720990615837091e-07.\n"
          ]
        },
        {
          "output_type": "stream",
          "name": "stdout",
          "text": [
            "Best Parameters: {'C': 94.98769196969427, 'epsilon': 0.0010845917123136078, 'gamma': 'auto'}\n",
            "\n",
            "Test MSE: 0.0004\n",
            "Test RMSE: 0.0209\n",
            "\n",
            "Sample Input: {'latency_ms': 300, 'cpu_usage_pct': 0.25, 'memory_usage_pct': 500, 'memory_allocated': 40, 'cpu_allocated': 75}\n",
            "Predicted CPU, Memory Usage: CPU=63.791, Memory=29.73\n"
          ]
        }
      ],
      "source": [
        "import pandas as pd\n",
        "import numpy as np\n",
        "from sklearn.svm import SVR\n",
        "from sklearn.preprocessing import StandardScaler\n",
        "from sklearn.model_selection import train_test_split\n",
        "from sklearn.multioutput import MultiOutputRegressor\n",
        "from sklearn.metrics import mean_squared_error\n",
        "import optuna\n",
        "from optuna.samplers import TPESampler\n",
        "\n",
        "# Load dataset\n",
        "df = pd.read_csv(\"Service1.csv\")\n",
        "\n",
        "# Input and output\n",
        "X = df[['latency_ms', 'cpu_usage_pct', 'memory_usage_pct', 'memory_allocated', 'cpu_allocated']]\n",
        "y = df[['cpu_usage_pct', 'memory_usage_pct']]\n",
        "\n",
        "# Split: 70% train, 15% val, 15% test\n",
        "X_train_full, X_temp, y_train_full, y_temp = train_test_split(X, y, test_size=0.3, random_state=42)\n",
        "X_val, X_test, y_val, y_test = train_test_split(X_temp, y_temp, test_size=0.5, random_state=42)\n",
        "\n",
        "# Scale features\n",
        "x_scaler = StandardScaler()\n",
        "y_scaler = StandardScaler()\n",
        "\n",
        "X_train_scaled = x_scaler.fit_transform(X_train_full)\n",
        "X_val_scaled = x_scaler.transform(X_val)\n",
        "X_test_scaled = x_scaler.transform(X_test)\n",
        "\n",
        "y_train_scaled = y_scaler.fit_transform(y_train_full)\n",
        "y_val_scaled = y_scaler.transform(y_val)\n",
        "\n",
        "# Objective for Optuna\n",
        "def objective(trial):\n",
        "    C = trial.suggest_float('C', 0.1, 100.0, log=True)\n",
        "    epsilon = trial.suggest_float('epsilon', 0.001, 1.0, log=True)\n",
        "    gamma = trial.suggest_categorical('gamma', ['scale', 'auto'])\n",
        "\n",
        "    svr_model = MultiOutputRegressor(SVR(C=C, epsilon=epsilon, gamma=gamma))\n",
        "    svr_model.fit(X_train_scaled, y_train_scaled)\n",
        "    preds_scaled = svr_model.predict(X_val_scaled)\n",
        "    mse = mean_squared_error(y_val_scaled, preds_scaled)\n",
        "    return mse\n",
        "\n",
        "# Run optimization\n",
        "study = optuna.create_study(direction=\"minimize\", sampler=TPESampler())\n",
        "study.optimize(objective, n_trials=30)\n",
        "\n",
        "# Best model training\n",
        "best_params = study.best_params\n",
        "print(\"Best Parameters:\", best_params)\n",
        "\n",
        "final_svr = MultiOutputRegressor(SVR(**best_params))\n",
        "final_svr.fit(np.vstack([X_train_scaled, X_val_scaled]), np.vstack([y_train_scaled, y_val_scaled]))\n",
        "\n",
        "# Test set evaluation\n",
        "y_test_scaled = y_scaler.transform(y_test)\n",
        "preds_scaled = final_svr.predict(X_test_scaled)\n",
        "preds = y_scaler.inverse_transform(preds_scaled)\n",
        "\n",
        "mse = mean_squared_error(y_test, preds)\n",
        "rmse = np.sqrt(mse)\n",
        "print(f\"\\nTest MSE: {mse:.4f}\")\n",
        "print(f\"Test RMSE: {rmse:.4f}\")\n",
        "\n",
        "# Sample prediction\n",
        "sample = pd.DataFrame([[300, 0.25, 500, 40, 75]], columns=['latency_ms', 'cpu_usage_pct', 'memory_usage_pct', 'memory_allocated', 'cpu_allocated'])\n",
        "sample_scaled = x_scaler.transform(sample)\n",
        "predicted_scaled = final_svr.predict(sample_scaled)\n",
        "predicted = y_scaler.inverse_transform(predicted_scaled)\n",
        "\n",
        "print(f\"\\nSample Input: {sample.to_dict(orient='records')[0]}\")\n",
        "print(f\"Predicted CPU, Memory Usage: CPU={predicted[0][0]:.3f}, Memory={predicted[0][1]:.2f}\")\n"
      ]
    },
    {
      "cell_type": "code",
      "source": [
        "from sklearn.metrics import mean_absolute_error\n",
        "\n",
        "mae = mean_absolute_error(y_test, preds)\n",
        "print(f\"Test MAE: {mae:.4f}\")\n"
      ],
      "metadata": {
        "colab": {
          "base_uri": "https://localhost:8080/"
        },
        "id": "6T2F6fdBbGJA",
        "outputId": "ee5da29c-0ecc-4edf-b7b2-c0bd9fd2fda5"
      },
      "execution_count": 4,
      "outputs": [
        {
          "output_type": "stream",
          "name": "stdout",
          "text": [
            "Test MAE: 0.0172\n"
          ]
        }
      ]
    },
    {
      "cell_type": "markdown",
      "source": [
        "# Service 2"
      ],
      "metadata": {
        "id": "uw1st0xZink2"
      }
    },
    {
      "cell_type": "code",
      "source": [
        "import pandas as pd\n",
        "import numpy as np\n",
        "from sklearn.svm import SVR\n",
        "from sklearn.preprocessing import StandardScaler\n",
        "from sklearn.model_selection import train_test_split\n",
        "from sklearn.multioutput import MultiOutputRegressor\n",
        "from sklearn.metrics import mean_squared_error\n",
        "import optuna\n",
        "from optuna.samplers import TPESampler\n",
        "\n",
        "# Load dataset\n",
        "df = pd.read_csv(\"Service2.csv\")\n",
        "\n",
        "# Input and output\n",
        "X = df[['latency_ms', 'cpu_usage_pct', 'memory_usage_pct', 'memory_allocated', 'cpu_allocated']]\n",
        "y = df[['cpu_usage_pct', 'memory_usage_pct']]\n",
        "\n",
        "# Split: 70% train, 15% val, 15% test\n",
        "X_train_full, X_temp, y_train_full, y_temp = train_test_split(X, y, test_size=0.3, random_state=42)\n",
        "X_val, X_test, y_val, y_test = train_test_split(X_temp, y_temp, test_size=0.5, random_state=42)\n",
        "\n",
        "# Scale features\n",
        "x_scaler = StandardScaler()\n",
        "y_scaler = StandardScaler()\n",
        "\n",
        "X_train_scaled = x_scaler.fit_transform(X_train_full)\n",
        "X_val_scaled = x_scaler.transform(X_val)\n",
        "X_test_scaled = x_scaler.transform(X_test)\n",
        "\n",
        "y_train_scaled = y_scaler.fit_transform(y_train_full)\n",
        "y_val_scaled = y_scaler.transform(y_val)\n",
        "\n",
        "# Objective for Optuna\n",
        "def objective(trial):\n",
        "    C = trial.suggest_float('C', 0.1, 100.0, log=True)\n",
        "    epsilon = trial.suggest_float('epsilon', 0.001, 1.0, log=True)\n",
        "    gamma = trial.suggest_categorical('gamma', ['scale', 'auto'])\n",
        "\n",
        "    svr_model = MultiOutputRegressor(SVR(C=C, epsilon=epsilon, gamma=gamma))\n",
        "    svr_model.fit(X_train_scaled, y_train_scaled)\n",
        "    preds_scaled = svr_model.predict(X_val_scaled)\n",
        "    mse = mean_squared_error(y_val_scaled, preds_scaled)\n",
        "    return mse\n",
        "\n",
        "# Run optimization\n",
        "study = optuna.create_study(direction=\"minimize\", sampler=TPESampler())\n",
        "study.optimize(objective, n_trials=30)\n",
        "\n",
        "# Best model training\n",
        "best_params = study.best_params\n",
        "print(\"Best Parameters:\", best_params)\n",
        "\n",
        "final_svr = MultiOutputRegressor(SVR(**best_params))\n",
        "final_svr.fit(np.vstack([X_train_scaled, X_val_scaled]), np.vstack([y_train_scaled, y_val_scaled]))\n",
        "\n",
        "# Test set evaluation\n",
        "y_test_scaled = y_scaler.transform(y_test)\n",
        "preds_scaled = final_svr.predict(X_test_scaled)\n",
        "preds = y_scaler.inverse_transform(preds_scaled)\n",
        "\n",
        "mse = mean_squared_error(y_test, preds)\n",
        "rmse = np.sqrt(mse)\n",
        "print(f\"\\nTest MSE: {mse:.4f}\")\n",
        "print(f\"Test RMSE: {rmse:.4f}\")\n",
        "\n",
        "# Sample prediction\n",
        "sample = pd.DataFrame([[300, 0.25, 500, 40, 75]], columns=['latency_ms', 'cpu_usage_pct', 'memory_usage_pct', 'memory_allocated', 'cpu_allocated'])\n",
        "sample_scaled = x_scaler.transform(sample)\n",
        "predicted_scaled = final_svr.predict(sample_scaled)\n",
        "predicted = y_scaler.inverse_transform(predicted_scaled)\n",
        "\n",
        "print(f\"\\nSample Input: {sample.to_dict(orient='records')[0]}\")\n",
        "print(f\"Predicted CPU, Memory Usage: CPU={predicted[0][0]:.3f}, Memory={predicted[0][1]:.2f}\")\n"
      ],
      "metadata": {
        "colab": {
          "base_uri": "https://localhost:8080/"
        },
        "id": "yG1fIPEQipyx",
        "outputId": "d81770e5-0b9f-42d1-fec2-4a6872225142"
      },
      "execution_count": null,
      "outputs": [
        {
          "output_type": "stream",
          "name": "stderr",
          "text": [
            "[I 2025-05-06 02:34:05,195] A new study created in memory with name: no-name-435279eb-37d5-48aa-a48b-d16e328ad41c\n",
            "[I 2025-05-06 02:34:05,522] Trial 0 finished with value: 8.490895338060277e-05 and parameters: {'C': 0.5791849122906593, 'epsilon': 0.015826441593055664, 'gamma': 'auto'}. Best is trial 0 with value: 8.490895338060277e-05.\n",
            "[I 2025-05-06 02:34:06,999] Trial 1 finished with value: 5.272599469108338e-06 and parameters: {'C': 77.7838374435823, 'epsilon': 0.004119597625176744, 'gamma': 'auto'}. Best is trial 1 with value: 5.272599469108338e-06.\n",
            "[I 2025-05-06 02:34:07,025] Trial 2 finished with value: 0.12721323805035234 and parameters: {'C': 0.6915953408930543, 'epsilon': 0.44274502629887885, 'gamma': 'scale'}. Best is trial 1 with value: 5.272599469108338e-06.\n",
            "[I 2025-05-06 02:34:07,623] Trial 3 finished with value: 2.1663415831075603e-05 and parameters: {'C': 27.449714218141036, 'epsilon': 0.008369475408586494, 'gamma': 'auto'}. Best is trial 1 with value: 5.272599469108338e-06.\n",
            "[I 2025-05-06 02:34:07,692] Trial 4 finished with value: 0.010264001454025874 and parameters: {'C': 0.13346328009200772, 'epsilon': 0.1522822067053606, 'gamma': 'auto'}. Best is trial 1 with value: 5.272599469108338e-06.\n",
            "[I 2025-05-06 02:34:07,765] Trial 5 finished with value: 0.01656860735627341 and parameters: {'C': 0.10451231362970405, 'epsilon': 0.18528403956270761, 'gamma': 'scale'}. Best is trial 1 with value: 5.272599469108338e-06.\n",
            "[I 2025-05-06 02:34:07,801] Trial 6 finished with value: 0.017222178981306 and parameters: {'C': 1.7252037310305623, 'epsilon': 0.1897906330375866, 'gamma': 'auto'}. Best is trial 1 with value: 5.272599469108338e-06.\n",
            "[I 2025-05-06 02:34:07,853] Trial 7 finished with value: 0.012278016315590543 and parameters: {'C': 0.2330159692685542, 'epsilon': 0.16442657862594412, 'gamma': 'auto'}. Best is trial 1 with value: 5.272599469108338e-06.\n",
            "[I 2025-05-06 02:34:08,363] Trial 8 finished with value: 3.703574713257968e-05 and parameters: {'C': 0.7108399653080811, 'epsilon': 0.010174915519973132, 'gamma': 'scale'}. Best is trial 1 with value: 5.272599469108338e-06.\n",
            "[I 2025-05-06 02:34:08,395] Trial 9 finished with value: 0.04319731873254238 and parameters: {'C': 99.69154762031455, 'epsilon': 0.27826995444769564, 'gamma': 'auto'}. Best is trial 1 with value: 5.272599469108338e-06.\n",
            "[I 2025-05-06 02:34:12,046] Trial 10 finished with value: 7.009304563482602e-07 and parameters: {'C': 9.634986488157843, 'epsilon': 0.0012864312015692704, 'gamma': 'scale'}. Best is trial 10 with value: 7.009304563482602e-07.\n",
            "[I 2025-05-06 02:34:17,905] Trial 11 finished with value: 4.995328860202675e-07 and parameters: {'C': 10.377633596419486, 'epsilon': 0.0010350942341366273, 'gamma': 'scale'}. Best is trial 11 with value: 4.995328860202675e-07.\n",
            "[I 2025-05-06 02:34:22,008] Trial 12 finished with value: 3.7727804000370835e-07 and parameters: {'C': 8.793467936165003, 'epsilon': 0.0010254812906817146, 'gamma': 'scale'}. Best is trial 12 with value: 3.7727804000370835e-07.\n"
          ]
        }
      ]
    }
  ]
}