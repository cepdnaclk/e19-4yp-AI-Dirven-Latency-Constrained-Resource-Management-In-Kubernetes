{
  "nbformat": 4,
  "nbformat_minor": 0,
  "metadata": {
    "colab": {
      "provenance": []
    },
    "kernelspec": {
      "name": "python3",
      "display_name": "Python 3"
    },
    "language_info": {
      "name": "python"
    }
  },
  "cells": [
    {
      "cell_type": "code",
      "source": [
        "!pip install optuna"
      ],
      "metadata": {
        "colab": {
          "base_uri": "https://localhost:8080/"
        },
        "id": "Zxi9_URN-7un",
        "outputId": "e80206a4-8f14-4f12-ca33-10ddc21a8390"
      },
      "execution_count": 2,
      "outputs": [
        {
          "output_type": "stream",
          "name": "stdout",
          "text": [
            "Collecting optuna\n",
            "  Downloading optuna-4.3.0-py3-none-any.whl.metadata (17 kB)\n",
            "Collecting alembic>=1.5.0 (from optuna)\n",
            "  Downloading alembic-1.15.2-py3-none-any.whl.metadata (7.3 kB)\n",
            "Collecting colorlog (from optuna)\n",
            "  Downloading colorlog-6.9.0-py3-none-any.whl.metadata (10 kB)\n",
            "Requirement already satisfied: numpy in /usr/local/lib/python3.11/dist-packages (from optuna) (2.0.2)\n",
            "Requirement already satisfied: packaging>=20.0 in /usr/local/lib/python3.11/dist-packages (from optuna) (24.2)\n",
            "Requirement already satisfied: sqlalchemy>=1.4.2 in /usr/local/lib/python3.11/dist-packages (from optuna) (2.0.40)\n",
            "Requirement already satisfied: tqdm in /usr/local/lib/python3.11/dist-packages (from optuna) (4.67.1)\n",
            "Requirement already satisfied: PyYAML in /usr/local/lib/python3.11/dist-packages (from optuna) (6.0.2)\n",
            "Requirement already satisfied: Mako in /usr/lib/python3/dist-packages (from alembic>=1.5.0->optuna) (1.1.3)\n",
            "Requirement already satisfied: typing-extensions>=4.12 in /usr/local/lib/python3.11/dist-packages (from alembic>=1.5.0->optuna) (4.13.2)\n",
            "Requirement already satisfied: greenlet>=1 in /usr/local/lib/python3.11/dist-packages (from sqlalchemy>=1.4.2->optuna) (3.2.1)\n",
            "Downloading optuna-4.3.0-py3-none-any.whl (386 kB)\n",
            "\u001b[2K   \u001b[90m━━━━━━━━━━━━━━━━━━━━━━━━━━━━━━━━━━━━━━━━\u001b[0m \u001b[32m386.6/386.6 kB\u001b[0m \u001b[31m8.0 MB/s\u001b[0m eta \u001b[36m0:00:00\u001b[0m\n",
            "\u001b[?25hDownloading alembic-1.15.2-py3-none-any.whl (231 kB)\n",
            "\u001b[2K   \u001b[90m━━━━━━━━━━━━━━━━━━━━━━━━━━━━━━━━━━━━━━━━\u001b[0m \u001b[32m231.9/231.9 kB\u001b[0m \u001b[31m14.9 MB/s\u001b[0m eta \u001b[36m0:00:00\u001b[0m\n",
            "\u001b[?25hDownloading colorlog-6.9.0-py3-none-any.whl (11 kB)\n",
            "Installing collected packages: colorlog, alembic, optuna\n",
            "Successfully installed alembic-1.15.2 colorlog-6.9.0 optuna-4.3.0\n"
          ]
        }
      ]
    },
    {
      "cell_type": "markdown",
      "source": [
        "# Service 1"
      ],
      "metadata": {
        "id": "OStao0t5-zRP"
      }
    },
    {
      "cell_type": "code",
      "execution_count": 3,
      "metadata": {
        "colab": {
          "base_uri": "https://localhost:8080/"
        },
        "id": "Tq6OS3QK-lA5",
        "outputId": "81b27a8c-21f4-420d-9c5d-872a0685fc4e"
      },
      "outputs": [
        {
          "output_type": "stream",
          "name": "stderr",
          "text": [
            "[I 2025-05-05 05:47:14,088] A new study created in memory with name: no-name-b03b1599-827d-4191-88ef-6338c1f6329e\n",
            "[I 2025-05-05 05:47:26,877] Trial 0 finished with value: 0.010229546466552645 and parameters: {'C': 1.050170101231293, 'epsilon': 0.02685913346943676, 'gamma': 'scale'}. Best is trial 0 with value: 0.010229546466552645.\n",
            "[I 2025-05-05 05:47:36,121] Trial 1 finished with value: 0.01663855296687673 and parameters: {'C': 0.12985768446507892, 'epsilon': 0.004731901110444143, 'gamma': 'scale'}. Best is trial 0 with value: 0.010229546466552645.\n",
            "[I 2025-05-05 05:47:36,147] Trial 2 finished with value: 0.2537107519083336 and parameters: {'C': 0.18194925221233044, 'epsilon': 0.817641580774545, 'gamma': 'auto'}. Best is trial 0 with value: 0.010229546466552645.\n",
            "[I 2025-05-05 05:47:36,182] Trial 3 finished with value: 0.0647681212714494 and parameters: {'C': 3.1646360702756478, 'epsilon': 0.39910802837195825, 'gamma': 'auto'}. Best is trial 0 with value: 0.010229546466552645.\n",
            "[I 2025-05-05 05:47:42,420] Trial 4 finished with value: 0.008696416069188365 and parameters: {'C': 2.8110846763898047, 'epsilon': 0.011444699157594258, 'gamma': 'scale'}. Best is trial 4 with value: 0.008696416069188365.\n",
            "[I 2025-05-05 05:47:48,845] Trial 5 finished with value: 0.015728930415555842 and parameters: {'C': 0.16395914227713707, 'epsilon': 0.00397723349408102, 'gamma': 'scale'}. Best is trial 4 with value: 0.008696416069188365.\n",
            "[I 2025-05-05 05:47:51,533] Trial 6 finished with value: 0.016420339745805035 and parameters: {'C': 0.11552317634321746, 'epsilon': 0.04401559446045833, 'gamma': 'scale'}. Best is trial 4 with value: 0.008696416069188365.\n",
            "[I 2025-05-05 05:47:56,661] Trial 7 finished with value: 0.015363524977063316 and parameters: {'C': 0.18002054191755196, 'epsilon': 0.004115896723806744, 'gamma': 'auto'}. Best is trial 4 with value: 0.008696416069188365.\n",
            "[I 2025-05-05 05:47:56,985] Trial 8 finished with value: 0.019699050781331353 and parameters: {'C': 1.6036962768945555, 'epsilon': 0.258795415217537, 'gamma': 'scale'}. Best is trial 4 with value: 0.008696416069188365.\n",
            "[I 2025-05-05 05:48:01,366] Trial 9 finished with value: 0.011907052513946288 and parameters: {'C': 0.4527136753390391, 'epsilon': 0.03706757307816888, 'gamma': 'scale'}. Best is trial 4 with value: 0.008696416069188365.\n",
            "[I 2025-05-05 05:48:41,745] Trial 10 finished with value: 0.0061329081131730944 and parameters: {'C': 22.865220960421503, 'epsilon': 0.00108242436714283, 'gamma': 'auto'}. Best is trial 10 with value: 0.0061329081131730944.\n",
            "[I 2025-05-05 05:49:20,496] Trial 11 finished with value: 0.006089720615325171 and parameters: {'C': 24.258992364328417, 'epsilon': 0.0011218153950604808, 'gamma': 'auto'}. Best is trial 11 with value: 0.006089720615325171.\n",
            "[I 2025-05-05 05:50:07,337] Trial 12 finished with value: 0.005836598317243093 and parameters: {'C': 32.54008016137166, 'epsilon': 0.0010383458618880978, 'gamma': 'auto'}. Best is trial 12 with value: 0.005836598317243093.\n",
            "[I 2025-05-05 05:52:56,106] Trial 13 finished with value: 0.0050048762839458765 and parameters: {'C': 99.20974617483334, 'epsilon': 0.0013058873211503539, 'gamma': 'auto'}. Best is trial 13 with value: 0.0050048762839458765.\n",
            "[I 2025-05-05 05:54:31,066] Trial 14 finished with value: 0.005114627228889762 and parameters: {'C': 84.69465539477694, 'epsilon': 0.00200881119058234, 'gamma': 'auto'}. Best is trial 13 with value: 0.0050048762839458765.\n",
            "[I 2025-05-05 05:55:57,772] Trial 15 finished with value: 0.005000018580821591 and parameters: {'C': 97.70960299041255, 'epsilon': 0.0027316942587978614, 'gamma': 'auto'}. Best is trial 15 with value: 0.005000018580821591.\n",
            "[I 2025-05-05 05:56:42,127] Trial 16 finished with value: 0.005074179743117765 and parameters: {'C': 79.73946012598083, 'epsilon': 0.01049716742122834, 'gamma': 'auto'}. Best is trial 15 with value: 0.005000018580821591.\n",
            "[I 2025-05-05 05:56:44,555] Trial 17 finished with value: 0.007790400606969403 and parameters: {'C': 9.684575065390112, 'epsilon': 0.10185727669017312, 'gamma': 'auto'}. Best is trial 15 with value: 0.005000018580821591.\n",
            "[I 2025-05-05 05:56:56,447] Trial 18 finished with value: 0.006998482567501406 and parameters: {'C': 9.37543976214429, 'epsilon': 0.009744090817559349, 'gamma': 'auto'}. Best is trial 15 with value: 0.005000018580821591.\n",
            "[I 2025-05-05 05:57:55,344] Trial 19 finished with value: 0.005407413076496938 and parameters: {'C': 56.41127458690189, 'epsilon': 0.0024190023025083976, 'gamma': 'auto'}. Best is trial 15 with value: 0.005000018580821591.\n",
            "[I 2025-05-05 05:58:14,120] Trial 20 finished with value: 0.007068011315886772 and parameters: {'C': 9.731164361721135, 'epsilon': 0.002268444141241222, 'gamma': 'auto'}. Best is trial 15 with value: 0.005000018580821591.\n",
            "[I 2025-05-05 05:59:06,395] Trial 21 finished with value: 0.004926086885912654 and parameters: {'C': 98.08417931188832, 'epsilon': 0.010078409498812732, 'gamma': 'auto'}. Best is trial 21 with value: 0.004926086885912654.\n",
            "[I 2025-05-05 05:59:34,982] Trial 22 finished with value: 0.005760752628034596 and parameters: {'C': 35.83972486306578, 'epsilon': 0.006869362237646324, 'gamma': 'auto'}. Best is trial 21 with value: 0.004926086885912654.\n",
            "[I 2025-05-05 06:00:04,303] Trial 23 finished with value: 0.004907752226213446 and parameters: {'C': 92.3299622855522, 'epsilon': 0.018072910114645152, 'gamma': 'auto'}. Best is trial 23 with value: 0.004907752226213446.\n",
            "[I 2025-05-05 06:00:21,874] Trial 24 finished with value: 0.005352014373804665 and parameters: {'C': 49.058552835662496, 'epsilon': 0.023888334454345243, 'gamma': 'auto'}. Best is trial 23 with value: 0.004907752226213446.\n",
            "[I 2025-05-05 06:00:31,779] Trial 25 finished with value: 0.0063490990654965955 and parameters: {'C': 16.131386411890343, 'epsilon': 0.017402339355379447, 'gamma': 'auto'}. Best is trial 23 with value: 0.004907752226213446.\n",
            "[I 2025-05-05 06:00:42,620] Trial 26 finished with value: 0.005124219567520296 and parameters: {'C': 60.359627844665035, 'epsilon': 0.04747688157578614, 'gamma': 'auto'}. Best is trial 23 with value: 0.004907752226213446.\n",
            "[I 2025-05-05 06:00:47,965] Trial 27 finished with value: 0.00652089936512423 and parameters: {'C': 16.51097575985577, 'epsilon': 0.06727896254686468, 'gamma': 'auto'}. Best is trial 23 with value: 0.004907752226213446.\n",
            "[I 2025-05-05 06:00:54,774] Trial 28 finished with value: 0.007835523838142441 and parameters: {'C': 4.9672780674052195, 'epsilon': 0.015256121386900324, 'gamma': 'auto'}. Best is trial 23 with value: 0.004907752226213446.\n",
            "[I 2025-05-05 06:01:28,356] Trial 29 finished with value: 0.005727437134610656 and parameters: {'C': 37.33903454012928, 'epsilon': 0.005577689244249166, 'gamma': 'auto'}. Best is trial 23 with value: 0.004907752226213446.\n"
          ]
        },
        {
          "output_type": "stream",
          "name": "stdout",
          "text": [
            "Best Parameters: {'C': 92.3299622855522, 'epsilon': 0.018072910114645152, 'gamma': 'auto'}\n",
            "\n",
            "Test MSE: 679.2882\n",
            "Test RMSE: 26.0632\n",
            "\n",
            "Sample Input: {'latency_ms': 300, 'cpu_usage_pct': 40, 'memory_usage_pct': 75}\n",
            "Predicted CPU, Memory Allocation: CPU=0.784, Memory=1771.37\n"
          ]
        }
      ],
      "source": [
        "import pandas as pd\n",
        "import numpy as np\n",
        "from sklearn.svm import SVR\n",
        "from sklearn.preprocessing import StandardScaler\n",
        "from sklearn.model_selection import train_test_split\n",
        "from sklearn.multioutput import MultiOutputRegressor\n",
        "from sklearn.metrics import mean_squared_error\n",
        "import optuna\n",
        "from optuna.samplers import TPESampler\n",
        "\n",
        "# Load dataset\n",
        "df = pd.read_csv(\"Service1.csv\")\n",
        "\n",
        "# Input and output\n",
        "X = df[['latency_ms', 'cpu_usage_pct', 'memory_usage_pct']]\n",
        "y = df[['cpu_allocated', 'memory_allocated']]\n",
        "\n",
        "# Split: 70% train, 15% val, 15% test\n",
        "X_train_full, X_temp, y_train_full, y_temp = train_test_split(X, y, test_size=0.3, random_state=42)\n",
        "X_val, X_test, y_val, y_test = train_test_split(X_temp, y_temp, test_size=0.5, random_state=42)\n",
        "\n",
        "# Scale features\n",
        "x_scaler = StandardScaler()\n",
        "y_scaler = StandardScaler()\n",
        "\n",
        "X_train_scaled = x_scaler.fit_transform(X_train_full)\n",
        "X_val_scaled = x_scaler.transform(X_val)\n",
        "X_test_scaled = x_scaler.transform(X_test)\n",
        "\n",
        "y_train_scaled = y_scaler.fit_transform(y_train_full)\n",
        "y_val_scaled = y_scaler.transform(y_val)\n",
        "\n",
        "# Objective for Optuna\n",
        "def objective(trial):\n",
        "    C = trial.suggest_float('C', 0.1, 100.0, log=True)\n",
        "    epsilon = trial.suggest_float('epsilon', 0.001, 1.0, log=True)\n",
        "    gamma = trial.suggest_categorical('gamma', ['scale', 'auto'])\n",
        "\n",
        "    svr_model = MultiOutputRegressor(SVR(C=C, epsilon=epsilon, gamma=gamma))\n",
        "    svr_model.fit(X_train_scaled, y_train_scaled)\n",
        "    preds_scaled = svr_model.predict(X_val_scaled)\n",
        "    mse = mean_squared_error(y_val_scaled, preds_scaled)\n",
        "    return mse\n",
        "\n",
        "# Run optimization\n",
        "study = optuna.create_study(direction=\"minimize\", sampler=TPESampler())\n",
        "study.optimize(objective, n_trials=30)\n",
        "\n",
        "# Best model training\n",
        "best_params = study.best_params\n",
        "print(\"Best Parameters:\", best_params)\n",
        "\n",
        "final_svr = MultiOutputRegressor(SVR(**best_params))\n",
        "final_svr.fit(np.vstack([X_train_scaled, X_val_scaled]), np.vstack([y_train_scaled, y_val_scaled]))\n",
        "\n",
        "# Test set evaluation\n",
        "y_test_scaled = y_scaler.transform(y_test)\n",
        "preds_scaled = final_svr.predict(X_test_scaled)\n",
        "preds = y_scaler.inverse_transform(preds_scaled)\n",
        "\n",
        "mse = mean_squared_error(y_test, preds)\n",
        "rmse = np.sqrt(mse)\n",
        "print(f\"\\nTest MSE: {mse:.4f}\")\n",
        "print(f\"Test RMSE: {rmse:.4f}\")\n",
        "\n",
        "# Sample prediction\n",
        "sample = pd.DataFrame([[300, 40, 75]], columns=['latency_ms', 'cpu_usage_pct', 'memory_usage_pct'])\n",
        "sample_scaled = x_scaler.transform(sample)\n",
        "predicted_scaled = final_svr.predict(sample_scaled)\n",
        "predicted = y_scaler.inverse_transform(predicted_scaled)\n",
        "\n",
        "print(f\"\\nSample Input: {sample.to_dict(orient='records')[0]}\")\n",
        "print(f\"Predicted CPU, Memory Allocation: CPU={predicted[0][0]:.3f}, Memory={predicted[0][1]:.2f}\")\n"
      ]
    }
  ]
}