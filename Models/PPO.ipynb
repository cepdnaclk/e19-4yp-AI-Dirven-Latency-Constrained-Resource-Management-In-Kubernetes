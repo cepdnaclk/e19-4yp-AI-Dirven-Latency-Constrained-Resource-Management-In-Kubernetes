{
  "nbformat": 4,
  "nbformat_minor": 0,
  "metadata": {
    "colab": {
      "provenance": []
    },
    "kernelspec": {
      "name": "python3",
      "display_name": "Python 3"
    },
    "language_info": {
      "name": "python"
    }
  },
  "cells": [
    {
      "cell_type": "code",
      "source": [
        "!pip install optuna"
      ],
      "metadata": {
        "colab": {
          "base_uri": "https://localhost:8080/"
        },
        "id": "KAz2aI5T5hFN",
        "outputId": "1dcd3f95-ef0d-4881-c2c3-be8729f446ff"
      },
      "execution_count": 6,
      "outputs": [
        {
          "output_type": "stream",
          "name": "stdout",
          "text": [
            "Collecting optuna\n",
            "  Downloading optuna-4.3.0-py3-none-any.whl.metadata (17 kB)\n",
            "Collecting alembic>=1.5.0 (from optuna)\n",
            "  Downloading alembic-1.15.2-py3-none-any.whl.metadata (7.3 kB)\n",
            "Collecting colorlog (from optuna)\n",
            "  Downloading colorlog-6.9.0-py3-none-any.whl.metadata (10 kB)\n",
            "Requirement already satisfied: numpy in /usr/local/lib/python3.11/dist-packages (from optuna) (2.0.2)\n",
            "Requirement already satisfied: packaging>=20.0 in /usr/local/lib/python3.11/dist-packages (from optuna) (24.2)\n",
            "Requirement already satisfied: sqlalchemy>=1.4.2 in /usr/local/lib/python3.11/dist-packages (from optuna) (2.0.40)\n",
            "Requirement already satisfied: tqdm in /usr/local/lib/python3.11/dist-packages (from optuna) (4.67.1)\n",
            "Requirement already satisfied: PyYAML in /usr/local/lib/python3.11/dist-packages (from optuna) (6.0.2)\n",
            "Requirement already satisfied: Mako in /usr/lib/python3/dist-packages (from alembic>=1.5.0->optuna) (1.1.3)\n",
            "Requirement already satisfied: typing-extensions>=4.12 in /usr/local/lib/python3.11/dist-packages (from alembic>=1.5.0->optuna) (4.13.2)\n",
            "Requirement already satisfied: greenlet>=1 in /usr/local/lib/python3.11/dist-packages (from sqlalchemy>=1.4.2->optuna) (3.2.1)\n",
            "Downloading optuna-4.3.0-py3-none-any.whl (386 kB)\n",
            "\u001b[2K   \u001b[90m━━━━━━━━━━━━━━━━━━━━━━━━━━━━━━━━━━━━━━━━\u001b[0m \u001b[32m386.6/386.6 kB\u001b[0m \u001b[31m13.9 MB/s\u001b[0m eta \u001b[36m0:00:00\u001b[0m\n",
            "\u001b[?25hDownloading alembic-1.15.2-py3-none-any.whl (231 kB)\n",
            "\u001b[2K   \u001b[90m━━━━━━━━━━━━━━━━━━━━━━━━━━━━━━━━━━━━━━━━\u001b[0m \u001b[32m231.9/231.9 kB\u001b[0m \u001b[31m12.9 MB/s\u001b[0m eta \u001b[36m0:00:00\u001b[0m\n",
            "\u001b[?25hDownloading colorlog-6.9.0-py3-none-any.whl (11 kB)\n",
            "Installing collected packages: colorlog, alembic, optuna\n",
            "Successfully installed alembic-1.15.2 colorlog-6.9.0 optuna-4.3.0\n"
          ]
        }
      ]
    },
    {
      "cell_type": "markdown",
      "source": [
        "# Service 1"
      ],
      "metadata": {
        "id": "yFJOGPIH2olj"
      }
    },
    {
      "cell_type": "code",
      "execution_count": 7,
      "metadata": {
        "colab": {
          "base_uri": "https://localhost:8080/"
        },
        "id": "jo-yi2gE2lxl",
        "outputId": "3bee5398-cbdd-49ec-b72d-d053d562a842"
      },
      "outputs": [
        {
          "output_type": "stream",
          "name": "stderr",
          "text": [
            "[I 2025-05-05 10:03:15,519] A new study created in memory with name: no-name-3b37dfba-57f8-421c-ba3c-2b9265d3645c\n",
            "[I 2025-05-05 10:03:20,003] Trial 0 finished with value: 68.60466259322703 and parameters: {'hidden_dim': 85, 'actor_lr': 0.0026434392234761946, 'critic_lr': 0.0020038716813092034, 'gamma': 0.9863038435039437, 'eps_clip': 0.10111554887593202, 'epochs': 44}. Best is trial 0 with value: 68.60466259322703.\n",
            "[I 2025-05-05 10:03:27,718] Trial 1 finished with value: 70.29046618499308 and parameters: {'hidden_dim': 188, 'actor_lr': 0.0003103820509045979, 'critic_lr': 0.0001750451971262604, 'gamma': 0.9611219622337349, 'eps_clip': 0.15307189875256436, 'epochs': 42}. Best is trial 0 with value: 68.60466259322703.\n",
            "[I 2025-05-05 10:03:34,046] Trial 2 finished with value: 68.57703648499101 and parameters: {'hidden_dim': 168, 'actor_lr': 0.0011453183147069029, 'critic_lr': 0.0026569658578447, 'gamma': 0.9497409833858836, 'eps_clip': 0.24725819304374846, 'epochs': 52}. Best is trial 2 with value: 68.57703648499101.\n",
            "[I 2025-05-05 10:03:36,510] Trial 3 finished with value: 69.51861961517393 and parameters: {'hidden_dim': 119, 'actor_lr': 0.0001569317960383277, 'critic_lr': 0.0008077462456733747, 'gamma': 0.974931085661634, 'eps_clip': 0.26464064756427086, 'epochs': 44}. Best is trial 2 with value: 68.57703648499101.\n",
            "[I 2025-05-05 10:03:38,317] Trial 4 finished with value: 69.92903636666597 and parameters: {'hidden_dim': 81, 'actor_lr': 0.00028922677717698055, 'critic_lr': 0.00026767896420828427, 'gamma': 0.9558720707843847, 'eps_clip': 0.15892557044776237, 'epochs': 56}. Best is trial 2 with value: 68.57703648499101.\n",
            "[I 2025-05-05 10:03:43,771] Trial 5 finished with value: 69.52319538136616 and parameters: {'hidden_dim': 141, 'actor_lr': 0.00037750933882565026, 'critic_lr': 0.00041913227451984014, 'gamma': 0.9832077004435501, 'eps_clip': 0.24157753129240603, 'epochs': 80}. Best is trial 2 with value: 68.57703648499101.\n",
            "[I 2025-05-05 10:03:50,524] Trial 6 finished with value: 70.34518698732288 and parameters: {'hidden_dim': 173, 'actor_lr': 0.000807516627895774, 'critic_lr': 0.00019662367401243995, 'gamma': 0.9845409095018425, 'eps_clip': 0.257813154517945, 'epochs': 75}. Best is trial 2 with value: 68.57703648499101.\n",
            "[I 2025-05-05 10:04:00,560] Trial 7 finished with value: 68.1956937850678 and parameters: {'hidden_dim': 208, 'actor_lr': 0.009871264572204583, 'critic_lr': 0.000867851147256512, 'gamma': 0.9647118766578684, 'eps_clip': 0.2300334457350483, 'epochs': 91}. Best is trial 7 with value: 68.1956937850678.\n",
            "[I 2025-05-05 10:04:04,181] Trial 8 finished with value: 69.61756151609748 and parameters: {'hidden_dim': 147, 'actor_lr': 0.00027432247642664067, 'critic_lr': 0.0008369154613808126, 'gamma': 0.9021016577868638, 'eps_clip': 0.2637860776326105, 'epochs': 54}. Best is trial 7 with value: 68.1956937850678.\n",
            "[I 2025-05-05 10:04:07,080] Trial 9 finished with value: 69.87321634809972 and parameters: {'hidden_dim': 185, 'actor_lr': 0.001956354769703624, 'critic_lr': 0.007346972928960502, 'gamma': 0.9317544163558632, 'eps_clip': 0.2736587673932955, 'epochs': 34}. Best is trial 7 with value: 68.1956937850678.\n",
            "[I 2025-05-05 10:04:19,737] Trial 10 finished with value: 69.18687330647946 and parameters: {'hidden_dim': 238, 'actor_lr': 0.009836857004860356, 'critic_lr': 0.009810454920938136, 'gamma': 0.9299074039904581, 'eps_clip': 0.19839911987551245, 'epochs': 96}. Best is trial 7 with value: 68.1956937850678.\n",
            "[I 2025-05-05 10:04:31,894] Trial 11 finished with value: 68.22309223292991 and parameters: {'hidden_dim': 228, 'actor_lr': 0.009526714512258777, 'critic_lr': 0.0027299736035927818, 'gamma': 0.9470477234605198, 'eps_clip': 0.21922662765727627, 'epochs': 99}. Best is trial 7 with value: 68.1956937850678.\n",
            "[I 2025-05-05 10:04:46,095] Trial 12 finished with value: 69.50899364621431 and parameters: {'hidden_dim': 247, 'actor_lr': 0.007716416608346361, 'critic_lr': 0.0027016693447334144, 'gamma': 0.9335196290594774, 'eps_clip': 0.20696599280611352, 'epochs': 99}. Best is trial 7 with value: 68.1956937850678.\n",
            "[I 2025-05-05 10:04:56,716] Trial 13 finished with value: 69.24330287028283 and parameters: {'hidden_dim': 216, 'actor_lr': 0.004625917062390822, 'critic_lr': 0.0017568516479147599, 'gamma': 0.966655056173689, 'eps_clip': 0.2099738099291916, 'epochs': 87}. Best is trial 7 with value: 68.1956937850678.\n",
            "[I 2025-05-05 10:05:06,812] Trial 14 finished with value: 67.90799418672339 and parameters: {'hidden_dim': 213, 'actor_lr': 0.004569905156638705, 'critic_lr': 0.00425451289699924, 'gamma': 0.9430416810482243, 'eps_clip': 0.17621238582465393, 'epochs': 88}. Best is trial 14 with value: 67.90799418672339.\n",
            "[I 2025-05-05 10:05:14,001] Trial 15 finished with value: 71.66571390550345 and parameters: {'hidden_dim': 207, 'actor_lr': 0.004544705726446576, 'critic_lr': 0.005758093052652781, 'gamma': 0.9134439762990573, 'eps_clip': 0.1678779223696959, 'epochs': 70}. Best is trial 14 with value: 67.90799418672339.\n",
            "[I 2025-05-05 10:05:25,978] Trial 16 finished with value: 69.77097396982819 and parameters: {'hidden_dim': 256, 'actor_lr': 0.004983066126452835, 'critic_lr': 0.00047437657241227235, 'gamma': 0.9381581079853323, 'eps_clip': 0.18111010377096717, 'epochs': 86}. Best is trial 14 with value: 67.90799418672339.\n",
            "[I 2025-05-05 10:05:35,645] Trial 17 finished with value: 68.08034081432626 and parameters: {'hidden_dim': 199, 'actor_lr': 0.002284852341893481, 'critic_lr': 0.0012648936514234742, 'gamma': 0.9708463286197659, 'eps_clip': 0.2976975202906821, 'epochs': 89}. Best is trial 14 with value: 67.90799418672339.\n",
            "[I 2025-05-05 10:05:41,653] Trial 18 finished with value: 69.10074610112027 and parameters: {'hidden_dim': 192, 'actor_lr': 0.002271050431353543, 'critic_lr': 0.0046139253441787485, 'gamma': 0.9200870514042521, 'eps_clip': 0.29723645632633966, 'epochs': 64}. Best is trial 14 with value: 67.90799418672339.\n",
            "[I 2025-05-05 10:05:46,256] Trial 19 finished with value: 69.37326225909591 and parameters: {'hidden_dim': 130, 'actor_lr': 0.0012935836986485798, 'critic_lr': 0.0013897298279951977, 'gamma': 0.974689457823695, 'eps_clip': 0.13051806151365575, 'epochs': 80}. Best is trial 14 with value: 67.90799418672339.\n",
            "[I 2025-05-05 10:05:54,910] Trial 20 finished with value: 67.16313662526355 and parameters: {'hidden_dim': 225, 'actor_lr': 0.0006552424464548336, 'critic_lr': 0.003912726338076524, 'gamma': 0.972698169509983, 'eps_clip': 0.29834989419877356, 'epochs': 71}. Best is trial 20 with value: 67.16313662526355.\n",
            "[I 2025-05-05 10:06:02,953] Trial 21 finished with value: 71.2864686951384 and parameters: {'hidden_dim': 229, 'actor_lr': 0.0009129611758845179, 'critic_lr': 0.003936962289156967, 'gamma': 0.9736503103878931, 'eps_clip': 0.29596050496370685, 'epochs': 65}. Best is trial 20 with value: 67.16313662526355.\n",
            "[I 2025-05-05 10:06:11,856] Trial 22 finished with value: 67.55776689227775 and parameters: {'hidden_dim': 203, 'actor_lr': 0.0005690335396406473, 'critic_lr': 0.0037131314647813937, 'gamma': 0.9549569348062408, 'eps_clip': 0.2820186097148675, 'epochs': 80}. Best is trial 20 with value: 67.16313662526355.\n",
            "[I 2025-05-05 10:06:19,942] Trial 23 finished with value: 70.17346915418952 and parameters: {'hidden_dim': 224, 'actor_lr': 0.0006295952149343196, 'critic_lr': 0.004602147674701676, 'gamma': 0.9437700490096926, 'eps_clip': 0.2812819584814305, 'epochs': 74}. Best is trial 20 with value: 67.16313662526355.\n",
            "[I 2025-05-05 10:06:27,084] Trial 24 finished with value: 70.21736019820929 and parameters: {'hidden_dim': 177, 'actor_lr': 0.0006108000359493314, 'critic_lr': 0.009870251152518255, 'gamma': 0.9564313926559889, 'eps_clip': 0.1879691261670372, 'epochs': 81}. Best is trial 20 with value: 67.16313662526355.\n",
            "[I 2025-05-05 10:06:31,793] Trial 25 finished with value: 66.57720566642939 and parameters: {'hidden_dim': 156, 'actor_lr': 0.00045986299134188793, 'critic_lr': 0.003411812340891027, 'gamma': 0.954757535643432, 'eps_clip': 0.1371682064390806, 'epochs': 71}. Best is trial 25 with value: 66.57720566642939.\n",
            "[I 2025-05-05 10:06:37,002] Trial 26 finished with value: 68.4031057873723 and parameters: {'hidden_dim': 157, 'actor_lr': 0.00015505608965487783, 'critic_lr': 0.0030472830203239517, 'gamma': 0.9550560451645306, 'eps_clip': 0.14273724453692432, 'epochs': 61}. Best is trial 25 with value: 66.57720566642939.\n",
            "[I 2025-05-05 10:06:40,590] Trial 27 finished with value: 69.91206630528897 and parameters: {'hidden_dim': 113, 'actor_lr': 0.0004588037843460703, 'critic_lr': 0.0065997147909647585, 'gamma': 0.9797410821202436, 'eps_clip': 0.10924506719352704, 'epochs': 72}. Best is trial 25 with value: 66.57720566642939.\n",
            "[I 2025-05-05 10:06:46,558] Trial 28 finished with value: 68.90500013395175 and parameters: {'hidden_dim': 159, 'actor_lr': 0.00010112779861949142, 'critic_lr': 0.0019384314726254796, 'gamma': 0.962808319711893, 'eps_clip': 0.12285018131907821, 'epochs': 70}. Best is trial 25 with value: 66.57720566642939.\n",
            "[I 2025-05-05 10:06:49,144] Trial 29 finished with value: 67.78762702353626 and parameters: {'hidden_dim': 100, 'actor_lr': 0.001413522540406643, 'critic_lr': 0.00010006187238235113, 'gamma': 0.9892802241327634, 'eps_clip': 0.2818703169614914, 'epochs': 60}. Best is trial 25 with value: 66.57720566642939.\n"
          ]
        },
        {
          "output_type": "stream",
          "name": "stdout",
          "text": [
            "Best Hyperparameters: {'hidden_dim': 156, 'actor_lr': 0.00045986299134188793, 'critic_lr': 0.003411812340891027, 'gamma': 0.954757535643432, 'eps_clip': 0.1371682064390806, 'epochs': 71}\n",
            "Best MAE (CPU + MEM): 66.57720566642939\n"
          ]
        }
      ],
      "source": [
        "import numpy as np\n",
        "import pandas as pd\n",
        "import torch\n",
        "import torch.nn as nn\n",
        "import torch.optim as optim\n",
        "from sklearn.model_selection import train_test_split\n",
        "from sklearn.preprocessing import MinMaxScaler\n",
        "from sklearn.metrics import mean_absolute_error\n",
        "import optuna\n",
        "\n",
        "# Load and preprocess data\n",
        "df = pd.read_csv(\"Service1.csv\")\n",
        "features = ['latency_ms', 'cpu_allocated', 'memory_allocated', 'cpu_usage_pct', 'memory_usage_pct']\n",
        "scaler = MinMaxScaler()\n",
        "df[features] = scaler.fit_transform(df[features])\n",
        "X = df[features].values\n",
        "y = df[['cpu_usage_pct', 'memory_usage_pct']].values\n",
        "X_train, X_test, y_train, y_test = train_test_split(X, y, test_size=0.2, random_state=42)\n",
        "\n",
        "X_train_tensor = torch.FloatTensor(X_train)\n",
        "y_train_tensor = torch.FloatTensor(y_train)\n",
        "X_test_tensor = torch.FloatTensor(X_test)\n",
        "y_test_tensor = torch.FloatTensor(y_test)\n",
        "\n",
        "# Define PPO Actor and Critic Networks\n",
        "class Actor(nn.Module):\n",
        "    def __init__(self, input_dim, output_dim, hidden_dim):\n",
        "        super().__init__()\n",
        "        self.model = nn.Sequential(\n",
        "            nn.Linear(input_dim, hidden_dim),\n",
        "            nn.ReLU(),\n",
        "            nn.Linear(hidden_dim, hidden_dim),\n",
        "            nn.ReLU(),\n",
        "            nn.Linear(hidden_dim, output_dim),\n",
        "            nn.Sigmoid()\n",
        "        )\n",
        "    def forward(self, x):\n",
        "        return self.model(x)\n",
        "\n",
        "class Critic(nn.Module):\n",
        "    def __init__(self, input_dim, hidden_dim):\n",
        "        super().__init__()\n",
        "        self.model = nn.Sequential(\n",
        "            nn.Linear(input_dim, hidden_dim),\n",
        "            nn.ReLU(),\n",
        "            nn.Linear(hidden_dim, 1)\n",
        "        )\n",
        "    def forward(self, x):\n",
        "        return self.model(x)\n",
        "\n",
        "# Helper to inverse scale output\n",
        "def inverse_targets(y_pred):\n",
        "    dummy = np.zeros((y_pred.shape[0], 5))\n",
        "    dummy[:, -2:] = y_pred\n",
        "    return scaler.inverse_transform(dummy)[:, -2:]\n",
        "\n",
        "# Evaluation function\n",
        "def evaluate(actor):\n",
        "    actor.eval()\n",
        "    with torch.no_grad():\n",
        "        y_pred = actor(X_test_tensor).numpy()\n",
        "    y_pred_inv = inverse_targets(y_pred)\n",
        "    y_test_inv = inverse_targets(y_test)\n",
        "    mae_cpu = mean_absolute_error(y_test_inv[:, 0], y_pred_inv[:, 0])\n",
        "    mae_mem = mean_absolute_error(y_test_inv[:, 1], y_pred_inv[:, 1])\n",
        "    return mae_cpu + mae_mem\n",
        "\n",
        "# Optuna objective function\n",
        "def objective(trial):\n",
        "    hidden_dim = trial.suggest_int(\"hidden_dim\", 64, 256)\n",
        "    actor_lr = trial.suggest_float(\"actor_lr\", 1e-4, 1e-2, log=True)\n",
        "    critic_lr = trial.suggest_float(\"critic_lr\", 1e-4, 1e-2, log=True)\n",
        "    gamma = trial.suggest_float(\"gamma\", 0.9, 0.99)\n",
        "    eps_clip = trial.suggest_float(\"eps_clip\", 0.1, 0.3)\n",
        "    epochs = trial.suggest_int(\"epochs\", 30, 100)\n",
        "\n",
        "    actor = Actor(input_dim=5, output_dim=2, hidden_dim=hidden_dim)\n",
        "    critic = Critic(input_dim=5, hidden_dim=hidden_dim)\n",
        "    optimizer_actor = optim.Adam(actor.parameters(), lr=actor_lr)\n",
        "    optimizer_critic = optim.Adam(critic.parameters(), lr=critic_lr)\n",
        "\n",
        "    for _ in range(epochs):\n",
        "        old_actions = actor(X_train_tensor).detach()\n",
        "        values = critic(X_train_tensor).squeeze()\n",
        "        rewards = -((old_actions - y_train_tensor) ** 2).mean(dim=1)\n",
        "        advantages = rewards - values.detach()\n",
        "\n",
        "        # Critic update\n",
        "        critic_loss = nn.MSELoss()(values, rewards)\n",
        "        optimizer_critic.zero_grad()\n",
        "        critic_loss.backward()\n",
        "        optimizer_critic.step()\n",
        "\n",
        "        # Actor update\n",
        "        new_actions = actor(X_train_tensor)\n",
        "        ratios = ((new_actions - old_actions) ** 2).sum(dim=1)\n",
        "        clipped = torch.clamp(ratios, 1 - eps_clip, 1 + eps_clip)\n",
        "        actor_loss = -torch.min(ratios * advantages, clipped * advantages).mean()\n",
        "        optimizer_actor.zero_grad()\n",
        "        actor_loss.backward()\n",
        "        optimizer_actor.step()\n",
        "\n",
        "    return evaluate(actor)\n",
        "\n",
        "# Start tuning\n",
        "study = optuna.create_study(direction=\"minimize\")\n",
        "study.optimize(objective, n_trials=30)\n",
        "\n",
        "print(\"Best Hyperparameters:\", study.best_params)\n",
        "print(\"Best MAE (CPU + MEM):\", study.best_value)\n"
      ]
    }
  ]
}