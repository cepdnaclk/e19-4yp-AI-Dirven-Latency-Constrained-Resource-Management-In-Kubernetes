{
  "nbformat": 4,
  "nbformat_minor": 0,
  "metadata": {
    "colab": {
      "provenance": [],
      "authorship_tag": "ABX9TyOz5yLpzKtHgipyAQFAjHLR",
      "include_colab_link": true
    },
    "kernelspec": {
      "name": "python3",
      "display_name": "Python 3"
    },
    "language_info": {
      "name": "python"
    }
  },
  "cells": [
    {
      "cell_type": "markdown",
      "metadata": {
        "id": "view-in-github",
        "colab_type": "text"
      },
      "source": [
        "<a href=\"https://colab.research.google.com/github/e19166/e19-4yp-Dynamic-Multi-Dimensional-Resource-Orchestration-in-Kubernetes/blob/main/Models/Hoeffding/HoeffdingTree.ipynb\" target=\"_parent\"><img src=\"https://colab.research.google.com/assets/colab-badge.svg\" alt=\"Open In Colab\"/></a>"
      ]
    },
    {
      "cell_type": "markdown",
      "source": [
        "# Service 1"
      ],
      "metadata": {
        "id": "g5qQaEEPay1q"
      }
    },
    {
      "cell_type": "code",
      "execution_count": 1,
      "metadata": {
        "colab": {
          "base_uri": "https://localhost:8080/"
        },
        "id": "_TKNcZrHVxPS",
        "outputId": "262ade70-3335-4352-f7cb-b6869b8751e5"
      },
      "outputs": [
        {
          "output_type": "stream",
          "name": "stdout",
          "text": [
            "Collecting river\n",
            "  Downloading river-0.22.0-cp311-cp311-manylinux_2_17_x86_64.manylinux2014_x86_64.whl.metadata (9.0 kB)\n",
            "Collecting optuna\n",
            "  Downloading optuna-4.4.0-py3-none-any.whl.metadata (17 kB)\n",
            "Requirement already satisfied: pandas in /usr/local/lib/python3.11/dist-packages (2.2.2)\n",
            "Requirement already satisfied: scikit-learn in /usr/local/lib/python3.11/dist-packages (1.6.1)\n",
            "Requirement already satisfied: numpy>=1.23.0 in /usr/local/lib/python3.11/dist-packages (from river) (2.0.2)\n",
            "Collecting pandas\n",
            "  Downloading pandas-2.3.0-cp311-cp311-manylinux_2_17_x86_64.manylinux2014_x86_64.whl.metadata (91 kB)\n",
            "\u001b[2K     \u001b[90m━━━━━━━━━━━━━━━━━━━━━━━━━━━━━━━━━━━━━━━━\u001b[0m \u001b[32m91.2/91.2 kB\u001b[0m \u001b[31m2.9 MB/s\u001b[0m eta \u001b[36m0:00:00\u001b[0m\n",
            "\u001b[?25hRequirement already satisfied: scipy<2.0.0,>=1.14.1 in /usr/local/lib/python3.11/dist-packages (from river) (1.15.3)\n",
            "Collecting alembic>=1.5.0 (from optuna)\n",
            "  Downloading alembic-1.16.2-py3-none-any.whl.metadata (7.3 kB)\n",
            "Collecting colorlog (from optuna)\n",
            "  Downloading colorlog-6.9.0-py3-none-any.whl.metadata (10 kB)\n",
            "Requirement already satisfied: packaging>=20.0 in /usr/local/lib/python3.11/dist-packages (from optuna) (24.2)\n",
            "Requirement already satisfied: sqlalchemy>=1.4.2 in /usr/local/lib/python3.11/dist-packages (from optuna) (2.0.41)\n",
            "Requirement already satisfied: tqdm in /usr/local/lib/python3.11/dist-packages (from optuna) (4.67.1)\n",
            "Requirement already satisfied: PyYAML in /usr/local/lib/python3.11/dist-packages (from optuna) (6.0.2)\n",
            "Requirement already satisfied: python-dateutil>=2.8.2 in /usr/local/lib/python3.11/dist-packages (from pandas) (2.9.0.post0)\n",
            "Requirement already satisfied: pytz>=2020.1 in /usr/local/lib/python3.11/dist-packages (from pandas) (2025.2)\n",
            "Requirement already satisfied: tzdata>=2022.7 in /usr/local/lib/python3.11/dist-packages (from pandas) (2025.2)\n",
            "Requirement already satisfied: joblib>=1.2.0 in /usr/local/lib/python3.11/dist-packages (from scikit-learn) (1.5.1)\n",
            "Requirement already satisfied: threadpoolctl>=3.1.0 in /usr/local/lib/python3.11/dist-packages (from scikit-learn) (3.6.0)\n",
            "Requirement already satisfied: Mako in /usr/lib/python3/dist-packages (from alembic>=1.5.0->optuna) (1.1.3)\n",
            "Requirement already satisfied: typing-extensions>=4.12 in /usr/local/lib/python3.11/dist-packages (from alembic>=1.5.0->optuna) (4.14.0)\n",
            "Requirement already satisfied: six>=1.5 in /usr/local/lib/python3.11/dist-packages (from python-dateutil>=2.8.2->pandas) (1.17.0)\n",
            "Requirement already satisfied: greenlet>=1 in /usr/local/lib/python3.11/dist-packages (from sqlalchemy>=1.4.2->optuna) (3.2.3)\n",
            "Downloading river-0.22.0-cp311-cp311-manylinux_2_17_x86_64.manylinux2014_x86_64.whl (3.2 MB)\n",
            "\u001b[2K   \u001b[90m━━━━━━━━━━━━━━━━━━━━━━━━━━━━━━━━━━━━━━━━\u001b[0m \u001b[32m3.2/3.2 MB\u001b[0m \u001b[31m39.6 MB/s\u001b[0m eta \u001b[36m0:00:00\u001b[0m\n",
            "\u001b[?25hDownloading optuna-4.4.0-py3-none-any.whl (395 kB)\n",
            "\u001b[2K   \u001b[90m━━━━━━━━━━━━━━━━━━━━━━━━━━━━━━━━━━━━━━━━\u001b[0m \u001b[32m395.9/395.9 kB\u001b[0m \u001b[31m16.3 MB/s\u001b[0m eta \u001b[36m0:00:00\u001b[0m\n",
            "\u001b[?25hDownloading pandas-2.3.0-cp311-cp311-manylinux_2_17_x86_64.manylinux2014_x86_64.whl (12.4 MB)\n",
            "\u001b[2K   \u001b[90m━━━━━━━━━━━━━━━━━━━━━━━━━━━━━━━━━━━━━━━━\u001b[0m \u001b[32m12.4/12.4 MB\u001b[0m \u001b[31m40.5 MB/s\u001b[0m eta \u001b[36m0:00:00\u001b[0m\n",
            "\u001b[?25hDownloading alembic-1.16.2-py3-none-any.whl (242 kB)\n",
            "\u001b[2K   \u001b[90m━━━━━━━━━━━━━━━━━━━━━━━━━━━━━━━━━━━━━━━━\u001b[0m \u001b[32m242.7/242.7 kB\u001b[0m \u001b[31m16.0 MB/s\u001b[0m eta \u001b[36m0:00:00\u001b[0m\n",
            "\u001b[?25hDownloading colorlog-6.9.0-py3-none-any.whl (11 kB)\n",
            "Installing collected packages: colorlog, pandas, alembic, river, optuna\n",
            "  Attempting uninstall: pandas\n",
            "    Found existing installation: pandas 2.2.2\n",
            "    Uninstalling pandas-2.2.2:\n",
            "      Successfully uninstalled pandas-2.2.2\n",
            "\u001b[31mERROR: pip's dependency resolver does not currently take into account all the packages that are installed. This behaviour is the source of the following dependency conflicts.\n",
            "google-colab 1.0.0 requires pandas==2.2.2, but you have pandas 2.3.0 which is incompatible.\n",
            "dask-cudf-cu12 25.2.2 requires pandas<2.2.4dev0,>=2.0, but you have pandas 2.3.0 which is incompatible.\n",
            "cudf-cu12 25.2.1 requires pandas<2.2.4dev0,>=2.0, but you have pandas 2.3.0 which is incompatible.\u001b[0m\u001b[31m\n",
            "\u001b[0mSuccessfully installed alembic-1.16.2 colorlog-6.9.0 optuna-4.4.0 pandas-2.3.0 river-0.22.0\n"
          ]
        }
      ],
      "source": [
        "!pip install river optuna pandas scikit-learn"
      ]
    },
    {
      "cell_type": "code",
      "source": [
        "import pandas as pd\n",
        "import numpy as np\n",
        "from river import tree, metrics, preprocessing, compose\n",
        "from river.utils import rolling\n",
        "import optuna\n",
        "from sklearn.model_selection import train_test_split"
      ],
      "metadata": {
        "id": "VdFKu1F3cDBm"
      },
      "execution_count": 2,
      "outputs": []
    },
    {
      "cell_type": "markdown",
      "source": [
        "# Service 1"
      ],
      "metadata": {
        "id": "d6oFQbrlcRmQ"
      }
    },
    {
      "cell_type": "code",
      "source": [
        "# Load data\n",
        "df = pd.read_csv(\"/content/service-1-deployment_dataset.csv\")"
      ],
      "metadata": {
        "id": "sf_7iDdScUsi"
      },
      "execution_count": 3,
      "outputs": []
    },
    {
      "cell_type": "code",
      "source": [
        "# Preprocess Timestamp\n",
        "df['Timestamp'] = pd.to_datetime(df['Timestamp'], format='mixed')\n",
        "df = df.sort_values(\"Timestamp\")"
      ],
      "metadata": {
        "id": "sWrQXDxPcmKL"
      },
      "execution_count": 5,
      "outputs": []
    },
    {
      "cell_type": "code",
      "source": [
        "# Feature engineering\n",
        "df['hour'] = df['Timestamp'].dt.hour\n",
        "df['dayofweek'] = df['Timestamp'].dt.dayofweek\n",
        "df['cpu_usage_pct'] = df['CPU Usage'] / df['CPU Limit']\n",
        "df['memory_usage_pct'] = df['Memory Usage'] / df['Memory Limit']\n",
        "df['request_rate_rps'] = df['Request Rate']\n",
        "df['cpu_allocated'] = df['CPU Request']\n",
        "df['memory_allocated'] = df['Memory Request']"
      ],
      "metadata": {
        "id": "JmzhGoGCdLxD"
      },
      "execution_count": 6,
      "outputs": []
    },
    {
      "cell_type": "code",
      "source": [
        "# Rolling features\n",
        "df['cpu_usage_mean_5'] = df['cpu_usage_pct'].rolling(window=5).mean().bfill()\n",
        "df['memory_usage_mean_5'] = df['memory_usage_pct'].rolling(window=5).mean().bfill()\n",
        "df['cpu_usage_std_5'] = df['cpu_usage_pct'].rolling(window=5).std().bfill()\n",
        "df['memory_usage_std_5'] = df['memory_usage_pct'].rolling(window=5).std().bfill()"
      ],
      "metadata": {
        "id": "pAJ_JRQGdZNB"
      },
      "execution_count": 7,
      "outputs": []
    },
    {
      "cell_type": "code",
      "source": [
        "# Target = next-step CPU & Memory Usage (t+1)\n",
        "df['cpu_needed_t+1'] = df['CPU Usage'].shift(-1)\n",
        "df['memory_needed_t+1'] = df['Memory Usage'].shift(-1)\n",
        "df = df.dropna()"
      ],
      "metadata": {
        "id": "lCX5UEAidl0s"
      },
      "execution_count": 11,
      "outputs": []
    },
    {
      "cell_type": "code",
      "source": [
        "# Final features\n",
        "features = [\n",
        "    'cpu_usage_pct', 'memory_usage_pct', 'request_rate_rps',\n",
        "    'cpu_allocated', 'memory_allocated',\n",
        "    'cpu_usage_mean_5', 'memory_usage_mean_5',\n",
        "    'cpu_usage_std_5', 'memory_usage_std_5',\n",
        "    'hour', 'dayofweek'\n",
        "]"
      ],
      "metadata": {
        "id": "CE-kb_PHd3sL"
      },
      "execution_count": 12,
      "outputs": []
    },
    {
      "cell_type": "code",
      "source": [
        "X = df[features].to_dict(orient='records')\n",
        "y_cpu = df['cpu_needed_t+1'].values\n",
        "y_mem = df['memory_needed_t+1'].values"
      ],
      "metadata": {
        "id": "AJUIfEPOeE_Y"
      },
      "execution_count": 13,
      "outputs": []
    },
    {
      "cell_type": "code",
      "source": [
        "def evaluate_tree_cpu(params):\n",
        "    model = compose.Pipeline(\n",
        "        preprocessing.StandardScaler(),\n",
        "        tree.HoeffdingTreeRegressor(\n",
        "            grace_period=int(params['grace_period']),\n",
        "            delta=params['delta'],\n",
        "            tau=params['tau']\n",
        "        )\n",
        "    )\n",
        "    mae = metrics.MAE()\n",
        "    r2 = metrics.R2()\n",
        "\n",
        "    for xi, yi in zip(X, y_cpu):\n",
        "        y_pred = model.predict_one(xi)\n",
        "        if y_pred is not None:\n",
        "            mae.update(yi, y_pred)\n",
        "            r2.update(yi, y_pred)\n",
        "        model.learn_one(xi, yi)\n",
        "\n",
        "    return mae.get(), r2.get()\n"
      ],
      "metadata": {
        "id": "LfLcUPZXeZh4"
      },
      "execution_count": 14,
      "outputs": []
    },
    {
      "cell_type": "code",
      "source": [
        "def objective(trial):\n",
        "    params = {\n",
        "        'grace_period': trial.suggest_int('grace_period', 10, 100),\n",
        "        'delta': trial.suggest_float('delta', 1e-7, 1e-2, log=True),\n",
        "        'tau': trial.suggest_float('tau', 0.00001, 0.001)\n",
        "    }\n",
        "    mae, _ = evaluate_tree_cpu(params)\n",
        "    return mae\n",
        "\n",
        "study = optuna.create_study(direction='minimize')\n",
        "study.optimize(objective, n_trials=30)\n",
        "\n",
        "print(\"Best parameters:\", study.best_params)\n"
      ],
      "metadata": {
        "colab": {
          "base_uri": "https://localhost:8080/"
        },
        "id": "-qHafvImeqHH",
        "outputId": "c8a2e6e7-9612-49a7-c2d9-cde4795da196"
      },
      "execution_count": 15,
      "outputs": [
        {
          "output_type": "stream",
          "name": "stderr",
          "text": [
            "[I 2025-06-29 16:17:30,276] A new study created in memory with name: no-name-039fab09-a183-4c85-8f2b-198ac1de7ae1\n",
            "[I 2025-06-29 16:17:34,262] Trial 0 finished with value: 0.0034473384702946564 and parameters: {'grace_period': 33, 'delta': 0.0013135428080679368, 'tau': 0.000702946374107081}. Best is trial 0 with value: 0.0034473384702946564.\n",
            "[I 2025-06-29 16:17:36,367] Trial 1 finished with value: 0.0034473384702946564 and parameters: {'grace_period': 79, 'delta': 0.004577830109730474, 'tau': 2.770268300217517e-05}. Best is trial 0 with value: 0.0034473384702946564.\n",
            "[I 2025-06-29 16:17:39,217] Trial 2 finished with value: 0.0022862192581796295 and parameters: {'grace_period': 34, 'delta': 0.0015208404458674535, 'tau': 0.00044331537748983996}. Best is trial 2 with value: 0.0022862192581796295.\n",
            "[I 2025-06-29 16:17:45,736] Trial 3 finished with value: 0.0034554899680476043 and parameters: {'grace_period': 13, 'delta': 0.0010880782160020113, 'tau': 0.0009162407492107129}. Best is trial 2 with value: 0.0022862192581796295.\n",
            "[I 2025-06-29 16:17:48,243] Trial 4 finished with value: 0.0034473384702946564 and parameters: {'grace_period': 82, 'delta': 0.005339282805395566, 'tau': 0.0005169813893709951}. Best is trial 2 with value: 0.0022862192581796295.\n",
            "[I 2025-06-29 16:17:52,051] Trial 5 finished with value: 0.0018750098172558081 and parameters: {'grace_period': 41, 'delta': 2.4126617167694733e-05, 'tau': 0.0006186044220216467}. Best is trial 5 with value: 0.0018750098172558081.\n",
            "[I 2025-06-29 16:17:55,391] Trial 6 finished with value: 0.0034473384702946564 and parameters: {'grace_period': 34, 'delta': 1.828027786480046e-07, 'tau': 0.00035162771563977213}. Best is trial 5 with value: 0.0018750098172558081.\n",
            "[I 2025-06-29 16:17:58,444] Trial 7 finished with value: 0.0034473384702946564 and parameters: {'grace_period': 82, 'delta': 4.820787960947123e-07, 'tau': 0.00037581890838027436}. Best is trial 5 with value: 0.0018750098172558081.\n",
            "[I 2025-06-29 16:18:03,094] Trial 8 finished with value: 0.003159631058446783 and parameters: {'grace_period': 20, 'delta': 0.0003437896882889416, 'tau': 0.00031111038516620754}. Best is trial 5 with value: 0.0018750098172558081.\n",
            "[I 2025-06-29 16:18:08,955] Trial 9 finished with value: 0.0021325595089536978 and parameters: {'grace_period': 11, 'delta': 0.0012702023799317835, 'tau': 0.000974906087668231}. Best is trial 5 with value: 0.0018750098172558081.\n",
            "[I 2025-06-29 16:18:12,399] Trial 10 finished with value: 0.0034473384702946564 and parameters: {'grace_period': 57, 'delta': 9.975076660876415e-06, 'tau': 0.0006949932801198127}. Best is trial 5 with value: 0.0018750098172558081.\n",
            "[I 2025-06-29 16:18:15,012] Trial 11 finished with value: 0.0025432248372202816 and parameters: {'grace_period': 55, 'delta': 4.861916221338603e-05, 'tau': 0.0009419934167659602}. Best is trial 5 with value: 0.0018750098172558081.\n",
            "[I 2025-06-29 16:18:17,357] Trial 12 finished with value: 0.0034473384702946564 and parameters: {'grace_period': 54, 'delta': 2.780518617112521e-05, 'tau': 0.0007555501848410795}. Best is trial 5 with value: 0.0018750098172558081.\n",
            "[I 2025-06-29 16:18:19,451] Trial 13 finished with value: 0.0034473384702946564 and parameters: {'grace_period': 98, 'delta': 3.1281382329334785e-06, 'tau': 0.0009944665616361422}. Best is trial 5 with value: 0.0018750098172558081.\n",
            "[I 2025-06-29 16:18:25,419] Trial 14 finished with value: 0.002487056747022817 and parameters: {'grace_period': 10, 'delta': 0.00013724814598962398, 'tau': 0.0005924364364138734}. Best is trial 5 with value: 0.0018750098172558081.\n",
            "[I 2025-06-29 16:18:30,450] Trial 15 finished with value: 0.0034473384702946564 and parameters: {'grace_period': 26, 'delta': 3.207210491437447e-06, 'tau': 0.0001757412264531448}. Best is trial 5 with value: 0.0018750098172558081.\n",
            "[I 2025-06-29 16:18:32,858] Trial 16 finished with value: 0.0034473384702946564 and parameters: {'grace_period': 46, 'delta': 0.00016664023026942561, 'tau': 0.0008128784586268679}. Best is trial 5 with value: 0.0018750098172558081.\n",
            "[I 2025-06-29 16:18:35,191] Trial 17 finished with value: 0.0034473384702946564 and parameters: {'grace_period': 66, 'delta': 2.0918588899230974e-05, 'tau': 0.000573073811400474}. Best is trial 5 with value: 0.0018750098172558081.\n",
            "[I 2025-06-29 16:18:38,739] Trial 18 finished with value: 0.0034473384702946564 and parameters: {'grace_period': 41, 'delta': 4.445841283089443e-06, 'tau': 0.0008248353270518631}. Best is trial 5 with value: 0.0018750098172558081.\n",
            "[I 2025-06-29 16:18:43,066] Trial 19 finished with value: 0.0034473384702946564 and parameters: {'grace_period': 22, 'delta': 1.196127452666717e-06, 'tau': 0.0006305263496218064}. Best is trial 5 with value: 0.0018750098172558081.\n",
            "[I 2025-06-29 16:18:45,622] Trial 20 finished with value: 0.0034473384702946564 and parameters: {'grace_period': 45, 'delta': 0.00010509275403359721, 'tau': 0.00022448791183364195}. Best is trial 5 with value: 0.0018750098172558081.\n",
            "[I 2025-06-29 16:18:48,395] Trial 21 finished with value: 0.0034473384702946564 and parameters: {'grace_period': 33, 'delta': 0.0008678215877157301, 'tau': 0.00044986000314333467}. Best is trial 5 with value: 0.0018750098172558081.\n",
            "[I 2025-06-29 16:18:53,849] Trial 22 finished with value: 0.0034473384702946564 and parameters: {'grace_period': 17, 'delta': 0.002496037587870901, 'tau': 0.0004539541244995526}. Best is trial 5 with value: 0.0018750098172558081.\n",
            "[I 2025-06-29 16:18:57,237] Trial 23 finished with value: 0.002867230358968413 and parameters: {'grace_period': 28, 'delta': 0.007728549039353307, 'tau': 0.0008395460720025689}. Best is trial 5 with value: 0.0018750098172558081.\n",
            "[I 2025-06-29 16:18:59,944] Trial 24 finished with value: 0.003338966331006625 and parameters: {'grace_period': 38, 'delta': 0.00041014350123820455, 'tau': 0.00027086238504937706}. Best is trial 5 with value: 0.0018750098172558081.\n",
            "[I 2025-06-29 16:19:02,444] Trial 25 finished with value: 0.0034473384702946564 and parameters: {'grace_period': 67, 'delta': 0.00046730463685689083, 'tau': 0.00014381060565301257}. Best is trial 5 with value: 0.0018750098172558081.\n",
            "[I 2025-06-29 16:19:06,695] Trial 26 finished with value: 0.0034473384702946564 and parameters: {'grace_period': 46, 'delta': 5.2175580345996534e-05, 'tau': 0.0004293264050703257}. Best is trial 5 with value: 0.0018750098172558081.\n",
            "[I 2025-06-29 16:19:09,976] Trial 27 finished with value: 0.003456852168747942 and parameters: {'grace_period': 28, 'delta': 0.0024830448645498412, 'tau': 0.0005211194238935956}. Best is trial 5 with value: 0.0018750098172558081.\n",
            "[I 2025-06-29 16:19:15,053] Trial 28 finished with value: 0.0034473384702946564 and parameters: {'grace_period': 17, 'delta': 1.2402187336811277e-05, 'tau': 0.0006407689734599421}. Best is trial 5 with value: 0.0018750098172558081.\n",
            "[I 2025-06-29 16:19:18,668] Trial 29 finished with value: 0.0021131382657444773 and parameters: {'grace_period': 36, 'delta': 0.002433071848186139, 'tau': 0.0007059396871700036}. Best is trial 5 with value: 0.0018750098172558081.\n"
          ]
        },
        {
          "output_type": "stream",
          "name": "stdout",
          "text": [
            "Best parameters: {'grace_period': 41, 'delta': 2.4126617167694733e-05, 'tau': 0.0006186044220216467}\n"
          ]
        }
      ]
    },
    {
      "cell_type": "code",
      "source": [
        "# Evaluate with best parameters\n",
        "mae, r2 = evaluate_tree_cpu(study.best_params)\n",
        "print(f\"CPU MAE: {mae:.4f}\")\n",
        "print(f\"CPU R²: {r2:.4f}\")"
      ],
      "metadata": {
        "colab": {
          "base_uri": "https://localhost:8080/"
        },
        "id": "lJ-8St7efUoo",
        "outputId": "d907298e-d07b-425e-a2ec-508acdde35be"
      },
      "execution_count": 17,
      "outputs": [
        {
          "output_type": "stream",
          "name": "stdout",
          "text": [
            "CPU MAE: 0.0019\n",
            "CPU R²: 0.2772\n"
          ]
        }
      ]
    },
    {
      "cell_type": "code",
      "source": [
        "def evaluate_tree_mem(params):\n",
        "    model = compose.Pipeline(\n",
        "        preprocessing.StandardScaler(),\n",
        "        tree.HoeffdingTreeRegressor(\n",
        "            grace_period=int(params['grace_period']),\n",
        "            delta=params['delta'],\n",
        "            tau=params['tau']\n",
        "        )\n",
        "    )\n",
        "    mae = metrics.MAE()\n",
        "    r2 = metrics.R2()\n",
        "\n",
        "    for xi, yi in zip(X, y_mem):\n",
        "        y_pred = model.predict_one(xi)\n",
        "        if y_pred is not None:\n",
        "            mae.update(yi, y_pred)\n",
        "            r2.update(yi, y_pred)\n",
        "        model.learn_one(xi, yi)\n",
        "\n",
        "    return mae.get(), r2.get()"
      ],
      "metadata": {
        "id": "_emZqjBAfo1H"
      },
      "execution_count": 19,
      "outputs": []
    },
    {
      "cell_type": "code",
      "source": [
        "def objective(trial):\n",
        "    params = {\n",
        "        'grace_period': trial.suggest_int('grace_period', 10, 100),\n",
        "        'delta': trial.suggest_float('delta', 1e-7, 1e-2, log=True),\n",
        "        'tau': trial.suggest_float('tau', 0.00001, 0.001)\n",
        "    }\n",
        "    mae, _ = evaluate_tree_mem(params)\n",
        "    return mae\n",
        "\n",
        "study = optuna.create_study(direction='minimize')\n",
        "study.optimize(objective, n_trials=30)\n",
        "\n",
        "print(\"Best parameters:\", study.best_params)\n"
      ],
      "metadata": {
        "colab": {
          "base_uri": "https://localhost:8080/"
        },
        "id": "x54EISalgQSB",
        "outputId": "9266b755-ec5e-417d-9aff-1e5a39607094"
      },
      "execution_count": 20,
      "outputs": [
        {
          "output_type": "stream",
          "name": "stderr",
          "text": [
            "[I 2025-06-29 16:24:35,111] A new study created in memory with name: no-name-59cff130-619a-46e7-950e-a05662540249\n",
            "[I 2025-06-29 16:24:38,005] Trial 0 finished with value: 17610726.458032522 and parameters: {'grace_period': 45, 'delta': 3.105752858960926e-07, 'tau': 0.00020606219540855673}. Best is trial 0 with value: 17610726.458032522.\n",
            "[I 2025-06-29 16:24:40,614] Trial 1 finished with value: 20285682.412032954 and parameters: {'grace_period': 42, 'delta': 1.649397116577786e-05, 'tau': 0.0008875067905621165}. Best is trial 0 with value: 17610726.458032522.\n",
            "[I 2025-06-29 16:24:43,108] Trial 2 finished with value: 19583968.918225523 and parameters: {'grace_period': 65, 'delta': 7.304741507542897e-06, 'tau': 0.0005569757046552074}. Best is trial 0 with value: 17610726.458032522.\n",
            "[I 2025-06-29 16:24:46,685] Trial 3 finished with value: 18007717.23016593 and parameters: {'grace_period': 84, 'delta': 0.0008774342662894916, 'tau': 0.00017218945505579556}. Best is trial 0 with value: 17610726.458032522.\n",
            "[I 2025-06-29 16:24:49,239] Trial 4 finished with value: 20285682.412032954 and parameters: {'grace_period': 88, 'delta': 6.945971513061188e-06, 'tau': 0.0003722219372735583}. Best is trial 0 with value: 17610726.458032522.\n",
            "[I 2025-06-29 16:24:51,658] Trial 5 finished with value: 20285682.412032954 and parameters: {'grace_period': 69, 'delta': 0.0002874844804562356, 'tau': 0.0008257600838558697}. Best is trial 0 with value: 17610726.458032522.\n",
            "[I 2025-06-29 16:24:54,456] Trial 6 finished with value: 18574200.602544602 and parameters: {'grace_period': 47, 'delta': 0.00010017560521683092, 'tau': 0.0002531613708342936}. Best is trial 0 with value: 17610726.458032522.\n",
            "[I 2025-06-29 16:24:57,532] Trial 7 finished with value: 16561849.24991993 and parameters: {'grace_period': 55, 'delta': 7.497850178253661e-05, 'tau': 0.00099649986169478}. Best is trial 7 with value: 16561849.24991993.\n",
            "[I 2025-06-29 16:25:00,394] Trial 8 finished with value: 17579308.9268015 and parameters: {'grace_period': 99, 'delta': 0.008777036279640616, 'tau': 0.0009894514956714064}. Best is trial 7 with value: 16561849.24991993.\n",
            "[I 2025-06-29 16:25:04,248] Trial 9 finished with value: 20285682.412032954 and parameters: {'grace_period': 35, 'delta': 0.0001490504514800902, 'tau': 0.0008002318812491626}. Best is trial 7 with value: 16561849.24991993.\n",
            "[I 2025-06-29 16:25:15,236] Trial 10 finished with value: 21325678.836230293 and parameters: {'grace_period': 11, 'delta': 3.298304712418172e-07, 'tau': 0.0006301723230496782}. Best is trial 7 with value: 16561849.24991993.\n",
            "[I 2025-06-29 16:25:17,282] Trial 11 finished with value: 19431844.862615325 and parameters: {'grace_period': 100, 'delta': 0.0052849136814286735, 'tau': 0.0009871264004382423}. Best is trial 7 with value: 16561849.24991993.\n",
            "[I 2025-06-29 16:25:19,519] Trial 12 finished with value: 17529978.65838362 and parameters: {'grace_period': 63, 'delta': 0.006761783016103022, 'tau': 0.0006982117937519901}. Best is trial 7 with value: 16561849.24991993.\n",
            "[I 2025-06-29 16:25:22,064] Trial 13 finished with value: 16532367.11880901 and parameters: {'grace_period': 61, 'delta': 0.0015715790371390683, 'tau': 0.0006798605734944225}. Best is trial 13 with value: 16532367.11880901.\n",
            "[I 2025-06-29 16:25:26,974] Trial 14 finished with value: 16589244.367140746 and parameters: {'grace_period': 26, 'delta': 0.000911090613212315, 'tau': 0.0004609272324985241}. Best is trial 13 with value: 16532367.11880901.\n",
            "[I 2025-06-29 16:25:30,051] Trial 15 finished with value: 20285682.412032954 and parameters: {'grace_period': 58, 'delta': 1.2999524695452443e-06, 'tau': 3.210987439987602e-05}. Best is trial 13 with value: 16532367.11880901.\n",
            "[I 2025-06-29 16:25:32,381] Trial 16 finished with value: 13396556.482852912 and parameters: {'grace_period': 73, 'delta': 0.0012079257019139995, 'tau': 0.0007455931001986084}. Best is trial 16 with value: 13396556.482852912.\n",
            "[I 2025-06-29 16:25:35,105] Trial 17 finished with value: 20285682.412032954 and parameters: {'grace_period': 78, 'delta': 0.0007341884954830379, 'tau': 0.0007277425444100792}. Best is trial 16 with value: 13396556.482852912.\n",
            "[I 2025-06-29 16:25:38,192] Trial 18 finished with value: 16593084.378743555 and parameters: {'grace_period': 74, 'delta': 0.002583954709633791, 'tau': 0.0005182725802255969}. Best is trial 16 with value: 13396556.482852912.\n",
            "[I 2025-06-29 16:25:40,944] Trial 19 finished with value: 17667723.586787876 and parameters: {'grace_period': 87, 'delta': 0.0019914286053141776, 'tau': 0.0006309970826976382}. Best is trial 16 with value: 13396556.482852912.\n",
            "[I 2025-06-29 16:25:43,356] Trial 20 finished with value: 16604471.786856433 and parameters: {'grace_period': 54, 'delta': 0.00036268680290731364, 'tau': 0.0003884996828197685}. Best is trial 16 with value: 13396556.482852912.\n",
            "[I 2025-06-29 16:25:45,746] Trial 21 finished with value: 16628925.894284153 and parameters: {'grace_period': 54, 'delta': 5.0136640606629404e-05, 'tau': 0.0008805491204917698}. Best is trial 16 with value: 13396556.482852912.\n",
            "[I 2025-06-29 16:25:48,097] Trial 22 finished with value: 20285682.412032954 and parameters: {'grace_period': 69, 'delta': 3.155647020211189e-05, 'tau': 0.0007431568536845087}. Best is trial 16 with value: 13396556.482852912.\n",
            "[I 2025-06-29 16:25:52,432] Trial 23 finished with value: 18294147.313416395 and parameters: {'grace_period': 59, 'delta': 0.0002662240197411718, 'tau': 0.0009185335334100052}. Best is trial 16 with value: 13396556.482852912.\n",
            "[I 2025-06-29 16:25:54,691] Trial 24 finished with value: 16449695.443187594 and parameters: {'grace_period': 76, 'delta': 0.002107112634274798, 'tau': 0.0006368358382699066}. Best is trial 16 with value: 13396556.482852912.\n",
            "[I 2025-06-29 16:25:56,778] Trial 25 finished with value: 20285682.412032954 and parameters: {'grace_period': 79, 'delta': 0.0023492463385152824, 'tau': 0.0006284616584054765}. Best is trial 16 with value: 13396556.482852912.\n",
            "[I 2025-06-29 16:25:59,062] Trial 26 finished with value: 16650079.78784828 and parameters: {'grace_period': 73, 'delta': 0.0019530747280409769, 'tau': 0.0006654279862094334}. Best is trial 16 with value: 13396556.482852912.\n",
            "[I 2025-06-29 16:26:01,111] Trial 27 finished with value: 17963489.90348844 and parameters: {'grace_period': 92, 'delta': 0.0006008312084921707, 'tau': 0.0005782153755045628}. Best is trial 16 with value: 13396556.482852912.\n",
            "[I 2025-06-29 16:26:03,619] Trial 28 finished with value: 20285682.412032954 and parameters: {'grace_period': 80, 'delta': 0.0043170569508013505, 'tau': 0.0007760153976825874}. Best is trial 16 with value: 13396556.482852912.\n",
            "[I 2025-06-29 16:26:06,940] Trial 29 finished with value: 18786525.66076039 and parameters: {'grace_period': 47, 'delta': 0.0012940304554119614, 'tau': 0.00046578468147171013}. Best is trial 16 with value: 13396556.482852912.\n"
          ]
        },
        {
          "output_type": "stream",
          "name": "stdout",
          "text": [
            "Best parameters: {'grace_period': 73, 'delta': 0.0012079257019139995, 'tau': 0.0007455931001986084}\n"
          ]
        }
      ]
    },
    {
      "cell_type": "code",
      "source": [
        "# Evaluate with best parameters\n",
        "mae, r2 = evaluate_tree_mem(study.best_params)\n",
        "print(f\"CPU MAE: {mae:.4f}\")\n",
        "print(f\"CPU R²: {r2:.4f}\")"
      ],
      "metadata": {
        "colab": {
          "base_uri": "https://localhost:8080/"
        },
        "id": "RxKv2TgoiKFu",
        "outputId": "33a84b92-150d-4e24-cc2a-0ae007e28dc5"
      },
      "execution_count": 21,
      "outputs": [
        {
          "output_type": "stream",
          "name": "stdout",
          "text": [
            "CPU MAE: 13396556.4829\n",
            "CPU R²: 0.5517\n"
          ]
        }
      ]
    },
    {
      "cell_type": "markdown",
      "source": [
        "# Service 2"
      ],
      "metadata": {
        "id": "QJ6SjRhAiqIQ"
      }
    },
    {
      "cell_type": "code",
      "source": [
        "# Load data\n",
        "df = pd.read_csv(\"/content/service-2-deployment_dataset.csv\")"
      ],
      "metadata": {
        "id": "Nzu5-eNeisM-"
      },
      "execution_count": 22,
      "outputs": []
    },
    {
      "cell_type": "code",
      "source": [
        "# Preprocess Timestamp\n",
        "df['Timestamp'] = pd.to_datetime(df['Timestamp'], format='mixed')\n",
        "df = df.sort_values(\"Timestamp\")"
      ],
      "metadata": {
        "id": "9mnB7ohhi6Zi"
      },
      "execution_count": 23,
      "outputs": []
    }
  ]
}