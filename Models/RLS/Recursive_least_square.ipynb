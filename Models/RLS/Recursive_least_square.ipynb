{
  "nbformat": 4,
  "nbformat_minor": 0,
  "metadata": {
    "colab": {
      "provenance": [],
      "authorship_tag": "ABX9TyPtxO0YBIQFOzSLZFQBcInS",
      "include_colab_link": true
    },
    "kernelspec": {
      "name": "python3",
      "display_name": "Python 3"
    },
    "language_info": {
      "name": "python"
    }
  },
  "cells": [
    {
      "cell_type": "markdown",
      "metadata": {
        "id": "view-in-github",
        "colab_type": "text"
      },
      "source": [
        "<a href=\"https://colab.research.google.com/github/e19166/e19-4yp-Dynamic-Multi-Dimensional-Resource-Orchestration-in-Kubernetes/blob/main/Models/RLS/Recursive_least_square.ipynb\" target=\"_parent\"><img src=\"https://colab.research.google.com/assets/colab-badge.svg\" alt=\"Open In Colab\"/></a>"
      ]
    },
    {
      "cell_type": "markdown",
      "source": [
        "# Service 1"
      ],
      "metadata": {
        "id": "oe5tpS874kEr"
      }
    },
    {
      "cell_type": "code",
      "execution_count": 1,
      "metadata": {
        "colab": {
          "base_uri": "https://localhost:8080/"
        },
        "id": "LwN0gQcg4dH2",
        "outputId": "ee3254a2-d77f-430b-a510-8a64bc581f5a"
      },
      "outputs": [
        {
          "output_type": "stream",
          "name": "stdout",
          "text": [
            "Collecting river\n",
            "  Downloading river-0.22.0-cp311-cp311-manylinux_2_17_x86_64.manylinux2014_x86_64.whl.metadata (9.0 kB)\n",
            "Collecting optuna\n",
            "  Downloading optuna-4.4.0-py3-none-any.whl.metadata (17 kB)\n",
            "Requirement already satisfied: pandas in /usr/local/lib/python3.11/dist-packages (2.2.2)\n",
            "Requirement already satisfied: numpy>=1.23.0 in /usr/local/lib/python3.11/dist-packages (from river) (2.0.2)\n",
            "Collecting pandas\n",
            "  Downloading pandas-2.3.0-cp311-cp311-manylinux_2_17_x86_64.manylinux2014_x86_64.whl.metadata (91 kB)\n",
            "\u001b[2K     \u001b[90m━━━━━━━━━━━━━━━━━━━━━━━━━━━━━━━━━━━━━━━━\u001b[0m \u001b[32m91.2/91.2 kB\u001b[0m \u001b[31m2.6 MB/s\u001b[0m eta \u001b[36m0:00:00\u001b[0m\n",
            "\u001b[?25hRequirement already satisfied: scipy<2.0.0,>=1.14.1 in /usr/local/lib/python3.11/dist-packages (from river) (1.15.3)\n",
            "Collecting alembic>=1.5.0 (from optuna)\n",
            "  Downloading alembic-1.16.2-py3-none-any.whl.metadata (7.3 kB)\n",
            "Collecting colorlog (from optuna)\n",
            "  Downloading colorlog-6.9.0-py3-none-any.whl.metadata (10 kB)\n",
            "Requirement already satisfied: packaging>=20.0 in /usr/local/lib/python3.11/dist-packages (from optuna) (24.2)\n",
            "Requirement already satisfied: sqlalchemy>=1.4.2 in /usr/local/lib/python3.11/dist-packages (from optuna) (2.0.41)\n",
            "Requirement already satisfied: tqdm in /usr/local/lib/python3.11/dist-packages (from optuna) (4.67.1)\n",
            "Requirement already satisfied: PyYAML in /usr/local/lib/python3.11/dist-packages (from optuna) (6.0.2)\n",
            "Requirement already satisfied: python-dateutil>=2.8.2 in /usr/local/lib/python3.11/dist-packages (from pandas) (2.9.0.post0)\n",
            "Requirement already satisfied: pytz>=2020.1 in /usr/local/lib/python3.11/dist-packages (from pandas) (2025.2)\n",
            "Requirement already satisfied: tzdata>=2022.7 in /usr/local/lib/python3.11/dist-packages (from pandas) (2025.2)\n",
            "Requirement already satisfied: Mako in /usr/lib/python3/dist-packages (from alembic>=1.5.0->optuna) (1.1.3)\n",
            "Requirement already satisfied: typing-extensions>=4.12 in /usr/local/lib/python3.11/dist-packages (from alembic>=1.5.0->optuna) (4.14.0)\n",
            "Requirement already satisfied: six>=1.5 in /usr/local/lib/python3.11/dist-packages (from python-dateutil>=2.8.2->pandas) (1.17.0)\n",
            "Requirement already satisfied: greenlet>=1 in /usr/local/lib/python3.11/dist-packages (from sqlalchemy>=1.4.2->optuna) (3.2.3)\n",
            "Downloading river-0.22.0-cp311-cp311-manylinux_2_17_x86_64.manylinux2014_x86_64.whl (3.2 MB)\n",
            "\u001b[2K   \u001b[90m━━━━━━━━━━━━━━━━━━━━━━━━━━━━━━━━━━━━━━━━\u001b[0m \u001b[32m3.2/3.2 MB\u001b[0m \u001b[31m41.7 MB/s\u001b[0m eta \u001b[36m0:00:00\u001b[0m\n",
            "\u001b[?25hDownloading optuna-4.4.0-py3-none-any.whl (395 kB)\n",
            "\u001b[2K   \u001b[90m━━━━━━━━━━━━━━━━━━━━━━━━━━━━━━━━━━━━━━━━\u001b[0m \u001b[32m395.9/395.9 kB\u001b[0m \u001b[31m31.4 MB/s\u001b[0m eta \u001b[36m0:00:00\u001b[0m\n",
            "\u001b[?25hDownloading pandas-2.3.0-cp311-cp311-manylinux_2_17_x86_64.manylinux2014_x86_64.whl (12.4 MB)\n",
            "\u001b[2K   \u001b[90m━━━━━━━━━━━━━━━━━━━━━━━━━━━━━━━━━━━━━━━━\u001b[0m \u001b[32m12.4/12.4 MB\u001b[0m \u001b[31m133.5 MB/s\u001b[0m eta \u001b[36m0:00:00\u001b[0m\n",
            "\u001b[?25hDownloading alembic-1.16.2-py3-none-any.whl (242 kB)\n",
            "\u001b[2K   \u001b[90m━━━━━━━━━━━━━━━━━━━━━━━━━━━━━━━━━━━━━━━━\u001b[0m \u001b[32m242.7/242.7 kB\u001b[0m \u001b[31m22.0 MB/s\u001b[0m eta \u001b[36m0:00:00\u001b[0m\n",
            "\u001b[?25hDownloading colorlog-6.9.0-py3-none-any.whl (11 kB)\n",
            "Installing collected packages: colorlog, pandas, alembic, river, optuna\n",
            "  Attempting uninstall: pandas\n",
            "    Found existing installation: pandas 2.2.2\n",
            "    Uninstalling pandas-2.2.2:\n",
            "      Successfully uninstalled pandas-2.2.2\n",
            "\u001b[31mERROR: pip's dependency resolver does not currently take into account all the packages that are installed. This behaviour is the source of the following dependency conflicts.\n",
            "google-colab 1.0.0 requires pandas==2.2.2, but you have pandas 2.3.0 which is incompatible.\n",
            "dask-cudf-cu12 25.2.2 requires pandas<2.2.4dev0,>=2.0, but you have pandas 2.3.0 which is incompatible.\n",
            "cudf-cu12 25.2.1 requires pandas<2.2.4dev0,>=2.0, but you have pandas 2.3.0 which is incompatible.\u001b[0m\u001b[31m\n",
            "\u001b[0mSuccessfully installed alembic-1.16.2 colorlog-6.9.0 optuna-4.4.0 pandas-2.3.0 river-0.22.0\n"
          ]
        }
      ],
      "source": [
        "!pip install river optuna pandas"
      ]
    },
    {
      "cell_type": "code",
      "source": [
        "import pandas as pd\n",
        "import numpy as np\n",
        "from river import linear_model, metrics, preprocessing, compose\n",
        "import optuna\n",
        "\n",
        "# Load data\n",
        "df = pd.read_csv(\"/content/service-1-deployment_dataset.csv\")\n",
        "\n",
        "# Timestamp processing\n",
        "df['Timestamp'] = pd.to_datetime(df['Timestamp'], format = 'mixed')\n",
        "df = df.sort_values(\"Timestamp\")\n",
        "\n",
        "# Feature engineering\n",
        "df['cpu_usage_pct'] = df['CPU Usage'] / df['CPU Limit']\n",
        "df['memory_usage_pct'] = df['Memory Usage'] / df['Memory Limit']\n",
        "df['request_rate_rps'] = df['Request Rate']\n",
        "df['cpu_allocated'] = df['CPU Request']\n",
        "df['memory_allocated'] = df['Memory Request']\n",
        "df['hour'] = df['Timestamp'].dt.hour\n",
        "df['dayofweek'] = df['Timestamp'].dt.dayofweek\n",
        "\n",
        "# Rolling usage trends\n",
        "df['cpu_usage_mean_5'] = df['cpu_usage_pct'].rolling(window=5).mean().bfill()\n",
        "df['memory_usage_mean_5'] = df['memory_usage_pct'].rolling(window=5).mean().bfill()\n",
        "df['cpu_usage_std_5'] = df['cpu_usage_pct'].rolling(window=5).std().bfill()\n",
        "df['memory_usage_std_5'] = df['memory_usage_pct'].rolling(window=5).std().bfill()\n",
        "\n",
        "# Targets (next-step CPU & Memory usage)\n",
        "df['cpu_needed_t+1'] = df['CPU Usage'].shift(-1)\n",
        "df['memory_needed_t+1'] = df['Memory Usage'].shift(-1)\n",
        "\n",
        "# Drop last row with NaNs\n",
        "df = df.dropna()\n"
      ],
      "metadata": {
        "id": "sjbUTc8r5Fss"
      },
      "execution_count": 3,
      "outputs": []
    },
    {
      "cell_type": "code",
      "source": [
        "features = [\n",
        "    'cpu_usage_pct', 'memory_usage_pct', 'request_rate_rps',\n",
        "    'cpu_allocated', 'memory_allocated',\n",
        "    'cpu_usage_mean_5', 'memory_usage_mean_5',\n",
        "    'cpu_usage_std_5', 'memory_usage_std_5',\n",
        "    'hour', 'dayofweek'\n",
        "]\n",
        "\n",
        "X = df[features].to_dict(orient='records')\n",
        "y_cpu = df['cpu_needed_t+1'].values\n",
        "y_mem = df['memory_needed_t+1'].values\n"
      ],
      "metadata": {
        "id": "1oLukNsv5jq3"
      },
      "execution_count": 4,
      "outputs": []
    },
    {
      "cell_type": "code",
      "source": [
        "def evaluate_rls(params):\n",
        "    cpu_model = compose.Pipeline(\n",
        "        preprocessing.StandardScaler(),\n",
        "        linear_model.RecursiveLeastSquares(\n",
        "            alpha=params['alpha'],\n",
        "            initializer=params['initializer']\n",
        "        )\n",
        "    )\n",
        "\n",
        "    mem_model = compose.Pipeline(\n",
        "        preprocessing.StandardScaler(),\n",
        "        linear_model.RecursiveLeastSquares(\n",
        "            alpha=params['alpha'],\n",
        "            initializer=params['initializer']\n",
        "        )\n",
        "    )\n",
        "\n",
        "    mae_cpu = metrics.MAE()\n",
        "    r2_cpu = metrics.R2()\n",
        "\n",
        "    mae_mem = metrics.MAE()\n",
        "    r2_mem = metrics.R2()\n",
        "\n",
        "    for xi, y_cpu_i, y_mem_i in zip(X, y_cpu, y_mem):\n",
        "        # Predict\n",
        "        y_cpu_pred = cpu_model.predict_one(xi)\n",
        "        y_mem_pred = mem_model.predict_one(xi)\n",
        "\n",
        "        # Update metrics\n",
        "        if y_cpu_pred is not None:\n",
        "            mae_cpu.update(y_cpu_i, y_cpu_pred)\n",
        "            r2_cpu.update(y_cpu_i, y_cpu_pred)\n",
        "        if y_mem_pred is not None:\n",
        "            mae_mem.update(y_mem_i, y_mem_pred)\n",
        "            r2_mem.update(y_mem_i, y_mem_pred)\n",
        "\n",
        "        # Learn\n",
        "        cpu_model.learn_one(xi, y_cpu_i)\n",
        "        mem_model.learn_one(xi, y_mem_i)\n",
        "\n",
        "    return mae_cpu.get(), r2_cpu.get(), mae_mem.get(), r2_mem.get()\n"
      ],
      "metadata": {
        "id": "rwEyk6Rj5x0c"
      },
      "execution_count": 5,
      "outputs": []
    }
  ]
}