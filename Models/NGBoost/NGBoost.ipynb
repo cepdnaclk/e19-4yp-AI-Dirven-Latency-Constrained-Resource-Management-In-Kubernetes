{
 "cells": [
  {
   "cell_type": "code",
   "execution_count": 22,
   "id": "f4753a3c",
   "metadata": {},
   "outputs": [],
   "source": [
    "import pandas as pd\n",
    "import numpy as np\n",
    "from ngboost import NGBRegressor\n",
    "from ngboost.distns import Normal\n",
    "from sklearn.preprocessing import MinMaxScaler\n",
    "from sklearn.model_selection import train_test_split\n",
    "from sklearn.metrics import mean_squared_error, r2_score"
   ]
  },
  {
   "cell_type": "code",
   "execution_count": 23,
   "id": "e3e43b07",
   "metadata": {},
   "outputs": [
    {
     "name": "stdout",
     "output_type": "stream",
     "text": [
      "Index(['Timestamp', 'Service', 'CPU Request', 'Memory Request', 'CPU Limit',\n",
      "       'Memory Limit', 'Latency', 'CPU Usage', 'Memory Usage'],\n",
      "      dtype='object')\n"
     ]
    }
   ],
   "source": [
    "# Paths to service 1 datasets\n",
    "cpu_path_s1 = \"../../results/prometheus_data/service1_cpu_limit_reduction.csv\"\n",
    "memory_path_s1 = \"../../results/prometheus_data/new datasets/service1_memory_limit_reduction.csv\"\n",
    "both_path_s1 = \"../../results/prometheus_data/service1_both_limits_reduction.csv\"\n",
    "\n",
    "# Import datasets\n",
    "df_cpu_s1 = pd.read_csv(cpu_path_s1)\n",
    "df_memory_s1 = pd.read_csv(memory_path_s1)\n",
    "df_both_s1 = pd.read_csv(both_path_s1)\n",
    "\n",
    "df_all_s1 = pd.concat([df_cpu_s1, df_memory_s1, df_both_s1], ignore_index=True)\n",
    "print(df_all_s1.columns)\n",
    "\n",
    "# Paths to service 2 datasets\n",
    "cpu_path_s2 = \"../../results/prometheus_data/service2_cpu_limit_reduction.csv\"\n",
    "memory_path_s2 = \"../../results/prometheus_data/service2_memory_limit_reduction.csv\"\n",
    "both_path_s2 = \"../../results/prometheus_data/service2_both_limit_reduction.csv\"\n",
    "\n",
    "# Import datasets\n",
    "df_cpu_s2 = pd.read_csv(cpu_path_s2)\n",
    "df_memory_s2 = pd.read_csv(memory_path_s2)\n",
    "df_both_s2 = pd.read_csv(both_path_s2)\n",
    "\n",
    "# Combine all three DataFrames\n",
    "df_all_s2 = pd.concat([df_cpu_s2, df_memory_s2, df_both_s2], ignore_index=True)\n",
    "\n",
    "# Paths to datasets\n",
    "cpu_path_hg = \"../../results/prometheus_data/hashgen_cpu_limit_reduction.csv\"\n",
    "memory_path_hg = \"../../results/prometheus_data/hashgen_memory_limit_reduction.csv\"\n",
    "both_path_hg = \"../../results/prometheus_data/hashgen_both_limit_reduction.csv\"\n",
    "\n",
    "# Import datasets\n",
    "df_cpu_hg = pd.read_csv(cpu_path_hg)\n",
    "df_memory_hg = pd.read_csv(memory_path_hg)\n",
    "df_both_hg = pd.read_csv(both_path_hg)\n",
    "\n",
    "# Combine all three DataFrames\n",
    "df_all_hg = pd.concat([df_cpu_hg, df_memory_hg, df_both_hg], ignore_index=True)\n",
    "\n",
    "# Paths to datasets\n",
    "cpu_path_rp = \"../../results/prometheus_data/ranspw_cpu_limit_reduction.csv\"\n",
    "memory_path_rp = \"../../results/prometheus_data/randpw_memory_limit_reduction.csv\"\n",
    "both_path_rp = \"../../results/prometheus_data/randpw_both_limits_reduction.csv\"\n",
    "\n",
    "# Import datasets\n",
    "df_cpu_rp = pd.read_csv(cpu_path_rp)\n",
    "df_memory_rp = pd.read_csv(memory_path_rp)\n",
    "df_both_rp = pd.read_csv(both_path_rp)\n",
    "\n",
    "# Combine all three DataFrames\n",
    "df_all_rp = pd.concat([df_cpu_rp, df_memory_rp, df_both_rp], ignore_index=True)"
   ]
  },
  {
   "cell_type": "code",
   "execution_count": 24,
   "id": "99f2c2b9",
   "metadata": {},
   "outputs": [],
   "source": [
    "configs = {\n",
    "    \"Service 1\": df_all_s1,\n",
    "    \"Service 2\": df_all_s2,\n",
    "    \"HashGen\": df_all_hg,\n",
    "    \"RandPw\": df_all_rp,\n",
    "}\n",
    "\n",
    "test_sizes = [0.3, 0.2, 0.1]"
   ]
  },
  {
   "cell_type": "code",
   "execution_count": 27,
   "id": "1b23c71a",
   "metadata": {},
   "outputs": [],
   "source": [
    "def train_ngboost_model(df, feature_col, test_size=0.2, plot=True):\n",
    "    df = df.sort_values(\"Timestamp\")\n",
    "    df = df[[feature_col, \"CPU Request\", \"Memory Request\", \"CPU Limit\", \"Memory Limit\", \"Latency\"]].dropna()\n",
    "\n",
    "    features = [\"CPU Request\", \"Memory Request\", \"CPU Limit\", \"Memory Limit\", \"Latency\"]\n",
    "    target = feature_col\n",
    "\n",
    "    if \"Memory\" in feature_col:\n",
    "        df[feature_col] = df[feature_col] / (1024 * 1024)\n",
    "\n",
    "    # Scale features\n",
    "    feature_scaler = MinMaxScaler()\n",
    "    X_scaled = feature_scaler.fit_transform(df[features])\n",
    "\n",
    "    # Scale target\n",
    "    target_scaler = MinMaxScaler()\n",
    "    y_scaled = target_scaler.fit_transform(df[[target]]).ravel()\n",
    "\n",
    "    # Split\n",
    "    X_train, X_test, y_train, y_test = train_test_split(X_scaled, y_scaled, test_size=test_size, shuffle=False)\n",
    "\n",
    "    model = NGBRegressor(Dist=Normal, verbose=False)\n",
    "    model.fit(X_train, y_train)\n",
    "\n",
    "    # Predictions\n",
    "    pred_train = model.predict(X_train)\n",
    "    pred_test = model.predict(X_test)\n",
    "\n",
    "    # Inverse transform predictions\n",
    "    pred_train_inv = target_scaler.inverse_transform(pred_train.reshape(-1, 1)).ravel()\n",
    "    y_train_inv = target_scaler.inverse_transform(y_train.reshape(-1, 1)).ravel()\n",
    "    pred_test_inv = target_scaler.inverse_transform(pred_test.reshape(-1, 1)).ravel()\n",
    "    y_test_inv = target_scaler.inverse_transform(y_test.reshape(-1, 1)).ravel()\n",
    "\n",
    "    # Evaluation\n",
    "    train_rmse = np.sqrt(mean_squared_error(y_train_inv, pred_train_inv))\n",
    "    test_rmse = np.sqrt(mean_squared_error(y_test_inv, pred_test_inv))\n",
    "    train_r2 = r2_score(y_train_inv, pred_train_inv)\n",
    "    test_r2 = r2_score(y_test_inv, pred_test_inv)\n",
    "\n",
    "    print(f\"{feature_col} - Train RMSE: {train_rmse:.4f}, R²: {train_r2:.4f}\")\n",
    "    print(f\"{feature_col} - Test  RMSE: {test_rmse:.4f}, R²: {test_r2:.4f}\")\n",
    "\n",
    "    # if plot:\n",
    "    #     plt.figure(figsize=(10, 4))\n",
    "    #     plt.plot(y_test_inv, label=\"Actual\")\n",
    "    #     plt.plot(pred_test_inv, label=\"Predicted\")\n",
    "    #     plt.title(f\"{feature_col} Prediction (NGBoost)\")\n",
    "    #     plt.legend()\n",
    "    #     plt.show()\n",
    "\n",
    "    return model\n"
   ]
  },
  {
   "cell_type": "code",
   "execution_count": 28,
   "id": "9ce8b7bc",
   "metadata": {},
   "outputs": [
    {
     "name": "stdout",
     "output_type": "stream",
     "text": [
      "Training NGBoost for Service 1 - CPU Usage with test size 0.3\n",
      "CPU Usage - Train RMSE: 0.0074, R²: 0.9347\n",
      "CPU Usage - Test  RMSE: 0.0233, R²: 0.2478\n",
      "Training NGBoost for Service 1 - Memory Usage with test size 0.3\n"
     ]
    },
    {
     "name": "stderr",
     "output_type": "stream",
     "text": [
      "c:\\Python311\\Lib\\site-packages\\ngboost\\distns\\normal.py:71: RuntimeWarning: overflow encountered in square\n",
      "  self.var = self.scale**2\n",
      "c:\\Python311\\Lib\\site-packages\\ngboost\\distns\\normal.py:71: RuntimeWarning: overflow encountered in square\n",
      "  self.var = self.scale**2\n"
     ]
    },
    {
     "name": "stdout",
     "output_type": "stream",
     "text": [
      "Memory Usage - Train RMSE: 6.5573, R²: 0.6285\n",
      "Memory Usage - Test  RMSE: 6.9937, R²: -0.1413\n",
      "\n",
      "Training NGBoost for Service 1 - CPU Usage with test size 0.2\n",
      "CPU Usage - Train RMSE: 0.0073, R²: 0.9294\n",
      "CPU Usage - Test  RMSE: 0.0203, R²: -0.2257\n",
      "Training NGBoost for Service 1 - Memory Usage with test size 0.2\n"
     ]
    },
    {
     "name": "stderr",
     "output_type": "stream",
     "text": [
      "c:\\Python311\\Lib\\site-packages\\ngboost\\distns\\normal.py:71: RuntimeWarning: overflow encountered in square\n",
      "  self.var = self.scale**2\n",
      "c:\\Python311\\Lib\\site-packages\\ngboost\\distns\\normal.py:71: RuntimeWarning: overflow encountered in square\n",
      "  self.var = self.scale**2\n",
      "c:\\Python311\\Lib\\site-packages\\ngboost\\distns\\normal.py:71: RuntimeWarning: overflow encountered in square\n",
      "  self.var = self.scale**2\n"
     ]
    },
    {
     "name": "stdout",
     "output_type": "stream",
     "text": [
      "Memory Usage - Train RMSE: 6.1864, R²: 0.6295\n",
      "Memory Usage - Test  RMSE: 8.3760, R²: -0.2726\n",
      "\n",
      "Training NGBoost for Service 1 - CPU Usage with test size 0.1\n",
      "CPU Usage - Train RMSE: 0.0071, R²: 0.9393\n",
      "CPU Usage - Test  RMSE: 0.0142, R²: -1.5002\n",
      "Training NGBoost for Service 1 - Memory Usage with test size 0.1\n"
     ]
    },
    {
     "name": "stderr",
     "output_type": "stream",
     "text": [
      "c:\\Python311\\Lib\\site-packages\\ngboost\\distns\\normal.py:71: RuntimeWarning: overflow encountered in square\n",
      "  self.var = self.scale**2\n",
      "c:\\Python311\\Lib\\site-packages\\ngboost\\distns\\normal.py:71: RuntimeWarning: overflow encountered in square\n",
      "  self.var = self.scale**2\n",
      "c:\\Python311\\Lib\\site-packages\\ngboost\\distns\\normal.py:71: RuntimeWarning: overflow encountered in square\n",
      "  self.var = self.scale**2\n"
     ]
    },
    {
     "name": "stdout",
     "output_type": "stream",
     "text": [
      "Memory Usage - Train RMSE: 6.2379, R²: 0.5903\n",
      "Memory Usage - Test  RMSE: 10.0890, R²: -0.0810\n",
      "\n",
      "Training NGBoost for Service 2 - CPU Usage with test size 0.3\n",
      "CPU Usage - Train RMSE: 0.0030, R²: 0.9893\n",
      "CPU Usage - Test  RMSE: 0.0070, R²: 0.9030\n",
      "Training NGBoost for Service 2 - Memory Usage with test size 0.3\n",
      "Memory Usage - Train RMSE: 0.2227, R²: 0.3317\n",
      "Memory Usage - Test  RMSE: 0.2785, R²: -0.2519\n",
      "\n",
      "Training NGBoost for Service 2 - CPU Usage with test size 0.2\n",
      "CPU Usage - Train RMSE: 0.0031, R²: 0.9875\n",
      "CPU Usage - Test  RMSE: 0.0067, R²: 0.8106\n",
      "Training NGBoost for Service 2 - Memory Usage with test size 0.2\n",
      "Memory Usage - Train RMSE: 0.2256, R²: 0.3234\n",
      "Memory Usage - Test  RMSE: 0.2562, R²: -0.0953\n",
      "\n",
      "Training NGBoost for Service 2 - CPU Usage with test size 0.1\n",
      "CPU Usage - Train RMSE: 0.0033, R²: 0.9855\n",
      "CPU Usage - Test  RMSE: 0.0066, R²: 0.2632\n",
      "Training NGBoost for Service 2 - Memory Usage with test size 0.1\n",
      "Memory Usage - Train RMSE: 0.2289, R²: 0.3021\n",
      "Memory Usage - Test  RMSE: 0.2176, R²: -0.0089\n",
      "\n",
      "Training NGBoost for HashGen - CPU Usage with test size 0.3\n",
      "CPU Usage - Train RMSE: 0.0009, R²: 0.9918\n",
      "CPU Usage - Test  RMSE: 0.0052, R²: 0.8197\n",
      "Training NGBoost for HashGen - Memory Usage with test size 0.3\n",
      "Memory Usage - Train RMSE: 12.0467, R²: 0.5681\n",
      "Memory Usage - Test  RMSE: 23.2279, R²: 0.0316\n",
      "\n",
      "Training NGBoost for HashGen - CPU Usage with test size 0.2\n",
      "CPU Usage - Train RMSE: 0.0010, R²: 0.9900\n",
      "CPU Usage - Test  RMSE: 0.0063, R²: 0.7699\n",
      "Training NGBoost for HashGen - Memory Usage with test size 0.2\n",
      "Memory Usage - Train RMSE: 12.1453, R²: 0.5295\n",
      "Memory Usage - Test  RMSE: 26.3074, R²: 0.0440\n",
      "\n",
      "Training NGBoost for HashGen - CPU Usage with test size 0.1\n",
      "CPU Usage - Train RMSE: 0.0010, R²: 0.9896\n",
      "CPU Usage - Test  RMSE: 0.0085, R²: 0.3731\n",
      "Training NGBoost for HashGen - Memory Usage with test size 0.1\n",
      "Memory Usage - Train RMSE: 11.7374, R²: 0.5133\n",
      "Memory Usage - Test  RMSE: 36.5654, R²: -0.1323\n",
      "\n",
      "Training NGBoost for RandPw - CPU Usage with test size 0.3\n",
      "CPU Usage - Train RMSE: 0.0012, R²: 0.5868\n",
      "CPU Usage - Test  RMSE: 0.0035, R²: -5.8490\n",
      "Training NGBoost for RandPw - Memory Usage with test size 0.3\n",
      "Memory Usage - Train RMSE: 1.6130, R²: 0.9402\n",
      "Memory Usage - Test  RMSE: 11.7334, R²: -0.9579\n",
      "\n",
      "Training NGBoost for RandPw - CPU Usage with test size 0.2\n",
      "CPU Usage - Train RMSE: 0.0011, R²: 0.5827\n",
      "CPU Usage - Test  RMSE: 0.0049, R²: -11.2639\n",
      "Training NGBoost for RandPw - Memory Usage with test size 0.2\n",
      "Memory Usage - Train RMSE: 1.7138, R²: 0.9283\n",
      "Memory Usage - Test  RMSE: 13.6534, R²: -1.2946\n",
      "\n",
      "Training NGBoost for RandPw - CPU Usage with test size 0.1\n",
      "CPU Usage - Train RMSE: 0.0012, R²: 0.5267\n",
      "CPU Usage - Test  RMSE: 0.0025, R²: -3.4435\n",
      "Training NGBoost for RandPw - Memory Usage with test size 0.1\n",
      "Memory Usage - Train RMSE: 2.6236, R²: 0.8752\n",
      "Memory Usage - Test  RMSE: 6.0227, R²: -2.8685\n",
      "\n"
     ]
    }
   ],
   "source": [
    "for name, df in configs.items():\n",
    "    for test_size in test_sizes:\n",
    "        print(f\"Training NGBoost for {name} - CPU Usage with test size {test_size}\")\n",
    "        model_cpu = train_ngboost_model(df, \"CPU Usage\", test_size)\n",
    "\n",
    "        print(f\"Training NGBoost for {name} - Memory Usage with test size {test_size}\")\n",
    "        model_mem = train_ngboost_model(df, \"Memory Usage\", test_size)\n",
    "        print()\n"
   ]
  },
  {
   "cell_type": "code",
   "execution_count": null,
   "id": "6ec25d85",
   "metadata": {},
   "outputs": [],
   "source": []
  }
 ],
 "metadata": {
  "kernelspec": {
   "display_name": "Python 3",
   "language": "python",
   "name": "python3"
  },
  "language_info": {
   "codemirror_mode": {
    "name": "ipython",
    "version": 3
   },
   "file_extension": ".py",
   "mimetype": "text/x-python",
   "name": "python",
   "nbconvert_exporter": "python",
   "pygments_lexer": "ipython3",
   "version": "3.11.4"
  }
 },
 "nbformat": 4,
 "nbformat_minor": 5
}
