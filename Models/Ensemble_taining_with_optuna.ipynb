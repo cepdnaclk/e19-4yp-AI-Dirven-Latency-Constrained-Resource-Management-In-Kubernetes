{
  "nbformat": 4,
  "nbformat_minor": 0,
  "metadata": {
    "colab": {
      "provenance": []
    },
    "kernelspec": {
      "name": "python3",
      "display_name": "Python 3"
    },
    "language_info": {
      "name": "python"
    }
  },
  "cells": [
    {
      "cell_type": "code",
      "source": [
        "!pip install optuna\n",
        "!pip install xgboost"
      ],
      "metadata": {
        "colab": {
          "base_uri": "https://localhost:8080/"
        },
        "id": "iRHDX5M9FntM",
        "outputId": "6465f018-7fe7-401f-a05d-23ce8b59db65"
      },
      "execution_count": 1,
      "outputs": [
        {
          "output_type": "stream",
          "name": "stdout",
          "text": [
            "Collecting optuna\n",
            "  Downloading optuna-4.3.0-py3-none-any.whl.metadata (17 kB)\n",
            "Collecting alembic>=1.5.0 (from optuna)\n",
            "  Downloading alembic-1.15.2-py3-none-any.whl.metadata (7.3 kB)\n",
            "Collecting colorlog (from optuna)\n",
            "  Downloading colorlog-6.9.0-py3-none-any.whl.metadata (10 kB)\n",
            "Requirement already satisfied: numpy in /usr/local/lib/python3.11/dist-packages (from optuna) (2.0.2)\n",
            "Requirement already satisfied: packaging>=20.0 in /usr/local/lib/python3.11/dist-packages (from optuna) (24.2)\n",
            "Requirement already satisfied: sqlalchemy>=1.4.2 in /usr/local/lib/python3.11/dist-packages (from optuna) (2.0.40)\n",
            "Requirement already satisfied: tqdm in /usr/local/lib/python3.11/dist-packages (from optuna) (4.67.1)\n",
            "Requirement already satisfied: PyYAML in /usr/local/lib/python3.11/dist-packages (from optuna) (6.0.2)\n",
            "Requirement already satisfied: Mako in /usr/lib/python3/dist-packages (from alembic>=1.5.0->optuna) (1.1.3)\n",
            "Requirement already satisfied: typing-extensions>=4.12 in /usr/local/lib/python3.11/dist-packages (from alembic>=1.5.0->optuna) (4.13.2)\n",
            "Requirement already satisfied: greenlet>=1 in /usr/local/lib/python3.11/dist-packages (from sqlalchemy>=1.4.2->optuna) (3.2.1)\n",
            "Downloading optuna-4.3.0-py3-none-any.whl (386 kB)\n",
            "\u001b[2K   \u001b[90m━━━━━━━━━━━━━━━━━━━━━━━━━━━━━━━━━━━━━━━━\u001b[0m \u001b[32m386.6/386.6 kB\u001b[0m \u001b[31m10.2 MB/s\u001b[0m eta \u001b[36m0:00:00\u001b[0m\n",
            "\u001b[?25hDownloading alembic-1.15.2-py3-none-any.whl (231 kB)\n",
            "\u001b[2K   \u001b[90m━━━━━━━━━━━━━━━━━━━━━━━━━━━━━━━━━━━━━━━━\u001b[0m \u001b[32m231.9/231.9 kB\u001b[0m \u001b[31m13.6 MB/s\u001b[0m eta \u001b[36m0:00:00\u001b[0m\n",
            "\u001b[?25hDownloading colorlog-6.9.0-py3-none-any.whl (11 kB)\n",
            "Installing collected packages: colorlog, alembic, optuna\n",
            "Successfully installed alembic-1.15.2 colorlog-6.9.0 optuna-4.3.0\n",
            "Requirement already satisfied: xgboost in /usr/local/lib/python3.11/dist-packages (2.1.4)\n",
            "Requirement already satisfied: numpy in /usr/local/lib/python3.11/dist-packages (from xgboost) (2.0.2)\n",
            "Requirement already satisfied: nvidia-nccl-cu12 in /usr/local/lib/python3.11/dist-packages (from xgboost) (2.21.5)\n",
            "Requirement already satisfied: scipy in /usr/local/lib/python3.11/dist-packages (from xgboost) (1.15.2)\n"
          ]
        }
      ]
    },
    {
      "cell_type": "markdown",
      "source": [
        "# Service 1"
      ],
      "metadata": {
        "id": "2gUr8G6rFgx1"
      }
    },
    {
      "cell_type": "code",
      "execution_count": 4,
      "metadata": {
        "colab": {
          "base_uri": "https://localhost:8080/"
        },
        "id": "_n9BQoAcEvJO",
        "outputId": "f3269358-1b6e-406e-a97c-bb53a960414c"
      },
      "outputs": [
        {
          "output_type": "stream",
          "name": "stderr",
          "text": [
            "[I 2025-05-05 08:24:01,309] A new study created in memory with name: no-name-77c04b2e-205e-4a7a-be9b-ffdc4a237dda\n"
          ]
        },
        {
          "output_type": "stream",
          "name": "stdout",
          "text": [
            "\n",
            "🔁 Optimizing model 1/5\n"
          ]
        },
        {
          "output_type": "stream",
          "name": "stderr",
          "text": [
            "[I 2025-05-05 08:24:01,653] Trial 0 finished with value: 0.03416996821761131 and parameters: {'n_estimators': 112, 'max_depth': 4, 'learning_rate': 0.16403386497991557, 'subsample': 0.904079395251346, 'colsample_bytree': 0.7448467956392256, 'reg_lambda': 8.795162411894916, 'reg_alpha': 7.232727849370897}. Best is trial 0 with value: 0.03416996821761131.\n",
            "[I 2025-05-05 08:24:02,385] Trial 1 finished with value: 0.025406669825315475 and parameters: {'n_estimators': 316, 'max_depth': 5, 'learning_rate': 0.1485831841688683, 'subsample': 0.7190964208278577, 'colsample_bytree': 0.7007255620426903, 'reg_lambda': 7.195511036329591, 'reg_alpha': 6.471230396417753}. Best is trial 1 with value: 0.025406669825315475.\n",
            "[I 2025-05-05 08:24:05,667] Trial 2 finished with value: 0.009745702147483826 and parameters: {'n_estimators': 194, 'max_depth': 5, 'learning_rate': 0.07972916140500921, 'subsample': 0.8714224331071192, 'colsample_bytree': 0.7708316571461938, 'reg_lambda': 3.739161805707223, 'reg_alpha': 0.6318642304445559}. Best is trial 2 with value: 0.009745702147483826.\n",
            "[I 2025-05-05 08:24:09,003] Trial 3 finished with value: 0.011672597378492355 and parameters: {'n_estimators': 465, 'max_depth': 9, 'learning_rate': 0.2845889046788442, 'subsample': 0.7669274362041513, 'colsample_bytree': 0.9639687831393495, 'reg_lambda': 8.5773807556228, 'reg_alpha': 0.6381034704673259}. Best is trial 2 with value: 0.009745702147483826.\n",
            "[I 2025-05-05 08:24:10,164] Trial 4 finished with value: 0.01933322101831436 and parameters: {'n_estimators': 355, 'max_depth': 8, 'learning_rate': 0.15370332167001363, 'subsample': 0.8209421633846099, 'colsample_bytree': 0.9141646224393417, 'reg_lambda': 5.365118155696358, 'reg_alpha': 5.212041935008687}. Best is trial 2 with value: 0.009745702147483826.\n",
            "[I 2025-05-05 08:24:10,755] Trial 5 finished with value: 0.019604472443461418 and parameters: {'n_estimators': 355, 'max_depth': 3, 'learning_rate': 0.08546345010556884, 'subsample': 0.9220693575501772, 'colsample_bytree': 0.7842764562475034, 'reg_lambda': 8.883827974144955, 'reg_alpha': 4.781793660954227}. Best is trial 2 with value: 0.009745702147483826.\n",
            "[I 2025-05-05 08:24:13,179] Trial 6 finished with value: 0.009913351386785507 and parameters: {'n_estimators': 426, 'max_depth': 8, 'learning_rate': 0.21456311013012486, 'subsample': 0.990350968403269, 'colsample_bytree': 0.8861250363187422, 'reg_lambda': 1.5206251550077783, 'reg_alpha': 0.27908044666158155}. Best is trial 2 with value: 0.009745702147483826.\n",
            "[I 2025-05-05 08:24:13,661] Trial 7 finished with value: 0.017814289778470993 and parameters: {'n_estimators': 307, 'max_depth': 3, 'learning_rate': 0.22322942264633652, 'subsample': 0.7886418965201004, 'colsample_bytree': 0.7081338916917423, 'reg_lambda': 4.95363223613731, 'reg_alpha': 0.963132451718345}. Best is trial 2 with value: 0.009745702147483826.\n",
            "[I 2025-05-05 08:24:14,945] Trial 8 finished with value: 0.01721358858048916 and parameters: {'n_estimators': 442, 'max_depth': 6, 'learning_rate': 0.14994173511372955, 'subsample': 0.7416748727254989, 'colsample_bytree': 0.7724181666376929, 'reg_lambda': 6.18262032421753, 'reg_alpha': 3.847912833144964}. Best is trial 2 with value: 0.009745702147483826.\n",
            "[I 2025-05-05 08:24:15,581] Trial 9 finished with value: 0.010850773192942142 and parameters: {'n_estimators': 103, 'max_depth': 10, 'learning_rate': 0.12420652882487752, 'subsample': 0.945867366724167, 'colsample_bytree': 0.9605634188040608, 'reg_lambda': 5.201280103584534, 'reg_alpha': 0.9986243874365701}. Best is trial 2 with value: 0.009745702147483826.\n",
            "[I 2025-05-05 08:24:16,175] Trial 10 finished with value: 0.011197448708117008 and parameters: {'n_estimators': 207, 'max_depth': 6, 'learning_rate': 0.032893598627520594, 'subsample': 0.8725300180544936, 'colsample_bytree': 0.8232802639666348, 'reg_lambda': 2.3240710789246894, 'reg_alpha': 9.05263925037351}. Best is trial 2 with value: 0.009745702147483826.\n",
            "[I 2025-05-05 08:24:19,011] Trial 11 finished with value: 0.014359023422002792 and parameters: {'n_estimators': 215, 'max_depth': 8, 'learning_rate': 0.21454048355730582, 'subsample': 0.9885326291896349, 'colsample_bytree': 0.8697879523716886, 'reg_lambda': 0.5163351476690194, 'reg_alpha': 3.1762519834141374}. Best is trial 2 with value: 0.009745702147483826.\n",
            "[I 2025-05-05 08:24:20,521] Trial 12 finished with value: 13.552507400512695 and parameters: {'n_estimators': 215, 'max_depth': 7, 'learning_rate': 0.010762908333315238, 'subsample': 0.9842943474095002, 'colsample_bytree': 0.8626057590309112, 'reg_lambda': 2.93639044915987, 'reg_alpha': 2.390968724735602}. Best is trial 2 with value: 0.009745702147483826.\n",
            "[I 2025-05-05 08:24:21,740] Trial 13 finished with value: 0.009754577651619911 and parameters: {'n_estimators': 416, 'max_depth': 5, 'learning_rate': 0.07567406852702104, 'subsample': 0.841454880267811, 'colsample_bytree': 0.9058559652882863, 'reg_lambda': 3.0028572253550427, 'reg_alpha': 1.8449598069049935}. Best is trial 2 with value: 0.009745702147483826.\n",
            "[I 2025-05-05 08:24:22,232] Trial 14 finished with value: 0.010081611573696136 and parameters: {'n_estimators': 173, 'max_depth': 5, 'learning_rate': 0.06825849110027513, 'subsample': 0.8478580793823126, 'colsample_bytree': 0.8198388447152796, 'reg_lambda': 3.6228194621023357, 'reg_alpha': 2.131442089916794}. Best is trial 2 with value: 0.009745702147483826.\n",
            "[I 2025-05-05 08:24:23,350] Trial 15 finished with value: 0.01089149247854948 and parameters: {'n_estimators': 396, 'max_depth': 5, 'learning_rate': 0.08422722620310936, 'subsample': 0.8329359190600769, 'colsample_bytree': 0.9161510064841347, 'reg_lambda': 3.889810915520181, 'reg_alpha': 2.3175324245716493}. Best is trial 2 with value: 0.009745702147483826.\n",
            "[I 2025-05-05 08:24:24,038] Trial 16 finished with value: 0.008403420448303223 and parameters: {'n_estimators': 262, 'max_depth': 4, 'learning_rate': 0.05241710797034978, 'subsample': 0.8764616230994553, 'colsample_bytree': 0.994084494790316, 'reg_lambda': 0.30610208764683255, 'reg_alpha': 1.9266798729571986}. Best is trial 16 with value: 0.008403420448303223.\n",
            "[I 2025-05-05 08:24:24,677] Trial 17 finished with value: 0.008372627198696136 and parameters: {'n_estimators': 256, 'max_depth': 4, 'learning_rate': 0.0433614423738856, 'subsample': 0.8843298639271774, 'colsample_bytree': 0.9858412541504296, 'reg_lambda': 0.20973425664209588, 'reg_alpha': 3.8840319719423944}. Best is trial 17 with value: 0.008372627198696136.\n",
            "[I 2025-05-05 08:24:25,280] Trial 18 finished with value: 0.008399310521781445 and parameters: {'n_estimators': 266, 'max_depth': 4, 'learning_rate': 0.04120281918699359, 'subsample': 0.9013716435546436, 'colsample_bytree': 0.9908404398930469, 'reg_lambda': 0.18223753596974043, 'reg_alpha': 4.1163658433198425}. Best is trial 17 with value: 0.008372627198696136.\n",
            "[I 2025-05-05 08:24:25,870] Trial 19 finished with value: 0.01293133944272995 and parameters: {'n_estimators': 268, 'max_depth': 4, 'learning_rate': 0.11158369582342925, 'subsample': 0.9399303470233079, 'colsample_bytree': 0.984024435354075, 'reg_lambda': 1.3855435689879225, 'reg_alpha': 5.404007152745706}. Best is trial 17 with value: 0.008372627198696136.\n",
            "[I 2025-05-05 08:24:26,382] Trial 20 finished with value: 0.4969902038574219 and parameters: {'n_estimators': 264, 'max_depth': 3, 'learning_rate': 0.015074778847420978, 'subsample': 0.8044217977774454, 'colsample_bytree': 0.9402286592509229, 'reg_lambda': 1.3492286659143289, 'reg_alpha': 3.506858201765026}. Best is trial 17 with value: 0.008372627198696136.\n",
            "[I 2025-05-05 08:24:27,013] Trial 21 finished with value: 0.00834761280566454 and parameters: {'n_estimators': 257, 'max_depth': 4, 'learning_rate': 0.038515486194893214, 'subsample': 0.8922993701301033, 'colsample_bytree': 0.9925894115586316, 'reg_lambda': 0.2230432679755916, 'reg_alpha': 4.514025658507482}. Best is trial 21 with value: 0.00834761280566454.\n",
            "[I 2025-05-05 08:24:27,425] Trial 22 finished with value: 0.021764017641544342 and parameters: {'n_estimators': 157, 'max_depth': 4, 'learning_rate': 0.036449640871047184, 'subsample': 0.9003545028077247, 'colsample_bytree': 0.9956541439962185, 'reg_lambda': 0.2293306138203569, 'reg_alpha': 4.469368067747959}. Best is trial 21 with value: 0.00834761280566454.\n",
            "[I 2025-05-05 08:24:27,900] Trial 23 finished with value: 0.011195306666195393 and parameters: {'n_estimators': 242, 'max_depth': 3, 'learning_rate': 0.048286278527321695, 'subsample': 0.9538147463162021, 'colsample_bytree': 0.9434379182643727, 'reg_lambda': 1.81577696803421, 'reg_alpha': 6.411259351689159}. Best is trial 21 with value: 0.00834761280566454.\n",
            "[I 2025-05-05 08:24:28,712] Trial 24 finished with value: 0.011878146789968014 and parameters: {'n_estimators': 343, 'max_depth': 6, 'learning_rate': 0.12103854491944636, 'subsample': 0.9068849456392262, 'colsample_bytree': 0.9719551114647395, 'reg_lambda': 0.8287945337852215, 'reg_alpha': 6.03088077149846}. Best is trial 21 with value: 0.00834761280566454.\n",
            "[I 2025-05-05 08:24:29,300] Trial 25 finished with value: 0.018248073756694794 and parameters: {'n_estimators': 294, 'max_depth': 4, 'learning_rate': 0.09889661125041826, 'subsample': 0.8852856127604576, 'colsample_bytree': 0.9462789138564787, 'reg_lambda': 9.981175796563928, 'reg_alpha': 7.923758281714303}. Best is trial 21 with value: 0.00834761280566454.\n",
            "[I 2025-05-05 08:24:30,075] Trial 26 finished with value: 0.008137278258800507 and parameters: {'n_estimators': 244, 'max_depth': 7, 'learning_rate': 0.05204439030697916, 'subsample': 0.9246041231787406, 'colsample_bytree': 0.9993795295757211, 'reg_lambda': 0.11543010966696579, 'reg_alpha': 4.03631010770555}. Best is trial 26 with value: 0.008137278258800507.\n",
            "[I 2025-05-05 08:24:32,882] Trial 27 finished with value: 0.00904825795441866 and parameters: {'n_estimators': 151, 'max_depth': 7, 'learning_rate': 0.05713411478596487, 'subsample': 0.9631709622962098, 'colsample_bytree': 0.9302759375012343, 'reg_lambda': 2.2343272774385814, 'reg_alpha': 3.2453837557686462}. Best is trial 26 with value: 0.008137278258800507.\n",
            "[I 2025-05-05 08:24:34,074] Trial 28 finished with value: 0.04617233946919441 and parameters: {'n_estimators': 239, 'max_depth': 7, 'learning_rate': 0.021932851230469896, 'subsample': 0.9292607340104783, 'colsample_bytree': 0.9668079232955122, 'reg_lambda': 1.023853373940743, 'reg_alpha': 5.511739290352284}. Best is trial 26 with value: 0.008137278258800507.\n",
            "[I 2025-05-05 08:24:34,849] Trial 29 finished with value: 0.02062118798494339 and parameters: {'n_estimators': 292, 'max_depth': 6, 'learning_rate': 0.17519107510434437, 'subsample': 0.8578055154358334, 'colsample_bytree': 0.9976700951448167, 'reg_lambda': 2.062168103600992, 'reg_alpha': 7.259489065144313}. Best is trial 26 with value: 0.008137278258800507.\n"
          ]
        },
        {
          "output_type": "stream",
          "name": "stdout",
          "text": [
            "✅ Best trial for model 1: RMSE = 0.0081\n"
          ]
        },
        {
          "output_type": "stream",
          "name": "stderr",
          "text": [
            "[I 2025-05-05 08:24:35,576] A new study created in memory with name: no-name-59d61359-144a-4a24-a414-b0b2fc611b88\n"
          ]
        },
        {
          "output_type": "stream",
          "name": "stdout",
          "text": [
            "\n",
            "🔁 Optimizing model 2/5\n"
          ]
        },
        {
          "output_type": "stream",
          "name": "stderr",
          "text": [
            "[I 2025-05-05 08:24:37,538] Trial 0 finished with value: 0.014530627056956291 and parameters: {'n_estimators': 377, 'max_depth': 9, 'learning_rate': 0.1487347806666731, 'subsample': 0.7731826573248057, 'colsample_bytree': 0.9437413492172427, 'reg_lambda': 7.705554693652514, 'reg_alpha': 1.6525850050118003}. Best is trial 0 with value: 0.014530627056956291.\n",
            "[I 2025-05-05 08:24:37,928] Trial 1 finished with value: 0.014375206083059311 and parameters: {'n_estimators': 132, 'max_depth': 7, 'learning_rate': 0.1420114745284488, 'subsample': 0.8314679949228443, 'colsample_bytree': 0.9921903247092208, 'reg_lambda': 0.929717567560089, 'reg_alpha': 5.646109177504254}. Best is trial 1 with value: 0.014375206083059311.\n",
            "[I 2025-05-05 08:24:38,375] Trial 2 finished with value: 0.021167241036891937 and parameters: {'n_estimators': 107, 'max_depth': 8, 'learning_rate': 0.1969226597559722, 'subsample': 0.8594167951604742, 'colsample_bytree': 0.9765754130591817, 'reg_lambda': 2.3231750381115104, 'reg_alpha': 5.087560950385049}. Best is trial 1 with value: 0.014375206083059311.\n",
            "[I 2025-05-05 08:24:38,686] Trial 3 finished with value: 0.021618347615003586 and parameters: {'n_estimators': 124, 'max_depth': 5, 'learning_rate': 0.1831393506374171, 'subsample': 0.7298646331031936, 'colsample_bytree': 0.7022524609941245, 'reg_lambda': 5.0117317917679625, 'reg_alpha': 3.5681666725868277}. Best is trial 1 with value: 0.014375206083059311.\n",
            "[I 2025-05-05 08:24:39,273] Trial 4 finished with value: 0.032565489411354065 and parameters: {'n_estimators': 174, 'max_depth': 9, 'learning_rate': 0.22134317139021098, 'subsample': 0.9619081509012657, 'colsample_bytree': 0.7793669080806013, 'reg_lambda': 6.996803795578122, 'reg_alpha': 8.80310395505401}. Best is trial 1 with value: 0.014375206083059311.\n",
            "[I 2025-05-05 08:24:39,992] Trial 5 finished with value: 0.0173711646348238 and parameters: {'n_estimators': 218, 'max_depth': 8, 'learning_rate': 0.15089573918255378, 'subsample': 0.9061737308335347, 'colsample_bytree': 0.8987052549430705, 'reg_lambda': 3.1881095797146655, 'reg_alpha': 4.945896048801756}. Best is trial 1 with value: 0.014375206083059311.\n",
            "[I 2025-05-05 08:24:40,441] Trial 6 finished with value: 0.009893983602523804 and parameters: {'n_estimators': 199, 'max_depth': 4, 'learning_rate': 0.07024629293809614, 'subsample': 0.793457619015941, 'colsample_bytree': 0.7343855954863496, 'reg_lambda': 0.4125973593702229, 'reg_alpha': 4.513219823741349}. Best is trial 6 with value: 0.009893983602523804.\n",
            "[I 2025-05-05 08:24:40,798] Trial 7 finished with value: 0.03380892425775528 and parameters: {'n_estimators': 127, 'max_depth': 6, 'learning_rate': 0.19468029664068465, 'subsample': 0.7246175427327833, 'colsample_bytree': 0.8576751904332081, 'reg_lambda': 5.588292368096294, 'reg_alpha': 8.716021574309307}. Best is trial 6 with value: 0.009893983602523804.\n",
            "[I 2025-05-05 08:24:41,122] Trial 8 finished with value: 0.05568118020892143 and parameters: {'n_estimators': 196, 'max_depth': 3, 'learning_rate': 0.21289471526920115, 'subsample': 0.8083253135134414, 'colsample_bytree': 0.8766895607638319, 'reg_lambda': 2.4814118800573115, 'reg_alpha': 9.694904394874975}. Best is trial 6 with value: 0.009893983602523804.\n",
            "[I 2025-05-05 08:24:41,711] Trial 9 finished with value: 0.021777231246232986 and parameters: {'n_estimators': 367, 'max_depth': 3, 'learning_rate': 0.09746917817726482, 'subsample': 0.9558438046693636, 'colsample_bytree': 0.7093685980433123, 'reg_lambda': 4.513810321238526, 'reg_alpha': 3.2110280461542615}. Best is trial 6 with value: 0.009893983602523804.\n",
            "[I 2025-05-05 08:24:43,032] Trial 10 finished with value: 0.030674409121274948 and parameters: {'n_estimators': 493, 'max_depth': 5, 'learning_rate': 0.011427087927166485, 'subsample': 0.884707771385499, 'colsample_bytree': 0.7876357613153201, 'reg_lambda': 9.383303941123527, 'reg_alpha': 0.5013631447220819}. Best is trial 6 with value: 0.009893983602523804.\n",
            "[I 2025-05-05 08:24:44,617] Trial 11 finished with value: 0.024647070094943047 and parameters: {'n_estimators': 271, 'max_depth': 7, 'learning_rate': 0.28744480374736914, 'subsample': 0.811139834815697, 'colsample_bytree': 0.7968056283427832, 'reg_lambda': 0.31056945270419045, 'reg_alpha': 6.5667632304921835}. Best is trial 6 with value: 0.009893983602523804.\n",
            "[I 2025-05-05 08:24:47,206] Trial 12 finished with value: 0.01007281057536602 and parameters: {'n_estimators': 251, 'max_depth': 5, 'learning_rate': 0.07689537432946257, 'subsample': 0.8108772562159016, 'colsample_bytree': 0.9208818164181577, 'reg_lambda': 0.12710992995674208, 'reg_alpha': 6.521477644307671}. Best is trial 6 with value: 0.009893983602523804.\n",
            "[I 2025-05-05 08:24:47,810] Trial 13 finished with value: 0.009883377701044083 and parameters: {'n_estimators': 275, 'max_depth': 4, 'learning_rate': 0.053189664197706134, 'subsample': 0.7609387765145621, 'colsample_bytree': 0.9052521083774705, 'reg_lambda': 0.1590948328321951, 'reg_alpha': 6.863225746704662}. Best is trial 13 with value: 0.009883377701044083.\n",
            "[I 2025-05-05 08:24:48,611] Trial 14 finished with value: 0.03340640291571617 and parameters: {'n_estimators': 357, 'max_depth': 4, 'learning_rate': 0.01562971112234072, 'subsample': 0.774123441555255, 'colsample_bytree': 0.8298104424242211, 'reg_lambda': 1.6345849747316463, 'reg_alpha': 7.245556815091271}. Best is trial 13 with value: 0.009883377701044083.\n",
            "[I 2025-05-05 08:24:49,272] Trial 15 finished with value: 0.012404272332787514 and parameters: {'n_estimators': 303, 'max_depth': 4, 'learning_rate': 0.06795190319958468, 'subsample': 0.7605698099672261, 'colsample_bytree': 0.7440642331255412, 'reg_lambda': 3.327321158901958, 'reg_alpha': 4.185743560648564}. Best is trial 13 with value: 0.009883377701044083.\n",
            "[I 2025-05-05 08:24:49,961] Trial 16 finished with value: 0.009749345481395721 and parameters: {'n_estimators': 299, 'max_depth': 4, 'learning_rate': 0.04945736416447901, 'subsample': 0.7127744298929182, 'colsample_bytree': 0.8330161691152128, 'reg_lambda': 1.5262806069845132, 'reg_alpha': 2.411515495204921}. Best is trial 16 with value: 0.009749345481395721.\n",
            "[I 2025-05-05 08:24:50,910] Trial 17 finished with value: 0.012733740732073784 and parameters: {'n_estimators': 320, 'max_depth': 6, 'learning_rate': 0.1150823074331366, 'subsample': 0.7137405530161386, 'colsample_bytree': 0.8336216125447304, 'reg_lambda': 1.6287865309805791, 'reg_alpha': 2.6366812588763953}. Best is trial 16 with value: 0.009749345481395721.\n",
            "[I 2025-05-05 08:24:51,712] Trial 18 finished with value: 0.010266057215631008 and parameters: {'n_estimators': 434, 'max_depth': 3, 'learning_rate': 0.039265085816022914, 'subsample': 0.7439778184663082, 'colsample_bytree': 0.941084607021424, 'reg_lambda': 4.196267559916442, 'reg_alpha': 1.637805114659776}. Best is trial 16 with value: 0.009749345481395721.\n",
            "[I 2025-05-05 08:24:52,406] Trial 19 finished with value: 0.008938929066061974 and parameters: {'n_estimators': 264, 'max_depth': 4, 'learning_rate': 0.044232628889269564, 'subsample': 0.7122776116656956, 'colsample_bytree': 0.8897468993182855, 'reg_lambda': 1.4123914566355724, 'reg_alpha': 0.17111254189993286}. Best is trial 19 with value: 0.008938929066061974.\n",
            "[I 2025-05-05 08:24:53,547] Trial 20 finished with value: 0.011132543906569481 and parameters: {'n_estimators': 417, 'max_depth': 5, 'learning_rate': 0.11114386255681821, 'subsample': 0.7057807519782523, 'colsample_bytree': 0.8637159588737044, 'reg_lambda': 6.582232111618833, 'reg_alpha': 0.22008698810679805}. Best is trial 19 with value: 0.008938929066061974.\n",
            "[I 2025-05-05 08:24:54,276] Trial 21 finished with value: 0.009356553666293621 and parameters: {'n_estimators': 266, 'max_depth': 4, 'learning_rate': 0.04126746917505507, 'subsample': 0.7019963127138892, 'colsample_bytree': 0.896689217744857, 'reg_lambda': 1.2732375251874086, 'reg_alpha': 1.4052879283994641}. Best is trial 19 with value: 0.008938929066061974.\n",
            "[I 2025-05-05 08:24:54,732] Trial 22 finished with value: 0.010821662843227386 and parameters: {'n_estimators': 242, 'max_depth': 3, 'learning_rate': 0.04259980833808594, 'subsample': 0.7060472819158227, 'colsample_bytree': 0.8195674105755107, 'reg_lambda': 1.5426528546746732, 'reg_alpha': 1.3837595622679628}. Best is trial 19 with value: 0.008938929066061974.\n",
            "[I 2025-05-05 08:24:55,496] Trial 23 finished with value: 0.009642200544476509 and parameters: {'n_estimators': 324, 'max_depth': 4, 'learning_rate': 0.03199388031796728, 'subsample': 0.7435212846144468, 'colsample_bytree': 0.8833416507838201, 'reg_lambda': 3.1353523587640426, 'reg_alpha': 2.4426674216773363}. Best is trial 19 with value: 0.008938929066061974.\n",
            "[I 2025-05-05 08:24:56,628] Trial 24 finished with value: 0.010232447646558285 and parameters: {'n_estimators': 330, 'max_depth': 6, 'learning_rate': 0.021970341396145336, 'subsample': 0.7415610016380577, 'colsample_bytree': 0.885859313924215, 'reg_lambda': 3.315545017614659, 'reg_alpha': 0.7946348082118415}. Best is trial 19 with value: 0.008938929066061974.\n",
            "[I 2025-05-05 08:24:59,744] Trial 25 finished with value: 0.011913202702999115 and parameters: {'n_estimators': 236, 'max_depth': 10, 'learning_rate': 0.0959296617146497, 'subsample': 0.7448631159391983, 'colsample_bytree': 0.9310335740293227, 'reg_lambda': 2.529423341071988, 'reg_alpha': 2.375269461198592}. Best is trial 19 with value: 0.008938929066061974.\n",
            "[I 2025-05-05 08:25:01,165] Trial 26 finished with value: 0.009531229734420776 and parameters: {'n_estimators': 277, 'max_depth': 5, 'learning_rate': 0.03175257790120664, 'subsample': 0.7870036063137034, 'colsample_bytree': 0.9617201919407345, 'reg_lambda': 3.8658563010163807, 'reg_alpha': 1.181096110093624}. Best is trial 19 with value: 0.008938929066061974.\n",
            "[I 2025-05-05 08:25:01,711] Trial 27 finished with value: 0.01174568198621273 and parameters: {'n_estimators': 163, 'max_depth': 5, 'learning_rate': 0.08161101486329013, 'subsample': 0.8374994823826509, 'colsample_bytree': 0.9636303803310794, 'reg_lambda': 5.783315236749403, 'reg_alpha': 1.0767729884059534}. Best is trial 19 with value: 0.008938929066061974.\n",
            "[I 2025-05-05 08:25:02,710] Trial 28 finished with value: 0.011050349101424217 and parameters: {'n_estimators': 268, 'max_depth': 6, 'learning_rate': 0.26363134418428147, 'subsample': 0.9960411420634954, 'colsample_bytree': 0.9529151185480014, 'reg_lambda': 3.7954574793640994, 'reg_alpha': 0.12749033785667185}. Best is trial 19 with value: 0.008938929066061974.\n",
            "[I 2025-05-05 08:25:03,888] Trial 29 finished with value: 0.011462852358818054 and parameters: {'n_estimators': 406, 'max_depth': 5, 'learning_rate': 0.058809452421545616, 'subsample': 0.7795724921050027, 'colsample_bytree': 0.9132074063704778, 'reg_lambda': 8.108506907124298, 'reg_alpha': 1.664900747531752}. Best is trial 19 with value: 0.008938929066061974.\n"
          ]
        },
        {
          "output_type": "stream",
          "name": "stdout",
          "text": [
            "✅ Best trial for model 2: RMSE = 0.0089\n"
          ]
        },
        {
          "output_type": "stream",
          "name": "stderr",
          "text": [
            "[I 2025-05-05 08:25:04,501] A new study created in memory with name: no-name-b733fc44-3887-44b6-91d3-b1fd06469e71\n"
          ]
        },
        {
          "output_type": "stream",
          "name": "stdout",
          "text": [
            "\n",
            "🔁 Optimizing model 3/5\n"
          ]
        },
        {
          "output_type": "stream",
          "name": "stderr",
          "text": [
            "[I 2025-05-05 08:25:05,371] Trial 0 finished with value: 0.00998504925519228 and parameters: {'n_estimators': 297, 'max_depth': 10, 'learning_rate': 0.044270188495287625, 'subsample': 0.8066502155293538, 'colsample_bytree': 0.9503483395997685, 'reg_lambda': 8.635312406797713, 'reg_alpha': 4.571346918232657}. Best is trial 0 with value: 0.00998504925519228.\n",
            "[I 2025-05-05 08:25:06,098] Trial 1 finished with value: 0.01037268154323101 and parameters: {'n_estimators': 172, 'max_depth': 10, 'learning_rate': 0.0926057318194985, 'subsample': 0.961881320645962, 'colsample_bytree': 0.9916452141149037, 'reg_lambda': 2.046530291273023, 'reg_alpha': 2.5266884433704973}. Best is trial 0 with value: 0.00998504925519228.\n",
            "[I 2025-05-05 08:25:06,687] Trial 2 finished with value: 0.017864521592855453 and parameters: {'n_estimators': 384, 'max_depth': 3, 'learning_rate': 0.07583326624823829, 'subsample': 0.8313029221555959, 'colsample_bytree': 0.8745768775019015, 'reg_lambda': 7.885165843426611, 'reg_alpha': 7.24173319914365}. Best is trial 0 with value: 0.00998504925519228.\n",
            "[I 2025-05-05 08:25:07,138] Trial 3 finished with value: 78.61251068115234 and parameters: {'n_estimators': 135, 'max_depth': 7, 'learning_rate': 0.010667829089526053, 'subsample': 0.7123641121227119, 'colsample_bytree': 0.8161723814162587, 'reg_lambda': 3.880837922016014, 'reg_alpha': 6.803975305875533}. Best is trial 0 with value: 0.00998504925519228.\n",
            "[I 2025-05-05 08:25:07,643] Trial 4 finished with value: 0.020951250568032265 and parameters: {'n_estimators': 301, 'max_depth': 3, 'learning_rate': 0.13281458712480157, 'subsample': 0.8975522444072516, 'colsample_bytree': 0.9416518214498546, 'reg_lambda': 8.270764532628164, 'reg_alpha': 0.2258609840057214}. Best is trial 0 with value: 0.00998504925519228.\n",
            "[I 2025-05-05 08:25:08,087] Trial 5 finished with value: 0.01128745824098587 and parameters: {'n_estimators': 151, 'max_depth': 8, 'learning_rate': 0.0678637023810588, 'subsample': 0.7020088869135745, 'colsample_bytree': 0.7834355765330591, 'reg_lambda': 2.54742900057463, 'reg_alpha': 5.546554720608775}. Best is trial 0 with value: 0.00998504925519228.\n",
            "[I 2025-05-05 08:25:08,926] Trial 6 finished with value: 0.011103475466370583 and parameters: {'n_estimators': 487, 'max_depth': 5, 'learning_rate': 0.05607216354352952, 'subsample': 0.8242034642597788, 'colsample_bytree': 0.9114317674164578, 'reg_lambda': 5.033860829506056, 'reg_alpha': 9.488728511208246}. Best is trial 0 with value: 0.00998504925519228.\n",
            "[I 2025-05-05 08:25:09,548] Trial 7 finished with value: 0.0301606897264719 and parameters: {'n_estimators': 168, 'max_depth': 10, 'learning_rate': 0.29779221237715664, 'subsample': 0.8841300108875141, 'colsample_bytree': 0.7647103131381463, 'reg_lambda': 3.6695718200961163, 'reg_alpha': 7.529087940827615}. Best is trial 0 with value: 0.00998504925519228.\n",
            "[I 2025-05-05 08:25:10,594] Trial 8 finished with value: 0.02039448171854019 and parameters: {'n_estimators': 423, 'max_depth': 6, 'learning_rate': 0.22126625948116296, 'subsample': 0.9079559382585858, 'colsample_bytree': 0.8660210655665347, 'reg_lambda': 1.7729275321363978, 'reg_alpha': 6.084346117934879}. Best is trial 0 with value: 0.00998504925519228.\n",
            "[I 2025-05-05 08:25:11,202] Trial 9 finished with value: 0.024622704833745956 and parameters: {'n_estimators': 102, 'max_depth': 5, 'learning_rate': 0.2541237221297227, 'subsample': 0.7125890662069495, 'colsample_bytree': 0.8392410254331927, 'reg_lambda': 7.236466764712022, 'reg_alpha': 4.178494891073841}. Best is trial 0 with value: 0.00998504925519228.\n",
            "[I 2025-05-05 08:25:14,588] Trial 10 finished with value: 0.012170452624559402 and parameters: {'n_estimators': 279, 'max_depth': 9, 'learning_rate': 0.16228515070087365, 'subsample': 0.7979897978461233, 'colsample_bytree': 0.9855628374495994, 'reg_lambda': 0.16898831285601013, 'reg_alpha': 3.461978975188304}. Best is trial 0 with value: 0.00998504925519228.\n",
            "[I 2025-05-05 08:25:15,960] Trial 11 finished with value: 0.013118160888552666 and parameters: {'n_estimators': 234, 'max_depth': 10, 'learning_rate': 0.12260686309501968, 'subsample': 0.9945730340583809, 'colsample_bytree': 0.9810833956944794, 'reg_lambda': 9.609957832219663, 'reg_alpha': 1.8174112668381115}. Best is trial 0 with value: 0.00998504925519228.\n",
            "[I 2025-05-05 08:25:16,725] Trial 12 finished with value: 3.113323450088501 and parameters: {'n_estimators': 224, 'max_depth': 9, 'learning_rate': 0.013664430114247242, 'subsample': 0.9895360771450353, 'colsample_bytree': 0.9995779512191502, 'reg_lambda': 6.204233095762797, 'reg_alpha': 2.875310101131824}. Best is trial 0 with value: 0.00998504925519228.\n",
            "[I 2025-05-05 08:25:18,206] Trial 13 finished with value: 0.011413821950554848 and parameters: {'n_estimators': 344, 'max_depth': 8, 'learning_rate': 0.10752838704687259, 'subsample': 0.7749061024636337, 'colsample_bytree': 0.7074455496178484, 'reg_lambda': 5.516749210225458, 'reg_alpha': 1.2520652192637995}. Best is trial 0 with value: 0.00998504925519228.\n",
            "[I 2025-05-05 08:25:19,205] Trial 14 finished with value: 0.020276617258787155 and parameters: {'n_estimators': 219, 'max_depth': 10, 'learning_rate': 0.18024806229882756, 'subsample': 0.9433893900143588, 'colsample_bytree': 0.9372298420069392, 'reg_lambda': 9.918410665596877, 'reg_alpha': 4.563042218185633}. Best is trial 0 with value: 0.00998504925519228.\n",
            "[I 2025-05-05 08:25:20,969] Trial 15 finished with value: 0.008938749320805073 and parameters: {'n_estimators': 292, 'max_depth': 9, 'learning_rate': 0.04655603153108325, 'subsample': 0.7604232406233102, 'colsample_bytree': 0.9466403525617231, 'reg_lambda': 0.18577365087702624, 'reg_alpha': 2.8405480034761363}. Best is trial 15 with value: 0.008938749320805073.\n",
            "[I 2025-05-05 08:25:21,937] Trial 16 finished with value: 0.009007182903587818 and parameters: {'n_estimators': 307, 'max_depth': 8, 'learning_rate': 0.0385497832345327, 'subsample': 0.759875018524568, 'colsample_bytree': 0.9313728831277805, 'reg_lambda': 0.13333303482900316, 'reg_alpha': 3.631708115204249}. Best is trial 15 with value: 0.008938749320805073.\n",
            "[I 2025-05-05 08:25:23,628] Trial 17 finished with value: 0.008636191487312317 and parameters: {'n_estimators': 360, 'max_depth': 8, 'learning_rate': 0.040941947703187855, 'subsample': 0.7566455969738339, 'colsample_bytree': 0.9030636803358623, 'reg_lambda': 0.274453668660375, 'reg_alpha': 0.9531532551608413}. Best is trial 17 with value: 0.008636191487312317.\n",
            "[I 2025-05-05 08:25:28,685] Trial 18 finished with value: 0.010796315968036652 and parameters: {'n_estimators': 412, 'max_depth': 7, 'learning_rate': 0.18127613923821884, 'subsample': 0.7536382509055692, 'colsample_bytree': 0.8975173471516218, 'reg_lambda': 1.0488110074011914, 'reg_alpha': 0.16942345645035184}. Best is trial 17 with value: 0.008636191487312317.\n",
            "[I 2025-05-05 08:25:30,491] Trial 19 finished with value: 0.010865297168493271 and parameters: {'n_estimators': 369, 'max_depth': 9, 'learning_rate': 0.09215387352089988, 'subsample': 0.7369111972939846, 'colsample_bytree': 0.899806489614733, 'reg_lambda': 3.1746900964764997, 'reg_alpha': 1.6533182155106592}. Best is trial 17 with value: 0.008636191487312317.\n",
            "[I 2025-05-05 08:25:31,324] Trial 20 finished with value: 0.008944502100348473 and parameters: {'n_estimators': 260, 'max_depth': 6, 'learning_rate': 0.03167070088640609, 'subsample': 0.8609878857344724, 'colsample_bytree': 0.8246433273133559, 'reg_lambda': 1.2270251597509394, 'reg_alpha': 0.9160466724098799}. Best is trial 17 with value: 0.008636191487312317.\n",
            "[I 2025-05-05 08:25:32,187] Trial 21 finished with value: 0.008931256830692291 and parameters: {'n_estimators': 264, 'max_depth': 6, 'learning_rate': 0.03049258658964471, 'subsample': 0.8599572988611022, 'colsample_bytree': 0.8301488938828161, 'reg_lambda': 0.9698978666018983, 'reg_alpha': 1.0080149568626}. Best is trial 17 with value: 0.008636191487312317.\n",
            "[I 2025-05-05 08:25:33,001] Trial 22 finished with value: 0.009354033507406712 and parameters: {'n_estimators': 341, 'max_depth': 5, 'learning_rate': 0.06776725593284207, 'subsample': 0.8634052328163252, 'colsample_bytree': 0.8696695962847276, 'reg_lambda': 0.9518432606363934, 'reg_alpha': 2.7127986939254773}. Best is trial 17 with value: 0.008636191487312317.\n",
            "[I 2025-05-05 08:25:34,039] Trial 23 finished with value: 0.008773112669587135 and parameters: {'n_estimators': 339, 'max_depth': 7, 'learning_rate': 0.030515513155486867, 'subsample': 0.7868312359415226, 'colsample_bytree': 0.7928346291173449, 'reg_lambda': 0.25753220860159287, 'reg_alpha': 2.1977354833339433}. Best is trial 17 with value: 0.008636191487312317.\n",
            "[I 2025-05-05 08:25:35,459] Trial 24 finished with value: 0.10452854633331299 and parameters: {'n_estimators': 463, 'max_depth': 7, 'learning_rate': 0.010402116289245505, 'subsample': 0.7895888805155071, 'colsample_bytree': 0.78971009875123, 'reg_lambda': 2.68784894268607, 'reg_alpha': 2.089493872150062}. Best is trial 17 with value: 0.008636191487312317.\n",
            "[I 2025-05-05 08:25:36,513] Trial 25 finished with value: 0.00877537950873375 and parameters: {'n_estimators': 340, 'max_depth': 6, 'learning_rate': 0.03145191387518825, 'subsample': 0.836763489716234, 'colsample_bytree': 0.719861358850181, 'reg_lambda': 1.519438943603801, 'reg_alpha': 0.8872801176584699}. Best is trial 17 with value: 0.008636191487312317.\n",
            "[I 2025-05-05 08:25:37,280] Trial 26 finished with value: 0.010126232169568539 and parameters: {'n_estimators': 341, 'max_depth': 4, 'learning_rate': 0.08466239405358969, 'subsample': 0.8264901720795195, 'colsample_bytree': 0.7483858107118618, 'reg_lambda': 1.802958260397875, 'reg_alpha': 0.9380536874292342}. Best is trial 17 with value: 0.008636191487312317.\n",
            "[I 2025-05-05 08:25:41,813] Trial 27 finished with value: 0.010695178061723709 and parameters: {'n_estimators': 414, 'max_depth': 7, 'learning_rate': 0.13838497472182754, 'subsample': 0.7364577028388707, 'colsample_bytree': 0.7099828151177942, 'reg_lambda': 4.3728993937131735, 'reg_alpha': 0.18846273117259393}. Best is trial 17 with value: 0.008636191487312317.\n",
            "[I 2025-05-05 08:25:43,149] Trial 28 finished with value: 0.010693746618926525 and parameters: {'n_estimators': 364, 'max_depth': 8, 'learning_rate': 0.10363960295782138, 'subsample': 0.7827838841795076, 'colsample_bytree': 0.735209509026592, 'reg_lambda': 2.379586775837108, 'reg_alpha': 1.8771752512936826}. Best is trial 17 with value: 0.008636191487312317.\n",
            "[I 2025-05-05 08:25:43,979] Trial 29 finished with value: 0.009109945967793465 and parameters: {'n_estimators': 320, 'max_depth': 6, 'learning_rate': 0.04465256312251423, 'subsample': 0.8123990914228075, 'colsample_bytree': 0.7922614440562282, 'reg_lambda': 1.4377517254320042, 'reg_alpha': 3.57707663376229}. Best is trial 17 with value: 0.008636191487312317.\n"
          ]
        },
        {
          "output_type": "stream",
          "name": "stdout",
          "text": [
            "✅ Best trial for model 3: RMSE = 0.0086\n"
          ]
        },
        {
          "output_type": "stream",
          "name": "stderr",
          "text": [
            "[I 2025-05-05 08:25:45,652] A new study created in memory with name: no-name-02b3a1c9-4a19-4bcb-a3e3-92ef6a2b1943\n"
          ]
        },
        {
          "output_type": "stream",
          "name": "stdout",
          "text": [
            "\n",
            "🔁 Optimizing model 4/5\n"
          ]
        },
        {
          "output_type": "stream",
          "name": "stderr",
          "text": [
            "[I 2025-05-05 08:25:46,040] Trial 0 finished with value: 0.01679636538028717 and parameters: {'n_estimators': 179, 'max_depth': 9, 'learning_rate': 0.11877575532336121, 'subsample': 0.8849165211648147, 'colsample_bytree': 0.7067387860148038, 'reg_lambda': 2.419622609370354, 'reg_alpha': 9.336758257969365}. Best is trial 0 with value: 0.01679636538028717.\n",
            "[I 2025-05-05 08:25:48,123] Trial 1 finished with value: 0.012874145992100239 and parameters: {'n_estimators': 466, 'max_depth': 9, 'learning_rate': 0.2985553129619403, 'subsample': 0.7682948897559817, 'colsample_bytree': 0.916469622125999, 'reg_lambda': 4.060864769558426, 'reg_alpha': 1.5110648561772224}. Best is trial 1 with value: 0.012874145992100239.\n",
            "[I 2025-05-05 08:25:48,417] Trial 2 finished with value: 0.012509548105299473 and parameters: {'n_estimators': 117, 'max_depth': 4, 'learning_rate': 0.07427625931165893, 'subsample': 0.9343151065618789, 'colsample_bytree': 0.8137091089869106, 'reg_lambda': 5.509538621438013, 'reg_alpha': 2.0951896572585333}. Best is trial 2 with value: 0.012509548105299473.\n",
            "[I 2025-05-05 08:25:48,801] Trial 3 finished with value: 0.025438949465751648 and parameters: {'n_estimators': 161, 'max_depth': 4, 'learning_rate': 0.18616309584304835, 'subsample': 0.8002480153574146, 'colsample_bytree': 0.7601281238410261, 'reg_lambda': 1.2303517895878289, 'reg_alpha': 5.995659249804681}. Best is trial 2 with value: 0.012509548105299473.\n",
            "[I 2025-05-05 08:25:49,261] Trial 4 finished with value: 0.01494087278842926 and parameters: {'n_estimators': 130, 'max_depth': 9, 'learning_rate': 0.14164521324758828, 'subsample': 0.9419569349877734, 'colsample_bytree': 0.7128157830239303, 'reg_lambda': 2.785706486014428, 'reg_alpha': 3.588403244650015}. Best is trial 2 with value: 0.012509548105299473.\n",
            "[I 2025-05-05 08:25:49,704] Trial 5 finished with value: 0.012194400653243065 and parameters: {'n_estimators': 198, 'max_depth': 4, 'learning_rate': 0.07247553997435516, 'subsample': 0.8805447185486897, 'colsample_bytree': 0.8200785086111434, 'reg_lambda': 4.649322296785301, 'reg_alpha': 5.38412357621175}. Best is trial 5 with value: 0.012194400653243065.\n",
            "[I 2025-05-05 08:25:50,257] Trial 6 finished with value: 0.013734073378145695 and parameters: {'n_estimators': 167, 'max_depth': 8, 'learning_rate': 0.08793322520746757, 'subsample': 0.8270287059912328, 'colsample_bytree': 0.7415546564190346, 'reg_lambda': 8.274140939654746, 'reg_alpha': 2.798312393562301}. Best is trial 5 with value: 0.012194400653243065.\n",
            "[I 2025-05-05 08:25:52,301] Trial 7 finished with value: 0.01097286120057106 and parameters: {'n_estimators': 349, 'max_depth': 10, 'learning_rate': 0.0845799841927662, 'subsample': 0.8335726574256376, 'colsample_bytree': 0.7592817886002989, 'reg_lambda': 4.893835641145483, 'reg_alpha': 2.1506301615004406}. Best is trial 7 with value: 0.01097286120057106.\n",
            "[I 2025-05-05 08:25:55,258] Trial 8 finished with value: 0.01245107501745224 and parameters: {'n_estimators': 193, 'max_depth': 9, 'learning_rate': 0.0930041074071396, 'subsample': 0.8889992348270562, 'colsample_bytree': 0.8547950417571181, 'reg_lambda': 6.2852206552852055, 'reg_alpha': 1.9128193367051378}. Best is trial 7 with value: 0.01097286120057106.\n",
            "[I 2025-05-05 08:25:56,403] Trial 9 finished with value: 0.015262307599186897 and parameters: {'n_estimators': 327, 'max_depth': 6, 'learning_rate': 0.24324561892942623, 'subsample': 0.9136370669976464, 'colsample_bytree': 0.9731933373559303, 'reg_lambda': 9.397971677996429, 'reg_alpha': 1.9120221829470425}. Best is trial 7 with value: 0.01097286120057106.\n",
            "[I 2025-05-05 08:25:57,622] Trial 10 finished with value: 0.17435523867607117 and parameters: {'n_estimators': 363, 'max_depth': 7, 'learning_rate': 0.012545094863150738, 'subsample': 0.7202692886530063, 'colsample_bytree': 0.8909976756438257, 'reg_lambda': 7.139256966861129, 'reg_alpha': 0.13673840382946567}. Best is trial 7 with value: 0.01097286120057106.\n",
            "[I 2025-05-05 08:25:58,124] Trial 11 finished with value: 0.012393156997859478 and parameters: {'n_estimators': 261, 'max_depth': 3, 'learning_rate': 0.025441274316370548, 'subsample': 0.9981053605673582, 'colsample_bytree': 0.8205308398255456, 'reg_lambda': 4.389093113838561, 'reg_alpha': 5.869677113748571}. Best is trial 7 with value: 0.01097286120057106.\n",
            "[I 2025-05-05 08:25:58,964] Trial 12 finished with value: 0.009903614409267902 and parameters: {'n_estimators': 409, 'max_depth': 5, 'learning_rate': 0.057300502622700686, 'subsample': 0.8410789307730412, 'colsample_bytree': 0.784343124131622, 'reg_lambda': 3.741252595316073, 'reg_alpha': 4.522413437444836}. Best is trial 12 with value: 0.009903614409267902.\n",
            "[I 2025-05-05 08:26:00,061] Trial 13 finished with value: 0.015183459036052227 and parameters: {'n_estimators': 426, 'max_depth': 6, 'learning_rate': 0.18386912924898174, 'subsample': 0.8222374941361416, 'colsample_bytree': 0.7644261366283368, 'reg_lambda': 0.29981208985549923, 'reg_alpha': 4.329422934234666}. Best is trial 12 with value: 0.009903614409267902.\n",
            "[I 2025-05-05 08:26:00,931] Trial 14 finished with value: 0.009538218379020691 and parameters: {'n_estimators': 397, 'max_depth': 10, 'learning_rate': 0.04508999508063587, 'subsample': 0.7743832633807117, 'colsample_bytree': 0.7841563976624581, 'reg_lambda': 2.946156845665933, 'reg_alpha': 7.370892736267418}. Best is trial 14 with value: 0.009538218379020691.\n",
            "[I 2025-05-05 08:26:01,797] Trial 15 finished with value: 0.009423201903700829 and parameters: {'n_estimators': 415, 'max_depth': 5, 'learning_rate': 0.03967239975412226, 'subsample': 0.7540702841522827, 'colsample_bytree': 0.7948833953500658, 'reg_lambda': 2.3013855362153204, 'reg_alpha': 7.619347708668804}. Best is trial 15 with value: 0.009423201903700829.\n",
            "[I 2025-05-05 08:26:02,799] Trial 16 finished with value: 0.009328575804829597 and parameters: {'n_estimators': 497, 'max_depth': 7, 'learning_rate': 0.03952727521636544, 'subsample': 0.7272143596945855, 'colsample_bytree': 0.87093891032644, 'reg_lambda': 2.188624951260873, 'reg_alpha': 7.531272102226332}. Best is trial 16 with value: 0.009328575804829597.\n",
            "[I 2025-05-05 08:26:03,890] Trial 17 finished with value: 0.01784341409802437 and parameters: {'n_estimators': 497, 'max_depth': 7, 'learning_rate': 0.12699159793429737, 'subsample': 0.7140516675566516, 'colsample_bytree': 0.8774329850076343, 'reg_lambda': 1.7098325609256535, 'reg_alpha': 8.251346238823496}. Best is trial 16 with value: 0.009328575804829597.\n",
            "[I 2025-05-05 08:26:04,842] Trial 18 finished with value: 0.01725681498646736 and parameters: {'n_estimators': 453, 'max_depth': 5, 'learning_rate': 0.17481907854111872, 'subsample': 0.7465963546806579, 'colsample_bytree': 0.9480209243241308, 'reg_lambda': 0.19586694336171506, 'reg_alpha': 7.260781167276799}. Best is trial 16 with value: 0.009328575804829597.\n",
            "[I 2025-05-05 08:26:06,814] Trial 19 finished with value: 0.009311999194324017 and parameters: {'n_estimators': 276, 'max_depth': 5, 'learning_rate': 0.03481762477492294, 'subsample': 0.7477920483504626, 'colsample_bytree': 0.8469416131929546, 'reg_lambda': 1.359094212165214, 'reg_alpha': 9.890354572432724}. Best is trial 19 with value: 0.009311999194324017.\n",
            "[I 2025-05-05 08:26:08,994] Trial 20 finished with value: 5.013728141784668 and parameters: {'n_estimators': 265, 'max_depth': 7, 'learning_rate': 0.010625503077523774, 'subsample': 0.7307373985336367, 'colsample_bytree': 0.9277693519554987, 'reg_lambda': 1.2633590371758858, 'reg_alpha': 9.573384195940402}. Best is trial 19 with value: 0.009311999194324017.\n",
            "[I 2025-05-05 08:26:09,919] Trial 21 finished with value: 0.009574554860591888 and parameters: {'n_estimators': 500, 'max_depth': 5, 'learning_rate': 0.042940187530041155, 'subsample': 0.7024776464997599, 'colsample_bytree': 0.850247622456948, 'reg_lambda': 2.0462938278828067, 'reg_alpha': 8.66292027933747}. Best is trial 19 with value: 0.009311999194324017.\n",
            "[I 2025-05-05 08:26:10,605] Trial 22 finished with value: 0.009484203532338142 and parameters: {'n_estimators': 281, 'max_depth': 6, 'learning_rate': 0.04341700870326105, 'subsample': 0.762240534356101, 'colsample_bytree': 0.8798512220754214, 'reg_lambda': 3.3105775011954037, 'reg_alpha': 7.041746408449386}. Best is trial 19 with value: 0.009311999194324017.\n",
            "[I 2025-05-05 08:26:11,042] Trial 23 finished with value: 0.03323221206665039 and parameters: {'n_estimators': 235, 'max_depth': 3, 'learning_rate': 0.1114549152494492, 'subsample': 0.8007183612732681, 'colsample_bytree': 0.8443191826179296, 'reg_lambda': 1.0846279050135454, 'reg_alpha': 9.97016030011013}. Best is trial 19 with value: 0.009311999194324017.\n",
            "[I 2025-05-05 08:26:11,859] Trial 24 finished with value: 0.00909916777163744 and parameters: {'n_estimators': 376, 'max_depth': 5, 'learning_rate': 0.031336093511547036, 'subsample': 0.7422162158825109, 'colsample_bytree': 0.7960828388406327, 'reg_lambda': 2.1086392549533857, 'reg_alpha': 8.310537233183465}. Best is trial 24 with value: 0.00909916777163744.\n",
            "[I 2025-05-05 08:26:12,543] Trial 25 finished with value: 0.009135313332080841 and parameters: {'n_estimators': 302, 'max_depth': 6, 'learning_rate': 0.06193877993714888, 'subsample': 0.790041093109097, 'colsample_bytree': 0.9023213216240217, 'reg_lambda': 0.7322377094170608, 'reg_alpha': 8.749594785910134}. Best is trial 24 with value: 0.00909916777163744.\n",
            "[I 2025-05-05 08:26:13,244] Trial 26 finished with value: 0.009042814373970032 and parameters: {'n_estimators': 315, 'max_depth': 6, 'learning_rate': 0.06042558707901652, 'subsample': 0.8024468930659602, 'colsample_bytree': 0.9969989334816844, 'reg_lambda': 0.43311133527295753, 'reg_alpha': 8.809144025180434}. Best is trial 26 with value: 0.009042814373970032.\n",
            "[I 2025-05-05 08:26:13,892] Trial 27 finished with value: 0.008972354233264923 and parameters: {'n_estimators': 303, 'max_depth': 6, 'learning_rate': 0.062414233226552054, 'subsample': 0.7877386647276383, 'colsample_bytree': 0.9932236281816196, 'reg_lambda': 0.6695531591874158, 'reg_alpha': 8.579669680371861}. Best is trial 27 with value: 0.008972354233264923.\n",
            "[I 2025-05-05 08:26:14,711] Trial 28 finished with value: 0.010362248867750168 and parameters: {'n_estimators': 372, 'max_depth': 8, 'learning_rate': 0.10488636588146785, 'subsample': 0.7875345315935283, 'colsample_bytree': 0.9970120225709601, 'reg_lambda': 0.16906144366805365, 'reg_alpha': 6.351274266400465}. Best is trial 27 with value: 0.008972354233264923.\n",
            "[I 2025-05-05 08:26:15,360] Trial 29 finished with value: 0.01993926800787449 and parameters: {'n_estimators': 321, 'max_depth': 4, 'learning_rate': 0.15465645564602626, 'subsample': 0.8100464985565082, 'colsample_bytree': 0.9900615766952233, 'reg_lambda': 0.7913080752239972, 'reg_alpha': 8.911511714493574}. Best is trial 27 with value: 0.008972354233264923.\n"
          ]
        },
        {
          "output_type": "stream",
          "name": "stdout",
          "text": [
            "✅ Best trial for model 4: RMSE = 0.0090\n"
          ]
        },
        {
          "output_type": "stream",
          "name": "stderr",
          "text": [
            "[I 2025-05-05 08:26:16,000] A new study created in memory with name: no-name-bb3d53ff-5ce9-4384-af94-52d6ece034ee\n"
          ]
        },
        {
          "output_type": "stream",
          "name": "stdout",
          "text": [
            "\n",
            "🔁 Optimizing model 5/5\n"
          ]
        },
        {
          "output_type": "stream",
          "name": "stderr",
          "text": [
            "[I 2025-05-05 08:26:18,024] Trial 0 finished with value: 0.0109377047047019 and parameters: {'n_estimators': 465, 'max_depth': 7, 'learning_rate': 0.23694882970717868, 'subsample': 0.8957539629104173, 'colsample_bytree': 0.7439425731845354, 'reg_lambda': 6.14749289241978, 'reg_alpha': 0.18123235719356262}. Best is trial 0 with value: 0.0109377047047019.\n",
            "[I 2025-05-05 08:26:20,640] Trial 1 finished with value: 0.02379041723906994 and parameters: {'n_estimators': 333, 'max_depth': 9, 'learning_rate': 0.2772946318704208, 'subsample': 0.7353319800297704, 'colsample_bytree': 0.9921985508855762, 'reg_lambda': 3.429202146044233, 'reg_alpha': 5.369631693845126}. Best is trial 0 with value: 0.0109377047047019.\n",
            "[I 2025-05-05 08:26:23,126] Trial 2 finished with value: 0.009946524165570736 and parameters: {'n_estimators': 391, 'max_depth': 8, 'learning_rate': 0.07993515206059847, 'subsample': 0.751033236563115, 'colsample_bytree': 0.7648005606129176, 'reg_lambda': 0.8123473381682688, 'reg_alpha': 2.1999224735258482}. Best is trial 2 with value: 0.009946524165570736.\n",
            "[I 2025-05-05 08:26:25,651] Trial 3 finished with value: 0.011847694404423237 and parameters: {'n_estimators': 500, 'max_depth': 9, 'learning_rate': 0.24613927322414983, 'subsample': 0.9011245047100095, 'colsample_bytree': 0.7357015340080411, 'reg_lambda': 6.143740633544797, 'reg_alpha': 0.5626819461140256}. Best is trial 2 with value: 0.009946524165570736.\n",
            "[I 2025-05-05 08:26:26,228] Trial 4 finished with value: 0.03159176558256149 and parameters: {'n_estimators': 239, 'max_depth': 7, 'learning_rate': 0.21365631347667538, 'subsample': 0.8168332593390356, 'colsample_bytree': 0.7310869094978689, 'reg_lambda': 2.2555563132412395, 'reg_alpha': 9.950091536555991}. Best is trial 2 with value: 0.009946524165570736.\n",
            "[I 2025-05-05 08:26:27,142] Trial 5 finished with value: 0.010836790315806866 and parameters: {'n_estimators': 234, 'max_depth': 7, 'learning_rate': 0.056930782337124695, 'subsample': 0.7671360329083007, 'colsample_bytree': 0.8112975089096309, 'reg_lambda': 9.553743269374475, 'reg_alpha': 0.5967591133807436}. Best is trial 2 with value: 0.009946524165570736.\n",
            "[I 2025-05-05 08:26:28,557] Trial 6 finished with value: 0.02012082189321518 and parameters: {'n_estimators': 442, 'max_depth': 9, 'learning_rate': 0.19921576924127732, 'subsample': 0.7070564466838237, 'colsample_bytree': 0.7240515221451288, 'reg_lambda': 9.483160913683614, 'reg_alpha': 3.9144247102220566}. Best is trial 2 with value: 0.009946524165570736.\n",
            "[I 2025-05-05 08:26:29,856] Trial 7 finished with value: 0.012332209385931492 and parameters: {'n_estimators': 345, 'max_depth': 7, 'learning_rate': 0.19465098807600426, 'subsample': 0.8746987458264655, 'colsample_bytree': 0.7249131002033354, 'reg_lambda': 2.908041161658832, 'reg_alpha': 1.0623497935816777}. Best is trial 2 with value: 0.009946524165570736.\n",
            "[I 2025-05-05 08:26:31,274] Trial 8 finished with value: 0.03230562061071396 and parameters: {'n_estimators': 495, 'max_depth': 10, 'learning_rate': 0.250698730498842, 'subsample': 0.9877970539937648, 'colsample_bytree': 0.9648186669347468, 'reg_lambda': 7.362515199336995, 'reg_alpha': 9.062656157798095}. Best is trial 2 with value: 0.009946524165570736.\n",
            "[I 2025-05-05 08:26:31,669] Trial 9 finished with value: 0.012034754268825054 and parameters: {'n_estimators': 164, 'max_depth': 8, 'learning_rate': 0.10793246620759704, 'subsample': 0.7816482835623545, 'colsample_bytree': 0.8600688475435302, 'reg_lambda': 0.5528769913624444, 'reg_alpha': 8.577425107656728}. Best is trial 2 with value: 0.009946524165570736.\n",
            "[I 2025-05-05 08:26:32,905] Trial 10 finished with value: 0.013880571350455284 and parameters: {'n_estimators': 390, 'max_depth': 4, 'learning_rate': 0.016160217928065476, 'subsample': 0.9737399884679075, 'colsample_bytree': 0.8231611693913228, 'reg_lambda': 0.4239319025053039, 'reg_alpha': 3.150796059606785}. Best is trial 2 with value: 0.009946524165570736.\n",
            "[I 2025-05-05 08:26:35,807] Trial 11 finished with value: 0.013852004893124104 and parameters: {'n_estimators': 243, 'max_depth': 5, 'learning_rate': 0.07754449219215873, 'subsample': 0.7641903974367521, 'colsample_bytree': 0.8176371776092843, 'reg_lambda': 9.924322241503813, 'reg_alpha': 2.5398676677616665}. Best is trial 2 with value: 0.009946524165570736.\n",
            "[I 2025-05-05 08:26:36,160] Trial 12 finished with value: 0.04315972328186035 and parameters: {'n_estimators': 112, 'max_depth': 5, 'learning_rate': 0.04763240731317683, 'subsample': 0.8216333425876595, 'colsample_bytree': 0.7942038821052488, 'reg_lambda': 8.159303003714722, 'reg_alpha': 5.803749954990223}. Best is trial 2 with value: 0.009946524165570736.\n",
            "[I 2025-05-05 08:26:37,113] Trial 13 finished with value: 0.01382802426815033 and parameters: {'n_estimators': 257, 'max_depth': 6, 'learning_rate': 0.13019509070397517, 'subsample': 0.7787562211290923, 'colsample_bytree': 0.8862897600012347, 'reg_lambda': 4.447226115606531, 'reg_alpha': 2.11497424600293}. Best is trial 2 with value: 0.009946524165570736.\n",
            "[I 2025-05-05 08:26:37,827] Trial 14 finished with value: 0.0166860893368721 and parameters: {'n_estimators': 379, 'max_depth': 3, 'learning_rate': 0.0829567613307819, 'subsample': 0.7067440872439259, 'colsample_bytree': 0.7876752275659059, 'reg_lambda': 1.809417140363979, 'reg_alpha': 1.7374548803475052}. Best is trial 2 with value: 0.009946524165570736.\n",
            "[I 2025-05-05 08:26:38,437] Trial 15 finished with value: 1.7488116025924683 and parameters: {'n_estimators': 187, 'max_depth': 8, 'learning_rate': 0.017876415924501433, 'subsample': 0.8304473699643377, 'colsample_bytree': 0.9059299803117965, 'reg_lambda': 4.744133653824446, 'reg_alpha': 4.32892894376954}. Best is trial 2 with value: 0.009946524165570736.\n",
            "[I 2025-05-05 08:26:39,228] Trial 16 finished with value: 0.024280384182929993 and parameters: {'n_estimators': 285, 'max_depth': 6, 'learning_rate': 0.1555246873099448, 'subsample': 0.7649990040099958, 'colsample_bytree': 0.7720851296704418, 'reg_lambda': 8.012328432976396, 'reg_alpha': 6.801684399645533}. Best is trial 2 with value: 0.009946524165570736.\n",
            "[I 2025-05-05 08:26:40,888] Trial 17 finished with value: 0.010558035224676132 and parameters: {'n_estimators': 409, 'max_depth': 8, 'learning_rate': 0.05664248351853406, 'subsample': 0.7365605574866809, 'colsample_bytree': 0.8408667170159564, 'reg_lambda': 5.820415849662362, 'reg_alpha': 1.5219768210807354}. Best is trial 2 with value: 0.009946524165570736.\n",
            "[I 2025-05-05 08:26:42,589] Trial 18 finished with value: 0.017535822466015816 and parameters: {'n_estimators': 414, 'max_depth': 10, 'learning_rate': 0.14513538074952814, 'subsample': 0.7378464417182786, 'colsample_bytree': 0.9324628347204471, 'reg_lambda': 5.861475694620872, 'reg_alpha': 3.712334747805166}. Best is trial 2 with value: 0.009946524165570736.\n",
            "[I 2025-05-05 08:26:44,719] Trial 19 finished with value: 0.01316378079354763 and parameters: {'n_estimators': 334, 'max_depth': 8, 'learning_rate': 0.1057463736014221, 'subsample': 0.9476605929007232, 'colsample_bytree': 0.851479532714095, 'reg_lambda': 3.968899181477888, 'reg_alpha': 2.7631812419579442}. Best is trial 2 with value: 0.009946524165570736.\n",
            "[I 2025-05-05 08:26:49,521] Trial 20 finished with value: 0.00918623711913824 and parameters: {'n_estimators': 433, 'max_depth': 8, 'learning_rate': 0.04673288744092543, 'subsample': 0.8030041452979627, 'colsample_bytree': 0.7599156327994988, 'reg_lambda': 1.1979696735876364, 'reg_alpha': 1.5435016382422408}. Best is trial 20 with value: 0.00918623711913824.\n",
            "[I 2025-05-05 08:26:52,272] Trial 21 finished with value: 0.009120838716626167 and parameters: {'n_estimators': 431, 'max_depth': 8, 'learning_rate': 0.04687530182889018, 'subsample': 0.7977918176710714, 'colsample_bytree': 0.7831535519582828, 'reg_lambda': 1.4185081171239706, 'reg_alpha': 1.5268955256378431}. Best is trial 21 with value: 0.009120838716626167.\n",
            "[I 2025-05-05 08:26:53,886] Trial 22 finished with value: 0.008931992575526237 and parameters: {'n_estimators': 448, 'max_depth': 9, 'learning_rate': 0.03478162120284837, 'subsample': 0.8054337027298926, 'colsample_bytree': 0.7656134071948373, 'reg_lambda': 1.249667911327716, 'reg_alpha': 1.6602182729457027}. Best is trial 22 with value: 0.008931992575526237.\n",
            "[I 2025-05-05 08:26:55,655] Trial 23 finished with value: 0.008849963545799255 and parameters: {'n_estimators': 442, 'max_depth': 9, 'learning_rate': 0.03393630143594291, 'subsample': 0.8072183320050675, 'colsample_bytree': 0.7005906811917819, 'reg_lambda': 1.6094299177255902, 'reg_alpha': 1.2214570915625438}. Best is trial 23 with value: 0.008849963545799255.\n",
            "[I 2025-05-05 08:26:57,023] Trial 24 finished with value: 0.012280020862817764 and parameters: {'n_estimators': 461, 'max_depth': 10, 'learning_rate': 0.014174046774041701, 'subsample': 0.8484657502181967, 'colsample_bytree': 0.7851805102324422, 'reg_lambda': 1.8391600262797434, 'reg_alpha': 3.174992970238702}. Best is trial 23 with value: 0.008849963545799255.\n",
            "[I 2025-05-05 08:26:58,383] Trial 25 finished with value: 0.009206429123878479 and parameters: {'n_estimators': 366, 'max_depth': 9, 'learning_rate': 0.035452041958595214, 'subsample': 0.8671916784561122, 'colsample_bytree': 0.713081667103072, 'reg_lambda': 2.7532964846512593, 'reg_alpha': 1.254791631920868}. Best is trial 23 with value: 0.008849963545799255.\n",
            "[I 2025-05-05 08:26:59,360] Trial 26 finished with value: 0.010531540028750896 and parameters: {'n_estimators': 467, 'max_depth': 9, 'learning_rate': 0.10036940597484645, 'subsample': 0.7989303925973493, 'colsample_bytree': 0.7071773253714794, 'reg_lambda': 0.11286073985764555, 'reg_alpha': 4.491367829514953}. Best is trial 23 with value: 0.008849963545799255.\n",
            "[I 2025-05-05 08:27:03,156] Trial 27 finished with value: 0.009333953261375427 and parameters: {'n_estimators': 441, 'max_depth': 10, 'learning_rate': 0.030068643239557293, 'subsample': 0.8484877116549177, 'colsample_bytree': 0.7510529159460959, 'reg_lambda': 1.434481191751766, 'reg_alpha': 6.327966359155731}. Best is trial 23 with value: 0.008849963545799255.\n",
            "[I 2025-05-05 08:27:04,606] Trial 28 finished with value: 0.01004144735634327 and parameters: {'n_estimators': 300, 'max_depth': 9, 'learning_rate': 0.06848015655827547, 'subsample': 0.8016323966597627, 'colsample_bytree': 0.7075550077723771, 'reg_lambda': 2.671207746422859, 'reg_alpha': 0.9049935517930281}. Best is trial 23 with value: 0.008849963545799255.\n",
            "[I 2025-05-05 08:27:06,672] Trial 29 finished with value: 0.010824175551533699 and parameters: {'n_estimators': 471, 'max_depth': 7, 'learning_rate': 0.12789479061680498, 'subsample': 0.8937119567132831, 'colsample_bytree': 0.7455969165194722, 'reg_lambda': 3.6823446785288025, 'reg_alpha': 0.40237284848515453}. Best is trial 23 with value: 0.008849963545799255.\n"
          ]
        },
        {
          "output_type": "stream",
          "name": "stdout",
          "text": [
            "✅ Best trial for model 5: RMSE = 0.0088\n",
            "\n",
            "✨ Ensemble training complete!\n"
          ]
        }
      ],
      "source": [
        "import pandas as pd\n",
        "import numpy as np\n",
        "from sklearn.utils import resample\n",
        "from sklearn.model_selection import train_test_split\n",
        "from sklearn.metrics import mean_squared_error\n",
        "from xgboost import XGBRegressor\n",
        "import optuna\n",
        "import joblib\n",
        "import os\n",
        "\n",
        "ENSEMBLE_SIZE = 5\n",
        "MODELS_DIR = \"model_training/models\"\n",
        "os.makedirs(MODELS_DIR, exist_ok=True)\n",
        "\n",
        "# Load & preprocess data\n",
        "df = pd.read_csv(\"model_training/data/Service1.csv\")\n",
        "\n",
        "# Create features and handle potential issues\n",
        "X = df[[\"cpu_usage_pct\", \"memory_usage_pct\", 'latency_ms','memory_allocated', 'cpu_allocated']].copy()\n",
        "\n",
        "# Add log transformations, handling zeros/small values\n",
        "X[\"cpu_log\"] = np.log1p(X[\"cpu_usage_pct\"])  # log1p handles zeros safely\n",
        "X[\"mem_log\"] = np.log1p(X[\"memory_usage_pct\"])\n",
        "\n",
        "# Calculate ratio safely to avoid division by zero\n",
        "# Replace zeros with a small value and clip to avoid infinity\n",
        "eps = 1e-10  # small epsilon value\n",
        "X[\"cpu_to_mem\"] = X[\"cpu_usage_pct\"] / (X[\"memory_usage_pct\"].replace(0, eps))\n",
        "X[\"cpu_to_mem\"] = X[\"cpu_to_mem\"].clip(0, 1000)  # Clip to reasonable range\n",
        "\n",
        "# Replace any remaining infinities with NaN and then fill with a large value\n",
        "X = X.replace([np.inf, -np.inf], np.nan)\n",
        "X = X.fillna(9999)  # Use a large but finite number as replacement\n",
        "\n",
        "y = df[[\"cpu_usage_pct\", \"memory_usage_pct\"]]\n",
        "\n",
        "X_train, X_val, y_train, y_val = train_test_split(X, y, test_size=0.2, random_state=42)\n",
        "\n",
        "def objective(trial):\n",
        "    params = {\n",
        "        \"n_estimators\": trial.suggest_int(\"n_estimators\", 100, 600),\n",
        "        \"max_depth\": trial.suggest_int(\"max_depth\", 3, 12),\n",
        "        \"learning_rate\": trial.suggest_float(\"learning_rate\", 0.01, 0.3, log=True),\n",
        "        \"subsample\": trial.suggest_float(\"subsample\", 0.5, 1.0),\n",
        "        \"colsample_bytree\": trial.suggest_float(\"colsample_bytree\", 0.5, 1.0),\n",
        "        \"reg_lambda\": trial.suggest_float(\"reg_lambda\", 1e-3, 10.0, log=True),\n",
        "        \"reg_alpha\": trial.suggest_float(\"reg_alpha\", 1e-3, 10.0, log=True),\n",
        "        \"random_state\": 42,\n",
        "    }\n",
        "\n",
        "    # Add missing value handling explicitly\n",
        "    model = XGBRegressor(**params, missing=np.nan)\n",
        "    model.fit(X_train, y_train)\n",
        "    preds = model.predict(X_val)\n",
        "    rmse = mean_squared_error(y_val, preds)  # Return RMSE instead of MSE\n",
        "    return rmse\n",
        "\n",
        "# Train ensemble\n",
        "for i in range(ENSEMBLE_SIZE):\n",
        "    print(f\"\\n🔁 Optimizing model {i+1}/{ENSEMBLE_SIZE}\")\n",
        "\n",
        "    # Resample data for diversity\n",
        "    X_bootstrap, y_bootstrap = resample(X_train, y_train, random_state=i)\n",
        "\n",
        "    def boot_objective(trial):\n",
        "        params = {\n",
        "            \"n_estimators\": trial.suggest_int(\"n_estimators\", 100, 500),\n",
        "            \"max_depth\": trial.suggest_int(\"max_depth\", 3, 10),\n",
        "            \"learning_rate\": trial.suggest_float(\"learning_rate\", 0.01, 0.3),\n",
        "            \"subsample\": trial.suggest_float(\"subsample\", 0.7, 1.0),\n",
        "            \"colsample_bytree\": trial.suggest_float(\"colsample_bytree\", 0.7, 1.0),\n",
        "            \"reg_lambda\": trial.suggest_float(\"reg_lambda\", 0.1, 10.0),\n",
        "            \"reg_alpha\": trial.suggest_float(\"reg_alpha\", 0.1, 10.0),\n",
        "            \"random_state\": i,\n",
        "        }\n",
        "        # Add missing value handling explicitly\n",
        "        model = XGBRegressor(**params, missing=np.nan)\n",
        "        model.fit(X_bootstrap, y_bootstrap)\n",
        "        preds = model.predict(X_val)\n",
        "        return mean_squared_error(y_val, preds)  # Return RMSE\n",
        "\n",
        "    try:\n",
        "        study = optuna.create_study(direction=\"minimize\")\n",
        "        study.optimize(boot_objective, n_trials=30)\n",
        "\n",
        "        print(f\"✅ Best trial for model {i+1}: RMSE = {study.best_trial.value:.4f}\")\n",
        "        best_model = XGBRegressor(**study.best_params, missing=np.nan)\n",
        "        best_model.fit(X_bootstrap, y_bootstrap)\n",
        "        joblib.dump(best_model, f\"{MODELS_DIR}/ensemble_model_{i}.pkl\")\n",
        "    except Exception as e:\n",
        "        print(f\" Error training model {i+1}: {str(e)}\")\n",
        "\n",
        "print(\"\\n✨ Ensemble training complete!\")"
      ]
    },
    {
      "cell_type": "markdown",
      "source": [
        "# Service 2"
      ],
      "metadata": {
        "id": "81RhtsxIjgT9"
      }
    },
    {
      "cell_type": "code",
      "source": [
        "import pandas as pd\n",
        "import numpy as np\n",
        "from sklearn.utils import resample\n",
        "from sklearn.model_selection import train_test_split\n",
        "from sklearn.metrics import mean_squared_error\n",
        "from xgboost import XGBRegressor\n",
        "import optuna\n",
        "import joblib\n",
        "import os\n",
        "\n",
        "ENSEMBLE_SIZE = 5\n",
        "MODELS_DIR = \"model_training/models\"\n",
        "os.makedirs(MODELS_DIR, exist_ok=True)\n",
        "\n",
        "# Load & preprocess data\n",
        "df = pd.read_csv(\"model_training/data/Service2.csv\")\n",
        "\n",
        "# Create features and handle potential issues\n",
        "X = df[[\"cpu_usage_pct\", \"memory_usage_pct\", 'latency_ms','memory_allocated', 'cpu_allocated']].copy()\n",
        "\n",
        "# Add log transformations, handling zeros/small values\n",
        "X[\"cpu_log\"] = np.log1p(X[\"cpu_usage_pct\"])  # log1p handles zeros safely\n",
        "X[\"mem_log\"] = np.log1p(X[\"memory_usage_pct\"])\n",
        "\n",
        "# Calculate ratio safely to avoid division by zero\n",
        "# Replace zeros with a small value and clip to avoid infinity\n",
        "eps = 1e-10  # small epsilon value\n",
        "X[\"cpu_to_mem\"] = X[\"cpu_usage_pct\"] / (X[\"memory_usage_pct\"].replace(0, eps))\n",
        "X[\"cpu_to_mem\"] = X[\"cpu_to_mem\"].clip(0, 1000)  # Clip to reasonable range\n",
        "\n",
        "# Replace any remaining infinities with NaN and then fill with a large value\n",
        "X = X.replace([np.inf, -np.inf], np.nan)\n",
        "X = X.fillna(9999)  # Use a large but finite number as replacement\n",
        "\n",
        "y = df[[\"cpu_usage_pct\", \"memory_usage_pct\"]]\n",
        "\n",
        "X_train, X_val, y_train, y_val = train_test_split(X, y, test_size=0.2, random_state=42)\n",
        "\n",
        "def objective(trial):\n",
        "    params = {\n",
        "        \"n_estimators\": trial.suggest_int(\"n_estimators\", 100, 600),\n",
        "        \"max_depth\": trial.suggest_int(\"max_depth\", 3, 12),\n",
        "        \"learning_rate\": trial.suggest_float(\"learning_rate\", 0.01, 0.3, log=True),\n",
        "        \"subsample\": trial.suggest_float(\"subsample\", 0.5, 1.0),\n",
        "        \"colsample_bytree\": trial.suggest_float(\"colsample_bytree\", 0.5, 1.0),\n",
        "        \"reg_lambda\": trial.suggest_float(\"reg_lambda\", 1e-3, 10.0, log=True),\n",
        "        \"reg_alpha\": trial.suggest_float(\"reg_alpha\", 1e-3, 10.0, log=True),\n",
        "        \"random_state\": 42,\n",
        "    }\n",
        "\n",
        "    # Add missing value handling explicitly\n",
        "    model = XGBRegressor(**params, missing=np.nan)\n",
        "    model.fit(X_train, y_train)\n",
        "    preds = model.predict(X_val)\n",
        "    rmse = mean_squared_error(y_val, preds)  # Return RMSE instead of MSE\n",
        "    return rmse\n",
        "\n",
        "# Train ensemble\n",
        "for i in range(ENSEMBLE_SIZE):\n",
        "    print(f\"\\n🔁 Optimizing model {i+1}/{ENSEMBLE_SIZE}\")\n",
        "\n",
        "    # Resample data for diversity\n",
        "    X_bootstrap, y_bootstrap = resample(X_train, y_train, random_state=i)\n",
        "\n",
        "    def boot_objective(trial):\n",
        "        params = {\n",
        "            \"n_estimators\": trial.suggest_int(\"n_estimators\", 100, 500),\n",
        "            \"max_depth\": trial.suggest_int(\"max_depth\", 3, 10),\n",
        "            \"learning_rate\": trial.suggest_float(\"learning_rate\", 0.01, 0.3),\n",
        "            \"subsample\": trial.suggest_float(\"subsample\", 0.7, 1.0),\n",
        "            \"colsample_bytree\": trial.suggest_float(\"colsample_bytree\", 0.7, 1.0),\n",
        "            \"reg_lambda\": trial.suggest_float(\"reg_lambda\", 0.1, 10.0),\n",
        "            \"reg_alpha\": trial.suggest_float(\"reg_alpha\", 0.1, 10.0),\n",
        "            \"random_state\": i,\n",
        "        }\n",
        "        # Add missing value handling explicitly\n",
        "        model = XGBRegressor(**params, missing=np.nan)\n",
        "        model.fit(X_bootstrap, y_bootstrap)\n",
        "        preds = model.predict(X_val)\n",
        "        return mean_squared_error(y_val, preds)  # Return RMSE\n",
        "\n",
        "    try:\n",
        "        study = optuna.create_study(direction=\"minimize\")\n",
        "        study.optimize(boot_objective, n_trials=30)\n",
        "\n",
        "        print(f\"✅ Best trial for model {i+1}: RMSE = {study.best_trial.value:.4f}\")\n",
        "        best_model = XGBRegressor(**study.best_params, missing=np.nan)\n",
        "        best_model.fit(X_bootstrap, y_bootstrap)\n",
        "        joblib.dump(best_model, f\"{MODELS_DIR}/ensemble_model_service2_{i}.pkl\")\n",
        "    except Exception as e:\n",
        "        print(f\" Error training model {i+1}: {str(e)}\")\n",
        "\n",
        "print(\"\\n✨ Ensemble training complete!\")"
      ],
      "metadata": {
        "colab": {
          "base_uri": "https://localhost:8080/"
        },
        "id": "YkpFNoGHjfTI",
        "outputId": "951ec0bd-65b7-4c7e-80d5-1f0497c01394"
      },
      "execution_count": 5,
      "outputs": [
        {
          "output_type": "stream",
          "name": "stderr",
          "text": [
            "[I 2025-05-05 08:36:25,046] A new study created in memory with name: no-name-61de5e5d-3116-4776-baca-edb2fa9dc06e\n"
          ]
        },
        {
          "output_type": "stream",
          "name": "stdout",
          "text": [
            "\n",
            "🔁 Optimizing model 1/5\n"
          ]
        },
        {
          "output_type": "stream",
          "name": "stderr",
          "text": [
            "[I 2025-05-05 08:36:27,257] Trial 0 finished with value: 0.009620869532227516 and parameters: {'n_estimators': 178, 'max_depth': 4, 'learning_rate': 0.040515448630036595, 'subsample': 0.9123494665208131, 'colsample_bytree': 0.9106803817913371, 'reg_lambda': 6.67357983686763, 'reg_alpha': 1.4982960379288546}. Best is trial 0 with value: 0.009620869532227516.\n",
            "[I 2025-05-05 08:36:29,036] Trial 1 finished with value: 0.02329869195818901 and parameters: {'n_estimators': 464, 'max_depth': 9, 'learning_rate': 0.21017193981486734, 'subsample': 0.9550080367330003, 'colsample_bytree': 0.8530930835826034, 'reg_lambda': 7.664158297093854, 'reg_alpha': 6.0841196297685345}. Best is trial 0 with value: 0.009620869532227516.\n",
            "[I 2025-05-05 08:36:29,677] Trial 2 finished with value: 0.03947081416845322 and parameters: {'n_estimators': 427, 'max_depth': 3, 'learning_rate': 0.2331521742091111, 'subsample': 0.8536946542464339, 'colsample_bytree': 0.7017168225711717, 'reg_lambda': 5.8627736587265895, 'reg_alpha': 7.541075599000128}. Best is trial 0 with value: 0.009620869532227516.\n",
            "[I 2025-05-05 08:36:30,262] Trial 3 finished with value: 0.01905830204486847 and parameters: {'n_estimators': 173, 'max_depth': 10, 'learning_rate': 0.11827011471086418, 'subsample': 0.8127953160313647, 'colsample_bytree': 0.9127272311575608, 'reg_lambda': 5.1019541695495505, 'reg_alpha': 6.750958575442862}. Best is trial 0 with value: 0.009620869532227516.\n",
            "[I 2025-05-05 08:36:31,439] Trial 4 finished with value: 0.010280201211571693 and parameters: {'n_estimators': 305, 'max_depth': 7, 'learning_rate': 0.09477473625499291, 'subsample': 0.8124234709293051, 'colsample_bytree': 0.703822739255842, 'reg_lambda': 8.516838865987348, 'reg_alpha': 0.823999117305545}. Best is trial 0 with value: 0.009620869532227516.\n",
            "[I 2025-05-05 08:36:31,799] Trial 5 finished with value: 0.010311255231499672 and parameters: {'n_estimators': 128, 'max_depth': 5, 'learning_rate': 0.16904638878533626, 'subsample': 0.9109370684489233, 'colsample_bytree': 0.8152907120984455, 'reg_lambda': 0.7494932705624625, 'reg_alpha': 0.44825827760876935}. Best is trial 0 with value: 0.009620869532227516.\n",
            "[I 2025-05-05 08:36:32,378] Trial 6 finished with value: 0.02844388037919998 and parameters: {'n_estimators': 182, 'max_depth': 7, 'learning_rate': 0.2299259327302503, 'subsample': 0.8734543919735686, 'colsample_bytree': 0.8530093291905725, 'reg_lambda': 4.075069516987069, 'reg_alpha': 7.35963525589003}. Best is trial 0 with value: 0.009620869532227516.\n",
            "[I 2025-05-05 08:36:33,034] Trial 7 finished with value: 0.014649825170636177 and parameters: {'n_estimators': 331, 'max_depth': 4, 'learning_rate': 0.1000562823696316, 'subsample': 0.9007957820836325, 'colsample_bytree': 0.8617708836732314, 'reg_lambda': 7.7072495340001375, 'reg_alpha': 2.40542215661499}. Best is trial 0 with value: 0.009620869532227516.\n",
            "[I 2025-05-05 08:36:34,028] Trial 8 finished with value: 0.010036827065050602 and parameters: {'n_estimators': 442, 'max_depth': 4, 'learning_rate': 0.10619633567627193, 'subsample': 0.8412193206216647, 'colsample_bytree': 0.9999424443987739, 'reg_lambda': 3.442430322595661, 'reg_alpha': 0.299022420620002}. Best is trial 0 with value: 0.009620869532227516.\n",
            "[I 2025-05-05 08:36:35,364] Trial 9 finished with value: 0.010636579245328903 and parameters: {'n_estimators': 471, 'max_depth': 5, 'learning_rate': 0.08192095882993052, 'subsample': 0.9292062991578363, 'colsample_bytree': 0.9990191629873273, 'reg_lambda': 7.065560190386595, 'reg_alpha': 1.8725475011068895}. Best is trial 0 with value: 0.009620869532227516.\n",
            "[I 2025-05-05 08:36:35,965] Trial 10 finished with value: 0.896277904510498 and parameters: {'n_estimators': 201, 'max_depth': 6, 'learning_rate': 0.01847684126662391, 'subsample': 0.7104610070081643, 'colsample_bytree': 0.9289952330368763, 'reg_lambda': 9.933392388518389, 'reg_alpha': 9.997442823455325}. Best is trial 0 with value: 0.009620869532227516.\n",
            "[I 2025-05-05 08:36:40,935] Trial 11 finished with value: 0.008826380595564842 and parameters: {'n_estimators': 383, 'max_depth': 3, 'learning_rate': 0.02067601061007189, 'subsample': 0.9928072090555163, 'colsample_bytree': 0.9893349399501153, 'reg_lambda': 2.659152497917158, 'reg_alpha': 3.5538011863601335}. Best is trial 11 with value: 0.008826380595564842.\n",
            "[I 2025-05-05 08:36:41,754] Trial 12 finished with value: 0.008722003549337387 and parameters: {'n_estimators': 364, 'max_depth': 3, 'learning_rate': 0.02415143269946309, 'subsample': 0.9995242068417438, 'colsample_bytree': 0.9386135210355238, 'reg_lambda': 2.0003998131066636, 'reg_alpha': 3.761453850107401}. Best is trial 12 with value: 0.008722003549337387.\n",
            "[I 2025-05-05 08:36:42,416] Trial 13 finished with value: 0.011027375236153603 and parameters: {'n_estimators': 378, 'max_depth': 3, 'learning_rate': 0.04540694503352842, 'subsample': 0.9953911811699926, 'colsample_bytree': 0.9551995145204133, 'reg_lambda': 1.453751996882151, 'reg_alpha': 4.041195375780036}. Best is trial 12 with value: 0.008722003549337387.\n",
            "[I 2025-05-05 08:36:43,032] Trial 14 finished with value: 0.02069658786058426 and parameters: {'n_estimators': 361, 'max_depth': 3, 'learning_rate': 0.2996140495162128, 'subsample': 0.9971723428285664, 'colsample_bytree': 0.9583615177500633, 'reg_lambda': 2.475303973114247, 'reg_alpha': 3.98830712406189}. Best is trial 12 with value: 0.008722003549337387.\n",
            "[I 2025-05-05 08:36:43,930] Trial 15 finished with value: 4.7850494384765625 and parameters: {'n_estimators': 257, 'max_depth': 8, 'learning_rate': 0.011026725853946746, 'subsample': 0.9593364966457102, 'colsample_bytree': 0.7933638759685995, 'reg_lambda': 2.2519495583932723, 'reg_alpha': 3.457774290450663}. Best is trial 12 with value: 0.008722003549337387.\n",
            "[I 2025-05-05 08:36:44,806] Trial 16 finished with value: 0.00827321968972683 and parameters: {'n_estimators': 389, 'max_depth': 5, 'learning_rate': 0.06102711284394485, 'subsample': 0.9652819767593181, 'colsample_bytree': 0.959559152937851, 'reg_lambda': 0.3288270469347412, 'reg_alpha': 5.3618009006369425}. Best is trial 16 with value: 0.00827321968972683.\n",
            "[I 2025-05-05 08:36:45,480] Trial 17 finished with value: 0.008733655326068401 and parameters: {'n_estimators': 253, 'max_depth': 5, 'learning_rate': 0.06549861642686426, 'subsample': 0.7383877842229571, 'colsample_bytree': 0.8810300187097193, 'reg_lambda': 0.16247597908339845, 'reg_alpha': 5.473306523527487}. Best is trial 16 with value: 0.00827321968972683.\n",
            "[I 2025-05-05 08:36:46,381] Trial 18 finished with value: 0.015060237608850002 and parameters: {'n_estimators': 413, 'max_depth': 6, 'learning_rate': 0.14116800689900091, 'subsample': 0.9600222498873079, 'colsample_bytree': 0.9537027873934327, 'reg_lambda': 1.2101262830708208, 'reg_alpha': 8.995931236847468}. Best is trial 16 with value: 0.00827321968972683.\n",
            "[I 2025-05-05 08:36:47,321] Trial 19 finished with value: 0.010621474124491215 and parameters: {'n_estimators': 500, 'max_depth': 4, 'learning_rate': 0.06290195295275915, 'subsample': 0.9535228527456037, 'colsample_bytree': 0.8104240380924297, 'reg_lambda': 4.1323823129847685, 'reg_alpha': 4.906366870241957}. Best is trial 16 with value: 0.00827321968972683.\n",
            "[I 2025-05-05 08:36:48,181] Trial 20 finished with value: 0.012251178734004498 and parameters: {'n_estimators': 278, 'max_depth': 5, 'learning_rate': 0.17025895235870864, 'subsample': 0.7659725758536418, 'colsample_bytree': 0.8979942748214607, 'reg_lambda': 0.2475072685266897, 'reg_alpha': 2.807904733644311}. Best is trial 16 with value: 0.00827321968972683.\n",
            "[I 2025-05-05 08:36:48,952] Trial 21 finished with value: 0.008790574967861176 and parameters: {'n_estimators': 327, 'max_depth': 5, 'learning_rate': 0.06617126188716042, 'subsample': 0.7089806589282035, 'colsample_bytree': 0.8856353285582806, 'reg_lambda': 0.13762294427260818, 'reg_alpha': 5.336307893149867}. Best is trial 16 with value: 0.00827321968972683.\n",
            "[I 2025-05-05 08:36:49,652] Trial 22 finished with value: 0.008827082812786102 and parameters: {'n_estimators': 247, 'max_depth': 6, 'learning_rate': 0.05040320318115862, 'subsample': 0.7644406065875725, 'colsample_bytree': 0.9363222574144145, 'reg_lambda': 1.7483866248451425, 'reg_alpha': 5.063189601729689}. Best is trial 16 with value: 0.00827321968972683.\n",
            "[I 2025-05-05 08:36:50,391] Trial 23 finished with value: 0.015072539448738098 and parameters: {'n_estimators': 346, 'max_depth': 4, 'learning_rate': 0.12889701170062054, 'subsample': 0.747731874505765, 'colsample_bytree': 0.8753019686685659, 'reg_lambda': 0.7571745851711156, 'reg_alpha': 5.979338542520399}. Best is trial 16 with value: 0.00827321968972683.\n",
            "[I 2025-05-05 08:36:52,191] Trial 24 finished with value: 0.011232197284698486 and parameters: {'n_estimators': 396, 'max_depth': 7, 'learning_rate': 0.07560600470624464, 'subsample': 0.7930769487614695, 'colsample_bytree': 0.966546791881456, 'reg_lambda': 3.3019609732801882, 'reg_alpha': 4.683243286645514}. Best is trial 16 with value: 0.00827321968972683.\n",
            "[I 2025-05-05 08:36:54,870] Trial 25 finished with value: 0.008693123236298561 and parameters: {'n_estimators': 233, 'max_depth': 5, 'learning_rate': 0.04701135345186512, 'subsample': 0.8848545589545483, 'colsample_bytree': 0.9371500562232687, 'reg_lambda': 1.785037525376184, 'reg_alpha': 5.98354522463581}. Best is trial 16 with value: 0.00827321968972683.\n",
            "[I 2025-05-05 08:36:55,480] Trial 26 finished with value: 0.009131158702075481 and parameters: {'n_estimators': 218, 'max_depth': 6, 'learning_rate': 0.03604981961990282, 'subsample': 0.8835335266503723, 'colsample_bytree': 0.9289730248965417, 'reg_lambda': 2.0250042243526005, 'reg_alpha': 8.025307958977907}. Best is trial 16 with value: 0.00827321968972683.\n",
            "[I 2025-05-05 08:36:56,484] Trial 27 finished with value: 0.00852801650762558 and parameters: {'n_estimators': 306, 'max_depth': 8, 'learning_rate': 0.03087937080936485, 'subsample': 0.9340354768048058, 'colsample_bytree': 0.9747657033783245, 'reg_lambda': 3.1639712018158077, 'reg_alpha': 6.122345777179808}. Best is trial 16 with value: 0.00827321968972683.\n",
            "[I 2025-05-05 08:36:57,304] Trial 28 finished with value: 0.011892740614712238 and parameters: {'n_estimators': 307, 'max_depth': 8, 'learning_rate': 0.08705429481677271, 'subsample': 0.9305144381313881, 'colsample_bytree': 0.9765394834670522, 'reg_lambda': 3.0994253733590345, 'reg_alpha': 6.625749135600103}. Best is trial 16 with value: 0.00827321968972683.\n",
            "[I 2025-05-05 08:36:58,042] Trial 29 finished with value: 0.00932240579277277 and parameters: {'n_estimators': 282, 'max_depth': 8, 'learning_rate': 0.0445709543229429, 'subsample': 0.8872180463046835, 'colsample_bytree': 0.9720101981736872, 'reg_lambda': 4.259505227893516, 'reg_alpha': 8.346115268925459}. Best is trial 16 with value: 0.00827321968972683.\n"
          ]
        },
        {
          "output_type": "stream",
          "name": "stdout",
          "text": [
            "✅ Best trial for model 1: RMSE = 0.0083\n"
          ]
        },
        {
          "output_type": "stream",
          "name": "stderr",
          "text": [
            "[I 2025-05-05 08:36:58,915] A new study created in memory with name: no-name-0d1b5283-20cb-4906-8f4c-a4b3a9798934\n"
          ]
        },
        {
          "output_type": "stream",
          "name": "stdout",
          "text": [
            "\n",
            "🔁 Optimizing model 2/5\n"
          ]
        },
        {
          "output_type": "stream",
          "name": "stderr",
          "text": [
            "[I 2025-05-05 08:36:59,681] Trial 0 finished with value: 0.029865194112062454 and parameters: {'n_estimators': 456, 'max_depth': 3, 'learning_rate': 0.012485441924238063, 'subsample': 0.8416025824684652, 'colsample_bytree': 0.8191153429343976, 'reg_lambda': 7.4262746601185405, 'reg_alpha': 4.384430223076519}. Best is trial 0 with value: 0.029865194112062454.\n",
            "[I 2025-05-05 08:37:00,316] Trial 1 finished with value: 0.03670264035463333 and parameters: {'n_estimators': 292, 'max_depth': 4, 'learning_rate': 0.20896995788065179, 'subsample': 0.9401376686551679, 'colsample_bytree': 0.94956739834674, 'reg_lambda': 8.73767810024457, 'reg_alpha': 9.957736610353644}. Best is trial 0 with value: 0.029865194112062454.\n",
            "[I 2025-05-05 08:37:01,451] Trial 2 finished with value: 0.01797560229897499 and parameters: {'n_estimators': 297, 'max_depth': 9, 'learning_rate': 0.22940343713479644, 'subsample': 0.8973872483194598, 'colsample_bytree': 0.7876727349833061, 'reg_lambda': 4.456614303958301, 'reg_alpha': 3.4913432819433847}. Best is trial 2 with value: 0.01797560229897499.\n",
            "[I 2025-05-05 08:37:02,258] Trial 3 finished with value: 0.029594354331493378 and parameters: {'n_estimators': 271, 'max_depth': 9, 'learning_rate': 0.22633095464199415, 'subsample': 0.8895279597596184, 'colsample_bytree': 0.7023624022704607, 'reg_lambda': 6.645420031819286, 'reg_alpha': 6.9636504139380575}. Best is trial 2 with value: 0.01797560229897499.\n",
            "[I 2025-05-05 08:37:03,372] Trial 4 finished with value: 0.03203067556023598 and parameters: {'n_estimators': 421, 'max_depth': 9, 'learning_rate': 0.27433374321366366, 'subsample': 0.9925004847727418, 'colsample_bytree': 0.9621875136129301, 'reg_lambda': 7.142394996688944, 'reg_alpha': 9.825702445676495}. Best is trial 2 with value: 0.01797560229897499.\n",
            "[I 2025-05-05 08:37:04,069] Trial 5 finished with value: 0.01679972931742668 and parameters: {'n_estimators': 382, 'max_depth': 4, 'learning_rate': 0.14099160735736893, 'subsample': 0.9677928349748073, 'colsample_bytree': 0.8256480019137356, 'reg_lambda': 1.7762043457414012, 'reg_alpha': 5.602123132805159}. Best is trial 5 with value: 0.01679972931742668.\n",
            "[I 2025-05-05 08:37:04,479] Trial 6 finished with value: 0.34830087423324585 and parameters: {'n_estimators': 107, 'max_depth': 8, 'learning_rate': 0.038326644518575585, 'subsample': 0.8799703301397643, 'colsample_bytree': 0.9386383579932422, 'reg_lambda': 0.6729104255591009, 'reg_alpha': 2.4396421935441093}. Best is trial 5 with value: 0.01679972931742668.\n",
            "[I 2025-05-05 08:37:05,158] Trial 7 finished with value: 0.014835895970463753 and parameters: {'n_estimators': 185, 'max_depth': 10, 'learning_rate': 0.10021123164468641, 'subsample': 0.9204124837364724, 'colsample_bytree': 0.8069437193277076, 'reg_lambda': 3.6534328195261505, 'reg_alpha': 6.749806108403553}. Best is trial 7 with value: 0.014835895970463753.\n",
            "[I 2025-05-05 08:37:09,127] Trial 8 finished with value: 0.026002908125519753 and parameters: {'n_estimators': 431, 'max_depth': 8, 'learning_rate': 0.2876945789610545, 'subsample': 0.8125395989464665, 'colsample_bytree': 0.9272234907879242, 'reg_lambda': 1.8528010452726968, 'reg_alpha': 6.627379876341604}. Best is trial 7 with value: 0.014835895970463753.\n",
            "[I 2025-05-05 08:37:10,396] Trial 9 finished with value: 0.022603772580623627 and parameters: {'n_estimators': 400, 'max_depth': 10, 'learning_rate': 0.265623497966033, 'subsample': 0.7398921752441874, 'colsample_bytree': 0.7873980169266718, 'reg_lambda': 3.3253932142621467, 'reg_alpha': 5.182493156307498}. Best is trial 7 with value: 0.014835895970463753.\n",
            "[I 2025-05-05 08:37:10,970] Trial 10 finished with value: 0.011991141363978386 and parameters: {'n_estimators': 162, 'max_depth': 6, 'learning_rate': 0.09653361004138832, 'subsample': 0.7780909279124923, 'colsample_bytree': 0.7096264430697707, 'reg_lambda': 4.879894373310402, 'reg_alpha': 0.8469470872738105}. Best is trial 10 with value: 0.011991141363978386.\n",
            "[I 2025-05-05 08:37:11,454] Trial 11 finished with value: 0.011815731413662434 and parameters: {'n_estimators': 151, 'max_depth': 6, 'learning_rate': 0.08615051896357073, 'subsample': 0.760575790187498, 'colsample_bytree': 0.7010378192382775, 'reg_lambda': 4.4645536844985765, 'reg_alpha': 1.1134281820546945}. Best is trial 11 with value: 0.011815731413662434.\n",
            "[I 2025-05-05 08:37:12,071] Trial 12 finished with value: 0.011166153475642204 and parameters: {'n_estimators': 178, 'max_depth': 6, 'learning_rate': 0.08648461593793444, 'subsample': 0.7441320415210525, 'colsample_bytree': 0.7022453309924346, 'reg_lambda': 5.827918637933184, 'reg_alpha': 0.416644596275182}. Best is trial 12 with value: 0.011166153475642204.\n",
            "[I 2025-05-05 08:37:12,792] Trial 13 finished with value: 0.010783642530441284 and parameters: {'n_estimators': 213, 'max_depth': 6, 'learning_rate': 0.06974888861338516, 'subsample': 0.701232469568272, 'colsample_bytree': 0.7365837650786417, 'reg_lambda': 5.917233083559738, 'reg_alpha': 0.4932060505110353}. Best is trial 13 with value: 0.010783642530441284.\n",
            "[I 2025-05-05 08:37:13,413] Trial 14 finished with value: 0.010295527055859566 and parameters: {'n_estimators': 232, 'max_depth': 5, 'learning_rate': 0.06095362251721903, 'subsample': 0.7036550229917578, 'colsample_bytree': 0.7448791534626873, 'reg_lambda': 6.083272072138651, 'reg_alpha': 0.29614334065763914}. Best is trial 14 with value: 0.010295527055859566.\n",
            "[I 2025-05-05 08:37:14,043] Trial 15 finished with value: 0.01791556179523468 and parameters: {'n_estimators': 227, 'max_depth': 5, 'learning_rate': 0.15157338539709164, 'subsample': 0.700419295500362, 'colsample_bytree': 0.7487894045203592, 'reg_lambda': 9.225959013223672, 'reg_alpha': 2.2166855288000713}. Best is trial 14 with value: 0.010295527055859566.\n",
            "[I 2025-05-05 08:37:15,255] Trial 16 finished with value: 0.010246383026242256 and parameters: {'n_estimators': 349, 'max_depth': 7, 'learning_rate': 0.0468106016267822, 'subsample': 0.7000222819941654, 'colsample_bytree': 0.8759226315966135, 'reg_lambda': 8.024938957857753, 'reg_alpha': 2.084112725099003}. Best is trial 16 with value: 0.010246383026242256.\n",
            "[I 2025-05-05 08:37:17,062] Trial 17 finished with value: 0.01010868325829506 and parameters: {'n_estimators': 496, 'max_depth': 7, 'learning_rate': 0.046843226234581654, 'subsample': 0.7987229248985749, 'colsample_bytree': 0.8902569704225817, 'reg_lambda': 8.42989539307069, 'reg_alpha': 2.2214090284277384}. Best is trial 17 with value: 0.01010868325829506.\n",
            "[I 2025-05-05 08:37:18,100] Trial 18 finished with value: 0.02367263473570347 and parameters: {'n_estimators': 337, 'max_depth': 7, 'learning_rate': 0.017421134402420928, 'subsample': 0.7978394245232024, 'colsample_bytree': 0.8865926570004429, 'reg_lambda': 9.860790097792647, 'reg_alpha': 2.4247165939169215}. Best is trial 17 with value: 0.01010868325829506.\n",
            "[I 2025-05-05 08:37:22,537] Trial 19 finished with value: 0.014872986823320389 and parameters: {'n_estimators': 475, 'max_depth': 7, 'learning_rate': 0.12082902107338248, 'subsample': 0.8389204570330628, 'colsample_bytree': 0.8728082849968037, 'reg_lambda': 8.22753336718695, 'reg_alpha': 3.16275586156874}. Best is trial 17 with value: 0.01010868325829506.\n",
            "[I 2025-05-05 08:37:24,518] Trial 20 finished with value: 0.009803077206015587 and parameters: {'n_estimators': 494, 'max_depth': 8, 'learning_rate': 0.0479473164894813, 'subsample': 0.807322330232492, 'colsample_bytree': 0.9914139322610329, 'reg_lambda': 7.879618989536178, 'reg_alpha': 1.6487948400114862}. Best is trial 20 with value: 0.009803077206015587.\n",
            "[I 2025-05-05 08:37:26,309] Trial 21 finished with value: 0.009315366856753826 and parameters: {'n_estimators': 497, 'max_depth': 8, 'learning_rate': 0.0391954814775443, 'subsample': 0.8169630546527084, 'colsample_bytree': 0.9811291790921511, 'reg_lambda': 7.98525969128654, 'reg_alpha': 1.9836286922674125}. Best is trial 21 with value: 0.009315366856753826.\n",
            "[I 2025-05-05 08:37:28,466] Trial 22 finished with value: 0.00936184637248516 and parameters: {'n_estimators': 500, 'max_depth': 8, 'learning_rate': 0.03764910050735716, 'subsample': 0.8149051821718806, 'colsample_bytree': 0.9919892705031661, 'reg_lambda': 9.822223911923093, 'reg_alpha': 1.4341905872918854}. Best is trial 21 with value: 0.009315366856753826.\n",
            "[I 2025-05-05 08:37:30,875] Trial 23 finished with value: 0.013512425124645233 and parameters: {'n_estimators': 498, 'max_depth': 8, 'learning_rate': 0.1852479080982289, 'subsample': 0.8610060368173253, 'colsample_bytree': 0.9935561185571836, 'reg_lambda': 9.962865451563808, 'reg_alpha': 1.4123378957503299}. Best is trial 21 with value: 0.009315366856753826.\n",
            "[I 2025-05-05 08:37:32,338] Trial 24 finished with value: 0.009166767820715904 and parameters: {'n_estimators': 455, 'max_depth': 8, 'learning_rate': 0.034268006704200216, 'subsample': 0.8188262730080256, 'colsample_bytree': 0.9998442537921636, 'reg_lambda': 9.02361815299922, 'reg_alpha': 3.702278923899525}. Best is trial 24 with value: 0.009166767820715904.\n",
            "[I 2025-05-05 08:37:36,185] Trial 25 finished with value: 0.008936824277043343 and parameters: {'n_estimators': 450, 'max_depth': 9, 'learning_rate': 0.026492072577849392, 'subsample': 0.8242365213810269, 'colsample_bytree': 0.9699796659213078, 'reg_lambda': 9.172643186996085, 'reg_alpha': 3.6453860968915137}. Best is trial 25 with value: 0.008936824277043343.\n",
            "[I 2025-05-05 08:37:38,830] Trial 26 finished with value: 0.016442418098449707 and parameters: {'n_estimators': 446, 'max_depth': 9, 'learning_rate': 0.014037471819376807, 'subsample': 0.8529360016991342, 'colsample_bytree': 0.9167841432958543, 'reg_lambda': 9.31640863641238, 'reg_alpha': 4.0160982679088795}. Best is trial 25 with value: 0.008936824277043343.\n",
            "[I 2025-05-05 08:37:40,234] Trial 27 finished with value: 0.011809693649411201 and parameters: {'n_estimators': 397, 'max_depth': 10, 'learning_rate': 0.0675462521486316, 'subsample': 0.8300567030291734, 'colsample_bytree': 0.9522510591903404, 'reg_lambda': 9.156382840472801, 'reg_alpha': 3.3407425011058676}. Best is trial 25 with value: 0.008936824277043343.\n",
            "[I 2025-05-05 08:37:41,611] Trial 28 finished with value: 0.017466604709625244 and parameters: {'n_estimators': 359, 'max_depth': 9, 'learning_rate': 0.12873438825782405, 'subsample': 0.7730609868648073, 'colsample_bytree': 0.9717097348532248, 'reg_lambda': 6.848875408728686, 'reg_alpha': 4.526673562204409}. Best is trial 25 with value: 0.008936824277043343.\n",
            "[I 2025-05-05 08:37:42,975] Trial 29 finished with value: 0.054420944303274155 and parameters: {'n_estimators': 456, 'max_depth': 10, 'learning_rate': 0.011535712678541008, 'subsample': 0.8684570396562381, 'colsample_bytree': 0.9729047720873469, 'reg_lambda': 7.652818672624811, 'reg_alpha': 4.323643855439568}. Best is trial 25 with value: 0.008936824277043343.\n"
          ]
        },
        {
          "output_type": "stream",
          "name": "stdout",
          "text": [
            "✅ Best trial for model 2: RMSE = 0.0089\n"
          ]
        },
        {
          "output_type": "stream",
          "name": "stderr",
          "text": [
            "[I 2025-05-05 08:37:44,220] A new study created in memory with name: no-name-c832f89b-d12d-4043-9369-3c3f501ef65f\n"
          ]
        },
        {
          "output_type": "stream",
          "name": "stdout",
          "text": [
            "\n",
            "🔁 Optimizing model 3/5\n"
          ]
        },
        {
          "output_type": "stream",
          "name": "stderr",
          "text": [
            "[I 2025-05-05 08:37:45,261] Trial 0 finished with value: 0.024876337498426437 and parameters: {'n_estimators': 475, 'max_depth': 4, 'learning_rate': 0.27863928379500463, 'subsample': 0.844074012521304, 'colsample_bytree': 0.9891932822329517, 'reg_lambda': 4.216733976793644, 'reg_alpha': 4.574006133669545}. Best is trial 0 with value: 0.024876337498426437.\n",
            "[I 2025-05-05 08:37:49,317] Trial 1 finished with value: 0.02388666570186615 and parameters: {'n_estimators': 345, 'max_depth': 8, 'learning_rate': 0.2784044771556426, 'subsample': 0.7476507811343024, 'colsample_bytree': 0.8186505826457413, 'reg_lambda': 1.0162568370782235, 'reg_alpha': 6.091701138661551}. Best is trial 1 with value: 0.02388666570186615.\n",
            "[I 2025-05-05 08:37:50,788] Trial 2 finished with value: 0.016700707376003265 and parameters: {'n_estimators': 401, 'max_depth': 8, 'learning_rate': 0.26876055651300534, 'subsample': 0.9442971212257059, 'colsample_bytree': 0.7940151124281561, 'reg_lambda': 8.657101928541637, 'reg_alpha': 2.710384240001734}. Best is trial 2 with value: 0.016700707376003265.\n",
            "[I 2025-05-05 08:37:51,346] Trial 3 finished with value: 0.02868049405515194 and parameters: {'n_estimators': 361, 'max_depth': 3, 'learning_rate': 0.11677290561508707, 'subsample': 0.9698120434769901, 'colsample_bytree': 0.7341333019480524, 'reg_lambda': 4.611990239121994, 'reg_alpha': 5.345187129912566}. Best is trial 2 with value: 0.016700707376003265.\n",
            "[I 2025-05-05 08:37:51,951] Trial 4 finished with value: 0.025044618174433708 and parameters: {'n_estimators': 177, 'max_depth': 7, 'learning_rate': 0.27090413877844216, 'subsample': 0.9273343492283399, 'colsample_bytree': 0.9648643812885453, 'reg_lambda': 1.8550259336370196, 'reg_alpha': 6.711185645024315}. Best is trial 2 with value: 0.016700707376003265.\n",
            "[I 2025-05-05 08:37:52,860] Trial 5 finished with value: 0.01976028084754944 and parameters: {'n_estimators': 421, 'max_depth': 8, 'learning_rate': 0.10710991166698995, 'subsample': 0.7054872016578821, 'colsample_bytree': 0.8209321895391506, 'reg_lambda': 5.851012671988274, 'reg_alpha': 8.960630256819863}. Best is trial 2 with value: 0.016700707376003265.\n",
            "[I 2025-05-05 08:37:54,056] Trial 6 finished with value: 0.009417438879609108 and parameters: {'n_estimators': 352, 'max_depth': 4, 'learning_rate': 0.06263627148380836, 'subsample': 0.9969580197212642, 'colsample_bytree': 0.8973089327477768, 'reg_lambda': 0.5081138952801693, 'reg_alpha': 1.0671789995482786}. Best is trial 6 with value: 0.009417438879609108.\n",
            "[I 2025-05-05 08:37:54,919] Trial 7 finished with value: 0.02767975814640522 and parameters: {'n_estimators': 126, 'max_depth': 7, 'learning_rate': 0.20976595198614564, 'subsample': 0.7113427384299543, 'colsample_bytree': 0.7985265135176797, 'reg_lambda': 7.092408279207572, 'reg_alpha': 5.815196413990846}. Best is trial 6 with value: 0.009417438879609108.\n",
            "[I 2025-05-05 08:37:56,355] Trial 8 finished with value: 0.009029596112668514 and parameters: {'n_estimators': 429, 'max_depth': 5, 'learning_rate': 0.02067418328094685, 'subsample': 0.7704834885910007, 'colsample_bytree': 0.8721810070143976, 'reg_lambda': 8.555155600836326, 'reg_alpha': 1.5746547744535526}. Best is trial 8 with value: 0.009029596112668514.\n",
            "[I 2025-05-05 08:37:57,183] Trial 9 finished with value: 0.028778571635484695 and parameters: {'n_estimators': 205, 'max_depth': 8, 'learning_rate': 0.29887311295220703, 'subsample': 0.8049324603417197, 'colsample_bytree': 0.8836144420478926, 'reg_lambda': 8.53997199730588, 'reg_alpha': 6.6300562555015725}. Best is trial 8 with value: 0.009029596112668514.\n",
            "[I 2025-05-05 08:38:02,361] Trial 10 finished with value: 0.008595144376158714 and parameters: {'n_estimators': 498, 'max_depth': 10, 'learning_rate': 0.018838731107765405, 'subsample': 0.789397210937512, 'colsample_bytree': 0.7008382774805244, 'reg_lambda': 9.899639894988482, 'reg_alpha': 0.1067890892810508}. Best is trial 10 with value: 0.008595144376158714.\n",
            "[I 2025-05-05 08:38:05,131] Trial 11 finished with value: 0.008703337982296944 and parameters: {'n_estimators': 479, 'max_depth': 10, 'learning_rate': 0.018319330438227577, 'subsample': 0.7844675195785398, 'colsample_bytree': 0.7228831639886013, 'reg_lambda': 9.537438310828229, 'reg_alpha': 0.14396375417070062}. Best is trial 10 with value: 0.008595144376158714.\n",
            "[I 2025-05-05 08:38:07,498] Trial 12 finished with value: 0.008770766668021679 and parameters: {'n_estimators': 471, 'max_depth': 10, 'learning_rate': 0.019356239520499252, 'subsample': 0.8773956040762985, 'colsample_bytree': 0.7134538141314074, 'reg_lambda': 9.740607651044023, 'reg_alpha': 0.17344915837481575}. Best is trial 10 with value: 0.008595144376158714.\n",
            "[I 2025-05-05 08:38:08,561] Trial 13 finished with value: 0.01361896377056837 and parameters: {'n_estimators': 268, 'max_depth': 10, 'learning_rate': 0.07483667698756716, 'subsample': 0.8137075001247853, 'colsample_bytree': 0.7530113917144915, 'reg_lambda': 9.785439438816313, 'reg_alpha': 3.1213127574270176}. Best is trial 10 with value: 0.008595144376158714.\n",
            "[I 2025-05-05 08:38:10,472] Trial 14 finished with value: 0.01487591303884983 and parameters: {'n_estimators': 496, 'max_depth': 10, 'learning_rate': 0.1948991005356428, 'subsample': 0.7680056618053112, 'colsample_bytree': 0.7070030998876066, 'reg_lambda': 6.910526671923305, 'reg_alpha': 2.498942131744694}. Best is trial 10 with value: 0.008595144376158714.\n",
            "[I 2025-05-05 08:38:12,308] Trial 15 finished with value: 0.00960010290145874 and parameters: {'n_estimators': 279, 'max_depth': 9, 'learning_rate': 0.0480929263427914, 'subsample': 0.876765291990965, 'colsample_bytree': 0.7635371843825588, 'reg_lambda': 3.3102948268820214, 'reg_alpha': 0.22830527925380656}. Best is trial 10 with value: 0.008595144376158714.\n",
            "[I 2025-05-05 08:38:16,481] Trial 16 finished with value: 0.015962310135364532 and parameters: {'n_estimators': 442, 'max_depth': 9, 'learning_rate': 0.14108256177306683, 'subsample': 0.8078574160072935, 'colsample_bytree': 0.7003107373051515, 'reg_lambda': 6.971900949545521, 'reg_alpha': 3.4674251329927905}. Best is trial 10 with value: 0.008595144376158714.\n",
            "[I 2025-05-05 08:38:17,661] Trial 17 finished with value: 0.34914690256118774 and parameters: {'n_estimators': 386, 'max_depth': 6, 'learning_rate': 0.010921090101917335, 'subsample': 0.7366425591849771, 'colsample_bytree': 0.7536573403500652, 'reg_lambda': 9.801787713772322, 'reg_alpha': 1.4326867700745314}. Best is trial 10 with value: 0.008595144376158714.\n",
            "[I 2025-05-05 08:38:18,888] Trial 18 finished with value: 0.016129855066537857 and parameters: {'n_estimators': 498, 'max_depth': 9, 'learning_rate': 0.08820765960685531, 'subsample': 0.8453662215565706, 'colsample_bytree': 0.9290928284952986, 'reg_lambda': 7.8630698797002605, 'reg_alpha': 8.099562979590555}. Best is trial 10 with value: 0.008595144376158714.\n",
            "[I 2025-05-05 08:38:19,748] Trial 19 finished with value: 0.009730393067002296 and parameters: {'n_estimators': 313, 'max_depth': 10, 'learning_rate': 0.04125534124878061, 'subsample': 0.7881440059040327, 'colsample_bytree': 0.7838731920498059, 'reg_lambda': 5.968809221142147, 'reg_alpha': 3.8942432308019512}. Best is trial 10 with value: 0.008595144376158714.\n",
            "[I 2025-05-05 08:38:20,971] Trial 20 finished with value: 0.01360697764903307 and parameters: {'n_estimators': 234, 'max_depth': 9, 'learning_rate': 0.18468630155831078, 'subsample': 0.8746279524755061, 'colsample_bytree': 0.8484151649045145, 'reg_lambda': 2.5844089172860887, 'reg_alpha': 2.005067974974891}. Best is trial 10 with value: 0.008595144376158714.\n",
            "[I 2025-05-05 08:38:23,699] Trial 21 finished with value: 0.009087467566132545 and parameters: {'n_estimators': 455, 'max_depth': 10, 'learning_rate': 0.02852231715022953, 'subsample': 0.8974531499460086, 'colsample_bytree': 0.7248336948749888, 'reg_lambda': 9.625510447652069, 'reg_alpha': 0.19092730452727089}. Best is trial 10 with value: 0.008595144376158714.\n",
            "[I 2025-05-05 08:38:26,373] Trial 22 finished with value: 0.00991380587220192 and parameters: {'n_estimators': 470, 'max_depth': 10, 'learning_rate': 0.05017534438430195, 'subsample': 0.8224630694860151, 'colsample_bytree': 0.7322483077173793, 'reg_lambda': 9.305276998180652, 'reg_alpha': 0.8100888336296759}. Best is trial 10 with value: 0.008595144376158714.\n",
            "[I 2025-05-05 08:38:30,699] Trial 23 finished with value: 0.2929154634475708 and parameters: {'n_estimators': 405, 'max_depth': 9, 'learning_rate': 0.010579360057028595, 'subsample': 0.9063252119087168, 'colsample_bytree': 0.7011436737162621, 'reg_lambda': 7.921451879328172, 'reg_alpha': 0.21773610338935934}. Best is trial 10 with value: 0.008595144376158714.\n",
            "[I 2025-05-05 08:38:32,780] Trial 24 finished with value: 0.012478550896048546 and parameters: {'n_estimators': 461, 'max_depth': 10, 'learning_rate': 0.08512565420336116, 'subsample': 0.8572982571553232, 'colsample_bytree': 0.7644502146826208, 'reg_lambda': 9.126648208172499, 'reg_alpha': 2.0507080722344875}. Best is trial 10 with value: 0.008595144376158714.\n",
            "[I 2025-05-05 08:38:35,110] Trial 25 finished with value: 0.009844965301454067 and parameters: {'n_estimators': 493, 'max_depth': 9, 'learning_rate': 0.038982527816542635, 'subsample': 0.7785542240194846, 'colsample_bytree': 0.724423191574441, 'reg_lambda': 7.8389153903671716, 'reg_alpha': 0.7945839267797595}. Best is trial 10 with value: 0.008595144376158714.\n",
            "[I 2025-05-05 08:38:36,512] Trial 26 finished with value: 0.013444023206830025 and parameters: {'n_estimators': 436, 'max_depth': 6, 'learning_rate': 0.11267664013365244, 'subsample': 0.7423331278304328, 'colsample_bytree': 0.7376594451213637, 'reg_lambda': 9.979319106155872, 'reg_alpha': 1.2821130592146046}. Best is trial 10 with value: 0.008595144376158714.\n",
            "[I 2025-05-05 08:38:37,679] Trial 27 finished with value: 0.012253735214471817 and parameters: {'n_estimators': 385, 'max_depth': 10, 'learning_rate': 0.06538280131265994, 'subsample': 0.8300803748929773, 'colsample_bytree': 0.7758169840573212, 'reg_lambda': 9.008719048105775, 'reg_alpha': 3.9636184888851322}. Best is trial 10 with value: 0.008595144376158714.\n",
            "[I 2025-05-05 08:38:38,817] Trial 28 finished with value: 0.014134829863905907 and parameters: {'n_estimators': 319, 'max_depth': 7, 'learning_rate': 0.14437737915281174, 'subsample': 0.7924262957420489, 'colsample_bytree': 0.7166958652716375, 'reg_lambda': 5.769041707699196, 'reg_alpha': 2.1856727157609557}. Best is trial 10 with value: 0.008595144376158714.\n",
            "[I 2025-05-05 08:38:39,829] Trial 29 finished with value: 0.00978364609181881 and parameters: {'n_estimators': 476, 'max_depth': 8, 'learning_rate': 0.030563520761306147, 'subsample': 0.870737634380297, 'colsample_bytree': 0.7445638291936639, 'reg_lambda': 3.7204224828805517, 'reg_alpha': 9.807354134456814}. Best is trial 10 with value: 0.008595144376158714.\n"
          ]
        },
        {
          "output_type": "stream",
          "name": "stdout",
          "text": [
            "✅ Best trial for model 3: RMSE = 0.0086\n"
          ]
        },
        {
          "output_type": "stream",
          "name": "stderr",
          "text": [
            "[I 2025-05-05 08:38:45,367] A new study created in memory with name: no-name-3f07a264-30c9-4995-8a04-d3b9955268cb\n"
          ]
        },
        {
          "output_type": "stream",
          "name": "stdout",
          "text": [
            "\n",
            "🔁 Optimizing model 4/5\n"
          ]
        },
        {
          "output_type": "stream",
          "name": "stderr",
          "text": [
            "[I 2025-05-05 08:38:46,687] Trial 0 finished with value: 0.012498962692916393 and parameters: {'n_estimators': 490, 'max_depth': 5, 'learning_rate': 0.2390331884605708, 'subsample': 0.8126487358521303, 'colsample_bytree': 0.7061442469405864, 'reg_lambda': 6.902755624709227, 'reg_alpha': 0.5841577535724957}. Best is trial 0 with value: 0.012498962692916393.\n",
            "[I 2025-05-05 08:38:47,427] Trial 1 finished with value: 0.013453004881739616 and parameters: {'n_estimators': 285, 'max_depth': 8, 'learning_rate': 0.0227539090391687, 'subsample': 0.8971791798854891, 'colsample_bytree': 0.8272655450753685, 'reg_lambda': 6.927044360848631, 'reg_alpha': 7.0501119119009426}. Best is trial 0 with value: 0.012498962692916393.\n",
            "[I 2025-05-05 08:38:48,401] Trial 2 finished with value: 0.015460990369319916 and parameters: {'n_estimators': 330, 'max_depth': 10, 'learning_rate': 0.1759368959511555, 'subsample': 0.8576176642556521, 'colsample_bytree': 0.7694077496776819, 'reg_lambda': 0.40076320513256203, 'reg_alpha': 4.494312742623036}. Best is trial 0 with value: 0.012498962692916393.\n",
            "[I 2025-05-05 08:38:49,142] Trial 3 finished with value: 0.02237730100750923 and parameters: {'n_estimators': 363, 'max_depth': 6, 'learning_rate': 0.14069824969336586, 'subsample': 0.9993651138518407, 'colsample_bytree': 0.7459090773044256, 'reg_lambda': 7.818489631257409, 'reg_alpha': 7.253527640941864}. Best is trial 0 with value: 0.012498962692916393.\n",
            "[I 2025-05-05 08:38:50,194] Trial 4 finished with value: 0.03255192190408707 and parameters: {'n_estimators': 389, 'max_depth': 6, 'learning_rate': 0.2796625054824595, 'subsample': 0.8331214727436417, 'colsample_bytree': 0.8008574281981964, 'reg_lambda': 8.798166659559248, 'reg_alpha': 8.671388789020982}. Best is trial 0 with value: 0.012498962692916393.\n",
            "[I 2025-05-05 08:38:51,378] Trial 5 finished with value: 0.033300384879112244 and parameters: {'n_estimators': 457, 'max_depth': 7, 'learning_rate': 0.299812486837101, 'subsample': 0.7665970186669278, 'colsample_bytree': 0.9190452214590119, 'reg_lambda': 1.580575318597297, 'reg_alpha': 8.894935038677017}. Best is trial 0 with value: 0.012498962692916393.\n",
            "[I 2025-05-05 08:38:51,747] Trial 6 finished with value: 0.013064734637737274 and parameters: {'n_estimators': 118, 'max_depth': 10, 'learning_rate': 0.06759717734526892, 'subsample': 0.7425648135986473, 'colsample_bytree': 0.9523358241703797, 'reg_lambda': 5.2050156985955045, 'reg_alpha': 7.045585641500145}. Best is trial 0 with value: 0.012498962692916393.\n",
            "[I 2025-05-05 08:38:52,803] Trial 7 finished with value: 0.017350615933537483 and parameters: {'n_estimators': 320, 'max_depth': 7, 'learning_rate': 0.18728490925420094, 'subsample': 0.8054130382333075, 'colsample_bytree': 0.8224966832081941, 'reg_lambda': 3.940122741638254, 'reg_alpha': 3.5989032288453604}. Best is trial 0 with value: 0.012498962692916393.\n",
            "[I 2025-05-05 08:38:53,742] Trial 8 finished with value: 0.881166398525238 and parameters: {'n_estimators': 325, 'max_depth': 10, 'learning_rate': 0.011413558572070106, 'subsample': 0.8702668276661718, 'colsample_bytree': 0.9382773665953225, 'reg_lambda': 5.6049468586534035, 'reg_alpha': 6.574905277158842}. Best is trial 0 with value: 0.012498962692916393.\n",
            "[I 2025-05-05 08:38:56,640] Trial 9 finished with value: 0.019109144806861877 and parameters: {'n_estimators': 193, 'max_depth': 9, 'learning_rate': 0.17317755205946808, 'subsample': 0.7603673982357717, 'colsample_bytree': 0.9071138998387398, 'reg_lambda': 9.283138644095786, 'reg_alpha': 3.7359255000342593}. Best is trial 0 with value: 0.012498962692916393.\n",
            "[I 2025-05-05 08:38:58,244] Trial 10 finished with value: 0.01452441606670618 and parameters: {'n_estimators': 470, 'max_depth': 3, 'learning_rate': 0.23455348773289378, 'subsample': 0.9323828261956665, 'colsample_bytree': 0.7044242337616078, 'reg_lambda': 3.412838515279892, 'reg_alpha': 0.775556235466927}. Best is trial 0 with value: 0.012498962692916393.\n",
            "[I 2025-05-05 08:38:58,587] Trial 11 finished with value: 0.014242975041270256 and parameters: {'n_estimators': 119, 'max_depth': 4, 'learning_rate': 0.08879866028429452, 'subsample': 0.71147120001942, 'colsample_bytree': 0.9927699440577034, 'reg_lambda': 5.91183206046268, 'reg_alpha': 0.8672712705067784}. Best is trial 0 with value: 0.012498962692916393.\n",
            "[I 2025-05-05 08:38:59,298] Trial 12 finished with value: 0.013490233570337296 and parameters: {'n_estimators': 224, 'max_depth': 5, 'learning_rate': 0.10429825079797636, 'subsample': 0.7013394140410147, 'colsample_bytree': 0.8755124184268321, 'reg_lambda': 4.1879083395797565, 'reg_alpha': 2.369915848559983}. Best is trial 0 with value: 0.012498962692916393.\n",
            "[I 2025-05-05 08:38:59,796] Trial 13 finished with value: 0.026798639446496964 and parameters: {'n_estimators': 157, 'max_depth': 5, 'learning_rate': 0.2375192469581326, 'subsample': 0.7640940606900557, 'colsample_bytree': 0.9786499093762763, 'reg_lambda': 6.628561902419783, 'reg_alpha': 5.6239518772513195}. Best is trial 0 with value: 0.012498962692916393.\n",
            "[I 2025-05-05 08:39:00,699] Trial 14 finished with value: 0.009760831482708454 and parameters: {'n_estimators': 238, 'max_depth': 8, 'learning_rate': 0.058172542805534744, 'subsample': 0.8024388952235139, 'colsample_bytree': 0.871642704290515, 'reg_lambda': 2.8693043570604844, 'reg_alpha': 2.087262643880332}. Best is trial 14 with value: 0.009760831482708454.\n",
            "[I 2025-05-05 08:39:01,807] Trial 15 finished with value: 0.015157598070800304 and parameters: {'n_estimators': 247, 'max_depth': 8, 'learning_rate': 0.22354489293334634, 'subsample': 0.8199026462567337, 'colsample_bytree': 0.862839844600309, 'reg_lambda': 2.438793568687628, 'reg_alpha': 2.2533706735707706}. Best is trial 14 with value: 0.009760831482708454.\n",
            "[I 2025-05-05 08:39:02,515] Trial 16 finished with value: 0.01681791990995407 and parameters: {'n_estimators': 408, 'max_depth': 3, 'learning_rate': 0.12517083235696164, 'subsample': 0.8093952990995117, 'colsample_bytree': 0.7108108055679847, 'reg_lambda': 2.0897587077361326, 'reg_alpha': 0.19084574154908018}. Best is trial 14 with value: 0.009760831482708454.\n",
            "[I 2025-05-05 08:39:03,800] Trial 17 finished with value: 0.011224920861423016 and parameters: {'n_estimators': 494, 'max_depth': 5, 'learning_rate': 0.06016873649806008, 'subsample': 0.9193197583534379, 'colsample_bytree': 0.7846205120440735, 'reg_lambda': 9.951429304668709, 'reg_alpha': 2.1237100982613732}. Best is trial 14 with value: 0.009760831482708454.\n",
            "[I 2025-05-05 08:39:04,749] Trial 18 finished with value: 0.01060418039560318 and parameters: {'n_estimators': 256, 'max_depth': 8, 'learning_rate': 0.054374307235560956, 'subsample': 0.9408632694052451, 'colsample_bytree': 0.7881318374371975, 'reg_lambda': 9.843050853177719, 'reg_alpha': 2.106333170582218}. Best is trial 14 with value: 0.009760831482708454.\n",
            "[I 2025-05-05 08:39:05,668] Trial 19 finished with value: 0.008168910630047321 and parameters: {'n_estimators': 266, 'max_depth': 8, 'learning_rate': 0.04297877641281732, 'subsample': 0.9769043155293466, 'colsample_bytree': 0.887558683340516, 'reg_lambda': 0.6828206400364114, 'reg_alpha': 3.0137696503433555}. Best is trial 19 with value: 0.008168910630047321.\n",
            "[I 2025-05-05 08:39:06,332] Trial 20 finished with value: 0.008340534754097462 and parameters: {'n_estimators': 192, 'max_depth': 9, 'learning_rate': 0.04362557076804152, 'subsample': 0.9797164671596956, 'colsample_bytree': 0.8985604177486781, 'reg_lambda': 0.7113076300072514, 'reg_alpha': 3.439188283922478}. Best is trial 19 with value: 0.008168910630047321.\n",
            "[I 2025-05-05 08:39:07,007] Trial 21 finished with value: 0.009436056949198246 and parameters: {'n_estimators': 185, 'max_depth': 9, 'learning_rate': 0.03735588624225118, 'subsample': 0.9973894006817856, 'colsample_bytree': 0.8850722625752185, 'reg_lambda': 0.3548968823704439, 'reg_alpha': 3.349408935873744}. Best is trial 19 with value: 0.008168910630047321.\n",
            "[I 2025-05-05 08:39:07,655] Trial 22 finished with value: 0.04776369407773018 and parameters: {'n_estimators': 169, 'max_depth': 9, 'learning_rate': 0.030658821369394556, 'subsample': 0.9897275699265852, 'colsample_bytree': 0.898615324847634, 'reg_lambda': 0.28843621944744907, 'reg_alpha': 3.3431072967545026}. Best is trial 19 with value: 0.008168910630047321.\n",
            "[I 2025-05-05 08:39:10,266] Trial 23 finished with value: 0.010364146903157234 and parameters: {'n_estimators': 199, 'max_depth': 9, 'learning_rate': 0.09402499699256377, 'subsample': 0.9658840287377224, 'colsample_bytree': 0.8427148006604074, 'reg_lambda': 1.3181461419103542, 'reg_alpha': 4.885650524134014}. Best is trial 19 with value: 0.008168910630047321.\n",
            "[I 2025-05-05 08:39:11,741] Trial 24 finished with value: 0.009767399169504642 and parameters: {'n_estimators': 165, 'max_depth': 9, 'learning_rate': 0.041261320639740216, 'subsample': 0.9618936434747523, 'colsample_bytree': 0.8874167249963452, 'reg_lambda': 1.0242631372089308, 'reg_alpha': 3.216390693480971}. Best is trial 19 with value: 0.008168910630047321.\n",
            "[I 2025-05-05 08:39:12,422] Trial 25 finished with value: 0.008610853925347328 and parameters: {'n_estimators': 208, 'max_depth': 7, 'learning_rate': 0.07624193321333658, 'subsample': 0.9741511831636578, 'colsample_bytree': 0.9239742139115781, 'reg_lambda': 0.11217263470891586, 'reg_alpha': 4.470217805532692}. Best is trial 19 with value: 0.008168910630047321.\n",
            "[I 2025-05-05 08:39:13,172] Trial 26 finished with value: 0.009766679257154465 and parameters: {'n_estimators': 283, 'max_depth': 7, 'learning_rate': 0.07506423997779751, 'subsample': 0.9612086232709081, 'colsample_bytree': 0.9322953240212668, 'reg_lambda': 1.6335265108638488, 'reg_alpha': 5.859250927493405}. Best is trial 19 with value: 0.008168910630047321.\n",
            "[I 2025-05-05 08:39:13,956] Trial 27 finished with value: 0.01196193415671587 and parameters: {'n_estimators': 272, 'max_depth': 7, 'learning_rate': 0.12159842700421249, 'subsample': 0.8962775058653569, 'colsample_bytree': 0.9600913750083764, 'reg_lambda': 0.8568286518944749, 'reg_alpha': 4.19835438879132}. Best is trial 19 with value: 0.008168910630047321.\n",
            "[I 2025-05-05 08:39:14,772] Trial 28 finished with value: 7.211397171020508 and parameters: {'n_estimators': 221, 'max_depth': 8, 'learning_rate': 0.011898474815214784, 'subsample': 0.9714208746771184, 'colsample_bytree': 0.9092855353934749, 'reg_lambda': 2.2691720843908705, 'reg_alpha': 5.368386015308232}. Best is trial 19 with value: 0.008168910630047321.\n",
            "[I 2025-05-05 08:39:15,254] Trial 29 finished with value: 0.01069463137537241 and parameters: {'n_estimators': 128, 'max_depth': 6, 'learning_rate': 0.07951503004533499, 'subsample': 0.9104725228991173, 'colsample_bytree': 0.8401016348664356, 'reg_lambda': 3.0492762888658684, 'reg_alpha': 1.5138929477647793}. Best is trial 19 with value: 0.008168910630047321.\n"
          ]
        },
        {
          "output_type": "stream",
          "name": "stdout",
          "text": [
            "✅ Best trial for model 4: RMSE = 0.0082\n"
          ]
        },
        {
          "output_type": "stream",
          "name": "stderr",
          "text": [
            "[I 2025-05-05 08:39:16,097] A new study created in memory with name: no-name-262d23d5-d47f-485f-86ad-5d3a19915ba5\n"
          ]
        },
        {
          "output_type": "stream",
          "name": "stdout",
          "text": [
            "\n",
            "🔁 Optimizing model 5/5\n"
          ]
        },
        {
          "output_type": "stream",
          "name": "stderr",
          "text": [
            "[I 2025-05-05 08:39:16,695] Trial 0 finished with value: 0.013812679797410965 and parameters: {'n_estimators': 265, 'max_depth': 4, 'learning_rate': 0.1197324594930245, 'subsample': 0.8906668991477161, 'colsample_bytree': 0.8108612869544289, 'reg_lambda': 5.9500162186767085, 'reg_alpha': 1.5291418844895701}. Best is trial 0 with value: 0.013812679797410965.\n",
            "[I 2025-05-05 08:39:17,842] Trial 1 finished with value: 0.02578379213809967 and parameters: {'n_estimators': 392, 'max_depth': 8, 'learning_rate': 0.15085147430371, 'subsample': 0.751355009977616, 'colsample_bytree': 0.9486461109300568, 'reg_lambda': 8.112242529320199, 'reg_alpha': 7.929999438289674}. Best is trial 0 with value: 0.013812679797410965.\n",
            "[I 2025-05-05 08:39:19,115] Trial 2 finished with value: 0.015554655343294144 and parameters: {'n_estimators': 371, 'max_depth': 10, 'learning_rate': 0.26611398986170437, 'subsample': 0.9969331359989551, 'colsample_bytree': 0.7728031758187418, 'reg_lambda': 0.5679414659925919, 'reg_alpha': 2.336797624109457}. Best is trial 0 with value: 0.013812679797410965.\n",
            "[I 2025-05-05 08:39:19,935] Trial 3 finished with value: 0.013193497434258461 and parameters: {'n_estimators': 124, 'max_depth': 9, 'learning_rate': 0.2412764051617271, 'subsample': 0.819142142965176, 'colsample_bytree': 0.9136430398983605, 'reg_lambda': 4.898964187089985, 'reg_alpha': 1.1778201308497542}. Best is trial 3 with value: 0.013193497434258461.\n",
            "[I 2025-05-05 08:39:20,742] Trial 4 finished with value: 0.030994962900877 and parameters: {'n_estimators': 205, 'max_depth': 8, 'learning_rate': 0.2526722121285901, 'subsample': 0.7823593688047672, 'colsample_bytree': 0.9641696547705836, 'reg_lambda': 2.1725353706687187, 'reg_alpha': 7.653749136323478}. Best is trial 3 with value: 0.013193497434258461.\n",
            "[I 2025-05-05 08:39:21,904] Trial 5 finished with value: 0.01728840172290802 and parameters: {'n_estimators': 224, 'max_depth': 7, 'learning_rate': 0.24225709814568558, 'subsample': 0.8284773071550684, 'colsample_bytree': 0.8967220600158494, 'reg_lambda': 3.053424354955407, 'reg_alpha': 2.7426635004907056}. Best is trial 3 with value: 0.013193497434258461.\n",
            "[I 2025-05-05 08:39:25,015] Trial 6 finished with value: 0.012491302564740181 and parameters: {'n_estimators': 400, 'max_depth': 4, 'learning_rate': 0.19444056002424423, 'subsample': 0.807296214384589, 'colsample_bytree': 0.7093938779612189, 'reg_lambda': 7.458509981975507, 'reg_alpha': 0.2195865270545295}. Best is trial 6 with value: 0.012491302564740181.\n",
            "[I 2025-05-05 08:39:26,337] Trial 7 finished with value: 0.01853185147047043 and parameters: {'n_estimators': 383, 'max_depth': 7, 'learning_rate': 0.2442524985980082, 'subsample': 0.7830147595569643, 'colsample_bytree': 0.7387351772831977, 'reg_lambda': 0.46011642034815725, 'reg_alpha': 4.39011665156661}. Best is trial 6 with value: 0.012491302564740181.\n",
            "[I 2025-05-05 08:39:26,656] Trial 8 finished with value: 0.03435593843460083 and parameters: {'n_estimators': 109, 'max_depth': 5, 'learning_rate': 0.2721508740326094, 'subsample': 0.711304541592861, 'colsample_bytree': 0.7766370596034121, 'reg_lambda': 7.595967664976049, 'reg_alpha': 6.8730928225082595}. Best is trial 6 with value: 0.012491302564740181.\n",
            "[I 2025-05-05 08:39:27,312] Trial 9 finished with value: 0.018041033297777176 and parameters: {'n_estimators': 138, 'max_depth': 7, 'learning_rate': 0.2172739262233803, 'subsample': 0.8343166987926913, 'colsample_bytree': 0.7500431985516142, 'reg_lambda': 3.214229513928697, 'reg_alpha': 3.3294827303813133}. Best is trial 6 with value: 0.012491302564740181.\n",
            "[I 2025-05-05 08:39:28,119] Trial 10 finished with value: 0.010970273055136204 and parameters: {'n_estimators': 484, 'max_depth': 3, 'learning_rate': 0.04428863122346391, 'subsample': 0.9078510294277579, 'colsample_bytree': 0.8466891840666031, 'reg_lambda': 9.236840995384782, 'reg_alpha': 0.2155835564704911}. Best is trial 10 with value: 0.010970273055136204.\n",
            "[I 2025-05-05 08:39:28,901] Trial 11 finished with value: 0.009786932729184628 and parameters: {'n_estimators': 492, 'max_depth': 3, 'learning_rate': 0.032978582594306416, 'subsample': 0.9090253082554312, 'colsample_bytree': 0.7034386459301256, 'reg_lambda': 9.534994188170106, 'reg_alpha': 0.3049669196942526}. Best is trial 11 with value: 0.009786932729184628.\n",
            "[I 2025-05-05 08:39:29,780] Trial 12 finished with value: 0.013249458745121956 and parameters: {'n_estimators': 481, 'max_depth': 3, 'learning_rate': 0.013445594850550729, 'subsample': 0.9129604113116244, 'colsample_bytree': 0.8345837690734607, 'reg_lambda': 9.75067623382534, 'reg_alpha': 0.311383349098429}. Best is trial 11 with value: 0.009786932729184628.\n",
            "[I 2025-05-05 08:39:30,656] Trial 13 finished with value: 0.00947875902056694 and parameters: {'n_estimators': 499, 'max_depth': 3, 'learning_rate': 0.026493435226544796, 'subsample': 0.9494367870299647, 'colsample_bytree': 0.8630463120602537, 'reg_lambda': 9.655411649589633, 'reg_alpha': 4.442951855884367}. Best is trial 13 with value: 0.00947875902056694.\n",
            "[I 2025-05-05 08:39:31,546] Trial 14 finished with value: 0.013490268960595131 and parameters: {'n_estimators': 448, 'max_depth': 5, 'learning_rate': 0.07678271652040065, 'subsample': 0.9843074757461785, 'colsample_bytree': 0.8881244613389896, 'reg_lambda': 6.129173418089456, 'reg_alpha': 9.55635274983355}. Best is trial 13 with value: 0.00947875902056694.\n",
            "[I 2025-05-05 08:39:32,728] Trial 15 finished with value: 0.01622071862220764 and parameters: {'n_estimators': 499, 'max_depth': 5, 'learning_rate': 0.09092766633929619, 'subsample': 0.9518326217496265, 'colsample_bytree': 0.9908353513316704, 'reg_lambda': 9.998627526370164, 'reg_alpha': 5.801619424395278}. Best is trial 13 with value: 0.00947875902056694.\n",
            "[I 2025-05-05 08:39:33,320] Trial 16 finished with value: 1.6019113063812256 and parameters: {'n_estimators': 306, 'max_depth': 3, 'learning_rate': 0.011169872797632888, 'subsample': 0.8702933504087215, 'colsample_bytree': 0.8076460608783309, 'reg_lambda': 8.579685067782972, 'reg_alpha': 4.191847686781029}. Best is trial 13 with value: 0.00947875902056694.\n",
            "[I 2025-05-05 08:39:34,128] Trial 17 finished with value: 0.010977891273796558 and parameters: {'n_estimators': 434, 'max_depth': 4, 'learning_rate': 0.05522316684689725, 'subsample': 0.9529747144478242, 'colsample_bytree': 0.8692642607818061, 'reg_lambda': 6.396236322078813, 'reg_alpha': 5.83799598918826}. Best is trial 13 with value: 0.00947875902056694.\n",
            "[I 2025-05-05 08:39:35,110] Trial 18 finished with value: 0.01620219647884369 and parameters: {'n_estimators': 338, 'max_depth': 6, 'learning_rate': 0.11875390319943374, 'subsample': 0.9341802944022003, 'colsample_bytree': 0.7041050084739447, 'reg_lambda': 8.84765707691708, 'reg_alpha': 3.688552248671375}. Best is trial 13 with value: 0.00947875902056694.\n",
            "[I 2025-05-05 08:39:37,863] Trial 19 finished with value: 0.0110664963722229 and parameters: {'n_estimators': 438, 'max_depth': 3, 'learning_rate': 0.042891298786567014, 'subsample': 0.8674333735379093, 'colsample_bytree': 0.9214476168779615, 'reg_lambda': 7.486991152102, 'reg_alpha': 9.614746471441642}. Best is trial 13 with value: 0.00947875902056694.\n",
            "[I 2025-05-05 08:39:39,562] Trial 20 finished with value: 0.0192246250808239 and parameters: {'n_estimators': 335, 'max_depth': 6, 'learning_rate': 0.15126560233591674, 'subsample': 0.9651112899498738, 'colsample_bytree': 0.8161661317747922, 'reg_lambda': 4.518573793647244, 'reg_alpha': 5.6623754148823355}. Best is trial 13 with value: 0.00947875902056694.\n",
            "[I 2025-05-05 08:39:40,386] Trial 21 finished with value: 0.01233359519392252 and parameters: {'n_estimators': 472, 'max_depth': 3, 'learning_rate': 0.05282795984713373, 'subsample': 0.9118797386072781, 'colsample_bytree': 0.855541969782042, 'reg_lambda': 9.140506098753557, 'reg_alpha': 1.3639243985715404}. Best is trial 13 with value: 0.00947875902056694.\n",
            "[I 2025-05-05 08:39:41,517] Trial 22 finished with value: 0.0094901779666543 and parameters: {'n_estimators': 498, 'max_depth': 4, 'learning_rate': 0.034342740979079626, 'subsample': 0.9152689170010873, 'colsample_bytree': 0.8460538235415369, 'reg_lambda': 9.518516748262769, 'reg_alpha': 2.105600800972957}. Best is trial 13 with value: 0.00947875902056694.\n",
            "[I 2025-05-05 08:39:42,422] Trial 23 finished with value: 0.01323898695409298 and parameters: {'n_estimators': 426, 'max_depth': 4, 'learning_rate': 0.08791002020294239, 'subsample': 0.9388136864711769, 'colsample_bytree': 0.7827129709036466, 'reg_lambda': 9.948907464027323, 'reg_alpha': 2.233282693276433}. Best is trial 13 with value: 0.00947875902056694.\n",
            "[I 2025-05-05 08:39:43,474] Trial 24 finished with value: 0.01380226481705904 and parameters: {'n_estimators': 459, 'max_depth': 4, 'learning_rate': 0.01411739704734279, 'subsample': 0.8768059074810154, 'colsample_bytree': 0.8714842665258303, 'reg_lambda': 8.434716932917668, 'reg_alpha': 4.753768357837028}. Best is trial 13 with value: 0.00947875902056694.\n",
            "[I 2025-05-05 08:39:44,739] Trial 25 finished with value: 0.009248407557606697 and parameters: {'n_estimators': 495, 'max_depth': 5, 'learning_rate': 0.033473357899431996, 'subsample': 0.8985795077370604, 'colsample_bytree': 0.7436606275721864, 'reg_lambda': 6.620459106302141, 'reg_alpha': 1.0659724676473368}. Best is trial 25 with value: 0.009248407557606697.\n",
            "[I 2025-05-05 08:39:45,817] Trial 26 finished with value: 0.014009380713105202 and parameters: {'n_estimators': 411, 'max_depth': 5, 'learning_rate': 0.11547576771999149, 'subsample': 0.9800049125131309, 'colsample_bytree': 0.8355071785015811, 'reg_lambda': 6.796332900172021, 'reg_alpha': 3.153044733594874}. Best is trial 25 with value: 0.009248407557606697.\n",
            "[I 2025-05-05 08:39:47,438] Trial 27 finished with value: 0.011508502066135406 and parameters: {'n_estimators': 462, 'max_depth': 6, 'learning_rate': 0.07034087200853159, 'subsample': 0.92886360571028, 'colsample_bytree': 0.9375079771458761, 'reg_lambda': 6.891788327193444, 'reg_alpha': 1.8811892659063534}. Best is trial 25 with value: 0.009248407557606697.\n",
            "[I 2025-05-05 08:39:48,367] Trial 28 finished with value: 0.009351270273327827 and parameters: {'n_estimators': 362, 'max_depth': 5, 'learning_rate': 0.03604581692469304, 'subsample': 0.8544818619980824, 'colsample_bytree': 0.7413939177477646, 'reg_lambda': 5.6657055930452405, 'reg_alpha': 1.0584912029724407}. Best is trial 25 with value: 0.009248407557606697.\n",
            "[I 2025-05-05 08:39:49,375] Trial 29 finished with value: 0.011949294246733189 and parameters: {'n_estimators': 276, 'max_depth': 5, 'learning_rate': 0.09310350126593878, 'subsample': 0.8502493259801489, 'colsample_bytree': 0.7307184080167093, 'reg_lambda': 5.7096831412936915, 'reg_alpha': 1.0684420148306848}. Best is trial 25 with value: 0.009248407557606697.\n"
          ]
        },
        {
          "output_type": "stream",
          "name": "stdout",
          "text": [
            "✅ Best trial for model 5: RMSE = 0.0092\n",
            "\n",
            "✨ Ensemble training complete!\n"
          ]
        }
      ]
    }
  ]
}