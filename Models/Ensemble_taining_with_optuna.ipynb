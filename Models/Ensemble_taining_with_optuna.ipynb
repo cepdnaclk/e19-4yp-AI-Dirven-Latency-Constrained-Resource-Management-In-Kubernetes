{
  "nbformat": 4,
  "nbformat_minor": 0,
  "metadata": {
    "colab": {
      "provenance": []
    },
    "kernelspec": {
      "name": "python3",
      "display_name": "Python 3"
    },
    "language_info": {
      "name": "python"
    }
  },
  "cells": [
    {
      "cell_type": "code",
      "source": [
        "!pip install optuna\n",
        "!pip install xgboost"
      ],
      "metadata": {
        "colab": {
          "base_uri": "https://localhost:8080/"
        },
        "id": "iRHDX5M9FntM",
        "outputId": "30df73b0-dfdd-41ea-a666-690d5ff0e4bf"
      },
      "execution_count": 1,
      "outputs": [
        {
          "output_type": "stream",
          "name": "stdout",
          "text": [
            "Collecting optuna\n",
            "  Downloading optuna-4.3.0-py3-none-any.whl.metadata (17 kB)\n",
            "Collecting alembic>=1.5.0 (from optuna)\n",
            "  Downloading alembic-1.15.2-py3-none-any.whl.metadata (7.3 kB)\n",
            "Collecting colorlog (from optuna)\n",
            "  Downloading colorlog-6.9.0-py3-none-any.whl.metadata (10 kB)\n",
            "Requirement already satisfied: numpy in /usr/local/lib/python3.11/dist-packages (from optuna) (2.0.2)\n",
            "Requirement already satisfied: packaging>=20.0 in /usr/local/lib/python3.11/dist-packages (from optuna) (24.2)\n",
            "Requirement already satisfied: sqlalchemy>=1.4.2 in /usr/local/lib/python3.11/dist-packages (from optuna) (2.0.40)\n",
            "Requirement already satisfied: tqdm in /usr/local/lib/python3.11/dist-packages (from optuna) (4.67.1)\n",
            "Requirement already satisfied: PyYAML in /usr/local/lib/python3.11/dist-packages (from optuna) (6.0.2)\n",
            "Requirement already satisfied: Mako in /usr/lib/python3/dist-packages (from alembic>=1.5.0->optuna) (1.1.3)\n",
            "Requirement already satisfied: typing-extensions>=4.12 in /usr/local/lib/python3.11/dist-packages (from alembic>=1.5.0->optuna) (4.13.2)\n",
            "Requirement already satisfied: greenlet>=1 in /usr/local/lib/python3.11/dist-packages (from sqlalchemy>=1.4.2->optuna) (3.2.1)\n",
            "Downloading optuna-4.3.0-py3-none-any.whl (386 kB)\n",
            "\u001b[2K   \u001b[90m━━━━━━━━━━━━━━━━━━━━━━━━━━━━━━━━━━━━━━━━\u001b[0m \u001b[32m386.6/386.6 kB\u001b[0m \u001b[31m7.1 MB/s\u001b[0m eta \u001b[36m0:00:00\u001b[0m\n",
            "\u001b[?25hDownloading alembic-1.15.2-py3-none-any.whl (231 kB)\n",
            "\u001b[2K   \u001b[90m━━━━━━━━━━━━━━━━━━━━━━━━━━━━━━━━━━━━━━━━\u001b[0m \u001b[32m231.9/231.9 kB\u001b[0m \u001b[31m25.4 MB/s\u001b[0m eta \u001b[36m0:00:00\u001b[0m\n",
            "\u001b[?25hDownloading colorlog-6.9.0-py3-none-any.whl (11 kB)\n",
            "Installing collected packages: colorlog, alembic, optuna\n",
            "Successfully installed alembic-1.15.2 colorlog-6.9.0 optuna-4.3.0\n",
            "Requirement already satisfied: xgboost in /usr/local/lib/python3.11/dist-packages (2.1.4)\n",
            "Requirement already satisfied: numpy in /usr/local/lib/python3.11/dist-packages (from xgboost) (2.0.2)\n",
            "Requirement already satisfied: nvidia-nccl-cu12 in /usr/local/lib/python3.11/dist-packages (from xgboost) (2.21.5)\n",
            "Requirement already satisfied: scipy in /usr/local/lib/python3.11/dist-packages (from xgboost) (1.15.2)\n"
          ]
        }
      ]
    },
    {
      "cell_type": "markdown",
      "source": [
        "# Service 1"
      ],
      "metadata": {
        "id": "2gUr8G6rFgx1"
      }
    },
    {
      "cell_type": "code",
      "execution_count": 9,
      "metadata": {
        "colab": {
          "base_uri": "https://localhost:8080/"
        },
        "id": "_n9BQoAcEvJO",
        "outputId": "45166a65-a239-458f-cbaa-eccac87f11dd"
      },
      "outputs": [
        {
          "output_type": "stream",
          "name": "stderr",
          "text": [
            "[I 2025-05-05 06:22:30,596] A new study created in memory with name: no-name-44f208bc-af28-44e5-a02e-2b9327079356\n"
          ]
        },
        {
          "output_type": "stream",
          "name": "stdout",
          "text": [
            "\n",
            "🔁 Optimizing model 1/5\n"
          ]
        },
        {
          "output_type": "stream",
          "name": "stderr",
          "text": [
            "[I 2025-05-05 06:22:31,377] Trial 0 finished with value: 3799.947038802802 and parameters: {'n_estimators': 381, 'max_depth': 10, 'learning_rate': 0.22156380591865274, 'subsample': 0.9038496146709745, 'colsample_bytree': 0.8937005361033081, 'reg_lambda': 7.112536577199356, 'reg_alpha': 8.830375244681447}. Best is trial 0 with value: 3799.947038802802.\n",
            "[I 2025-05-05 06:22:31,948] Trial 1 finished with value: 3806.6508168620926 and parameters: {'n_estimators': 320, 'max_depth': 10, 'learning_rate': 0.2332779876530161, 'subsample': 0.811022803344907, 'colsample_bytree': 0.7376027346365946, 'reg_lambda': 4.018993781286586, 'reg_alpha': 9.870125992884189}. Best is trial 0 with value: 3799.947038802802.\n",
            "[I 2025-05-05 06:22:32,733] Trial 2 finished with value: 3767.0877099296367 and parameters: {'n_estimators': 397, 'max_depth': 10, 'learning_rate': 0.07118992209602909, 'subsample': 0.8120230078856923, 'colsample_bytree': 0.9965993920788356, 'reg_lambda': 6.007848702497115, 'reg_alpha': 2.163181131488552}. Best is trial 2 with value: 3767.0877099296367.\n",
            "[I 2025-05-05 06:22:32,985] Trial 3 finished with value: 3642.529503778916 and parameters: {'n_estimators': 490, 'max_depth': 3, 'learning_rate': 0.13268096234731083, 'subsample': 0.7179313455318924, 'colsample_bytree': 0.8119701174974895, 'reg_lambda': 1.0135565468808285, 'reg_alpha': 9.39777112728728}. Best is trial 3 with value: 3642.529503778916.\n",
            "[I 2025-05-05 06:22:33,456] Trial 4 finished with value: 3778.9585252692727 and parameters: {'n_estimators': 388, 'max_depth': 7, 'learning_rate': 0.1439753282346596, 'subsample': 0.9468010688900224, 'colsample_bytree': 0.9179595475475487, 'reg_lambda': 1.5878046776966046, 'reg_alpha': 1.1780189985962592}. Best is trial 3 with value: 3642.529503778916.\n",
            "[I 2025-05-05 06:22:33,836] Trial 5 finished with value: 3789.603063787604 and parameters: {'n_estimators': 265, 'max_depth': 8, 'learning_rate': 0.29562936225153114, 'subsample': 0.7361128708997583, 'colsample_bytree': 0.9576304414711609, 'reg_lambda': 5.830926086806916, 'reg_alpha': 6.3565068567735015}. Best is trial 3 with value: 3642.529503778916.\n",
            "[I 2025-05-05 06:22:34,074] Trial 6 finished with value: 3662.736481647932 and parameters: {'n_estimators': 453, 'max_depth': 3, 'learning_rate': 0.19003677840303163, 'subsample': 0.7541600947239118, 'colsample_bytree': 0.8667342104928073, 'reg_lambda': 2.9956831017612613, 'reg_alpha': 9.806481065022021}. Best is trial 3 with value: 3642.529503778916.\n",
            "[I 2025-05-05 06:22:34,403] Trial 7 finished with value: 3787.588199706611 and parameters: {'n_estimators': 163, 'max_depth': 10, 'learning_rate': 0.23306273683102893, 'subsample': 0.8517339618379676, 'colsample_bytree': 0.8634527802404088, 'reg_lambda': 6.738732328283338, 'reg_alpha': 3.825899194237477}. Best is trial 3 with value: 3642.529503778916.\n",
            "[I 2025-05-05 06:22:34,765] Trial 8 finished with value: 3778.493717280588 and parameters: {'n_estimators': 389, 'max_depth': 6, 'learning_rate': 0.23873315551204205, 'subsample': 0.7780929268264872, 'colsample_bytree': 0.7980621844796096, 'reg_lambda': 3.2221219296768937, 'reg_alpha': 3.9369361513847623}. Best is trial 3 with value: 3642.529503778916.\n",
            "[I 2025-05-05 06:22:35,455] Trial 9 finished with value: 3786.5329573646686 and parameters: {'n_estimators': 385, 'max_depth': 10, 'learning_rate': 0.1259040454519222, 'subsample': 0.8824331460591657, 'colsample_bytree': 0.7649418514912554, 'reg_lambda': 3.9957366107585113, 'reg_alpha': 7.8301056861032485}. Best is trial 3 with value: 3642.529503778916.\n",
            "[I 2025-05-05 06:22:35,726] Trial 10 finished with value: 3485.227412418141 and parameters: {'n_estimators': 492, 'max_depth': 3, 'learning_rate': 0.03065475431821714, 'subsample': 0.9986182552253293, 'colsample_bytree': 0.8062072823953793, 'reg_lambda': 9.628706264559359, 'reg_alpha': 6.543628419276237}. Best is trial 10 with value: 3485.227412418141.\n",
            "[I 2025-05-05 06:22:36,010] Trial 11 finished with value: 3410.1776652522535 and parameters: {'n_estimators': 485, 'max_depth': 3, 'learning_rate': 0.013274055040325278, 'subsample': 0.9849258002386558, 'colsample_bytree': 0.8134757684745713, 'reg_lambda': 9.898044058883125, 'reg_alpha': 6.989652297679982}. Best is trial 11 with value: 3410.1776652522535.\n",
            "[I 2025-05-05 06:22:36,396] Trial 12 finished with value: 3426.1215936186145 and parameters: {'n_estimators': 476, 'max_depth': 5, 'learning_rate': 0.011240868416718461, 'subsample': 0.997602839804689, 'colsample_bytree': 0.8052515671943934, 'reg_lambda': 9.24673891580069, 'reg_alpha': 6.416371309288563}. Best is trial 11 with value: 3410.1776652522535.\n",
            "[I 2025-05-05 06:22:36,619] Trial 13 finished with value: 3430.198003832927 and parameters: {'n_estimators': 236, 'max_depth': 5, 'learning_rate': 0.024154689198726327, 'subsample': 0.9991837325689856, 'colsample_bytree': 0.7011789711351337, 'reg_lambda': 9.669536611482762, 'reg_alpha': 6.055023711313237}. Best is trial 11 with value: 3410.1776652522535.\n",
            "[I 2025-05-05 06:22:36,750] Trial 14 finished with value: 3473.9455410006403 and parameters: {'n_estimators': 121, 'max_depth': 5, 'learning_rate': 0.0678211765196114, 'subsample': 0.9477945007783724, 'colsample_bytree': 0.8299571639829683, 'reg_lambda': 8.1917511145174, 'reg_alpha': 7.70750991559508}. Best is trial 11 with value: 3410.1776652522535.\n",
            "[I 2025-05-05 06:22:37,040] Trial 15 finished with value: 3589.6311068453197 and parameters: {'n_estimators': 453, 'max_depth': 4, 'learning_rate': 0.06764318161682405, 'subsample': 0.9506559923090385, 'colsample_bytree': 0.7744102690420438, 'reg_lambda': 8.471789064424186, 'reg_alpha': 4.654930077929535}. Best is trial 11 with value: 3410.1776652522535.\n",
            "[I 2025-05-05 06:22:37,308] Trial 16 finished with value: 3432.000045442957 and parameters: {'n_estimators': 324, 'max_depth': 5, 'learning_rate': 0.013016461207996755, 'subsample': 0.9147286546115153, 'colsample_bytree': 0.7438983494425329, 'reg_lambda': 8.46196097122364, 'reg_alpha': 7.665524776365171}. Best is trial 11 with value: 3410.1776652522535.\n",
            "[I 2025-05-05 06:22:37,632] Trial 17 finished with value: 3624.362554807694 and parameters: {'n_estimators': 445, 'max_depth': 4, 'learning_rate': 0.09790655297751705, 'subsample': 0.9692989765380978, 'colsample_bytree': 0.8417969545103983, 'reg_lambda': 9.578644744109974, 'reg_alpha': 5.335478915541711}. Best is trial 11 with value: 3410.1776652522535.\n",
            "[I 2025-05-05 06:22:37,947] Trial 18 finished with value: 3567.209550499155 and parameters: {'n_estimators': 498, 'max_depth': 4, 'learning_rate': 0.046914775118855015, 'subsample': 0.9148338827684244, 'colsample_bytree': 0.7814605346237533, 'reg_lambda': 7.630069009328581, 'reg_alpha': 7.002589578177311}. Best is trial 11 with value: 3410.1776652522535.\n",
            "[I 2025-05-05 06:22:38,427] Trial 19 finished with value: 3714.759196067827 and parameters: {'n_estimators': 436, 'max_depth': 7, 'learning_rate': 0.09354273458740711, 'subsample': 0.9826458895940671, 'colsample_bytree': 0.9048214318594074, 'reg_lambda': 8.818821111524269, 'reg_alpha': 3.0814072483212978}. Best is trial 11 with value: 3410.1776652522535.\n",
            "[I 2025-05-05 06:22:38,681] Trial 20 finished with value: 3658.740547036831 and parameters: {'n_estimators': 207, 'max_depth': 6, 'learning_rate': 0.10130125829392049, 'subsample': 0.8647851382642692, 'colsample_bytree': 0.8317073354894714, 'reg_lambda': 5.065874311815279, 'reg_alpha': 5.45795234539573}. Best is trial 11 with value: 3410.1776652522535.\n",
            "[I 2025-05-05 06:22:38,893] Trial 21 finished with value: 3438.954720746856 and parameters: {'n_estimators': 249, 'max_depth': 5, 'learning_rate': 0.025107562809191304, 'subsample': 0.9785430131760299, 'colsample_bytree': 0.7088278571905466, 'reg_lambda': 9.932654248643267, 'reg_alpha': 5.767819745936024}. Best is trial 11 with value: 3410.1776652522535.\n",
            "[I 2025-05-05 06:22:39,109] Trial 22 finished with value: 3461.542859052585 and parameters: {'n_estimators': 285, 'max_depth': 4, 'learning_rate': 0.011752782912964294, 'subsample': 0.9964166434046057, 'colsample_bytree': 0.7036800320562898, 'reg_lambda': 8.97555818205264, 'reg_alpha': 7.15196314058826}. Best is trial 11 with value: 3410.1776652522535.\n",
            "[I 2025-05-05 06:22:39,316] Trial 23 finished with value: 3510.753936916786 and parameters: {'n_estimators': 216, 'max_depth': 5, 'learning_rate': 0.048542917558289086, 'subsample': 0.9584420705167711, 'colsample_bytree': 0.7428431064023895, 'reg_lambda': 9.903386176356236, 'reg_alpha': 8.33843928716362}. Best is trial 11 with value: 3410.1776652522535.\n",
            "[I 2025-05-05 06:22:39,810] Trial 24 finished with value: 3610.6694783127627 and parameters: {'n_estimators': 344, 'max_depth': 6, 'learning_rate': 0.0503390111763848, 'subsample': 0.9219800958497893, 'colsample_bytree': 0.8832884190386554, 'reg_lambda': 8.0564928395212, 'reg_alpha': 6.15706755514509}. Best is trial 11 with value: 3410.1776652522535.\n",
            "[I 2025-05-05 06:22:41,872] Trial 25 finished with value: 3525.976653485046 and parameters: {'n_estimators': 201, 'max_depth': 8, 'learning_rate': 0.035250845159875484, 'subsample': 0.9317726213155608, 'colsample_bytree': 0.9253597807440977, 'reg_lambda': 7.286227465721318, 'reg_alpha': 6.857882636050152}. Best is trial 11 with value: 3410.1776652522535.\n",
            "[I 2025-05-05 06:22:42,139] Trial 26 finished with value: 3663.7670543013573 and parameters: {'n_estimators': 419, 'max_depth': 4, 'learning_rate': 0.16860455538547695, 'subsample': 0.9960075368670018, 'colsample_bytree': 0.7549715279214216, 'reg_lambda': 9.050029480709274, 'reg_alpha': 4.631525470231788}. Best is trial 11 with value: 3410.1776652522535.\n",
            "[I 2025-05-05 06:22:42,351] Trial 27 finished with value: 3550.7406408587776 and parameters: {'n_estimators': 356, 'max_depth': 3, 'learning_rate': 0.07384457561880838, 'subsample': 0.8887849672034255, 'colsample_bytree': 0.7301147592532292, 'reg_lambda': 0.10774336351489744, 'reg_alpha': 8.786082816399981}. Best is trial 11 with value: 3410.1776652522535.\n",
            "[I 2025-05-05 06:22:42,562] Trial 28 finished with value: 3432.8845363043174 and parameters: {'n_estimators': 239, 'max_depth': 5, 'learning_rate': 0.024440126617356575, 'subsample': 0.9699652422186102, 'colsample_bytree': 0.7906803206684124, 'reg_lambda': 8.969332811384888, 'reg_alpha': 0.18672560666439608}. Best is trial 11 with value: 3410.1776652522535.\n",
            "[I 2025-05-05 06:22:42,712] Trial 29 finished with value: 5795.818645798665 and parameters: {'n_estimators': 139, 'max_depth': 8, 'learning_rate': 0.011230365781480997, 'subsample': 0.9345190420905836, 'colsample_bytree': 0.8233150361375617, 'reg_lambda': 7.5442031610162985, 'reg_alpha': 4.833643167284622}. Best is trial 11 with value: 3410.1776652522535.\n"
          ]
        },
        {
          "output_type": "stream",
          "name": "stdout",
          "text": [
            "✅ Best trial for model 1: RMSE = 3410.1777\n"
          ]
        },
        {
          "output_type": "stream",
          "name": "stderr",
          "text": [
            "[I 2025-05-05 06:22:42,994] A new study created in memory with name: no-name-4ab5c13d-1f5d-45b1-9ef5-033d8814ac92\n",
            "[I 2025-05-05 06:22:43,169] Trial 0 finished with value: 3538.19018958239 and parameters: {'n_estimators': 328, 'max_depth': 3, 'learning_rate': 0.165071067346541, 'subsample': 0.990613091760223, 'colsample_bytree': 0.9499417682665475, 'reg_lambda': 8.768063291173142, 'reg_alpha': 8.373277081377838}. Best is trial 0 with value: 3538.19018958239.\n"
          ]
        },
        {
          "output_type": "stream",
          "name": "stdout",
          "text": [
            "\n",
            "🔁 Optimizing model 2/5\n"
          ]
        },
        {
          "output_type": "stream",
          "name": "stderr",
          "text": [
            "[I 2025-05-05 06:22:43,286] Trial 1 finished with value: 3558.6051958994813 and parameters: {'n_estimators': 186, 'max_depth': 3, 'learning_rate': 0.28812595323624485, 'subsample': 0.8403122641937707, 'colsample_bytree': 0.9680191173437407, 'reg_lambda': 2.044037843450127, 'reg_alpha': 0.5960960061512209}. Best is trial 0 with value: 3538.19018958239.\n",
            "[I 2025-05-05 06:22:43,855] Trial 2 finished with value: 3673.968732554823 and parameters: {'n_estimators': 425, 'max_depth': 8, 'learning_rate': 0.2799240910708863, 'subsample': 0.7678084798592083, 'colsample_bytree': 0.7101244270376538, 'reg_lambda': 5.756646198099172, 'reg_alpha': 1.4353321828176568}. Best is trial 0 with value: 3538.19018958239.\n",
            "[I 2025-05-05 06:22:44,306] Trial 3 finished with value: 3674.099404840587 and parameters: {'n_estimators': 487, 'max_depth': 6, 'learning_rate': 0.1993461918676045, 'subsample': 0.821141268648829, 'colsample_bytree': 0.7570902244508205, 'reg_lambda': 3.8092314589799323, 'reg_alpha': 0.15362565124069566}. Best is trial 0 with value: 3538.19018958239.\n",
            "[I 2025-05-05 06:22:44,477] Trial 4 finished with value: 3598.881078662384 and parameters: {'n_estimators': 204, 'max_depth': 5, 'learning_rate': 0.14769543646412933, 'subsample': 0.9019764966189914, 'colsample_bytree': 0.9560524975744696, 'reg_lambda': 2.7650024704726803, 'reg_alpha': 8.853366670075292}. Best is trial 0 with value: 3538.19018958239.\n",
            "[I 2025-05-05 06:22:44,662] Trial 5 finished with value: 3571.0669182078204 and parameters: {'n_estimators': 197, 'max_depth': 6, 'learning_rate': 0.10412858412630477, 'subsample': 0.7465114988510863, 'colsample_bytree': 0.7191869197098314, 'reg_lambda': 6.526267248195114, 'reg_alpha': 5.321024077516234}. Best is trial 0 with value: 3538.19018958239.\n",
            "[I 2025-05-05 06:22:44,931] Trial 6 finished with value: 3617.7130842871497 and parameters: {'n_estimators': 499, 'max_depth': 3, 'learning_rate': 0.271973063157001, 'subsample': 0.8975564332126982, 'colsample_bytree': 0.7073389994768047, 'reg_lambda': 4.599734195841292, 'reg_alpha': 7.883420064053036}. Best is trial 0 with value: 3538.19018958239.\n",
            "[I 2025-05-05 06:22:45,125] Trial 7 finished with value: 3635.5621115554104 and parameters: {'n_estimators': 309, 'max_depth': 4, 'learning_rate': 0.1885286665997995, 'subsample': 0.8803703448293495, 'colsample_bytree': 0.7886104625841069, 'reg_lambda': 0.4423648799607942, 'reg_alpha': 2.7094653259554935}. Best is trial 0 with value: 3538.19018958239.\n",
            "[I 2025-05-05 06:22:45,306] Trial 8 finished with value: 3568.080094415569 and parameters: {'n_estimators': 209, 'max_depth': 5, 'learning_rate': 0.1199802585213583, 'subsample': 0.7034673126697746, 'colsample_bytree': 0.8624548751049306, 'reg_lambda': 5.112727334512099, 'reg_alpha': 1.8623675939308029}. Best is trial 0 with value: 3538.19018958239.\n",
            "[I 2025-05-05 06:22:45,895] Trial 9 finished with value: 3677.637387747162 and parameters: {'n_estimators': 347, 'max_depth': 9, 'learning_rate': 0.2715762004533094, 'subsample': 0.7462213990375334, 'colsample_bytree': 0.9738166528561009, 'reg_lambda': 7.479291126602052, 'reg_alpha': 5.044216855635728}. Best is trial 0 with value: 3538.19018958239.\n",
            "[I 2025-05-05 06:22:46,025] Trial 10 finished with value: 8813.072822736358 and parameters: {'n_estimators': 114, 'max_depth': 8, 'learning_rate': 0.010317044479563386, 'subsample': 0.9896732279706798, 'colsample_bytree': 0.8936515440656289, 'reg_lambda': 9.946448375198706, 'reg_alpha': 6.79678356276615}. Best is trial 0 with value: 3538.19018958239.\n",
            "[I 2025-05-05 06:22:46,248] Trial 11 finished with value: 3454.3887389640417 and parameters: {'n_estimators': 376, 'max_depth': 3, 'learning_rate': 0.056623108379982495, 'subsample': 0.9998171109805299, 'colsample_bytree': 0.9237111317642914, 'reg_lambda': 1.3686528024439282, 'reg_alpha': 9.635943442357693}. Best is trial 11 with value: 3454.3887389640417.\n",
            "[I 2025-05-05 06:22:46,472] Trial 12 finished with value: 3454.7974568146233 and parameters: {'n_estimators': 379, 'max_depth': 3, 'learning_rate': 0.05154536532416089, 'subsample': 0.9996071309481658, 'colsample_bytree': 0.9127530983491252, 'reg_lambda': 9.054987401082188, 'reg_alpha': 9.877916054188173}. Best is trial 11 with value: 3454.3887389640417.\n",
            "[I 2025-05-05 06:22:46,747] Trial 13 finished with value: 3487.5934680264704 and parameters: {'n_estimators': 392, 'max_depth': 4, 'learning_rate': 0.04062245338907575, 'subsample': 0.9487587468120484, 'colsample_bytree': 0.9062565286643575, 'reg_lambda': 0.23834792061382082, 'reg_alpha': 9.879937971695217}. Best is trial 11 with value: 3454.3887389640417.\n",
            "[I 2025-05-05 06:22:47,047] Trial 14 finished with value: 3533.6599114751425 and parameters: {'n_estimators': 400, 'max_depth': 4, 'learning_rate': 0.06753389215920572, 'subsample': 0.9495266005541313, 'colsample_bytree': 0.8264334182749344, 'reg_lambda': 8.096020236537438, 'reg_alpha': 9.835156100446763}. Best is trial 11 with value: 3454.3887389640417.\n",
            "[I 2025-05-05 06:22:47,540] Trial 15 finished with value: 3653.5541632538557 and parameters: {'n_estimators': 258, 'max_depth': 10, 'learning_rate': 0.07025927674267246, 'subsample': 0.9547245066168482, 'colsample_bytree': 0.9065077470418544, 'reg_lambda': 1.9385293511265753, 'reg_alpha': 6.65648946930515}. Best is trial 11 with value: 3454.3887389640417.\n",
            "[I 2025-05-05 06:22:47,848] Trial 16 finished with value: 3459.3024368847973 and parameters: {'n_estimators': 368, 'max_depth': 5, 'learning_rate': 0.027420696608534995, 'subsample': 0.9289208964334339, 'colsample_bytree': 0.9994289354642615, 'reg_lambda': 3.4626142456319133, 'reg_alpha': 4.295735543695306}. Best is trial 11 with value: 3454.3887389640417.\n",
            "[I 2025-05-05 06:22:48,361] Trial 17 finished with value: 3595.0328066260863 and parameters: {'n_estimators': 445, 'max_depth': 7, 'learning_rate': 0.07587309519654918, 'subsample': 0.9999839062774604, 'colsample_bytree': 0.8506662712973049, 'reg_lambda': 9.840141380028996, 'reg_alpha': 7.194641327518966}. Best is trial 11 with value: 3454.3887389640417.\n",
            "[I 2025-05-05 06:22:48,530] Trial 18 finished with value: 3478.059705898193 and parameters: {'n_estimators': 269, 'max_depth': 3, 'learning_rate': 0.11563291124171324, 'subsample': 0.9665441858805008, 'colsample_bytree': 0.9289534064097688, 'reg_lambda': 7.282700793889765, 'reg_alpha': 9.211940280899224}. Best is trial 11 with value: 3454.3887389640417.\n",
            "[I 2025-05-05 06:22:48,834] Trial 19 finished with value: 3520.6578528732093 and parameters: {'n_estimators': 450, 'max_depth': 4, 'learning_rate': 0.048216225346032926, 'subsample': 0.9271560826911219, 'colsample_bytree': 0.880581732424625, 'reg_lambda': 1.3971453294037888, 'reg_alpha': 7.809773845938216}. Best is trial 11 with value: 3454.3887389640417.\n",
            "[I 2025-05-05 06:22:49,222] Trial 20 finished with value: 3680.488483808181 and parameters: {'n_estimators': 277, 'max_depth': 7, 'learning_rate': 0.22794147273721654, 'subsample': 0.8610541435736612, 'colsample_bytree': 0.8243444162686224, 'reg_lambda': 5.796538036078383, 'reg_alpha': 5.86870686119264}. Best is trial 11 with value: 3454.3887389640417.\n",
            "[I 2025-05-05 06:22:49,564] Trial 21 finished with value: 3413.853027265382 and parameters: {'n_estimators': 367, 'max_depth': 5, 'learning_rate': 0.012540398387074492, 'subsample': 0.9224068976091033, 'colsample_bytree': 0.9855532291231075, 'reg_lambda': 3.394668795818814, 'reg_alpha': 3.6622245134019504}. Best is trial 21 with value: 3413.853027265382.\n",
            "[I 2025-05-05 06:22:49,891] Trial 22 finished with value: 3437.6655632924967 and parameters: {'n_estimators': 367, 'max_depth': 5, 'learning_rate': 0.010237984359575132, 'subsample': 0.9742773113888594, 'colsample_bytree': 0.9999466815195428, 'reg_lambda': 3.1893306835263213, 'reg_alpha': 3.7767988099365857}. Best is trial 21 with value: 3413.853027265382.\n",
            "[I 2025-05-05 06:22:50,226] Trial 23 finished with value: 3418.478581569562 and parameters: {'n_estimators': 339, 'max_depth': 5, 'learning_rate': 0.012996606926225316, 'subsample': 0.9232598085796276, 'colsample_bytree': 0.9981675988267109, 'reg_lambda': 2.910443913003716, 'reg_alpha': 3.94582946390204}. Best is trial 21 with value: 3413.853027265382.\n",
            "[I 2025-05-05 06:22:50,569] Trial 24 finished with value: 3435.6721219719648 and parameters: {'n_estimators': 336, 'max_depth': 6, 'learning_rate': 0.020401826502293857, 'subsample': 0.9212957222928059, 'colsample_bytree': 0.9962398417179913, 'reg_lambda': 3.7102342677614635, 'reg_alpha': 3.352416518489715}. Best is trial 21 with value: 3413.853027265382.\n",
            "[I 2025-05-05 06:22:50,886] Trial 25 finished with value: 3614.6433602208585 and parameters: {'n_estimators': 310, 'max_depth': 6, 'learning_rate': 0.09508000128535433, 'subsample': 0.9180094563789861, 'colsample_bytree': 0.9803180375654738, 'reg_lambda': 4.3173205849045715, 'reg_alpha': 3.1938337189201045}. Best is trial 21 with value: 3413.853027265382.\n",
            "[I 2025-05-05 06:22:51,309] Trial 26 finished with value: 3510.100459082396 and parameters: {'n_estimators': 335, 'max_depth': 7, 'learning_rate': 0.026597391599449068, 'subsample': 0.8766915149946883, 'colsample_bytree': 0.9430305756650162, 'reg_lambda': 2.6185000891026706, 'reg_alpha': 2.6576746336750103}. Best is trial 21 with value: 3413.853027265382.\n",
            "[I 2025-05-05 06:22:51,733] Trial 27 finished with value: 3628.6559311172255 and parameters: {'n_estimators': 416, 'max_depth': 6, 'learning_rate': 0.08810260214931767, 'subsample': 0.8190685734776278, 'colsample_bytree': 0.9827394973767958, 'reg_lambda': 3.9137397078728786, 'reg_alpha': 4.301154968256198}. Best is trial 21 with value: 3413.853027265382.\n",
            "[I 2025-05-05 06:22:52,416] Trial 28 finished with value: 3447.899048204509 and parameters: {'n_estimators': 284, 'max_depth': 5, 'learning_rate': 0.030884929654276295, 'subsample': 0.9087331952268689, 'colsample_bytree': 0.9398526438953364, 'reg_lambda': 5.1088125800716675, 'reg_alpha': 3.5502509626575836}. Best is trial 21 with value: 3413.853027265382.\n",
            "[I 2025-05-05 06:22:54,364] Trial 29 finished with value: 3670.5408844699928 and parameters: {'n_estimators': 238, 'max_depth': 8, 'learning_rate': 0.13984861343421542, 'subsample': 0.9366409335500874, 'colsample_bytree': 0.9526081235393107, 'reg_lambda': 2.6563716298367943, 'reg_alpha': 1.9646002393429722}. Best is trial 21 with value: 3413.853027265382.\n"
          ]
        },
        {
          "output_type": "stream",
          "name": "stdout",
          "text": [
            "✅ Best trial for model 2: RMSE = 3413.8530\n"
          ]
        },
        {
          "output_type": "stream",
          "name": "stderr",
          "text": [
            "[I 2025-05-05 06:22:54,656] A new study created in memory with name: no-name-43adb67f-03b6-4699-a2e4-5f7abffc8449\n"
          ]
        },
        {
          "output_type": "stream",
          "name": "stdout",
          "text": [
            "\n",
            "🔁 Optimizing model 3/5\n"
          ]
        },
        {
          "output_type": "stream",
          "name": "stderr",
          "text": [
            "[I 2025-05-05 06:22:54,869] Trial 0 finished with value: 3716.3003693595265 and parameters: {'n_estimators': 260, 'max_depth': 5, 'learning_rate': 0.14798260940759184, 'subsample': 0.79790947587255, 'colsample_bytree': 0.8621481747619402, 'reg_lambda': 7.579905878044278, 'reg_alpha': 4.286927269046714}. Best is trial 0 with value: 3716.3003693595265.\n",
            "[I 2025-05-05 06:22:54,998] Trial 1 finished with value: 3635.197328767781 and parameters: {'n_estimators': 159, 'max_depth': 5, 'learning_rate': 0.17309415943867043, 'subsample': 0.9350358710355967, 'colsample_bytree': 0.909422199314774, 'reg_lambda': 9.983050669061829, 'reg_alpha': 2.55271763583691}. Best is trial 1 with value: 3635.197328767781.\n",
            "[I 2025-05-05 06:22:55,223] Trial 2 finished with value: 3855.0861897837076 and parameters: {'n_estimators': 192, 'max_depth': 7, 'learning_rate': 0.17859596560885788, 'subsample': 0.9400898053601225, 'colsample_bytree': 0.9700852889144727, 'reg_lambda': 0.7672021470274184, 'reg_alpha': 4.180223458175365}. Best is trial 1 with value: 3635.197328767781.\n",
            "[I 2025-05-05 06:22:55,369] Trial 3 finished with value: 3524.7761705138514 and parameters: {'n_estimators': 127, 'max_depth': 5, 'learning_rate': 0.07100434524086932, 'subsample': 0.7045904555599382, 'colsample_bytree': 0.8803284266284369, 'reg_lambda': 3.469949411648005, 'reg_alpha': 0.8467320185233063}. Best is trial 3 with value: 3524.7761705138514.\n",
            "[I 2025-05-05 06:22:55,643] Trial 4 finished with value: 3685.399455560193 and parameters: {'n_estimators': 461, 'max_depth': 4, 'learning_rate': 0.129848261168838, 'subsample': 0.9682106935391175, 'colsample_bytree': 0.9388794440679573, 'reg_lambda': 6.600014979864796, 'reg_alpha': 4.900436945187925}. Best is trial 3 with value: 3524.7761705138514.\n",
            "[I 2025-05-05 06:22:55,879] Trial 5 finished with value: 3843.7362347746034 and parameters: {'n_estimators': 158, 'max_depth': 8, 'learning_rate': 0.12271739597377807, 'subsample': 0.7917259066517179, 'colsample_bytree': 0.9021183518159569, 'reg_lambda': 0.17710825737975205, 'reg_alpha': 8.468900009950026}. Best is trial 3 with value: 3524.7761705138514.\n",
            "[I 2025-05-05 06:22:56,022] Trial 6 finished with value: 3637.964847046968 and parameters: {'n_estimators': 192, 'max_depth': 4, 'learning_rate': 0.12916189842097797, 'subsample': 0.7011290839591277, 'colsample_bytree': 0.908958064260005, 'reg_lambda': 0.6188350989073551, 'reg_alpha': 1.8645829531198888}. Best is trial 3 with value: 3524.7761705138514.\n",
            "[I 2025-05-05 06:22:56,414] Trial 7 finished with value: 3782.043627168171 and parameters: {'n_estimators': 333, 'max_depth': 7, 'learning_rate': 0.09621474955780304, 'subsample': 0.9063355375018278, 'colsample_bytree': 0.8497090210901806, 'reg_lambda': 6.626829231190108, 'reg_alpha': 7.336829900722167}. Best is trial 3 with value: 3524.7761705138514.\n",
            "[I 2025-05-05 06:22:56,733] Trial 8 finished with value: 3747.3296181313403 and parameters: {'n_estimators': 461, 'max_depth': 5, 'learning_rate': 0.09267191305155227, 'subsample': 0.943052294332819, 'colsample_bytree': 0.7196928360484063, 'reg_lambda': 1.9749330344276912, 'reg_alpha': 5.247356256963243}. Best is trial 3 with value: 3524.7761705138514.\n",
            "[I 2025-05-05 06:22:56,910] Trial 9 finished with value: 3741.2718284693756 and parameters: {'n_estimators': 137, 'max_depth': 8, 'learning_rate': 0.15829091449770274, 'subsample': 0.9829751920233479, 'colsample_bytree': 0.9794563407279172, 'reg_lambda': 5.039010484863464, 'reg_alpha': 5.378385049137765}. Best is trial 3 with value: 3524.7761705138514.\n",
            "[I 2025-05-05 06:22:57,114] Trial 10 finished with value: 3460.140455284488 and parameters: {'n_estimators': 325, 'max_depth': 3, 'learning_rate': 0.02523365351451648, 'subsample': 0.7006445562213754, 'colsample_bytree': 0.7885891363551648, 'reg_lambda': 3.0929395582042094, 'reg_alpha': 0.6916351361791585}. Best is trial 10 with value: 3460.140455284488.\n",
            "[I 2025-05-05 06:22:57,339] Trial 11 finished with value: 3443.4329851918606 and parameters: {'n_estimators': 337, 'max_depth': 3, 'learning_rate': 0.016383708389090514, 'subsample': 0.7007241111275139, 'colsample_bytree': 0.7789783612299451, 'reg_lambda': 3.4259473081139236, 'reg_alpha': 0.23138544964469787}. Best is trial 11 with value: 3443.4329851918606.\n",
            "[I 2025-05-05 06:22:57,585] Trial 12 finished with value: 3444.0556989745182 and parameters: {'n_estimators': 347, 'max_depth': 3, 'learning_rate': 0.013013557232235545, 'subsample': 0.7565461341660757, 'colsample_bytree': 0.7779592866235236, 'reg_lambda': 3.526938408197631, 'reg_alpha': 0.40300217010115547}. Best is trial 11 with value: 3443.4329851918606.\n",
            "[I 2025-05-05 06:22:58,306] Trial 13 finished with value: 3905.37915908271 and parameters: {'n_estimators': 383, 'max_depth': 10, 'learning_rate': 0.26934792341089936, 'subsample': 0.7692771639793616, 'colsample_bytree': 0.7798528487010747, 'reg_lambda': 4.339485945595957, 'reg_alpha': 0.35621536326583325}. Best is trial 11 with value: 3443.4329851918606.\n",
            "[I 2025-05-05 06:22:58,580] Trial 14 finished with value: 3440.54761312449 and parameters: {'n_estimators': 400, 'max_depth': 3, 'learning_rate': 0.012509952195893561, 'subsample': 0.7501220713681354, 'colsample_bytree': 0.7669650327502098, 'reg_lambda': 2.2464479362603544, 'reg_alpha': 1.7830096936463384}. Best is trial 14 with value: 3440.54761312449.\n",
            "[I 2025-05-05 06:22:58,809] Trial 15 finished with value: 3514.7113673549566 and parameters: {'n_estimators': 402, 'max_depth': 3, 'learning_rate': 0.045385875476574536, 'subsample': 0.8397043915399168, 'colsample_bytree': 0.7099253209802747, 'reg_lambda': 1.9852080483564802, 'reg_alpha': 2.647941893245524}. Best is trial 14 with value: 3440.54761312449.\n",
            "[I 2025-05-05 06:22:59,029] Trial 16 finished with value: 3752.176132190383 and parameters: {'n_estimators': 276, 'max_depth': 4, 'learning_rate': 0.22635316419185814, 'subsample': 0.7395478802123243, 'colsample_bytree': 0.825179193020671, 'reg_lambda': 2.0720021877610675, 'reg_alpha': 1.947232685019481}. Best is trial 14 with value: 3440.54761312449.\n",
            "[I 2025-05-05 06:22:59,394] Trial 17 finished with value: 3672.512291803413 and parameters: {'n_estimators': 388, 'max_depth': 6, 'learning_rate': 0.055176859214601026, 'subsample': 0.848727132586668, 'colsample_bytree': 0.7472079581795587, 'reg_lambda': 5.433389821940661, 'reg_alpha': 3.303959052034405}. Best is trial 14 with value: 3440.54761312449.\n",
            "[I 2025-05-05 06:23:00,092] Trial 18 finished with value: 3545.837607213854 and parameters: {'n_estimators': 419, 'max_depth': 10, 'learning_rate': 0.011130243306412721, 'subsample': 0.8144161755227999, 'colsample_bytree': 0.8216742540625116, 'reg_lambda': 2.7683227753000526, 'reg_alpha': 1.586870794829363}. Best is trial 14 with value: 3440.54761312449.\n",
            "[I 2025-05-05 06:23:00,363] Trial 19 finished with value: 3692.788013055699 and parameters: {'n_estimators': 489, 'max_depth': 3, 'learning_rate': 0.21734808408415546, 'subsample': 0.8864760163369731, 'colsample_bytree': 0.7435688773993162, 'reg_lambda': 4.717239259326727, 'reg_alpha': 6.6595201794661225}. Best is trial 14 with value: 3440.54761312449.\n",
            "[I 2025-05-05 06:23:00,679] Trial 20 finished with value: 3744.3114172388873 and parameters: {'n_estimators': 266, 'max_depth': 6, 'learning_rate': 0.07805965715738555, 'subsample': 0.7363918376687745, 'colsample_bytree': 0.8130510211316002, 'reg_lambda': 1.3324460160710168, 'reg_alpha': 9.731166727493157}. Best is trial 14 with value: 3440.54761312449.\n",
            "[I 2025-05-05 06:23:00,892] Trial 21 finished with value: 3485.41003954815 and parameters: {'n_estimators': 346, 'max_depth': 3, 'learning_rate': 0.034275802201297875, 'subsample': 0.75008384395478, 'colsample_bytree': 0.7702542389222509, 'reg_lambda': 3.8287209223237335, 'reg_alpha': 0.1867868663304667}. Best is trial 14 with value: 3440.54761312449.\n",
            "[I 2025-05-05 06:23:01,169] Trial 22 finished with value: 3451.6737550244743 and parameters: {'n_estimators': 362, 'max_depth': 4, 'learning_rate': 0.014278255502403777, 'subsample': 0.7667276102284015, 'colsample_bytree': 0.746860630374906, 'reg_lambda': 2.494872372168043, 'reg_alpha': 1.2460685725698621}. Best is trial 14 with value: 3440.54761312449.\n",
            "[I 2025-05-05 06:23:01,366] Trial 23 finished with value: 3514.6298576470035 and parameters: {'n_estimators': 301, 'max_depth': 3, 'learning_rate': 0.05324994860800323, 'subsample': 0.7240617931083378, 'colsample_bytree': 0.7989432313960081, 'reg_lambda': 4.018235685658552, 'reg_alpha': 3.203733275712766}. Best is trial 14 with value: 3440.54761312449.\n",
            "[I 2025-05-05 06:23:01,715] Trial 24 finished with value: 3446.2129720245916 and parameters: {'n_estimators': 436, 'max_depth': 4, 'learning_rate': 0.010380322898272773, 'subsample': 0.7680691181784486, 'colsample_bytree': 0.7661308889355339, 'reg_lambda': 5.760902133943782, 'reg_alpha': 1.101366252615562}. Best is trial 14 with value: 3440.54761312449.\n",
            "[I 2025-05-05 06:23:01,879] Trial 25 finished with value: 3473.2156643667017 and parameters: {'n_estimators': 231, 'max_depth': 3, 'learning_rate': 0.039031507074993387, 'subsample': 0.7233503190860934, 'colsample_bytree': 0.7001110692003574, 'reg_lambda': 3.1920239303259326, 'reg_alpha': 0.13102884054276975}. Best is trial 14 with value: 3440.54761312449.\n",
            "[I 2025-05-05 06:23:02,107] Trial 26 finished with value: 3588.6447854507996 and parameters: {'n_estimators': 305, 'max_depth': 4, 'learning_rate': 0.06877123115526501, 'subsample': 0.8065641386551238, 'colsample_bytree': 0.7323858961616576, 'reg_lambda': 1.427859250062398, 'reg_alpha': 2.2864241099196665}. Best is trial 14 with value: 3440.54761312449.\n",
            "[I 2025-05-05 06:23:02,337] Trial 27 finished with value: 3569.378894743585 and parameters: {'n_estimators': 361, 'max_depth': 3, 'learning_rate': 0.0883824940867932, 'subsample': 0.7552766390237206, 'colsample_bytree': 0.8455724869594052, 'reg_lambda': 3.7860387067502903, 'reg_alpha': 1.1807120715050103}. Best is trial 14 with value: 3440.54761312449.\n",
            "[I 2025-05-05 06:23:02,933] Trial 28 finished with value: 3826.9835257302334 and parameters: {'n_estimators': 369, 'max_depth': 9, 'learning_rate': 0.10994636128603141, 'subsample': 0.8309591393989566, 'colsample_bytree': 0.7653873789486961, 'reg_lambda': 8.90838311503503, 'reg_alpha': 2.9801035645500598}. Best is trial 14 with value: 3440.54761312449.\n",
            "[I 2025-05-05 06:23:03,152] Trial 29 finished with value: 3812.4150201302537 and parameters: {'n_estimators': 229, 'max_depth': 5, 'learning_rate': 0.2876619232657671, 'subsample': 0.7875447130119767, 'colsample_bytree': 0.8033042022109785, 'reg_lambda': 2.545100465503107, 'reg_alpha': 3.8577096690762485}. Best is trial 14 with value: 3440.54761312449.\n"
          ]
        },
        {
          "output_type": "stream",
          "name": "stdout",
          "text": [
            "✅ Best trial for model 3: RMSE = 3440.5476\n"
          ]
        },
        {
          "output_type": "stream",
          "name": "stderr",
          "text": [
            "[I 2025-05-05 06:23:03,393] A new study created in memory with name: no-name-34edfc19-e2e1-4f31-aa99-b2e8354dd70d\n",
            "[I 2025-05-05 06:23:03,570] Trial 0 finished with value: 3556.0602560452467 and parameters: {'n_estimators': 232, 'max_depth': 5, 'learning_rate': 0.03830939234044469, 'subsample': 0.9378833758459371, 'colsample_bytree': 0.7813679463644435, 'reg_lambda': 7.212417745174003, 'reg_alpha': 9.108071796531918}. Best is trial 0 with value: 3556.0602560452467.\n"
          ]
        },
        {
          "output_type": "stream",
          "name": "stdout",
          "text": [
            "\n",
            "🔁 Optimizing model 4/5\n"
          ]
        },
        {
          "output_type": "stream",
          "name": "stderr",
          "text": [
            "[I 2025-05-05 06:23:04,228] Trial 1 finished with value: 4042.8132006504097 and parameters: {'n_estimators': 359, 'max_depth': 9, 'learning_rate': 0.1976969840580976, 'subsample': 0.9587247668856158, 'colsample_bytree': 0.7384950748909953, 'reg_lambda': 0.7340487166442304, 'reg_alpha': 5.270450108455512}. Best is trial 0 with value: 3556.0602560452467.\n",
            "[I 2025-05-05 06:23:06,728] Trial 2 finished with value: 4035.0342128619804 and parameters: {'n_estimators': 386, 'max_depth': 9, 'learning_rate': 0.1822482293219455, 'subsample': 0.9828859344483731, 'colsample_bytree': 0.9997619175448158, 'reg_lambda': 8.419387155978347, 'reg_alpha': 3.8459267120833553}. Best is trial 0 with value: 3556.0602560452467.\n",
            "[I 2025-05-05 06:23:07,317] Trial 3 finished with value: 4027.6453686336135 and parameters: {'n_estimators': 488, 'max_depth': 7, 'learning_rate': 0.17618975420018004, 'subsample': 0.9103872289733936, 'colsample_bytree': 0.8838435504592181, 'reg_lambda': 4.780834993978307, 'reg_alpha': 2.962560483937215}. Best is trial 0 with value: 3556.0602560452467.\n",
            "[I 2025-05-05 06:23:07,553] Trial 4 finished with value: 3935.451806031396 and parameters: {'n_estimators': 302, 'max_depth': 5, 'learning_rate': 0.2886346221517804, 'subsample': 0.9712910297717585, 'colsample_bytree': 0.8389809293590432, 'reg_lambda': 9.456513728787549, 'reg_alpha': 9.426456638240305}. Best is trial 0 with value: 3556.0602560452467.\n",
            "[I 2025-05-05 06:23:07,659] Trial 5 finished with value: 3483.469835434433 and parameters: {'n_estimators': 165, 'max_depth': 3, 'learning_rate': 0.052348342102012654, 'subsample': 0.7561362104767735, 'colsample_bytree': 0.9291131783064338, 'reg_lambda': 1.5347351283030137, 'reg_alpha': 1.67829689621167}. Best is trial 5 with value: 3483.469835434433.\n",
            "[I 2025-05-05 06:23:07,831] Trial 6 finished with value: 3877.5874192953324 and parameters: {'n_estimators': 202, 'max_depth': 5, 'learning_rate': 0.23977512554666056, 'subsample': 0.7825230743219609, 'colsample_bytree': 0.9674726751044429, 'reg_lambda': 8.52614394210371, 'reg_alpha': 8.232215358732265}. Best is trial 5 with value: 3483.469835434433.\n",
            "[I 2025-05-05 06:23:08,162] Trial 7 finished with value: 3782.229243620928 and parameters: {'n_estimators': 486, 'max_depth': 4, 'learning_rate': 0.08661244601116327, 'subsample': 0.718806828547099, 'colsample_bytree': 0.9043966797923841, 'reg_lambda': 5.551513420478735, 'reg_alpha': 4.471573925856797}. Best is trial 5 with value: 3483.469835434433.\n",
            "[I 2025-05-05 06:23:08,240] Trial 8 finished with value: 3610.727995819889 and parameters: {'n_estimators': 124, 'max_depth': 3, 'learning_rate': 0.188095235757885, 'subsample': 0.9714974864081187, 'colsample_bytree': 0.7068856645434088, 'reg_lambda': 5.415555606989184, 'reg_alpha': 6.837987818844259}. Best is trial 5 with value: 3483.469835434433.\n",
            "[I 2025-05-05 06:23:08,559] Trial 9 finished with value: 3875.028852602876 and parameters: {'n_estimators': 293, 'max_depth': 7, 'learning_rate': 0.06353462089431572, 'subsample': 0.8007745896720427, 'colsample_bytree': 0.7411720777510419, 'reg_lambda': 1.6881240117435392, 'reg_alpha': 7.153400726342558}. Best is trial 5 with value: 3483.469835434433.\n",
            "[I 2025-05-05 06:23:08,654] Trial 10 finished with value: 3510.5405550207797 and parameters: {'n_estimators': 102, 'max_depth': 3, 'learning_rate': 0.10998208416977269, 'subsample': 0.861394123055835, 'colsample_bytree': 0.9358711037710262, 'reg_lambda': 2.7767669452338604, 'reg_alpha': 0.6024971238334604}. Best is trial 5 with value: 3483.469835434433.\n",
            "[I 2025-05-05 06:23:08,774] Trial 11 finished with value: 3558.099552663303 and parameters: {'n_estimators': 159, 'max_depth': 3, 'learning_rate': 0.1070742399952585, 'subsample': 0.8625634704613697, 'colsample_bytree': 0.9347515108072187, 'reg_lambda': 2.5063288160065365, 'reg_alpha': 0.10339969683217332}. Best is trial 5 with value: 3483.469835434433.\n",
            "[I 2025-05-05 06:23:08,897] Trial 12 finished with value: 6231.266322700001 and parameters: {'n_estimators': 102, 'max_depth': 3, 'learning_rate': 0.014625851316328153, 'subsample': 0.7101791973537573, 'colsample_bytree': 0.835332605972495, 'reg_lambda': 3.1491009462513597, 'reg_alpha': 0.37301257733158977}. Best is trial 5 with value: 3483.469835434433.\n",
            "[I 2025-05-05 06:23:09,050] Trial 13 finished with value: 3695.9614780278885 and parameters: {'n_estimators': 175, 'max_depth': 4, 'learning_rate': 0.1166715756167044, 'subsample': 0.8483570974565676, 'colsample_bytree': 0.9344570605275092, 'reg_lambda': 0.38519401791669283, 'reg_alpha': 1.8900681478084627}. Best is trial 5 with value: 3483.469835434433.\n",
            "[I 2025-05-05 06:23:09,327] Trial 14 finished with value: 3928.0708216578437 and parameters: {'n_estimators': 243, 'max_depth': 6, 'learning_rate': 0.13569574054069722, 'subsample': 0.7717752127260409, 'colsample_bytree': 0.8914756962433528, 'reg_lambda': 3.6935602658556386, 'reg_alpha': 1.7537226568247462}. Best is trial 5 with value: 3483.469835434433.\n",
            "[I 2025-05-05 06:23:09,445] Trial 15 finished with value: 3491.3025913195493 and parameters: {'n_estimators': 100, 'max_depth': 4, 'learning_rate': 0.06600788620356365, 'subsample': 0.8555785626821077, 'colsample_bytree': 0.9609023380397307, 'reg_lambda': 1.6836721261374423, 'reg_alpha': 1.642427727348673}. Best is trial 5 with value: 3483.469835434433.\n",
            "[I 2025-05-05 06:23:09,590] Trial 16 finished with value: 3556.622792290101 and parameters: {'n_estimators': 149, 'max_depth': 4, 'learning_rate': 0.07006345616814617, 'subsample': 0.8259404357667756, 'colsample_bytree': 0.995863856686962, 'reg_lambda': 1.3512523576895081, 'reg_alpha': 2.43289622659326}. Best is trial 5 with value: 3483.469835434433.\n",
            "[I 2025-05-05 06:23:09,787] Trial 17 finished with value: 4034.416677210437 and parameters: {'n_estimators': 199, 'max_depth': 6, 'learning_rate': 0.011489914236809076, 'subsample': 0.8964848558601451, 'colsample_bytree': 0.9608201512845218, 'reg_lambda': 4.147995182717063, 'reg_alpha': 3.617269392954201}. Best is trial 5 with value: 3483.469835434433.\n",
            "[I 2025-05-05 06:23:10,369] Trial 18 finished with value: 3957.1452745416864 and parameters: {'n_estimators': 270, 'max_depth': 10, 'learning_rate': 0.04777431825016284, 'subsample': 0.7463550899898482, 'colsample_bytree': 0.8657158508659679, 'reg_lambda': 1.85854495344243, 'reg_alpha': 5.777601854033607}. Best is trial 5 with value: 3483.469835434433.\n",
            "[I 2025-05-05 06:23:10,509] Trial 19 finished with value: 3732.8599649283296 and parameters: {'n_estimators': 146, 'max_depth': 4, 'learning_rate': 0.14874000113792435, 'subsample': 0.8128948515959955, 'colsample_bytree': 0.8161135199462616, 'reg_lambda': 0.25985094067573633, 'reg_alpha': 1.2955490172516804}. Best is trial 5 with value: 3483.469835434433.\n",
            "[I 2025-05-05 06:23:11,023] Trial 20 finished with value: 3953.5256833352346 and parameters: {'n_estimators': 346, 'max_depth': 8, 'learning_rate': 0.08273958823271609, 'subsample': 0.7417280106712381, 'colsample_bytree': 0.9098100815478607, 'reg_lambda': 6.801564034602618, 'reg_alpha': 3.015651264342317}. Best is trial 5 with value: 3483.469835434433.\n",
            "[I 2025-05-05 06:23:11,128] Trial 21 finished with value: 3509.156794457971 and parameters: {'n_estimators': 106, 'max_depth': 3, 'learning_rate': 0.10751704640571597, 'subsample': 0.8676610511789111, 'colsample_bytree': 0.9468834216637896, 'reg_lambda': 2.530349708943037, 'reg_alpha': 1.1876264485460397}. Best is trial 5 with value: 3483.469835434433.\n",
            "[I 2025-05-05 06:23:11,243] Trial 22 finished with value: 3456.7529873191556 and parameters: {'n_estimators': 126, 'max_depth': 3, 'learning_rate': 0.045619586931983466, 'subsample': 0.8932365348692174, 'colsample_bytree': 0.9617399740536607, 'reg_lambda': 2.1266438434595165, 'reg_alpha': 1.2128609995014759}. Best is trial 22 with value: 3456.7529873191556.\n",
            "[I 2025-05-05 06:23:11,418] Trial 23 finished with value: 3502.5853791569275 and parameters: {'n_estimators': 185, 'max_depth': 4, 'learning_rate': 0.03686403113923668, 'subsample': 0.8958980051980003, 'colsample_bytree': 0.9762272573993703, 'reg_lambda': 1.1081210241584625, 'reg_alpha': 2.1822753250860316}. Best is trial 22 with value: 3456.7529873191556.\n",
            "[I 2025-05-05 06:23:11,567] Trial 24 finished with value: 3540.812218973118 and parameters: {'n_estimators': 135, 'max_depth': 5, 'learning_rate': 0.052821378713189704, 'subsample': 0.9173640932282189, 'colsample_bytree': 0.9254538107302075, 'reg_lambda': 2.1067867383559475, 'reg_alpha': 1.017005641687852}. Best is trial 22 with value: 3456.7529873191556.\n",
            "[I 2025-05-05 06:23:11,738] Trial 25 finished with value: 3459.081038673843 and parameters: {'n_estimators': 224, 'max_depth': 3, 'learning_rate': 0.02913349159255284, 'subsample': 0.8306579946927971, 'colsample_bytree': 0.9734231800698779, 'reg_lambda': 3.47067785223173, 'reg_alpha': 2.8057404308137723}. Best is trial 22 with value: 3456.7529873191556.\n",
            "[I 2025-05-05 06:23:11,908] Trial 26 finished with value: 3463.7027610154123 and parameters: {'n_estimators': 232, 'max_depth': 3, 'learning_rate': 0.028467265804911376, 'subsample': 0.7666481750709467, 'colsample_bytree': 0.9835094653891923, 'reg_lambda': 3.498195023095229, 'reg_alpha': 2.7876679026831557}. Best is trial 22 with value: 3456.7529873191556.\n",
            "[I 2025-05-05 06:23:12,110] Trial 27 finished with value: 3454.0127575297756 and parameters: {'n_estimators': 238, 'max_depth': 3, 'learning_rate': 0.0247719221183028, 'subsample': 0.8302321479761378, 'colsample_bytree': 0.984261545988581, 'reg_lambda': 3.537988502126959, 'reg_alpha': 4.144164235497286}. Best is trial 27 with value: 3454.0127575297756.\n",
            "[I 2025-05-05 06:23:12,395] Trial 28 finished with value: 3595.055166171736 and parameters: {'n_estimators': 279, 'max_depth': 6, 'learning_rate': 0.010957405498164721, 'subsample': 0.8349125608195543, 'colsample_bytree': 0.9567024103762569, 'reg_lambda': 4.421916542537072, 'reg_alpha': 4.359464904465384}. Best is trial 27 with value: 3454.0127575297756.\n",
            "[I 2025-05-05 06:23:12,601] Trial 29 finished with value: 3515.8455498041612 and parameters: {'n_estimators': 218, 'max_depth': 5, 'learning_rate': 0.03033166914753041, 'subsample': 0.9360968133609656, 'colsample_bytree': 0.8004735712489429, 'reg_lambda': 6.185243026855266, 'reg_alpha': 3.5822457845487827}. Best is trial 27 with value: 3454.0127575297756.\n",
            "[I 2025-05-05 06:23:12,741] A new study created in memory with name: no-name-a1231239-5106-48db-8566-aa5e06294cfb\n"
          ]
        },
        {
          "output_type": "stream",
          "name": "stdout",
          "text": [
            "✅ Best trial for model 4: RMSE = 3454.0128\n",
            "\n",
            "🔁 Optimizing model 5/5\n"
          ]
        },
        {
          "output_type": "stream",
          "name": "stderr",
          "text": [
            "[I 2025-05-05 06:23:13,143] Trial 0 finished with value: 3742.9898697978147 and parameters: {'n_estimators': 406, 'max_depth': 6, 'learning_rate': 0.20371084162320333, 'subsample': 0.8344018491667179, 'colsample_bytree': 0.7181530084805158, 'reg_lambda': 4.442512323414187, 'reg_alpha': 2.143454088199438}. Best is trial 0 with value: 3742.9898697978147.\n",
            "[I 2025-05-05 06:23:13,692] Trial 1 finished with value: 3777.2593330859386 and parameters: {'n_estimators': 419, 'max_depth': 8, 'learning_rate': 0.26417785414249595, 'subsample': 0.9356940495494454, 'colsample_bytree': 0.7381937661992904, 'reg_lambda': 9.510755502566196, 'reg_alpha': 5.782161355319541}. Best is trial 0 with value: 3742.9898697978147.\n",
            "[I 2025-05-05 06:23:14,272] Trial 2 finished with value: 3756.741203600954 and parameters: {'n_estimators': 356, 'max_depth': 9, 'learning_rate': 0.18878457702654647, 'subsample': 0.7042533927202599, 'colsample_bytree': 0.7935920985714289, 'reg_lambda': 8.784949687863165, 'reg_alpha': 8.912368980289125}. Best is trial 0 with value: 3742.9898697978147.\n",
            "[I 2025-05-05 06:23:14,619] Trial 3 finished with value: 3793.649550295202 and parameters: {'n_estimators': 236, 'max_depth': 8, 'learning_rate': 0.28121538728820894, 'subsample': 0.8936133324151921, 'colsample_bytree': 0.8416768157228885, 'reg_lambda': 1.8506504124240768, 'reg_alpha': 2.186595393861019}. Best is trial 0 with value: 3742.9898697978147.\n",
            "[I 2025-05-05 06:23:14,832] Trial 4 finished with value: 3595.936632775344 and parameters: {'n_estimators': 324, 'max_depth': 4, 'learning_rate': 0.0904142764017722, 'subsample': 0.7780461904517588, 'colsample_bytree': 0.9573944229754741, 'reg_lambda': 9.275261161432756, 'reg_alpha': 0.4437286237449658}. Best is trial 4 with value: 3595.936632775344.\n",
            "[I 2025-05-05 06:23:15,361] Trial 5 finished with value: 3807.639604008375 and parameters: {'n_estimators': 315, 'max_depth': 9, 'learning_rate': 0.2973447499173184, 'subsample': 0.8119519722629012, 'colsample_bytree': 0.7495127253924331, 'reg_lambda': 2.7719828635320596, 'reg_alpha': 1.2950841357010379}. Best is trial 4 with value: 3595.936632775344.\n",
            "[I 2025-05-05 06:23:15,545] Trial 6 finished with value: 3740.1250491123956 and parameters: {'n_estimators': 117, 'max_depth': 9, 'learning_rate': 0.2358194243698892, 'subsample': 0.7725566340440863, 'colsample_bytree': 0.7031608049498929, 'reg_lambda': 7.161887745720501, 'reg_alpha': 0.11646788739883648}. Best is trial 4 with value: 3595.936632775344.\n",
            "[I 2025-05-05 06:23:15,895] Trial 7 finished with value: 3719.633515052547 and parameters: {'n_estimators': 362, 'max_depth': 6, 'learning_rate': 0.2082457777973967, 'subsample': 0.774409438201732, 'colsample_bytree': 0.8565635557395769, 'reg_lambda': 8.577228643618037, 'reg_alpha': 6.76027669237051}. Best is trial 4 with value: 3595.936632775344.\n",
            "[I 2025-05-05 06:23:16,130] Trial 8 finished with value: 3585.9903253930806 and parameters: {'n_estimators': 466, 'max_depth': 3, 'learning_rate': 0.10404377073043006, 'subsample': 0.7047495065450784, 'colsample_bytree': 0.711141661137215, 'reg_lambda': 9.91114062222504, 'reg_alpha': 1.6553687947552473}. Best is trial 8 with value: 3585.9903253930806.\n",
            "[I 2025-05-05 06:23:16,305] Trial 9 finished with value: 3661.442424893627 and parameters: {'n_estimators': 209, 'max_depth': 4, 'learning_rate': 0.16134795624450443, 'subsample': 0.8050173063908862, 'colsample_bytree': 0.7092716981951026, 'reg_lambda': 0.11661280814340103, 'reg_alpha': 7.63317670671791}. Best is trial 8 with value: 3585.9903253930806.\n",
            "[I 2025-05-05 06:23:18,393] Trial 10 finished with value: 3435.1151447687475 and parameters: {'n_estimators': 494, 'max_depth': 3, 'learning_rate': 0.026990643341561565, 'subsample': 0.9996066890401698, 'colsample_bytree': 0.9822963620083307, 'reg_lambda': 6.084626303396462, 'reg_alpha': 3.876436637421131}. Best is trial 10 with value: 3435.1151447687475.\n",
            "[I 2025-05-05 06:23:18,705] Trial 11 finished with value: 3417.104896865114 and parameters: {'n_estimators': 497, 'max_depth': 3, 'learning_rate': 0.014981546503009424, 'subsample': 0.9891286017473189, 'colsample_bytree': 0.9981438630762957, 'reg_lambda': 6.0791523751858945, 'reg_alpha': 3.843172270518957}. Best is trial 11 with value: 3417.104896865114.\n",
            "[I 2025-05-05 06:23:18,999] Trial 12 finished with value: 3410.338954982545 and parameters: {'n_estimators': 497, 'max_depth': 3, 'learning_rate': 0.011105220422958443, 'subsample': 0.9986368642562077, 'colsample_bytree': 0.9975816214072608, 'reg_lambda': 5.9169427631358245, 'reg_alpha': 4.1502695273853245}. Best is trial 12 with value: 3410.338954982545.\n",
            "[I 2025-05-05 06:23:19,433] Trial 13 finished with value: 3463.07181614366 and parameters: {'n_estimators': 495, 'max_depth': 5, 'learning_rate': 0.015414062718190968, 'subsample': 0.9888258151743274, 'colsample_bytree': 0.9279616414755418, 'reg_lambda': 5.058087724182526, 'reg_alpha': 4.050725041292428}. Best is trial 12 with value: 3410.338954982545.\n",
            "[I 2025-05-05 06:23:19,727] Trial 14 finished with value: 3568.374543949241 and parameters: {'n_estimators': 443, 'max_depth': 4, 'learning_rate': 0.0675258012279138, 'subsample': 0.9572818735043803, 'colsample_bytree': 0.9154735491998254, 'reg_lambda': 6.980426557349433, 'reg_alpha': 4.046732512855343}. Best is trial 12 with value: 3410.338954982545.\n",
            "[I 2025-05-05 06:23:19,903] Trial 15 finished with value: 3466.209574229189 and parameters: {'n_estimators': 261, 'max_depth': 3, 'learning_rate': 0.055100334051701075, 'subsample': 0.8955482077790897, 'colsample_bytree': 0.984948101300236, 'reg_lambda': 4.258479933510021, 'reg_alpha': 5.618238854055667}. Best is trial 12 with value: 3410.338954982545.\n",
            "[I 2025-05-05 06:23:20,222] Trial 16 finished with value: 3680.7234439439794 and parameters: {'n_estimators': 384, 'max_depth': 5, 'learning_rate': 0.13354866087281825, 'subsample': 0.9426937721954753, 'colsample_bytree': 0.8996014862129939, 'reg_lambda': 5.94973356354, 'reg_alpha': 2.996469284184157}. Best is trial 12 with value: 3410.338954982545.\n",
            "[I 2025-05-05 06:23:20,623] Trial 17 finished with value: 3573.8354778720663 and parameters: {'n_estimators': 447, 'max_depth': 5, 'learning_rate': 0.04466244071097549, 'subsample': 0.8968259956125051, 'colsample_bytree': 0.9975952069153067, 'reg_lambda': 7.699559792902816, 'reg_alpha': 5.0442790760417}. Best is trial 12 with value: 3410.338954982545.\n",
            "[I 2025-05-05 06:23:20,777] Trial 18 finished with value: 3582.6034126911136 and parameters: {'n_estimators': 111, 'max_depth': 7, 'learning_rate': 0.10340395400083155, 'subsample': 0.9705777505712878, 'colsample_bytree': 0.9503037586378104, 'reg_lambda': 2.9210599096491228, 'reg_alpha': 9.984749864523696}. Best is trial 12 with value: 3410.338954982545.\n",
            "[I 2025-05-05 06:23:20,913] Trial 19 finished with value: 3608.8540794436017 and parameters: {'n_estimators': 174, 'max_depth': 3, 'learning_rate': 0.015943516147396645, 'subsample': 0.9237279512254462, 'colsample_bytree': 0.8754826533101168, 'reg_lambda': 5.83948138382721, 'reg_alpha': 3.2362183206303605}. Best is trial 12 with value: 3410.338954982545.\n",
            "[I 2025-05-05 06:23:21,128] Trial 20 finished with value: 3563.183223399276 and parameters: {'n_estimators': 280, 'max_depth': 4, 'learning_rate': 0.07636735697785134, 'subsample': 0.866835403002757, 'colsample_bytree': 0.8150784502582736, 'reg_lambda': 3.4322812076900604, 'reg_alpha': 5.035966159411566}. Best is trial 12 with value: 3410.338954982545.\n",
            "[I 2025-05-05 06:23:21,424] Trial 21 finished with value: 3458.6849923303307 and parameters: {'n_estimators': 489, 'max_depth': 3, 'learning_rate': 0.03570342346509303, 'subsample': 0.9981621237973374, 'colsample_bytree': 0.9686942610505659, 'reg_lambda': 6.097291736012196, 'reg_alpha': 3.821531997877071}. Best is trial 12 with value: 3410.338954982545.\n",
            "[I 2025-05-05 06:23:21,701] Trial 22 finished with value: 3448.584658584699 and parameters: {'n_estimators': 494, 'max_depth': 3, 'learning_rate': 0.029020134713834522, 'subsample': 0.9843445391844602, 'colsample_bytree': 0.9443368101307067, 'reg_lambda': 6.72660747384085, 'reg_alpha': 2.9883134668717597}. Best is trial 12 with value: 3410.338954982545.\n",
            "[I 2025-05-05 06:23:22,020] Trial 23 finished with value: 3435.685926421502 and parameters: {'n_estimators': 444, 'max_depth': 4, 'learning_rate': 0.013973368105375214, 'subsample': 0.9994651353148968, 'colsample_bytree': 0.9936874434943733, 'reg_lambda': 5.114598601380183, 'reg_alpha': 4.551185146080269}. Best is trial 12 with value: 3410.338954982545.\n",
            "[I 2025-05-05 06:23:22,867] Trial 24 finished with value: 3783.0587355090024 and parameters: {'n_estimators': 412, 'max_depth': 10, 'learning_rate': 0.1302486119054534, 'subsample': 0.9649414254438796, 'colsample_bytree': 0.9677163515695975, 'reg_lambda': 8.080848399769389, 'reg_alpha': 6.366381089083683}. Best is trial 12 with value: 3410.338954982545.\n",
            "[I 2025-05-05 06:23:23,240] Trial 25 finished with value: 3609.3380946439192 and parameters: {'n_estimators': 468, 'max_depth': 5, 'learning_rate': 0.05531420313574604, 'subsample': 0.9202160969470087, 'colsample_bytree': 0.8970224088510025, 'reg_lambda': 6.273119286963453, 'reg_alpha': 3.309515430608995}. Best is trial 12 with value: 3410.338954982545.\n",
            "[I 2025-05-05 06:23:23,534] Trial 26 finished with value: 3482.31124657347 and parameters: {'n_estimators': 468, 'max_depth': 3, 'learning_rate': 0.040773992971987964, 'subsample': 0.9586328024847488, 'colsample_bytree': 0.9998032052812739, 'reg_lambda': 4.224907425594651, 'reg_alpha': 4.539689362570365}. Best is trial 12 with value: 3410.338954982545.\n",
            "[I 2025-05-05 06:23:23,801] Trial 27 finished with value: 3568.6819309958546 and parameters: {'n_estimators': 382, 'max_depth': 4, 'learning_rate': 0.07476687350262194, 'subsample': 0.9803400771920331, 'colsample_bytree': 0.9354514394004171, 'reg_lambda': 5.451285818934036, 'reg_alpha': 7.340506061898086}. Best is trial 12 with value: 3410.338954982545.\n",
            "[I 2025-05-05 06:23:24,199] Trial 28 finished with value: 3447.7304464802646 and parameters: {'n_estimators': 430, 'max_depth': 6, 'learning_rate': 0.010884870226832797, 'subsample': 0.9486632954455969, 'colsample_bytree': 0.9736779274072803, 'reg_lambda': 7.840126658999274, 'reg_alpha': 2.4784078240745395}. Best is trial 12 with value: 3410.338954982545.\n",
            "[I 2025-05-05 06:23:24,730] Trial 29 finished with value: 3745.371829989074 and parameters: {'n_estimators': 499, 'max_depth': 6, 'learning_rate': 0.12015675382487005, 'subsample': 0.8586099777723374, 'colsample_bytree': 0.9172056740344184, 'reg_lambda': 4.473567442560255, 'reg_alpha': 1.1803281135299883}. Best is trial 12 with value: 3410.338954982545.\n"
          ]
        },
        {
          "output_type": "stream",
          "name": "stdout",
          "text": [
            "✅ Best trial for model 5: RMSE = 3410.3390\n",
            "\n",
            "✨ Ensemble training complete!\n"
          ]
        }
      ],
      "source": [
        "import pandas as pd\n",
        "import numpy as np\n",
        "from sklearn.utils import resample\n",
        "from sklearn.model_selection import train_test_split\n",
        "from sklearn.metrics import mean_squared_error\n",
        "from xgboost import XGBRegressor\n",
        "import optuna\n",
        "import joblib\n",
        "import os\n",
        "\n",
        "ENSEMBLE_SIZE = 5\n",
        "MODELS_DIR = \"model_training/models\"\n",
        "os.makedirs(MODELS_DIR, exist_ok=True)\n",
        "\n",
        "# Load & preprocess data\n",
        "df = pd.read_csv(\"model_training/data/Service1.csv\")\n",
        "\n",
        "# Create features and handle potential issues\n",
        "X = df[[\"cpu_usage_pct\", \"memory_usage_pct\"]].copy()\n",
        "\n",
        "# Add log transformations, handling zeros/small values\n",
        "X[\"cpu_log\"] = np.log1p(X[\"cpu_usage_pct\"])  # log1p handles zeros safely\n",
        "X[\"mem_log\"] = np.log1p(X[\"memory_usage_pct\"])\n",
        "\n",
        "# Calculate ratio safely to avoid division by zero\n",
        "# Replace zeros with a small value and clip to avoid infinity\n",
        "eps = 1e-10  # small epsilon value\n",
        "X[\"cpu_to_mem\"] = X[\"cpu_usage_pct\"] / (X[\"memory_usage_pct\"].replace(0, eps))\n",
        "X[\"cpu_to_mem\"] = X[\"cpu_to_mem\"].clip(0, 1000)  # Clip to reasonable range\n",
        "\n",
        "# Replace any remaining infinities with NaN and then fill with a large value\n",
        "X = X.replace([np.inf, -np.inf], np.nan)\n",
        "X = X.fillna(9999)  # Use a large but finite number as replacement\n",
        "\n",
        "y = df[\"latency_ms\"]\n",
        "\n",
        "X_train, X_val, y_train, y_val = train_test_split(X, y, test_size=0.2, random_state=42)\n",
        "\n",
        "def objective(trial):\n",
        "    params = {\n",
        "        \"n_estimators\": trial.suggest_int(\"n_estimators\", 100, 600),\n",
        "        \"max_depth\": trial.suggest_int(\"max_depth\", 3, 12),\n",
        "        \"learning_rate\": trial.suggest_float(\"learning_rate\", 0.01, 0.3, log=True),\n",
        "        \"subsample\": trial.suggest_float(\"subsample\", 0.5, 1.0),\n",
        "        \"colsample_bytree\": trial.suggest_float(\"colsample_bytree\", 0.5, 1.0),\n",
        "        \"reg_lambda\": trial.suggest_float(\"reg_lambda\", 1e-3, 10.0, log=True),\n",
        "        \"reg_alpha\": trial.suggest_float(\"reg_alpha\", 1e-3, 10.0, log=True),\n",
        "        \"random_state\": 42,\n",
        "    }\n",
        "\n",
        "    # Add missing value handling explicitly\n",
        "    model = XGBRegressor(**params, missing=np.nan)\n",
        "    model.fit(X_train, y_train)\n",
        "    preds = model.predict(X_val)\n",
        "    rmse = mean_squared_error(y_val, preds)  # Return RMSE instead of MSE\n",
        "    return rmse\n",
        "\n",
        "# Train ensemble\n",
        "for i in range(ENSEMBLE_SIZE):\n",
        "    print(f\"\\n🔁 Optimizing model {i+1}/{ENSEMBLE_SIZE}\")\n",
        "\n",
        "    # Resample data for diversity\n",
        "    X_bootstrap, y_bootstrap = resample(X_train, y_train, random_state=i)\n",
        "\n",
        "    def boot_objective(trial):\n",
        "        params = {\n",
        "            \"n_estimators\": trial.suggest_int(\"n_estimators\", 100, 500),\n",
        "            \"max_depth\": trial.suggest_int(\"max_depth\", 3, 10),\n",
        "            \"learning_rate\": trial.suggest_float(\"learning_rate\", 0.01, 0.3),\n",
        "            \"subsample\": trial.suggest_float(\"subsample\", 0.7, 1.0),\n",
        "            \"colsample_bytree\": trial.suggest_float(\"colsample_bytree\", 0.7, 1.0),\n",
        "            \"reg_lambda\": trial.suggest_float(\"reg_lambda\", 0.1, 10.0),\n",
        "            \"reg_alpha\": trial.suggest_float(\"reg_alpha\", 0.1, 10.0),\n",
        "            \"random_state\": i,\n",
        "        }\n",
        "        # Add missing value handling explicitly\n",
        "        model = XGBRegressor(**params, missing=np.nan)\n",
        "        model.fit(X_bootstrap, y_bootstrap)\n",
        "        preds = model.predict(X_val)\n",
        "        return mean_squared_error(y_val, preds)  # Return RMSE\n",
        "\n",
        "    try:\n",
        "        study = optuna.create_study(direction=\"minimize\")\n",
        "        study.optimize(boot_objective, n_trials=30)\n",
        "\n",
        "        print(f\"✅ Best trial for model {i+1}: RMSE = {study.best_trial.value:.4f}\")\n",
        "        best_model = XGBRegressor(**study.best_params, missing=np.nan)\n",
        "        best_model.fit(X_bootstrap, y_bootstrap)\n",
        "        joblib.dump(best_model, f\"{MODELS_DIR}/ensemble_model_{i}.pkl\")\n",
        "    except Exception as e:\n",
        "        print(f\" Error training model {i+1}: {str(e)}\")\n",
        "\n",
        "print(\"\\n✨ Ensemble training complete!\")"
      ]
    }
  ]
}