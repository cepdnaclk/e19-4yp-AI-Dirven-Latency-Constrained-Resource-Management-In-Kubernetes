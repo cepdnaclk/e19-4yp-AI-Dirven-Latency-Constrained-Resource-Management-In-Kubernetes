{
  "nbformat": 4,
  "nbformat_minor": 0,
  "metadata": {
    "colab": {
      "provenance": [],
      "authorship_tag": "ABX9TyOVphq7pSgZS0gkbmT6ybfY",
      "include_colab_link": true
    },
    "kernelspec": {
      "name": "python3",
      "display_name": "Python 3"
    },
    "language_info": {
      "name": "python"
    }
  },
  "cells": [
    {
      "cell_type": "markdown",
      "metadata": {
        "id": "view-in-github",
        "colab_type": "text"
      },
      "source": [
        "<a href=\"https://colab.research.google.com/github/e19166/e19-4yp-Dynamic-Multi-Dimensional-Resource-Orchestration-in-Kubernetes/blob/main/Latency_Models/svr/svr.ipynb\" target=\"_parent\"><img src=\"https://colab.research.google.com/assets/colab-badge.svg\" alt=\"Open In Colab\"/></a>"
      ]
    },
    {
      "cell_type": "markdown",
      "source": [
        "# Service 1"
      ],
      "metadata": {
        "id": "nfqtolU9MDL9"
      }
    },
    {
      "cell_type": "code",
      "source": [
        "!pip install optuna"
      ],
      "metadata": {
        "colab": {
          "base_uri": "https://localhost:8080/"
        },
        "id": "XOLuUZOtMw5e",
        "outputId": "ec8058b5-43af-4a0e-8093-a1c79e2db8fb"
      },
      "execution_count": 2,
      "outputs": [
        {
          "output_type": "stream",
          "name": "stdout",
          "text": [
            "Collecting optuna\n",
            "  Downloading optuna-4.4.0-py3-none-any.whl.metadata (17 kB)\n",
            "Collecting alembic>=1.5.0 (from optuna)\n",
            "  Downloading alembic-1.16.2-py3-none-any.whl.metadata (7.3 kB)\n",
            "Collecting colorlog (from optuna)\n",
            "  Downloading colorlog-6.9.0-py3-none-any.whl.metadata (10 kB)\n",
            "Requirement already satisfied: numpy in /usr/local/lib/python3.11/dist-packages (from optuna) (2.0.2)\n",
            "Requirement already satisfied: packaging>=20.0 in /usr/local/lib/python3.11/dist-packages (from optuna) (24.2)\n",
            "Requirement already satisfied: sqlalchemy>=1.4.2 in /usr/local/lib/python3.11/dist-packages (from optuna) (2.0.41)\n",
            "Requirement already satisfied: tqdm in /usr/local/lib/python3.11/dist-packages (from optuna) (4.67.1)\n",
            "Requirement already satisfied: PyYAML in /usr/local/lib/python3.11/dist-packages (from optuna) (6.0.2)\n",
            "Requirement already satisfied: Mako in /usr/lib/python3/dist-packages (from alembic>=1.5.0->optuna) (1.1.3)\n",
            "Requirement already satisfied: typing-extensions>=4.12 in /usr/local/lib/python3.11/dist-packages (from alembic>=1.5.0->optuna) (4.14.0)\n",
            "Requirement already satisfied: greenlet>=1 in /usr/local/lib/python3.11/dist-packages (from sqlalchemy>=1.4.2->optuna) (3.2.3)\n",
            "Downloading optuna-4.4.0-py3-none-any.whl (395 kB)\n",
            "\u001b[2K   \u001b[90m━━━━━━━━━━━━━━━━━━━━━━━━━━━━━━━━━━━━━━━━\u001b[0m \u001b[32m395.9/395.9 kB\u001b[0m \u001b[31m7.9 MB/s\u001b[0m eta \u001b[36m0:00:00\u001b[0m\n",
            "\u001b[?25hDownloading alembic-1.16.2-py3-none-any.whl (242 kB)\n",
            "\u001b[2K   \u001b[90m━━━━━━━━━━━━━━━━━━━━━━━━━━━━━━━━━━━━━━━━\u001b[0m \u001b[32m242.7/242.7 kB\u001b[0m \u001b[31m19.1 MB/s\u001b[0m eta \u001b[36m0:00:00\u001b[0m\n",
            "\u001b[?25hDownloading colorlog-6.9.0-py3-none-any.whl (11 kB)\n",
            "Installing collected packages: colorlog, alembic, optuna\n",
            "Successfully installed alembic-1.16.2 colorlog-6.9.0 optuna-4.4.0\n"
          ]
        }
      ]
    },
    {
      "cell_type": "code",
      "execution_count": 6,
      "metadata": {
        "colab": {
          "base_uri": "https://localhost:8080/"
        },
        "id": "vcTwMB85MAWP",
        "outputId": "e76788bc-2ddf-4b6c-f390-3d75c5059f99"
      },
      "outputs": [
        {
          "output_type": "stream",
          "name": "stderr",
          "text": [
            "[I 2025-06-30 05:00:33,069] A new study created in memory with name: no-name-f884dfea-97a2-45f1-bf7b-8754beb865a8\n",
            "[I 2025-06-30 05:00:33,144] Trial 0 finished with value: 0.0013821951550477803 and parameters: {'gamma': 0.10770083640735646, 'alpha': 2.0644106860382672e-05, 'learning_rate': 'constant', 'eta0': 0.0002464062097868806}. Best is trial 0 with value: 0.0013821951550477803.\n",
            "[I 2025-06-30 05:00:33,216] Trial 1 finished with value: 0.0013500575865016675 and parameters: {'gamma': 0.053711740879546506, 'alpha': 0.0713847570097256, 'learning_rate': 'optimal', 'eta0': 0.09393806091062405}. Best is trial 1 with value: 0.0013500575865016675.\n",
            "[I 2025-06-30 05:00:33,288] Trial 2 finished with value: 0.002296905661025671 and parameters: {'gamma': 0.0021249519496179333, 'alpha': 1.8738712537709903e-06, 'learning_rate': 'invscaling', 'eta0': 0.00047288763839655563}. Best is trial 1 with value: 0.0013500575865016675.\n",
            "[I 2025-06-30 05:00:33,467] Trial 3 finished with value: 0.4321719169840857 and parameters: {'gamma': 0.0004725052471242916, 'alpha': 0.020834380079558897, 'learning_rate': 'optimal', 'eta0': 0.000397227352578985}. Best is trial 1 with value: 0.0013500575865016675.\n",
            "[I 2025-06-30 05:00:33,720] Trial 4 finished with value: 0.0018388492674668538 and parameters: {'gamma': 0.6651445186524824, 'alpha': 0.07405886963470272, 'learning_rate': 'adaptive', 'eta0': 0.007278049397587682}. Best is trial 1 with value: 0.0013500575865016675.\n",
            "[I 2025-06-30 05:00:33,799] Trial 5 finished with value: 0.0015973464445370694 and parameters: {'gamma': 0.0010449581460904162, 'alpha': 0.07142310209493109, 'learning_rate': 'invscaling', 'eta0': 0.005212584868329469}. Best is trial 1 with value: 0.0013500575865016675.\n",
            "[I 2025-06-30 05:00:33,867] Trial 6 finished with value: 0.0013684585053983522 and parameters: {'gamma': 0.026567496206659102, 'alpha': 0.00012281819445576281, 'learning_rate': 'constant', 'eta0': 0.04292393982842647}. Best is trial 1 with value: 0.0013500575865016675.\n",
            "[I 2025-06-30 05:00:35,265] Trial 7 finished with value: 3489588747.89699 and parameters: {'gamma': 0.00016534188044864693, 'alpha': 1.279162598611333e-06, 'learning_rate': 'optimal', 'eta0': 0.0006630197599638019}. Best is trial 1 with value: 0.0013500575865016675.\n",
            "[I 2025-06-30 05:00:35,338] Trial 8 finished with value: 0.0003560210860240659 and parameters: {'gamma': 0.016235592996829213, 'alpha': 2.5988237867911097e-05, 'learning_rate': 'invscaling', 'eta0': 0.021532345829660956}. Best is trial 8 with value: 0.0003560210860240659.\n",
            "[I 2025-06-30 05:00:35,502] Trial 9 finished with value: 0.0006599650044171516 and parameters: {'gamma': 0.002694476369349814, 'alpha': 2.109115902542074e-06, 'learning_rate': 'adaptive', 'eta0': 0.001208935303647291}. Best is trial 8 with value: 0.0003560210860240659.\n",
            "[I 2025-06-30 05:00:35,592] Trial 10 finished with value: 0.0006084582719502231 and parameters: {'gamma': 0.008473820989651347, 'alpha': 0.0009025731984483951, 'learning_rate': 'invscaling', 'eta0': 0.018009802267368688}. Best is trial 8 with value: 0.0003560210860240659.\n",
            "[I 2025-06-30 05:00:35,707] Trial 11 finished with value: 0.0006567980873471388 and parameters: {'gamma': 0.006640271660630202, 'alpha': 0.002473485632339703, 'learning_rate': 'invscaling', 'eta0': 0.018744481889375927}. Best is trial 8 with value: 0.0003560210860240659.\n",
            "[I 2025-06-30 05:00:35,854] Trial 12 finished with value: 0.0006684437606358742 and parameters: {'gamma': 0.013113344008025503, 'alpha': 0.0005061966337898379, 'learning_rate': 'invscaling', 'eta0': 0.01839027347463464}. Best is trial 8 with value: 0.0003560210860240659.\n",
            "[I 2025-06-30 05:00:35,960] Trial 13 finished with value: 0.0006061044901908762 and parameters: {'gamma': 0.21554080072052914, 'alpha': 1.8433467130450354e-05, 'learning_rate': 'invscaling', 'eta0': 0.014768378303087337}. Best is trial 8 with value: 0.0003560210860240659.\n",
            "[I 2025-06-30 05:00:36,062] Trial 14 finished with value: 0.0015911646053946983 and parameters: {'gamma': 0.27909486477522977, 'alpha': 2.5830209591359776e-05, 'learning_rate': 'invscaling', 'eta0': 0.002317365135451054}. Best is trial 8 with value: 0.0003560210860240659.\n",
            "[I 2025-06-30 05:00:36,158] Trial 15 finished with value: 0.0009429506452498411 and parameters: {'gamma': 0.20691272288770152, 'alpha': 1.4968796381874339e-05, 'learning_rate': 'invscaling', 'eta0': 0.007691796903006464}. Best is trial 8 with value: 0.0003560210860240659.\n",
            "[I 2025-06-30 05:00:36,252] Trial 16 finished with value: 0.0006625003126473533 and parameters: {'gamma': 0.037542753769981625, 'alpha': 7.801112847055233e-05, 'learning_rate': 'invscaling', 'eta0': 0.06566556272066583}. Best is trial 8 with value: 0.0003560210860240659.\n",
            "[I 2025-06-30 05:00:36,376] Trial 17 finished with value: 0.0014297264749806803 and parameters: {'gamma': 0.8226983323329878, 'alpha': 9.45069784565361e-05, 'learning_rate': 'constant', 'eta0': 0.033117966016627885}. Best is trial 8 with value: 0.0003560210860240659.\n",
            "[I 2025-06-30 05:00:36,561] Trial 18 finished with value: 0.000727800812553389 and parameters: {'gamma': 0.10546758202128051, 'alpha': 7.170344071974842e-06, 'learning_rate': 'adaptive', 'eta0': 0.0024997183662745152}. Best is trial 8 with value: 0.0003560210860240659.\n",
            "[I 2025-06-30 05:00:36,656] Trial 19 finished with value: 0.0010995102028236764 and parameters: {'gamma': 0.018543246951128054, 'alpha': 4.353376070480865e-06, 'learning_rate': 'invscaling', 'eta0': 0.011679029427991058}. Best is trial 8 with value: 0.0003560210860240659.\n",
            "[I 2025-06-30 05:00:36,767] Trial 20 finished with value: 0.0006881872913762723 and parameters: {'gamma': 0.3188541339311626, 'alpha': 0.0023335102023258453, 'learning_rate': 'invscaling', 'eta0': 0.03701004691167132}. Best is trial 8 with value: 0.0003560210860240659.\n",
            "[I 2025-06-30 05:00:36,868] Trial 21 finished with value: 0.0007968133377886528 and parameters: {'gamma': 0.004296536292303652, 'alpha': 0.0005335200474841625, 'learning_rate': 'invscaling', 'eta0': 0.017262041823249547}. Best is trial 8 with value: 0.0003560210860240659.\n",
            "[I 2025-06-30 05:00:36,964] Trial 22 finished with value: 0.000503364198593539 and parameters: {'gamma': 0.008498417849614533, 'alpha': 0.0018870959478243835, 'learning_rate': 'invscaling', 'eta0': 0.0038837912101408116}. Best is trial 8 with value: 0.0003560210860240659.\n",
            "[I 2025-06-30 05:00:37,087] Trial 23 finished with value: 0.0005121791158869086 and parameters: {'gamma': 0.0012983589346277843, 'alpha': 0.009719625998948116, 'learning_rate': 'invscaling', 'eta0': 0.0038165976096909853}. Best is trial 8 with value: 0.0003560210860240659.\n",
            "[I 2025-06-30 05:00:37,203] Trial 24 finished with value: 0.0010829274169346752 and parameters: {'gamma': 0.0007401684320534928, 'alpha': 0.007093034965993482, 'learning_rate': 'invscaling', 'eta0': 0.0014523621649439509}. Best is trial 8 with value: 0.0003560210860240659.\n",
            "[I 2025-06-30 05:00:37,320] Trial 25 finished with value: 0.0016882374246903209 and parameters: {'gamma': 0.0002375581955212187, 'alpha': 0.008174142968853623, 'learning_rate': 'invscaling', 'eta0': 0.00011001770592228023}. Best is trial 8 with value: 0.0003560210860240659.\n",
            "[I 2025-06-30 05:00:37,523] Trial 26 finished with value: 0.0014815308783397995 and parameters: {'gamma': 0.001950786180270936, 'alpha': 0.0018021565588111632, 'learning_rate': 'constant', 'eta0': 0.004360713847193541}. Best is trial 8 with value: 0.0003560210860240659.\n",
            "[I 2025-06-30 05:00:37,850] Trial 27 finished with value: 0.0012620969347437764 and parameters: {'gamma': 0.004936347011138664, 'alpha': 0.013515649236458253, 'learning_rate': 'adaptive', 'eta0': 0.00306583522220232}. Best is trial 8 with value: 0.0003560210860240659.\n",
            "[I 2025-06-30 05:00:41,576] Trial 28 finished with value: 11894786.572711727 and parameters: {'gamma': 0.0011269997269329022, 'alpha': 0.00020405625116094348, 'learning_rate': 'optimal', 'eta0': 0.00160840067559679}. Best is trial 8 with value: 0.0003560210860240659.\n",
            "[I 2025-06-30 05:00:41,666] Trial 29 finished with value: 0.0005607316547818629 and parameters: {'gamma': 0.08352908258817042, 'alpha': 0.024054018107086277, 'learning_rate': 'constant', 'eta0': 0.0007935695756526942}. Best is trial 8 with value: 0.0003560210860240659.\n",
            "[I 2025-06-30 05:00:41,751] Trial 30 finished with value: 0.0003888787761341713 and parameters: {'gamma': 0.00033695068588083735, 'alpha': 4.642571374142651e-05, 'learning_rate': 'invscaling', 'eta0': 0.006807680598317824}. Best is trial 8 with value: 0.0003560210860240659.\n",
            "[I 2025-06-30 05:00:41,840] Trial 31 finished with value: 0.0007800516065161323 and parameters: {'gamma': 0.0003401267263397274, 'alpha': 3.9903383309015856e-05, 'learning_rate': 'invscaling', 'eta0': 0.008053707325629485}. Best is trial 8 with value: 0.0003560210860240659.\n",
            "[I 2025-06-30 05:00:41,933] Trial 32 finished with value: 0.0006201779879366179 and parameters: {'gamma': 0.00011273389128196751, 'alpha': 4.662900165249186e-05, 'learning_rate': 'invscaling', 'eta0': 0.004417685976954196}. Best is trial 8 with value: 0.0003560210860240659.\n",
            "[I 2025-06-30 05:00:42,026] Trial 33 finished with value: 0.000691563965169785 and parameters: {'gamma': 0.000582581549847001, 'alpha': 0.005025230014709697, 'learning_rate': 'invscaling', 'eta0': 0.009843298253302957}. Best is trial 8 with value: 0.0003560210860240659.\n",
            "[I 2025-06-30 05:00:44,904] Trial 34 finished with value: 1576625.5807301798 and parameters: {'gamma': 0.01349094788394168, 'alpha': 0.00027595643390389637, 'learning_rate': 'optimal', 'eta0': 0.005189426808950048}. Best is trial 8 with value: 0.0003560210860240659.\n",
            "[I 2025-06-30 05:00:44,996] Trial 35 finished with value: 0.0011792644791514305 and parameters: {'gamma': 0.002732394217455154, 'alpha': 0.001115366896410687, 'learning_rate': 'invscaling', 'eta0': 0.0019578067983802567}. Best is trial 8 with value: 0.0003560210860240659.\n",
            "[I 2025-06-30 05:00:45,091] Trial 36 finished with value: 0.0010973921152410547 and parameters: {'gamma': 0.001230643542766432, 'alpha': 0.03169329768318868, 'learning_rate': 'invscaling', 'eta0': 0.0061058296740661815}. Best is trial 8 with value: 0.0003560210860240659.\n",
            "[I 2025-06-30 05:00:45,201] Trial 37 finished with value: 0.00030981123987857605 and parameters: {'gamma': 0.05551614737216789, 'alpha': 9.177534142399906e-06, 'learning_rate': 'invscaling', 'eta0': 0.027613674529902862}. Best is trial 37 with value: 0.00030981123987857605.\n",
            "[I 2025-06-30 05:00:48,145] Trial 38 finished with value: 57469630.91055421 and parameters: {'gamma': 0.06116441469541952, 'alpha': 6.460575734721572e-06, 'learning_rate': 'optimal', 'eta0': 0.03047443658781047}. Best is trial 37 with value: 0.00030981123987857605.\n",
            "[I 2025-06-30 05:00:48,381] Trial 39 finished with value: 0.0008391987890072063 and parameters: {'gamma': 0.03586253659361131, 'alpha': 7.615337957311156e-06, 'learning_rate': 'adaptive', 'eta0': 0.024536464545702463}. Best is trial 37 with value: 0.00030981123987857605.\n",
            "[I 2025-06-30 05:00:48,474] Trial 40 finished with value: 0.00048089752098389767 and parameters: {'gamma': 0.02242149556824916, 'alpha': 3.0929333802241732e-06, 'learning_rate': 'invscaling', 'eta0': 0.06142697998563095}. Best is trial 37 with value: 0.00030981123987857605.\n",
            "[I 2025-06-30 05:00:48,573] Trial 41 finished with value: 0.0011778393143627914 and parameters: {'gamma': 0.02199095216299556, 'alpha': 2.8087480670398947e-06, 'learning_rate': 'invscaling', 'eta0': 0.07587759538453341}. Best is trial 37 with value: 0.00030981123987857605.\n",
            "[I 2025-06-30 05:00:48,667] Trial 42 finished with value: 0.0007419765642557375 and parameters: {'gamma': 0.05620364600381156, 'alpha': 1.1673136854887288e-05, 'learning_rate': 'invscaling', 'eta0': 0.05293207862379594}. Best is trial 37 with value: 0.00030981123987857605.\n",
            "[I 2025-06-30 05:00:48,759] Trial 43 finished with value: 0.0004428668193874075 and parameters: {'gamma': 0.011305415720496818, 'alpha': 1.4488616330652388e-06, 'learning_rate': 'invscaling', 'eta0': 0.07496104574168375}. Best is trial 37 with value: 0.00030981123987857605.\n",
            "[I 2025-06-30 05:00:48,854] Trial 44 finished with value: 0.0005196711420498291 and parameters: {'gamma': 0.03374341820926399, 'alpha': 1.5317688171458478e-06, 'learning_rate': 'invscaling', 'eta0': 0.0973998827662225}. Best is trial 37 with value: 0.00030981123987857605.\n",
            "[I 2025-06-30 05:00:48,948] Trial 45 finished with value: 0.0004894367011290955 and parameters: {'gamma': 0.015669650327373056, 'alpha': 1.0548818530018298e-06, 'learning_rate': 'invscaling', 'eta0': 0.05323346874187629}. Best is trial 37 with value: 0.00030981123987857605.\n",
            "[I 2025-06-30 05:00:49,036] Trial 46 finished with value: 0.0002856754573365057 and parameters: {'gamma': 0.010982598621359486, 'alpha': 3.396799736306444e-06, 'learning_rate': 'constant', 'eta0': 0.026822633195436995}. Best is trial 46 with value: 0.0002856754573365057.\n",
            "[I 2025-06-30 05:00:49,130] Trial 47 finished with value: 0.0007660242395282877 and parameters: {'gamma': 0.00532457495926511, 'alpha': 2.9019212559831625e-05, 'learning_rate': 'constant', 'eta0': 0.02744342661019134}. Best is trial 46 with value: 0.0002856754573365057.\n",
            "[I 2025-06-30 05:00:49,226] Trial 48 finished with value: 0.00025702573289356384 and parameters: {'gamma': 0.010234944069217041, 'alpha': 5.072547320253634e-06, 'learning_rate': 'constant', 'eta0': 0.024025523262885883}. Best is trial 48 with value: 0.00025702573289356384.\n",
            "[I 2025-06-30 05:00:49,316] Trial 49 finished with value: 0.0012807801307173508 and parameters: {'gamma': 0.0037272670977790334, 'alpha': 8.919509303119581e-06, 'learning_rate': 'constant', 'eta0': 0.012544605615808174}. Best is trial 48 with value: 0.00025702573289356384.\n"
          ]
        },
        {
          "output_type": "stream",
          "name": "stdout",
          "text": [
            "Best hyperparameters: {'gamma': 0.010234944069217041, 'alpha': 5.072547320253634e-06, 'learning_rate': 'constant', 'eta0': 0.024025523262885883}\n",
            "Final MAE: 0.0003\n",
            "Final R² Score: -1003.7826\n"
          ]
        }
      ],
      "source": [
        "import pandas as pd\n",
        "import numpy as np\n",
        "from sklearn.kernel_approximation import RBFSampler\n",
        "from sklearn.linear_model import SGDRegressor\n",
        "from sklearn.pipeline import make_pipeline\n",
        "from sklearn.model_selection import train_test_split\n",
        "from sklearn.metrics import mean_absolute_error, r2_score\n",
        "import optuna\n",
        "\n",
        "# Load dataset\n",
        "df = pd.read_csv(\"/content/service-1-deployment_dataset.csv\")\n",
        "\n",
        "# Preprocess timestamp\n",
        "df[\"Timestamp\"] = pd.to_datetime(df[\"Timestamp\"], format = 'mixed')\n",
        "df = df.sort_values(\"Timestamp\")\n",
        "\n",
        "# Feature Engineering\n",
        "df[\"cpu_allocated\"] = df[\"CPU Request\"]\n",
        "df[\"memory_allocated\"] = df[\"Memory Request\"]\n",
        "df[\"cpu_usage_pct\"] = df[\"CPU Usage\"] / df[\"CPU Limit\"]\n",
        "df[\"memory_usage_pct\"] = df[\"Memory Usage\"] / df[\"Memory Limit\"]\n",
        "df[\"request_rate_rps\"] = df[\"Request Rate\"]\n",
        "df[\"latency_p95_t\"] = df[\"Latency\"].shift(1)\n",
        "df[\"burstiness_score\"] = df[\"Request Rate\"].rolling(5).max() - df[\"Request Rate\"].rolling(5).mean()\n",
        "\n",
        "# Drop rows with NaNs caused by shift/rolling\n",
        "df.dropna(inplace=True)\n",
        "\n",
        "# Define features and target\n",
        "features = [\n",
        "    \"cpu_allocated\", \"memory_allocated\",\n",
        "    \"cpu_usage_pct\", \"memory_usage_pct\",\n",
        "    \"request_rate_rps\", \"latency_p95_t\",\n",
        "    \"burstiness_score\"\n",
        "]\n",
        "X = df[features]\n",
        "y = df[\"Latency\"]\n",
        "\n",
        "# Split\n",
        "X_train, X_test, y_train, y_test = train_test_split(\n",
        "    X, y, test_size=0.2, random_state=42, shuffle=False\n",
        ")\n",
        "\n",
        "# Optuna objective\n",
        "def objective(trial):\n",
        "    gamma = trial.suggest_loguniform(\"gamma\", 1e-4, 1.0)\n",
        "    alpha = trial.suggest_loguniform(\"alpha\", 1e-6, 1e-1)\n",
        "    learning_rate = trial.suggest_categorical(\"learning_rate\", [\"constant\", \"optimal\", \"invscaling\", \"adaptive\"])\n",
        "    eta0 = trial.suggest_loguniform(\"eta0\", 1e-4, 0.1)\n",
        "\n",
        "    rbf_feature = RBFSampler(gamma=gamma, random_state=42)\n",
        "    svr_model = SGDRegressor(\n",
        "        alpha=alpha,\n",
        "        learning_rate=learning_rate,\n",
        "        eta0=eta0,\n",
        "        max_iter=1_000,\n",
        "        tol=1e-3,\n",
        "        random_state=42\n",
        "    )\n",
        "\n",
        "    pipeline = make_pipeline(rbf_feature, svr_model)\n",
        "    pipeline.fit(X_train, y_train)\n",
        "    preds = pipeline.predict(X_test)\n",
        "\n",
        "    return mean_absolute_error(y_test, preds)\n",
        "\n",
        "# Run hyperparameter optimization\n",
        "study = optuna.create_study(direction=\"minimize\")\n",
        "study.optimize(objective, n_trials=50)\n",
        "\n",
        "# Train best model\n",
        "best_params = study.best_params\n",
        "\n",
        "rbf_feature = RBFSampler(gamma=best_params[\"gamma\"], random_state=42)\n",
        "svr_model = SGDRegressor(\n",
        "    alpha=best_params[\"alpha\"],\n",
        "    learning_rate=best_params[\"learning_rate\"],\n",
        "    eta0=best_params[\"eta0\"],\n",
        "    max_iter=1_000,\n",
        "    tol=1e-3,\n",
        "    random_state=42\n",
        ")\n",
        "\n",
        "final_pipeline = make_pipeline(rbf_feature, svr_model)\n",
        "final_pipeline.fit(X_train, y_train)\n",
        "y_pred = final_pipeline.predict(X_test)\n",
        "\n",
        "# Evaluate\n",
        "mae = mean_absolute_error(y_test, y_pred)\n",
        "r2 = r2_score(y_test, y_pred)\n",
        "\n",
        "print(\"Best hyperparameters:\", best_params)\n",
        "print(f\"Final MAE: {mae:.4f}\")\n",
        "print(f\"Final R² Score: {r2:.4f}\")\n"
      ]
    }
  ]
}